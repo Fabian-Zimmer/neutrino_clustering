{
 "cells": [
  {
   "cell_type": "code",
   "execution_count": 1,
   "metadata": {},
   "outputs": [],
   "source": [
    "%load_ext autoreload\n",
    "%autoreload 2\n",
    "\n",
    "from Shared.shared import *\n",
    "from Shared.specific_CNB_sim import *"
   ]
  },
  {
   "cell_type": "code",
   "execution_count": null,
   "metadata": {},
   "outputs": [],
   "source": [
    "sim_folders = [\n",
    "    f\"sim_output/Dopri5_1k_per_pix\",\n",
    "    f\"sim_output/Dopri5_2k_per_pix\"]\n",
    "\n",
    "f_names = [\n",
    "    f\"Dopri5_1k_per_pix\",\n",
    "    f\"Dopri5_2k_per_pix\"]\n",
    "\n",
    "exclude_nums = [\n",
    "    20,  # broken halo\n",
    "    25,  #? halo with only underdensities? look at skymap for this one...\n",
    "]"
   ]
  },
  {
   "cell_type": "markdown",
   "metadata": {},
   "source": [
    "## Overdensity band"
   ]
  },
  {
   "cell_type": "code",
   "execution_count": null,
   "metadata": {},
   "outputs": [],
   "source": [
    "for f_name, sim_folder in zip(f_names, sim_folders):\n",
    "\n",
    "    tot_dens_halos = jnp.array([\n",
    "        jnp.load(f\"{sim_folder}/total_densities_halo{i+1}.npy\")\n",
    "        for i in range(30) if i+1 not in exclude_nums])\n",
    "    ic(tot_dens_halos.shape)\n",
    "\n",
    "    SimPlot.overdensity_band(\n",
    "        dens_arr=tot_dens_halos,\n",
    "        m_arr=jnp.load(f\"{sim_folder}/neutrino_massrange_eV.npy\"),\n",
    "        plot_ylims=(1e-4,1e1),\n",
    "        fig_path=f\"figures/overdensity_band_{f_name}.pdf\",\n",
    "        args=Params()\n",
    "    )"
   ]
  },
  {
   "cell_type": "markdown",
   "metadata": {},
   "source": [
    "## Anisotropy Skymaps and Power Spectra"
   ]
  },
  {
   "cell_type": "code",
   "execution_count": null,
   "metadata": {},
   "outputs": [],
   "source": [
    "for f_name, sim_folder in zip(f_names, sim_folders):\n",
    "\n",
    "    pix_dens_halos = jnp.array([\n",
    "        jnp.load(f\"{sim_folder}/pixel_densities_halo{i+1}.npy\")\n",
    "        for i in range(30) if i+1 not in exclude_nums])\n",
    "    ic(pix_dens_halos.shape)\n",
    "\n",
    "    "
   ]
  },
  {
   "cell_type": "markdown",
   "metadata": {},
   "source": [
    "## Debugging"
   ]
  },
  {
   "cell_type": "code",
   "execution_count": 15,
   "metadata": {},
   "outputs": [],
   "source": [
    "@chex.dataclass\n",
    "class SimTest:\n",
    "\n",
    "    @staticmethod\n",
    "    @jax.jit\n",
    "    def number_densities_mass_range(v_arr, m_arr, pix_sr, args):\n",
    "        \n",
    "        # Convert velocities to momenta.\n",
    "        p_arr, _ = Physics.velocities_to_momenta(v_arr, m_arr, args)\n",
    "\n",
    "        nu_dens = Physics.number_density(\n",
    "            p_arr[...,0], p_arr[...,-1], pix_sr, args)\n",
    "\n",
    "        return nu_dens"
   ]
  },
  {
   "cell_type": "code",
   "execution_count": 17,
   "metadata": {},
   "outputs": [
    {
     "name": "stderr",
     "output_type": "stream",
     "text": [
      "ic| v_arr.shape: (768000, 2, 3)\n",
      "ic| m_arr.shape: (100,)\n",
      "ic| nu_dens_total.shape: (100,)\n"
     ]
    },
    {
     "data": {
      "text/plain": [
       "(100,)"
      ]
     },
     "execution_count": 17,
     "metadata": {},
     "output_type": "execute_result"
    }
   ],
   "source": [
    "v_arr = jnp.load(f\"sim_output/Dopri5_1k_per_pix/vectors_halo1.npy\")[...,3:6]\n",
    "ic(v_arr.shape)\n",
    "\n",
    "m_arr = jnp.load(f\"sim_output/Dopri5_1k_per_pix/neutrino_massrange_eV.npy\")\n",
    "ic(m_arr.shape)\n",
    "\n",
    "Npix = 768\n",
    "nu_per_pix = 1000\n",
    "\n",
    "# v_arr_re = jnp.reshape(v_arr, (Npix, nu_per_pix, 2, 3))\n",
    "# nu_dens_pixel = SimTest.jitted_number_densities_all_sky(\n",
    "#     v_arr_re, m_arr, 4*Params.Pi/Npix, Params())\n",
    "# ic(nu_dens.shape)\n",
    "\n",
    "nu_dens_total = SimTest.number_densities_mass_range(\n",
    "    v_arr, m_arr, 4*Params.Pi, Params()\n",
    ")\n",
    "ic(nu_dens_total.shape)"
   ]
  }
 ],
 "metadata": {
  "kernelspec": {
   "display_name": "neutrino_clustering",
   "language": "python",
   "name": "python3"
  },
  "language_info": {
   "codemirror_mode": {
    "name": "ipython",
    "version": 3
   },
   "file_extension": ".py",
   "mimetype": "text/x-python",
   "name": "python",
   "nbconvert_exporter": "python",
   "pygments_lexer": "ipython3",
   "version": "3.10.0"
  }
 },
 "nbformat": 4,
 "nbformat_minor": 2
}
