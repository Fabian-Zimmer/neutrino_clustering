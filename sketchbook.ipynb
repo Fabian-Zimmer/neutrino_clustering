{
 "cells": [
  {
   "cell_type": "code",
   "execution_count": 1,
   "metadata": {},
   "outputs": [],
   "source": [
    "%load_ext autoreload\n",
    "%autoreload 2\n",
    "\n",
    "from Shared.shared import *\n",
    "from Shared.specific_CNB_sim import *\n",
    "\n",
    "import pandas as pd\n",
    "\n",
    "sim_name = f\"Dopri5_1k_z1\"\n",
    "sim_folder = f\"sim_output/{sim_name}\"\n",
    "fig_folder = f\"figures_local/{sim_name}\"\n",
    "Cl_folder = f\"Shared/Cls\"\n",
    "nu_m_range = jnp.load(f\"{sim_folder}/neutrino_massrange_eV.npy\")\n",
    "nu_m_picks = jnp.array([0.01, 0.05, 0.1, 0.2, 0.3])*Params.eV\n",
    "simdata = SimData(sim_folder)\n",
    "\n",
    "z_int_steps = jnp.load(f\"{sim_folder}/z_int_steps.npy\")\n",
    "s_int_steps = jnp.load(f\"{sim_folder}/s_int_steps.npy\")\n",
    "# print(z_int_steps)\n",
    "\n",
    "# nu_vecs_FD = jnp.load(f\"{sim_folder}/vectors_day1.npy\")\n",
    "# pix_dens_FD = jnp.load(f\"{sim_folder}/pixel_densities_day1.npy\")\n",
    "# tot_dens_FD = jnp.load(f\"{sim_folder}/total_densities_day1.npy\")\n",
    "# print(nu_vecs_FD[0,0,...])\n",
    "# print(pix_dens_FD.shape)\n",
    "# print(tot_dens_FD)"
   ]
  },
  {
   "cell_type": "code",
   "execution_count": 5,
   "metadata": {},
   "outputs": [
    {
     "data": {
      "text/latex": [
       "$14.103664 \\; \\mathrm{Gpc}$"
      ],
      "text/plain": [
       "<Quantity 14.10366411 Gpc>"
      ]
     },
     "execution_count": 5,
     "metadata": {},
     "output_type": "execute_result"
    }
   ],
   "source": [
    "(46*nat.Glyr).convert(nat.Gpc)"
   ]
  },
  {
   "cell_type": "code",
   "execution_count": 8,
   "metadata": {},
   "outputs": [
    {
     "name": "stdout",
     "output_type": "stream",
     "text": [
      "[0.e+00 1.e-40 1.e-52]\n"
     ]
    }
   ],
   "source": [
    "cutoff = 1e-50\n",
    "grad_sun = jnp.array([np.nan, 1e-40, 1e-52])\n",
    "grad_sun = jnp.nan_to_num(\n",
    "    grad_sun, copy=False, nan=0.0, posinf=0.0, neginf=0.0)\n",
    "# grad_sun = jnp.where(jnp.abs(grad_sun) < cutoff, 0.0, grad_sun)\n",
    "print(grad_sun)\n",
    "# grad_sun /= (Params.kpc/Params.s**2)\n",
    "# print(grad_sun)"
   ]
  },
  {
   "cell_type": "markdown",
   "metadata": {},
   "source": [
    "### CNB in solar region."
   ]
  },
  {
   "cell_type": "code",
   "execution_count": null,
   "metadata": {},
   "outputs": [],
   "source": [
    "ES_dist_av = 150.27e6*Params.km\n",
    "nu_vel_max = 0.05*Params.c\n",
    "nu_ES_time = ES_dist_av/nu_vel_max\n",
    "time_unit = Params.s*60*60*24\n",
    "print(nu_ES_time/time_unit)"
   ]
  },
  {
   "cell_type": "markdown",
   "metadata": {},
   "source": [
    "### Neutrino mass hierarchies."
   ]
  },
  {
   "cell_type": "code",
   "execution_count": null,
   "metadata": {},
   "outputs": [],
   "source": [
    "### ====================================== ###\n",
    "### Global loop over neutrino mass choices ###\n",
    "### ====================================== ###\n",
    "\n",
    "# We later always select the first of the 3 masses, to generate the Cl's.\n",
    "# In that way we get Cl's precisely for first mass. Class still needs 3 masses.\n",
    "\n",
    "nu_mass_set0 = Physics.neutrino_masses(\n",
    "    m_lightest=0.00001, ordering='NO', args=Params())\n",
    "\n",
    "# To get 0.01 eV\n",
    "nu_mass_set1 = Physics.neutrino_masses(\n",
    "    m_lightest=0.01, ordering='NO', args=Params())\n",
    "\n",
    "# To get 0.05 eV\n",
    "nu_mass_set2 = Physics.neutrino_masses(\n",
    "    m_lightest=0.05, ordering='NO', args=Params())\n",
    "\n",
    "# To get 0.1 eV\n",
    "nu_mass_set3 = Physics.neutrino_masses(\n",
    "    m_lightest=0.1, ordering='NO', args=Params())\n",
    "\n",
    "# To get 0.2 eV\n",
    "nu_mass_set4 = Physics.neutrino_masses(\n",
    "    m_lightest=0.2, ordering='NO', args=Params())\n",
    "\n",
    "# To get 0.3 eV\n",
    "nu_mass_set5 = Physics.neutrino_masses(\n",
    "    m_lightest=0.3, ordering='NO', args=Params())\n",
    "\n",
    "nu_masses_sets = [\n",
    "    nu_mass_set0.tolist(),\n",
    "    nu_mass_set1.tolist(),\n",
    "    nu_mass_set2.tolist(),\n",
    "    nu_mass_set3.tolist(),\n",
    "    nu_mass_set4.tolist(),\n",
    "    nu_mass_set5.tolist(),\n",
    "]\n",
    "\n",
    "nu_masses = nu_masses_sets[0]\n",
    "print(nu_masses)\n",
    "\n",
    "# Always selecting first mass out of the 3\n",
    "m_idx = 0\n",
    "m_val = nu_masses[m_idx]\n",
    "\n",
    "print(fr\"*** Generating Cl for $m_\\nu$={m_val} eV ***\")"
   ]
  },
  {
   "cell_type": "code",
   "execution_count": null,
   "metadata": {},
   "outputs": [],
   "source": [
    "@chex.dataclass\n",
    "class Test:\n",
    "    # Temperature of CMB\n",
    "    T_CMB: float = 2.72548\n",
    "\n",
    "    # N_eff parameter, using results of https://doi.org/10.1103/PhysRevD.108.L121301\n",
    "    N_eff: float = 3.043\n",
    "\n",
    "    # Temperature of CNB\n",
    "    T_CNB = jnp.power(4/11, 1/3)*T_CMB * jnp.power(N_eff/3, 1/4)\n",
    "\n",
    "    # Temperature of CNB\n",
    "    def T_CNB_fct(N_eff=N_eff, T_CMB=T_CMB):\n",
    "        return jnp.power(4/11, 1/3)*T_CMB * jnp.power(N_eff/3, 1/4)\n",
    "\n",
    "\n",
    "print(Test.T_CNB_fct())\n",
    "print(Test.T_CNB_fct(N_eff=3.0))\n",
    "\n",
    "print(\"END\")"
   ]
  }
 ],
 "metadata": {
  "kernelspec": {
   "display_name": "dev",
   "language": "python",
   "name": "python3"
  },
  "language_info": {
   "codemirror_mode": {
    "name": "ipython",
    "version": 3
   },
   "file_extension": ".py",
   "mimetype": "text/x-python",
   "name": "python",
   "nbconvert_exporter": "python",
   "pygments_lexer": "ipython3",
   "version": "3.10.0"
  }
 },
 "nbformat": 4,
 "nbformat_minor": 2
}
