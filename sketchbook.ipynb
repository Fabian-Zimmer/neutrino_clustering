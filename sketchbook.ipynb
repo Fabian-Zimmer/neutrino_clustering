{
 "cells": [
  {
   "cell_type": "code",
   "execution_count": 1,
   "metadata": {},
   "outputs": [],
   "source": [
    "%load_ext autoreload\n",
    "%autoreload 2\n",
    "\n",
    "from Shared.shared import *"
   ]
  },
  {
   "cell_type": "code",
   "execution_count": 4,
   "metadata": {},
   "outputs": [
    {
     "name": "stderr",
     "output_type": "stream",
     "text": [
      "ic| pix_dens.shape: (768, 100)\n",
      "ic| tot_dens.shape: (1, 100)\n",
      "ic| tot_dens.ndim: 2\n"
     ]
    },
    {
     "data": {
      "text/plain": [
       "2"
      ]
     },
     "execution_count": 4,
     "metadata": {},
     "output_type": "execute_result"
    }
   ],
   "source": [
    "pix_dens = jnp.load(\"sim_output/Dopri5_2k_per_pix/pixel_densities_halo1.npy\")\n",
    "tot_dens = jnp.load(\"sim_output/Dopri5_2k_per_pix/total_densities_halo1.npy\")[None,:]\n",
    "\n",
    "ic(pix_dens.shape)\n",
    "ic(tot_dens.shape)\n",
    "\n",
    "ic(tot_dens.ndim)"
   ]
  }
 ],
 "metadata": {
  "kernelspec": {
   "display_name": "neutrino_clustering",
   "language": "python",
   "name": "python3"
  },
  "language_info": {
   "codemirror_mode": {
    "name": "ipython",
    "version": 3
   },
   "file_extension": ".py",
   "mimetype": "text/x-python",
   "name": "python",
   "nbconvert_exporter": "python",
   "pygments_lexer": "ipython3",
   "version": "3.10.0"
  }
 },
 "nbformat": 4,
 "nbformat_minor": 2
}
