{
 "cells": [
  {
   "cell_type": "code",
   "execution_count": 75,
   "metadata": {},
   "outputs": [
    {
     "name": "stdout",
     "output_type": "stream",
     "text": [
      "12.769989125883729\n"
     ]
    }
   ],
   "source": [
    "from shared.preface import *\n",
    "import shared.functions as fct\n",
    "\n",
    "def avg_FD(p):\n",
    "    return np.power(p/T_CNB, 1)*expit(-p/T_CNB)\n",
    "\n",
    "\n",
    "def avg_Ekin_dE_rel(E, g_s=2):\n",
    "    f = expit(-E/T_CNB)\n",
    "    g = g_s/(2*Pi**2) * E**2\n",
    "\n",
    "    return E*f*g\n",
    "\n",
    "def norm_dE(E, g_s=2):\n",
    "    f = expit(-E/T_CNB)\n",
    "    g = g_s/(2*Pi**2) * E**2\n",
    "\n",
    "    return f*g\n",
    "\n",
    "p_min, p_max = 0.001*T_CNB, 100*T_CNB\n",
    "# val, err = quad(avg_Ekin_dE_rel, p_min, p_max)\n",
    "val, _ = quad(avg_Ekin_dE_rel, 0, np.inf)\n",
    "norm, _ = quad(norm_dE, 0, np.inf)\n",
    "\n",
    "print(val/norm/T_CNB)"
   ]
  }
 ],
 "metadata": {
  "kernelspec": {
   "display_name": "Python 3.9.7 ('neutrino_clustering')",
   "language": "python",
   "name": "python3"
  },
  "language_info": {
   "codemirror_mode": {
    "name": "ipython",
    "version": 3
   },
   "file_extension": ".py",
   "mimetype": "text/x-python",
   "name": "python",
   "nbconvert_exporter": "python",
   "pygments_lexer": "ipython3",
   "version": "3.9.7"
  },
  "orig_nbformat": 4,
  "vscode": {
   "interpreter": {
    "hash": "2fc11506ce542309680a5d7a18d7170bcceeadf7cd3c0301f21ef62d84cf3c72"
   }
  }
 },
 "nbformat": 4,
 "nbformat_minor": 2
}
