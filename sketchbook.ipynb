{
 "cells": [
  {
   "cell_type": "code",
   "execution_count": 1,
   "metadata": {},
   "outputs": [
    {
     "name": "stdout",
     "output_type": "stream",
     "text": [
      "[0.         0.00252524 0.00511425 0.00776864 0.01049006 0.01328021\n",
      " 0.01614081 0.01907365 0.02208054 0.02516337 0.02832405 0.03156455\n",
      " 0.03488687 0.03829309 0.04178533 0.04536575 0.04903659 0.05280013\n",
      " 0.0566587  0.06061472 0.06467063 0.06882896 0.0730923  0.0774633\n",
      " 0.08194468 0.08653923 0.0912498  0.09607932 0.1010308  0.10610731\n",
      " 0.11131202 0.11664817 0.12211906 0.12772811 0.13347879 0.1393747\n",
      " 0.14541949 0.15161693 0.15797087 0.16448526 0.17116416 0.17801171\n",
      " 0.18503218 0.19222994 0.19960945 0.20717532 0.21493224 0.22288505\n",
      " 0.23103868 0.23939821 0.24796884 0.2567559  0.26576485 0.2750013\n",
      " 0.28447099 0.29417982 0.30413382 0.31433918 0.32480225 0.33552954\n",
      " 0.34652772 0.35780363 0.36936428 0.38121687 0.39336876 0.40582752\n",
      " 0.4186009  0.43169683 0.44512347 0.45888916 0.47300247 0.48747217\n",
      " 0.50230727 0.51751699 0.5331108  0.54909838 0.5654897  0.58229493\n",
      " 0.59952453 0.61718923 0.6353     0.65386811 0.67290511 0.69242284\n",
      " 0.71243344 0.73294936 0.75398336 0.77554851 0.79765824 0.82032629\n",
      " 0.84356676 0.86739412 0.89182317 0.91686911 0.94254753 0.96887438\n",
      " 0.99586606 1.02353934 1.05191144 1.081     ]\n"
     ]
    }
   ],
   "source": [
    "%load_ext autoreload\n",
    "%autoreload 2\n",
    "\n",
    "from Shared.shared import *\n",
    "from Shared.specific_CNB_sim import *\n",
    "\n",
    "import pandas as pd\n",
    "\n",
    "sim_name = f\"Dopri5_1k_z1\"\n",
    "sim_folder = f\"sim_output/{sim_name}\"\n",
    "fig_folder = f\"figures_local/{sim_name}\"\n",
    "Cl_folder = f\"Shared/Cls\"\n",
    "nu_m_range = jnp.load(f\"{sim_folder}/neutrino_massrange_eV.npy\")\n",
    "nu_m_picks = jnp.array([0.01, 0.05, 0.1, 0.2, 0.3])*Params.eV\n",
    "simdata = SimData(sim_folder)\n",
    "\n",
    "z_int_steps = jnp.load(f\"{sim_folder}/z_int_steps.npy\")\n",
    "s_int_steps = jnp.load(f\"{sim_folder}/s_int_steps.npy\")\n",
    "print(z_int_steps)\n",
    "\n",
    "# nu_vecs_FD = jnp.load(f\"{sim_folder}/vectors_day1.npy\")\n",
    "# pix_dens_FD = jnp.load(f\"{sim_folder}/pixel_densities_day1.npy\")\n",
    "# tot_dens_FD = jnp.load(f\"{sim_folder}/total_densities_day1.npy\")\n",
    "# print(nu_vecs_FD[0,0,...])\n",
    "# print(pix_dens_FD.shape)\n",
    "# print(tot_dens_FD)"
   ]
  },
  {
   "cell_type": "code",
   "execution_count": 10,
   "metadata": {},
   "outputs": [
    {
     "name": "stdout",
     "output_type": "stream",
     "text": [
      "1.149988829468506e-18\n"
     ]
    },
    {
     "data": {
      "text/plain": [
       "28.0"
      ]
     },
     "execution_count": 10,
     "metadata": {},
     "output_type": "execute_result"
    }
   ],
   "source": [
    "t_Universe = 2*Params.t0/Params.s\n",
    "G_Universe = 1/t_Universe\n",
    "print(G_Universe)\n",
    "56/2"
   ]
  },
  {
   "cell_type": "markdown",
   "metadata": {},
   "source": [
    "[[56.59817452 56.60432873 56.60716104 56.60837604 56.60885944 56.60903686\n",
    "  56.60909659 56.60911493 56.60912002 56.6091213  56.60912158 56.60912164\n",
    "  56.60912165 56.60912165 56.60912165 56.60912165 56.60912165 56.60912164\n",
    "  56.60912164 56.60912164 56.60912164 56.60912164 56.60912163 56.60912163\n",
    "  56.60912162 56.60912162 56.60912161 56.6091216  56.60912159 56.60912157\n",
    "  56.60912155 56.60912153 56.6091215  56.60912146 56.60912142 56.60912137\n",
    "  56.60912131 56.60912123 56.60912113 56.60912101 56.60912086 56.60912068\n",
    "  56.60912045 56.60912012 56.60911983 56.60911941 56.60911889 56.60911825\n",
    "  56.60911746 56.60911649]]"
   ]
  },
  {
   "cell_type": "markdown",
   "metadata": {},
   "source": [
    "### CNB in solar region."
   ]
  },
  {
   "cell_type": "code",
   "execution_count": null,
   "metadata": {},
   "outputs": [],
   "source": [
    "ES_dist_av = 150.27e6*Params.km\n",
    "nu_vel_max = 0.05*Params.c\n",
    "nu_ES_time = ES_dist_av/nu_vel_max\n",
    "time_unit = Params.s*60*60*24\n",
    "print(nu_ES_time/time_unit)"
   ]
  },
  {
   "cell_type": "markdown",
   "metadata": {},
   "source": [
    "### Neutrino mass hierarchies."
   ]
  },
  {
   "cell_type": "code",
   "execution_count": null,
   "metadata": {},
   "outputs": [],
   "source": [
    "### ====================================== ###\n",
    "### Global loop over neutrino mass choices ###\n",
    "### ====================================== ###\n",
    "\n",
    "# We later always select the first of the 3 masses, to generate the Cl's.\n",
    "# In that way we get Cl's precisely for first mass. Class still needs 3 masses.\n",
    "\n",
    "nu_mass_set0 = Physics.neutrino_masses(\n",
    "    m_lightest=0.00001, ordering='NO', args=Params())\n",
    "\n",
    "# To get 0.01 eV\n",
    "nu_mass_set1 = Physics.neutrino_masses(\n",
    "    m_lightest=0.01, ordering='NO', args=Params())\n",
    "\n",
    "# To get 0.05 eV\n",
    "nu_mass_set2 = Physics.neutrino_masses(\n",
    "    m_lightest=0.05, ordering='NO', args=Params())\n",
    "\n",
    "# To get 0.1 eV\n",
    "nu_mass_set3 = Physics.neutrino_masses(\n",
    "    m_lightest=0.1, ordering='NO', args=Params())\n",
    "\n",
    "# To get 0.2 eV\n",
    "nu_mass_set4 = Physics.neutrino_masses(\n",
    "    m_lightest=0.2, ordering='NO', args=Params())\n",
    "\n",
    "# To get 0.3 eV\n",
    "nu_mass_set5 = Physics.neutrino_masses(\n",
    "    m_lightest=0.3, ordering='NO', args=Params())\n",
    "\n",
    "nu_masses_sets = [\n",
    "    nu_mass_set0.tolist(),\n",
    "    nu_mass_set1.tolist(),\n",
    "    nu_mass_set2.tolist(),\n",
    "    nu_mass_set3.tolist(),\n",
    "    nu_mass_set4.tolist(),\n",
    "    nu_mass_set5.tolist(),\n",
    "]\n",
    "\n",
    "nu_masses = nu_masses_sets[0]\n",
    "print(nu_masses)\n",
    "\n",
    "# Always selecting first mass out of the 3\n",
    "m_idx = 0\n",
    "m_val = nu_masses[m_idx]\n",
    "\n",
    "print(fr\"*** Generating Cl for $m_\\nu$={m_val} eV ***\")"
   ]
  },
  {
   "cell_type": "code",
   "execution_count": null,
   "metadata": {},
   "outputs": [],
   "source": [
    "@chex.dataclass\n",
    "class Test:\n",
    "    # Temperature of CMB\n",
    "    T_CMB: float = 2.72548\n",
    "\n",
    "    # N_eff parameter, using results of https://doi.org/10.1103/PhysRevD.108.L121301\n",
    "    N_eff: float = 3.043\n",
    "\n",
    "    # Temperature of CNB\n",
    "    T_CNB = jnp.power(4/11, 1/3)*T_CMB * jnp.power(N_eff/3, 1/4)\n",
    "\n",
    "    # Temperature of CNB\n",
    "    def T_CNB_fct(N_eff=N_eff, T_CMB=T_CMB):\n",
    "        return jnp.power(4/11, 1/3)*T_CMB * jnp.power(N_eff/3, 1/4)\n",
    "\n",
    "\n",
    "print(Test.T_CNB_fct())\n",
    "print(Test.T_CNB_fct(N_eff=3.0))\n",
    "\n",
    "print(\"END\")"
   ]
  }
 ],
 "metadata": {
  "kernelspec": {
   "display_name": "dev",
   "language": "python",
   "name": "python3"
  },
  "language_info": {
   "codemirror_mode": {
    "name": "ipython",
    "version": 3
   },
   "file_extension": ".py",
   "mimetype": "text/x-python",
   "name": "python",
   "nbconvert_exporter": "python",
   "pygments_lexer": "ipython3",
   "version": "3.10.0"
  }
 },
 "nbformat": 4,
 "nbformat_minor": 2
}
