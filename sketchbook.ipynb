{
 "cells": [
  {
   "cell_type": "code",
   "execution_count": 1,
   "metadata": {},
   "outputs": [],
   "source": [
    "%load_ext autoreload\n",
    "%autoreload 2\n",
    "\n",
    "from Shared.shared import *"
   ]
  },
  {
   "cell_type": "markdown",
   "metadata": {},
   "source": [
    "### CNB in solar region."
   ]
  },
  {
   "cell_type": "code",
   "execution_count": 4,
   "metadata": {},
   "outputs": [
    {
     "name": "stdout",
     "output_type": "stream",
     "text": [
      "0.11602934394774607\n"
     ]
    }
   ],
   "source": [
    "ES_dist_av = 150.27e6*Params.km\n",
    "nu_vel_max = 0.05*Params.c\n",
    "nu_ES_time = ES_dist_av/nu_vel_max\n",
    "time_unit = Params.s*60*60*24\n",
    "print(nu_ES_time/time_unit)"
   ]
  },
  {
   "cell_type": "markdown",
   "metadata": {},
   "source": [
    "### Neutrino mass hierarchies."
   ]
  },
  {
   "cell_type": "code",
   "execution_count": null,
   "metadata": {},
   "outputs": [],
   "source": [
    "### ====================================== ###\n",
    "### Global loop over neutrino mass choices ###\n",
    "### ====================================== ###\n",
    "\n",
    "# We later always select the first of the 3 masses, to generate the Cl's.\n",
    "# In that way we get Cl's precisely for first mass. Class still needs 3 masses.\n",
    "\n",
    "# To get 0.01 eV\n",
    "nu_mass_set1 = Physics.neutrino_masses(\n",
    "    m_lightest=0.01, ordering='NO', args=Params())\n",
    "\n",
    "# To get 0.05 eV\n",
    "nu_mass_set2 = Physics.neutrino_masses(\n",
    "    m_lightest=0.05, ordering='NO', args=Params())\n",
    "\n",
    "# To get 0.1 eV\n",
    "nu_mass_set3 = Physics.neutrino_masses(\n",
    "    m_lightest=0.1, ordering='NO', args=Params())\n",
    "\n",
    "# To get 0.2 eV\n",
    "nu_mass_set4 = Physics.neutrino_masses(\n",
    "    m_lightest=0.2, ordering='NO', args=Params())\n",
    "\n",
    "# To get 0.3 eV\n",
    "nu_mass_set5 = Physics.neutrino_masses(\n",
    "    m_lightest=0.3, ordering='NO', args=Params())\n",
    "\n",
    "nu_masses_sets = [\n",
    "    nu_mass_set1.tolist(),\n",
    "    nu_mass_set2.tolist(),\n",
    "    nu_mass_set3.tolist(),\n",
    "    nu_mass_set4.tolist(),\n",
    "    nu_mass_set5.tolist(),\n",
    "]\n",
    "\n",
    "for set_i, nu_masses in enumerate(nu_masses_sets):\n",
    "\n",
    "    # Always selecting first mass out of the 3\n",
    "    m_idx = 0\n",
    "    m_val = nu_masses[m_idx]\n",
    "\n",
    "    print(fr\"*** Generating Cl for $m_\\nu$={m_val} eV ***\")"
   ]
  },
  {
   "cell_type": "code",
   "execution_count": null,
   "metadata": {},
   "outputs": [],
   "source": [
    "@chex.dataclass\n",
    "class Test:\n",
    "    # Temperature of CMB\n",
    "    T_CMB: float = 2.72548\n",
    "\n",
    "    # N_eff parameter, using results of https://doi.org/10.1103/PhysRevD.108.L121301\n",
    "    N_eff: float = 3.043\n",
    "\n",
    "    # Temperature of CNB\n",
    "    T_CNB = jnp.power(4/11, 1/3)*T_CMB * jnp.power(N_eff/3, 1/4)\n",
    "\n",
    "    # Temperature of CNB\n",
    "    def T_CNB_fct(N_eff=N_eff, T_CMB=T_CMB):\n",
    "        return jnp.power(4/11, 1/3)*T_CMB * jnp.power(N_eff/3, 1/4)\n",
    "\n",
    "\n",
    "print(Test.T_CNB_fct())\n",
    "print(Test.T_CNB_fct(N_eff=3.0))\n",
    "\n",
    "print(\"END\")"
   ]
  }
 ],
 "metadata": {
  "kernelspec": {
   "display_name": "dev",
   "language": "python",
   "name": "python3"
  },
  "language_info": {
   "codemirror_mode": {
    "name": "ipython",
    "version": 3
   },
   "file_extension": ".py",
   "mimetype": "text/x-python",
   "name": "python",
   "nbconvert_exporter": "python",
   "pygments_lexer": "ipython3",
   "version": "3.10.0"
  }
 },
 "nbformat": 4,
 "nbformat_minor": 2
}
