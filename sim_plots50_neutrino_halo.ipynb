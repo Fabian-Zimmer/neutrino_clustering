{
 "cells": [
  {
   "cell_type": "code",
   "execution_count": 1,
   "metadata": {},
   "outputs": [
    {
     "name": "stdout",
     "output_type": "stream",
     "text": [
      "(27, 300, 5, 768)\n",
      "(27, 300, 50)\n"
     ]
    }
   ],
   "source": [
    "%load_ext autoreload\n",
    "%autoreload 2\n",
    "\n",
    "from Shared.shared import *\n",
    "from Shared.specific_CNB_sim import *\n",
    "\n",
    "sim_name = f\"neutrino_halo\"\n",
    "sim_folder = f\"sim_output/{sim_name}\"\n",
    "fig_folder = f\"figures_local/{sim_name}\"\n",
    "Cl_folder = f\"Shared/Cls\"\n",
    "nu_m_range = jnp.load(f\"{sim_folder}/neutrino_massrange_eV.npy\")\n",
    "nu_m_picks = jnp.array([0.01, 0.05, 0.1, 0.2, 0.3])*Params.eV\n",
    "simdata = SimData(sim_folder)\n",
    "\n",
    "z_int_steps = jnp.load(f\"{sim_folder}/z_int_steps.npy\")\n",
    "s_int_steps = jnp.load(f\"{sim_folder}/s_int_steps.npy\")\n",
    "\n",
    "#! Broken halos: either snapshot info missing or anomalous number densities\n",
    "exclude_nums = jnp.array([\n",
    "    20,\n",
    "    # 21,\n",
    "    24,\n",
    "    25,\n",
    "])\n",
    "halo_nums = [x for x in range(1, 31) if x not in exclude_nums]\n",
    "\n",
    "\n",
    "# Fermi-Dirac distribution assumption\n",
    "# note: total densities are computed for length 50 mass range\n",
    "pix_dens_FD = jnp.load(f\"{sim_folder}/pixel_densities.npy\")[tuple(halo_nums),...]\n",
    "tot_dens_FD = jnp.load(f\"{sim_folder}/total_densities.npy\")[tuple(halo_nums),...]\n",
    "\n",
    "# pix_dens_FD = jnp.delete(pix_dens_FD, exclude_nums, axis=0)\n",
    "# tot_dens_FD = jnp.delete(tot_dens_FD, exclude_nums, axis=0)\n",
    "print(pix_dens_FD.shape)\n",
    "print(tot_dens_FD.shape)"
   ]
  },
  {
   "cell_type": "code",
   "execution_count": null,
   "metadata": {},
   "outputs": [],
   "source": []
  }
 ],
 "metadata": {
  "kernelspec": {
   "display_name": "neutrino_clustering",
   "language": "python",
   "name": "python3"
  },
  "language_info": {
   "codemirror_mode": {
    "name": "ipython",
    "version": 3
   },
   "file_extension": ".py",
   "mimetype": "text/x-python",
   "name": "python",
   "nbconvert_exporter": "python",
   "pygments_lexer": "ipython3",
   "version": "3.10.0"
  }
 },
 "nbformat": 4,
 "nbformat_minor": 2
}
