{
 "cells": [
  {
   "cell_type": "code",
   "execution_count": 1,
   "metadata": {},
   "outputs": [
    {
     "name": "stdout",
     "output_type": "stream",
     "text": [
      "0.0 3.9999999999999996\n",
      "0.05 0.05073657457889723 0.07080960386840193\n"
     ]
    }
   ],
   "source": [
    "%load_ext autoreload\n",
    "%autoreload 2\n",
    "\n",
    "from Shared.shared import *\n",
    "from Shared.specific_CNB_decay import *\n",
    "\n",
    "sim_name = f\"no_gravity_decay\"\n",
    "#! marias files are inside the Data/decay folder\n",
    "sim_folder = f\"sim_output/{sim_name}\"\n",
    "fig_folder = f\"figures_local/{sim_name}\"\n",
    "nu_m_range = jnp.load(f\"{sim_folder}/neutrino_massrange_eV.npy\")\n",
    "nu_m_picks = jnp.array([0.01, 0.05, 0.1, 0.2, 0.3])*Params.eV\n",
    "simdata = SimData(sim_folder)\n",
    "\n",
    "Gamma_str ='2T'\n",
    "\n",
    "z_int_steps = jnp.load(f\"{sim_folder}/z_int_steps.npy\")\n",
    "s_int_steps = jnp.load(f\"{sim_folder}/s_int_steps.npy\")\n",
    "print(z_int_steps[0], z_int_steps[-1])\n",
    "\n",
    "# note: We must have realistic neutrino masses\n",
    "m_light, m_mid, m_heavy = Physics.neutrino_masses(\n",
    "    m_lightest=0.05*Params.eV, ordering=\"NO\", args=Params())\n",
    "print(m_light, m_mid, m_heavy)\n",
    "\n",
    "def find_nearest(array, value):\n",
    "    idx = jnp.argmin(jnp.abs(array - value))\n",
    "    return idx, array[idx]"
   ]
  },
  {
   "cell_type": "markdown",
   "metadata": {},
   "source": [
    "## Pre-sim arrays analysis"
   ]
  },
  {
   "cell_type": "code",
   "execution_count": 21,
   "metadata": {},
   "outputs": [
    {
     "name": "stderr",
     "output_type": "stream",
     "text": [
      "ic| angle_momentum_decay.shape: (1000, 1800, 2)\n",
      "ic| decayed_neutrinos_z.shape: (39, 768000)\n",
      "ic| decayed_neutrinos_index_z.shape: (39,)\n",
      "ic| decayed_neutrinos_bin_z: Array([1.01731944, 1.05286341, 1.08964924, 1.12772033, 1.16712157,\n",
      "                                    1.20789945, 1.25010206, 1.29377919, 1.33898234, 1.38576483,\n",
      "                                    1.43418186, 1.48429051, 1.53614991, 1.58982121, 1.64536773,\n",
      "                                    1.70285498, 1.76235077, 1.82392527, 1.88765111, 1.95360346,\n",
      "                                    2.02186011, 2.09250157, 2.16561115, 2.24127511, 2.31958267,\n",
      "                                    2.40062621, 2.48450132, 2.57130692, 2.66114542, 2.75412277,\n",
      "                                    2.85034864, 2.94993653, 3.0530039 , 3.15967233, 3.27006763,\n",
      "                                    3.38432002, 3.50256425, 3.6249398 , 3.75159102], dtype=float64)\n",
      "ic| z_array.shape: (100,)\n",
      "ic| neutrino_momenta.shape: (1000,)\n"
     ]
    },
    {
     "name": "stdout",
     "output_type": "stream",
     "text": [
      "END\n"
     ]
    }
   ],
   "source": [
    "angle_momentum_decay = jnp.load(\n",
    "    f'{sim_folder}/allowed_decay_angles_and_momenta.npy') \n",
    "\n",
    "decayed_neutrinos_z = jnp.load(\n",
    "    f'{sim_folder}/decayed_neutrinos_z_{Gamma_str}.npy')\n",
    "decayed_neutrinos_index_z = jnp.load(\n",
    "    f'{sim_folder}/decayed_neutrinos_index_z_{Gamma_str}.npy', allow_pickle=True)\n",
    "decayed_neutrinos_bin_z = jnp.load(\n",
    "    f'{sim_folder}/decayed_neutrinos_bin_z_{Gamma_str}.npy')\n",
    "\n",
    "z_array = jnp.load(\n",
    "    f'{sim_folder}/z_int_steps.npy')\n",
    "neutrino_momenta = jnp.load(\n",
    "    f'{sim_folder}/neutrino_momenta.npy')\n",
    "\n",
    "common_args = (\n",
    "    angle_momentum_decay, decayed_neutrinos_z, z_array, neutrino_momenta,)\n",
    "\n",
    "ic(angle_momentum_decay.shape)\n",
    "ic(decayed_neutrinos_z.shape)\n",
    "ic(decayed_neutrinos_index_z.shape)\n",
    "ic(decayed_neutrinos_bin_z)\n",
    "ic(z_array.shape)\n",
    "ic(neutrino_momenta.shape)\n",
    "print(\"END\")"
   ]
  },
  {
   "cell_type": "markdown",
   "metadata": {},
   "source": [
    "## Testing functionality inside simulation script"
   ]
  },
  {
   "cell_type": "markdown",
   "metadata": {},
   "source": [
    "### jax.lax.cond with decay_tracker"
   ]
  },
  {
   "cell_type": "code",
   "execution_count": null,
   "metadata": {},
   "outputs": [],
   "source": [
    "# If neutrino has decayed: Assign new velocity\n",
    "def true_func(v_parent, decay_tracker):\n",
    "    decay_tracker = decay_tracker.at[:].set(1)\n",
    "    return v_parent, decay_tracker\n",
    "\n",
    "# If neutrino has not decayed: Keep current velocity\n",
    "def false_func(v_in, decay_tracker):\n",
    "    return v_in, decay_tracker\n",
    "\n",
    "# Example input values\n",
    "pre_nu_number = jnp.array([1,1,0])\n",
    "now_nu_number = jnp.array([1,0,0])\n",
    "decay_tracker = jnp.zeros(3)\n",
    "v_parent = jnp.array([1.0, 0.0, 0.0])\n",
    "v_in = jnp.array([0.5, 0.5, 0.5])\n",
    "\n",
    "for pre, now in zip(pre_nu_number, now_nu_number):\n",
    "\n",
    "    # Get new/current velocity depending on decay condition being True/False\n",
    "    v_out, decay_tracker = jax.lax.cond(\n",
    "        (now == 0) & (pre == 1) & jnp.all(decay_tracker == 0),\n",
    "        lambda _: true_func(v_parent, decay_tracker),\n",
    "        lambda _: false_func(v_in, decay_tracker),\n",
    "        operand=None\n",
    "    )\n",
    "\n",
    "    v_in = v_out\n",
    "\n",
    "    print(\"v_out:\", v_out)\n",
    "    print(\"updated_decay_tracker:\", decay_tracker)"
   ]
  },
  {
   "cell_type": "code",
   "execution_count": null,
   "metadata": {},
   "outputs": [],
   "source": [
    "def test(v_parent, decay_tracker):\n",
    "    decay_tracker = decay_tracker.at[:].set(v_parent)\n",
    "    return v_parent, decay_tracker\n",
    "\n",
    "decay_tracker = jnp.zeros(3)\n",
    "v_parent = jnp.arange(3)\n",
    "arrt = test(v_parent, decay_tracker)\n",
    "print(arrt)"
   ]
  },
  {
   "cell_type": "markdown",
   "metadata": {},
   "source": [
    "### Masking and valid indices arrays"
   ]
  },
  {
   "cell_type": "code",
   "execution_count": null,
   "metadata": {},
   "outputs": [],
   "source": [
    "decay_angles = angle_momentum_decay[..., 0]\n",
    "parent_momenta = angle_momentum_decay[..., 1]\n",
    "print(decay_angles.shape, parent_momenta.shape)\n",
    "\n",
    "p_index = 0\n",
    "s_key = jnp.array([0, 0], dtype=jnp.uint32)\n",
    "\n",
    "valid_mask = parent_momenta[p_index] > 0\n",
    "valid_indices = jnp.arange(parent_momenta.shape[-1])\n",
    "valid_indices = jnp.where(valid_mask, valid_indices, -1)\n",
    "valid_indices = valid_indices[valid_indices != -1]\n",
    "print(valid_indices.shape)\n",
    "\n",
    "random_idx = jax.random.choice(s_key, valid_indices)\n",
    "decay_theta = decay_angles[p_index, random_idx]\n",
    "p_parent = parent_momenta[p_index, random_idx]"
   ]
  },
  {
   "cell_type": "code",
   "execution_count": null,
   "metadata": {},
   "outputs": [],
   "source": [
    "def find_first_negative_indices(array):\n",
    "    # Create a mask where the condition (array < 0) is True\n",
    "    negative_mask = array < 0\n",
    "\n",
    "    # Find the index of the first negative value in each row\n",
    "    first_negative_indices = jnp.argmax(negative_mask, axis=-1)\n",
    "    \n",
    "    # If no negative values, set index to the last element in the row\n",
    "    row_has_negative = jnp.any(negative_mask, axis=-1)\n",
    "    first_negative_indices = jnp.where(row_has_negative, first_negative_indices, array.shape[1] - 1)\n",
    "    \n",
    "    return first_negative_indices\n",
    "\n",
    "# Example usage\n",
    "parent_momenta = jnp.array([[1.0, 0.5, -0.2, -0.5],\n",
    "                            [2.0, 1.5, 1.0, 0.5],\n",
    "                            [3.0, -1.0, -2.0, -3.0]])\n",
    "\n",
    "indices = find_first_negative_indices(parent_momenta)\n",
    "print(indices)"
   ]
  },
  {
   "cell_type": "markdown",
   "metadata": {},
   "source": [
    "## Parent number density functions"
   ]
  },
  {
   "cell_type": "code",
   "execution_count": 2,
   "metadata": {},
   "outputs": [
    {
     "name": "stdout",
     "output_type": "stream",
     "text": [
      "(1000, 5000)\n",
      "For Gamma=0.1 x T_Universe, parent nr. density:\n",
      "z_dec: 56.61 (56.61)\n",
      "z_0: 2.49e-03 (2.49e-03)\n",
      "\n",
      "(1000, 5000)\n",
      "For Gamma=0.5 x T_Universe, parent nr. density:\n",
      "z_dec: 56.61 (56.61)\n",
      "z_0: 7.61e+00 (7.61e+00)\n",
      "\n",
      "(1000, 5000)\n",
      "For Gamma=1.0 x T_Universe, parent nr. density:\n",
      "z_dec: 56.61 (56.61)\n",
      "z_0: 2.08e+01 (2.08e+01)\n",
      "\n",
      "(1000, 5000)\n",
      "For Gamma=2.0 x T_Universe, parent nr. density:\n",
      "z_dec: 56.61 (56.61)\n",
      "z_0: 3.43e+01 (3.43e+01)\n",
      "\n"
     ]
    },
    {
     "data": {
      "image/png": "[encoded data removed]",
      "text/plain": [
       "<Figure size 800x800 with 1 Axes>"
      ]
     },
     "metadata": {},
     "output_type": "display_data"
    }
   ],
   "source": [
    "age_multipliers = [\n",
    "    0.1, \n",
    "    0.5, \n",
    "    1., \n",
    "    2.\n",
    "]\n",
    "\n",
    "# Create momentum range\n",
    "p_range = jnp.geomspace(0.01, 400, 1000)*Params.T_CNB\n",
    "\n",
    "# Create redshift range\n",
    "# note: this array determines the order of the pre-sim arrays\n",
    "z_0, z_dec = 0., 1000  #! choose value high enough, that it saturates max n_nu\n",
    "z_range = Utils.make_logz_arr(z_0, z_dec, 5000)\n",
    "\n",
    "fig = plt.figure()\n",
    "fig.tight_layout()\n",
    "ax = fig.add_subplot(111)\n",
    "\n",
    "for age_mult in age_multipliers:\n",
    "\n",
    "    Gamma_val = 1/(age_mult*Params.t0)  # t0 = age of Universe\n",
    "\n",
    "    ### New functions ###\n",
    "    redshifted_p = p_range[:, None]*(1+z_range)\n",
    "\n",
    "    n3_raw, *_ = Decay.n3_p_range(\n",
    "        p=redshifted_p, z=z_range, \n",
    "        Gamma=Gamma_val, m_h=m_heavy, args=Params())\n",
    "    print(n3_raw.shape)\n",
    "    n3_redshifts = trap(n3_raw*redshifted_p, x=jnp.log(redshifted_p), axis=0)\n",
    "\n",
    "    # Print & plot results.\n",
    "    cm3_unit = 1/Params.cm**3\n",
    "    print(f\"For Gamma={age_mult} x T_Universe, parent nr. density:\")\n",
    "    print(f\"z_dec: {jnp.max(n3_redshifts)/cm3_unit:.2f} ({n3_redshifts[-1]/cm3_unit:.2f})\")\n",
    "    print(f\"z_0: {jnp.min(n3_redshifts)/cm3_unit:.2e} ({n3_redshifts[0]/cm3_unit:.2e})\\n\")\n",
    "    \n",
    "    ax.semilogx(\n",
    "        1+z_range, n3_redshifts/cm3_unit,\n",
    "        label=f\"{age_mult} x T_Universe\")\n",
    "    ax.set_xlabel('1+z')\n",
    "    ax.set_ylabel(r'n [$1/cm^3$]')\n",
    "\n",
    "# ax.set_xlim(0,4)\n",
    "ax.invert_xaxis()\n",
    "plt.legend()\n",
    "plt.show()"
   ]
  },
  {
   "cell_type": "markdown",
   "metadata": {},
   "source": [
    "## Inverse sampling"
   ]
  },
  {
   "cell_type": "code",
   "execution_count": 28,
   "metadata": {},
   "outputs": [
    {
     "name": "stdout",
     "output_type": "stream",
     "text": [
      "38\n",
      "(199,) 768000\n",
      "0.0 997.237001521211\n",
      "102993\n",
      "(199,) 768000\n",
      "0.0 980.818433107297\n",
      "281455\n",
      "(199,) 768000\n",
      "0.0 962.0044311581104\n",
      "464297\n",
      "(199,) 768000\n",
      "0.0 928.015387144464\n",
      "(4, 199)\n",
      "(4, 199)\n"
     ]
    },
    {
     "data": {
      "image/png": "[encoded data removed]",
      "text/plain": [
       "<Figure size 800x800 with 1 Axes>"
      ]
     },
     "metadata": {},
     "output_type": "display_data"
    }
   ],
   "source": [
    "fig = plt.figure()\n",
    "fig.tight_layout()\n",
    "ax = fig.add_subplot(111)\n",
    "\n",
    "\n",
    "histogram_data_l = []\n",
    "bin_edges_data_l = []\n",
    "for age_mult in age_multipliers:\n",
    "\n",
    "    Gamma_val = 1/(age_mult*Params.t0)  # t0 = age of Universe\n",
    "\n",
    "    occurences_redshifts = Decay.montecarlo(\n",
    "        z_range, p_range, m_heavy, simdata.nus_in_sim, Gamma_val, Params())\n",
    "    print(len(np.argwhere(occurences_redshifts==0).flatten()))\n",
    "\n",
    "    #? Test if this large bin is due to the fact, that the montecarlo routine\n",
    "    #? Attributes all the rest of the neutrinos (i.e. neutrinos - hist.sum) to the \n",
    "    #? last (i.e. z=0) bin. That's why it grows for larger lifetimes, since there\n",
    "    #? is a \"bigger rest\" of neutrinos.\n",
    "\n",
    "    #? Test with summing the hist up to z=1 as before?\n",
    "\n",
    "    # Generating logarithmically spaced bins\n",
    "    log_bins = np.logspace(\n",
    "        np.log10(np.min(occurences_redshifts)+1), \n",
    "        np.log10(np.max(occurences_redshifts)+1), 200) - 1\n",
    "    # print(\"log_bins ends:\", log_bins.min(), log_bins.max())\n",
    "\n",
    "    # histogram_data, bin_edges, _ = ax.hist(\n",
    "    #     occurences_redshifts, bins=log_bins, histtype=\"step\",\n",
    "    #     alpha=0.75, label=f\"{age_mult} x T_Universe\")\n",
    "    # has shape bins-1\n",
    "    histogram_data, bin_edges = np.histogram(occurences_redshifts, bins=log_bins)\n",
    "\n",
    "    print(histogram_data.shape, histogram_data.sum())\n",
    "    print(bin_edges.min(), bin_edges.max())\n",
    "\n",
    "    bin_edges_data_l.append(np.sqrt(bin_edges[1:]*bin_edges[:-1]))\n",
    "    histogram_data_l.append(histogram_data)\n",
    "\n",
    "\n",
    "# Plotting\n",
    "for i, age_mult in enumerate(age_multipliers):\n",
    "    ax.bar(bin_edges_data_l[i]+1, histogram_data_l[i], width=np.diff(bin_edges+1), \n",
    "           align='center', alpha=0.75, label=f\"{age_mult} x T_Universe\")\n",
    "\n",
    "\n",
    "hist_jnp = jnp.array(histogram_data_l)\n",
    "jnp.save(f\"{sim_folder}/histogram_data.npy\", hist_jnp)\n",
    "print(hist_jnp.shape)\n",
    "\n",
    "bins_jnp = jnp.array(bin_edges_data_l)\n",
    "print(bins_jnp.shape)\n",
    "jnp.save(f\"{sim_folder}/bin_edges_data.npy\", bins_jnp)\n",
    "\n",
    "ax.axvline(4+1, color=\"black\", ls=\"dotted\")\n",
    "ax.text(4.5, (hist_jnp.max() - hist_jnp.min())/2, 'z=4', color='black', rotation=90, verticalalignment='center')\n",
    "\n",
    "ax.set_xlabel(\"1+z\")\n",
    "ax.set_xscale(\"log\")\n",
    "ax.set_ylabel(\"# decays\")\n",
    "ax.invert_xaxis()\n",
    "plt.legend()\n",
    "plt.show(); plt.close()"
   ]
  },
  {
   "cell_type": "markdown",
   "metadata": {},
   "source": [
    "## Generating pre-sim arrays"
   ]
  },
  {
   "cell_type": "markdown",
   "metadata": {},
   "source": [
    "### Decay angles and momenta, as allowed by conservation laws"
   ]
  },
  {
   "cell_type": "code",
   "execution_count": null,
   "metadata": {},
   "outputs": [],
   "source": [
    "from scipy.optimize import fsolve\n",
    "# note: Using numpy routines for fsolve compatibility\n",
    "\n",
    "\n",
    "def rest_frame_quantities(m_h, m_l, m_phi):\n",
    "\n",
    "    # Energies of daughter particles\n",
    "    E_l = (m_h**2 + m_l**2 - m_phi**2) / (2*m_h)\n",
    "    E_phi = (m_h**2 - m_l**2 + m_phi**2) / (2*m_h)\n",
    "\n",
    "    # Momenta of daughter particles\n",
    "    p_l = np.sqrt((m_h**2+m_l**2-m_phi**2)**2 - 4*m_h**2*m_l**2) / (2*m_h)\n",
    "    p_phi = np.sqrt((m_h**2-m_l**2+m_phi**2)**2 - 4*m_h**2*m_phi**2) / (2*m_h)\n",
    "\n",
    "    return E_l, p_l, E_phi, p_phi\n",
    "\n",
    "\n",
    "# Rest frame (suscript 0) kinematics are completely fixed by masses\n",
    "E_l_0, p_l_0, E_phi_0, p_phi_0 = rest_frame_quantities(m_h=m_heavy, m_l=m_light, m_phi=0.0)\n",
    "# print(f\"CHECK 1: \", np.isclose(p_l_0 - p_phi_0, [0.0]))\n",
    "# print(f\"CHECK 2: \", np.isclose(E_l_0 + E_phi_0, [m_heavy]))\n",
    "\n",
    "\n",
    "def lab_frame_parent_momenta(p_h, p_l_z_target, angle, m_h, E_l_0, p_l_0):\n",
    "\n",
    "    # Decay angle between axis of boost and p_l_0, i.e. momentum of daughter in rest frame\n",
    "    # note: angle is defined via unit circle, so 0 deg is antiparallel,\n",
    "    # note: we subtract pi, s.t. 0 deg corresponds to \"straight line decay\" in same direction\n",
    "    cos_theta_0 = np.cos(np.deg2rad(angle) - np.pi)\n",
    "\n",
    "    # Energy, velocity and Lorentz factor\n",
    "    E_h = np.sqrt(p_h**2 + m_h**2)\n",
    "    v_h = p_h/E_h\n",
    "    gamma = 1/np.sqrt(1 - v_h**2)\n",
    "\n",
    "    # Daughter momentum in lab frame\n",
    "    p_l_z = gamma*(p_l_0*cos_theta_0 + v_h*E_l_0)\n",
    "\n",
    "    # Return output as needed for fsolve to solve for it to become zero\n",
    "    return p_l_z - p_l_z_target\n",
    "\n",
    "\n",
    "\n",
    "common_args = (m_heavy, E_l_0, p_l_0)\n",
    "p_num = 10  # target: p_num of sim = 1000 (or higher if needed, but base is 1k)\n",
    "p_l_z_target_range = np.geomspace(0.01, 400, p_num)*Params.T_CNB\n",
    "a_min = 0\n",
    "a_max = 180\n",
    "a_num = 50  # target: 1800\n",
    "angles = np.linspace(a_min, a_max, a_num)\n",
    "\n",
    "p_h_sol = np.empty((len(p_l_z_target_range), len(angles), 2))\n",
    "for i, p_l_z_target in enumerate(p_l_z_target_range):\n",
    "    \n",
    "    for j, angle in enumerate(angles):\n",
    "        p_h_fsolve = fsolve(\n",
    "            func=lab_frame_parent_momenta, x0=p_l_z_target,\n",
    "            args=(p_l_z_target, angle, *common_args))[0]\n",
    "        \n",
    "        #! If negative, decay angle is impossible with target daughter momentum\n",
    "        # if p_h_fsolve < 0.0:\n",
    "        #     p_h_fsolve = np.nan\n",
    "\n",
    "        p_h_sol[i,j,0] = angle\n",
    "        p_h_sol[i,j,1] = p_h_fsolve\n",
    "\n",
    "print(p_h_sol.shape)\n",
    "np.save(f\"{sim_folder}/allowed_decay_angles_and_momenta_notebook.npy\", p_h_sol)\n",
    "\n",
    "p_l_select = 3.15*Params.T_CNB\n",
    "idx, val = find_nearest(p_l_z_target_range, p_l_select)\n",
    "print(idx, val/Params.T_CNB)\n",
    "\n",
    "\n",
    "fig = plt.figure()\n",
    "fig.tight_layout()\n",
    "ax = fig.add_subplot(111)\n",
    "\n",
    "colors = plt.cm.jet(np.linspace(0, 1, p_num))\n",
    "for c, p_h_set in enumerate(p_h_sol):\n",
    "\n",
    "    ax.plot(p_h_set[..., 0], p_h_set[..., 1]/Params.T_CNB, color=colors[c])\n",
    "\n",
    "\n",
    "ax.axhline(0.0, color=\"red\", ls='dashed', label=\"parent momentum = 0\")\n",
    "ax.axvline(90.0, color=\"orange\", ls=\"dotted\", label=r\"angle $\\approx 90^\\circ$\")\n",
    "ax.set_xlabel(f\"decay angles rest frame [deg]\")\n",
    "ax.set_ylabel(f\"parent momentum [T_CNB]\")\n",
    "ax.set_xlim(a_min, a_max)  # normal\n",
    "# ax.set_xlim(85, 95) ; ax.set_ylim(-0.5, 0.5)  # zoom-in\n",
    "plt.legend(loc=\"upper right\")\n",
    "plt.show(); plt.close()"
   ]
  },
  {
   "cell_type": "markdown",
   "metadata": {},
   "source": [
    "### Decay redshifts"
   ]
  },
  {
   "cell_type": "code",
   "execution_count": 19,
   "metadata": {},
   "outputs": [
    {
     "name": "stdout",
     "output_type": "stream",
     "text": [
      "536867\n",
      "10703\n",
      "(39, 768000)\n",
      "487335\n",
      "327573\n",
      "(39, 768000)\n",
      "585533\n",
      "500788\n",
      "(39, 768000)\n",
      "663721\n",
      "619896\n",
      "(39, 768000)\n"
     ]
    }
   ],
   "source": [
    "def generate_decay_redshifts(\n",
    "        histogram_data, bin_edges_data, gamma_str, neutrinos, sim_folder):\n",
    "\n",
    "    # Create an array representing individual neutrinos (all ones)\n",
    "    neutrinos_array = np.ones(neutrinos)\n",
    "\n",
    "    # Lists to store decayed information for each redshift step\n",
    "    decayed_redshift = []\n",
    "    neutrinos_decayed_index = []\n",
    "\n",
    "    # Track remaining neutrino indices\n",
    "    remaining_indices = np.arange(neutrinos)\n",
    "    \n",
    "    # Determine index corresponding to z_sim = 4\n",
    "    #! We had log bins for 1+z, so actually 4+1\n",
    "    z_sim = np.argwhere(bin_edges_data <= 4.+1.).flatten()[-1]\n",
    "\n",
    "    # Iterate over redshift steps\n",
    "    for num_decayed in histogram_data[:z_sim]:\n",
    "        \n",
    "        # Randomly select neutrinos to decay without replacement\n",
    "        selected_indices = np.random.choice(\n",
    "            remaining_indices, size=num_decayed, replace=False)\n",
    "        \n",
    "        # Remove selected indices from remaining indices\n",
    "        remaining_indices = np.setdiff1d(remaining_indices, selected_indices)\n",
    "                \n",
    "        # Append and store values\n",
    "        neutrinos_decayed_index.append(selected_indices)\n",
    "        \n",
    "        # Update neutrinos_array to reflect decayed neutrinos\n",
    "        neutrinos_array[selected_indices] = 0\n",
    "        decayed_redshift.append(np.copy(neutrinos_array))\n",
    "\n",
    "    # One check if part of routine worked\n",
    "    print(len(remaining_indices))\n",
    "    print(neutrinos - histogram_data.sum())\n",
    "    \n",
    "    # Save the results\n",
    "    neutrinos_decayed_index_array = np.array(neutrinos_decayed_index, dtype=object)\n",
    "    np.save(f'{sim_folder}/decayed_neutrinos_index_z_{gamma_str}.npy', neutrinos_decayed_index_array)\n",
    "    np.save(f'{sim_folder}/decayed_neutrinos_z_{gamma_str}.npy', decayed_redshift)\n",
    "    np.save(f'{sim_folder}/decayed_neutrinos_bin_z_{gamma_str}', bin_edges_data[:z_sim])\n",
    "\n",
    "    print(np.array(decayed_redshift).shape)\n",
    "\n",
    "\n",
    "gamma_strings = [\n",
    "    \"0.1T\",\n",
    "    \"0.5T\",\n",
    "    \"1T\",\n",
    "    \"2T\",\n",
    "]\n",
    "\n",
    "# \n",
    "hist_data_arr = np.load(f\"{sim_folder}/histogram_data.npy\").astype(int)\n",
    "bins_data_arr = np.load(f\"{sim_folder}/bin_edges_data.npy\")\n",
    "# print(hist_data_arr.shape, bins_data_arr.shape)\n",
    "for hist_data, bins_data, g_str in zip(hist_data_arr, bins_data_arr, gamma_strings):\n",
    "\n",
    "    generate_decay_redshifts(\n",
    "        histogram_data=hist_data, bin_edges_data=bins_data, gamma_str=g_str, \n",
    "        neutrinos=simdata.nus_in_sim, sim_folder=sim_folder)\n"
   ]
  },
  {
   "cell_type": "code",
   "execution_count": null,
   "metadata": {},
   "outputs": [],
   "source": [
    "i_arr = np.load(f'{sim_folder}/decayed_neutrinos_index_z_{Gamma_str}.npy', allow_pickle=True)\n",
    "setter = np.concatenate([arr for arr in i_arr if arr.size > 0])\n",
    "print(setter.shape[0]+619391)"
   ]
  },
  {
   "cell_type": "markdown",
   "metadata": {},
   "source": [
    "## Testing and plotting"
   ]
  },
  {
   "cell_type": "code",
   "execution_count": null,
   "metadata": {},
   "outputs": [],
   "source": [
    "vec_pixel = jnp.load(f'{sim_folder}/vectors_halo1_test.npy')\n",
    "vec_total = vec_pixel.reshape(-1,2,6)\n",
    "\n",
    "tot_dens_d = Decay.number_densities_mass_range_decay(\n",
    "    v_arr=vec_total[..., 3:], \n",
    "    m_arr=nu_m_picks, \n",
    "    pix_sr=4*Params.Pi,\n",
    "    args=Params())\n",
    "print(tot_dens_d)"
   ]
  },
  {
   "cell_type": "code",
   "execution_count": null,
   "metadata": {},
   "outputs": [],
   "source": [
    "nu_vectors_d = jnp.load(f'{sim_folder}/vectors_halo1_d_{Gamma_str}.npy')\n",
    "nu_vectors_p = jnp.load(f'{sim_folder}/vectors_halo1_p_{Gamma_str}.npy')\n",
    "print(nu_vectors_d.shape, nu_vectors_p.shape)\n",
    "\n",
    "# Total densities: daughter neutrinos\n",
    "tot_dens_d = Decay.number_densities_mass_range_decay(\n",
    "    v_arr=nu_vectors_d.reshape(-1, 2, 6)[..., 3:], \n",
    "    m_arr=nu_m_picks, \n",
    "    pix_sr=4*Params.Pi,\n",
    "    args=Params())\n",
    "print(tot_dens_d)\n",
    "\n",
    "# Total densities: parent neutrinos\n",
    "tot_dens_p = Decay.number_densities_mass_range_decay(\n",
    "    v_arr=nu_vectors_p.reshape(-1, 2, 6)[..., 3:], \n",
    "    m_arr=nu_m_picks, \n",
    "    pix_sr=4*Params.Pi,\n",
    "    args=Params())\n",
    "print(tot_dens_p)"
   ]
  }
 ],
 "metadata": {
  "kernelspec": {
   "display_name": "neutrino_clustering",
   "language": "python",
   "name": "python3"
  },
  "language_info": {
   "codemirror_mode": {
    "name": "ipython",
    "version": 3
   },
   "file_extension": ".py",
   "mimetype": "text/x-python",
   "name": "python",
   "nbconvert_exporter": "python",
   "pygments_lexer": "ipython3",
   "version": "3.10.0"
  }
 },
 "nbformat": 4,
 "nbformat_minor": 2
}
