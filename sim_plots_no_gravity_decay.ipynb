{
 "cells": [
  {
   "cell_type": "code",
   "execution_count": 2,
   "metadata": {},
   "outputs": [
    {
     "name": "stdout",
     "output_type": "stream",
     "text": [
      "The autoreload extension is already loaded. To reload it, use:\n",
      "  %reload_ext autoreload\n",
      "0.05 0.05073657457889723 0.07080960386840193\n"
     ]
    }
   ],
   "source": [
    "%load_ext autoreload\n",
    "%autoreload 2\n",
    "\n",
    "from Shared.shared import *\n",
    "from Shared.specific_CNB_sim import *\n",
    "\n",
    "sim_name = f\"no_gravity_decay\"\n",
    "sim_folder = f\"sim_output/{sim_name}\"\n",
    "fig_folder = f\"figures_local/{sim_name}\"\n",
    "Cl_folder = f\"Shared/Cls\"\n",
    "Delta_folder = f\"Shared/Deltas\"\n",
    "nu_m_range = jnp.load(f\"{sim_folder}/neutrino_massrange_eV.npy\")\n",
    "nu_m_picks = jnp.array([0.01, 0.05, 0.1, 0.2, 0.3])*Params.eV\n",
    "simdata = SimData(sim_folder)\n",
    "\n",
    "# note: We must have realistic neutrino masses\n",
    "m_light, m_mid, m_heavy = Physics.neutrino_masses(\n",
    "    m_lightest=0.05*Params.eV, ordering=\"NO\", args=Params())\n",
    "print(m_light, m_mid, m_heavy)\n",
    "\n",
    "def find_nearest(array, value):\n",
    "    idx = jnp.argmin(jnp.abs(array - value))\n",
    "    return idx, array[idx]"
   ]
  },
  {
   "cell_type": "code",
   "execution_count": 4,
   "metadata": {},
   "outputs": [
    {
     "name": "stderr",
     "output_type": "stream",
     "text": [
      "ic| angle_momentum_decay.shape: (1000, 1800, 2)\n",
      "ic| decayed_neutrinos_z.shape: (99, 768000)\n",
      "ic| decayed_neutrinos_index_z.shape: (99,)\n",
      "ic| z_array.shape: (100,)\n",
      "ic| neutrino_momenta.shape: (1000,)\n"
     ]
    },
    {
     "name": "stdout",
     "output_type": "stream",
     "text": [
      "END\n"
     ]
    }
   ],
   "source": [
    "Gamma_str ='2T'\n",
    "\n",
    "angle_momentum_decay = jnp.load(\n",
    "    f'{sim_folder}/allowed_decay_angles_and_momenta.npy')\n",
    "decayed_neutrinos_z = jnp.load(\n",
    "    f'{sim_folder}/decayed_neutrinos_z_{Gamma_str}.npy')\n",
    "decayed_neutrinos_index_z = jnp.load(\n",
    "    f'{sim_folder}/decayed_neutrinos_index_z_{Gamma_str}.npy', allow_pickle=True)\n",
    "\n",
    "z_array = jnp.load(\n",
    "    f'{sim_folder}/z_int_steps.npy')\n",
    "neutrino_momenta = jnp.load(\n",
    "    f'{sim_folder}/neutrino_momenta.npy')\n",
    "\n",
    "ic(angle_momentum_decay.shape)\n",
    "ic(decayed_neutrinos_z.shape)\n",
    "ic(decayed_neutrinos_index_z.shape)\n",
    "ic(z_array.shape)\n",
    "ic(neutrino_momenta.shape)\n",
    "print(\"END\")"
   ]
  }
 ],
 "metadata": {
  "kernelspec": {
   "display_name": "neutrino_clustering",
   "language": "python",
   "name": "python3"
  },
  "language_info": {
   "codemirror_mode": {
    "name": "ipython",
    "version": 3
   },
   "file_extension": ".py",
   "mimetype": "text/x-python",
   "name": "python",
   "nbconvert_exporter": "python",
   "pygments_lexer": "ipython3",
   "version": "3.1.undefined"
  }
 },
 "nbformat": 4,
 "nbformat_minor": 2
}
