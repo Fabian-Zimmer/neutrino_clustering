{
 "cells": [
  {
   "cell_type": "code",
   "execution_count": 1,
   "metadata": {},
   "outputs": [],
   "source": [
    "from shared.preface import *\n",
    "import shared.functions as fct"
   ]
  },
  {
   "cell_type": "markdown",
   "metadata": {},
   "source": [
    "## Calculating & Investigating final number density plot"
   ]
  },
  {
   "cell_type": "code",
   "execution_count": 4,
   "metadata": {},
   "outputs": [
    {
     "data": {
      "image/png": "[encoded data removed]",
      "text/plain": [
       "<Figure size 576x576 with 1 Axes>"
      ]
     },
     "metadata": {
      "needs_background": "light"
     },
     "output_type": "display_data"
    },
    {
     "name": "stdout",
     "output_type": "stream",
     "text": [
      "Max value: 1.008799721289782 0.008799721289781903\n"
     ]
    }
   ],
   "source": [
    "# Load data, which function uses.\n",
    "u_all = fct.load_u_sim()\n",
    "def number_density_1_mass(m_nu_eV, average=False):\n",
    "\n",
    "    n_nus = np.zeros(len(m_nu_eV))\n",
    "    for i, m_eV in enumerate(m_nu_eV):\n",
    "\n",
    "        # Get momenta.\n",
    "        p, _ = fct.u_to_p_eV(u_all, m_eV)\n",
    "\n",
    "        if average and m_eV >= 0.1:\n",
    "            # Calculate number density, values are averaged for z in [3.5, 4].\n",
    "            idx = np.array(np.where(ZEDS >= 3.5)).flatten()\n",
    "\n",
    "            temp = np.zeros(len(idx))\n",
    "            for j,k in enumerate(idx):\n",
    "                val = fct.number_density(p[:,0], p[:,k])\n",
    "                temp[j] = val\n",
    "\n",
    "            n_nus[i] = np.mean(temp)\n",
    "\n",
    "        else:\n",
    "            n_nus[i] = fct.number_density(p[:,0], p[:,-1])\n",
    "\n",
    "    np.save('neutrino_data/number_densities.npy', n_nus)\n",
    "\n",
    "\n",
    "# 10 to 300 meV like in the paper.\n",
    "masses = np.array([0.01, 0.05, 0.1, 0.3])*eV\n",
    "mass_range_eV = np.geomspace(0.01, 0.3, 100)*eV\n",
    "\n",
    "number_density_1_mass(mass_range_eV, average=True)\n",
    "n_nus = np.load('neutrino_data/number_densities.npy')/N0\n",
    "\n",
    "# Plotting:\n",
    "fig, ax = plt.subplots(1,1, figsize=(8,8))\n",
    "\n",
    "ax.plot(mass_range_eV*1e3, (n_nus-1))\n",
    "x_ends = [1e1, 3*1e2]\n",
    "y_ends = [3*1e-3, 4]\n",
    "ax.scatter(x_ends, y_ends, s=12, marker='x', c='r')\n",
    "\n",
    "for m in masses:\n",
    "    ax.axvline(m*1e3, c='r', ls='-.')\n",
    "\n",
    "ax.set_xscale('log')\n",
    "ax.set_yscale('log')\n",
    "ax.set_title(f'NFW only - {NR_OF_NEUTRINOS} neutrinos')\n",
    "ax.set_xlabel(r'$m_{\\nu}$ [meV]')\n",
    "ax.set_ylabel(r'$n_{\\nu} / n_{\\nu, 0}$')\n",
    "ax.set_ylim(1e-3, 1e-1)\n",
    "plt.grid(True, which=\"both\", ls=\"-\")\n",
    "\n",
    "ax.yaxis.set_major_formatter(ticker.FuncFormatter(fct.y_fmt))\n",
    "\n",
    "plt.savefig(f'figures/densities_{NR_OF_NEUTRINOS}_nus.pdf')\n",
    "plt.show()\n",
    "\n",
    "print('Max value:', np.max(n_nus), np.max(n_nus-1))"
   ]
  }
 ],
 "metadata": {
  "interpreter": {
   "hash": "2fc11506ce542309680a5d7a18d7170bcceeadf7cd3c0301f21ef62d84cf3c72"
  },
  "kernelspec": {
   "display_name": "Python 3.9.7 ('neutrino_clustering')",
   "language": "python",
   "name": "python3"
  },
  "language_info": {
   "codemirror_mode": {
    "name": "ipython",
    "version": 3
   },
   "file_extension": ".py",
   "mimetype": "text/x-python",
   "name": "python",
   "nbconvert_exporter": "python",
   "pygments_lexer": "ipython3",
   "version": "3.9.7"
  },
  "orig_nbformat": 4
 },
 "nbformat": 4,
 "nbformat_minor": 2
}
