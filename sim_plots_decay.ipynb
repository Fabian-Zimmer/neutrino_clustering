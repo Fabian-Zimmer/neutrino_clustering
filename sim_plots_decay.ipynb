{
 "cells": [
  {
   "cell_type": "code",
   "execution_count": 4,
   "metadata": {},
   "outputs": [
    {
     "name": "stdout",
     "output_type": "stream",
     "text": [
      "The autoreload extension is already loaded. To reload it, use:\n",
      "  %reload_ext autoreload\n",
      "(27, 5, 768)\n",
      "(27, 50)\n",
      "(27, 5, 768)\n",
      "(27, 5)\n",
      "(27, 10, 5, 768)\n",
      "(27, 10, 5)\n"
     ]
    }
   ],
   "source": [
    "%load_ext autoreload\n",
    "%autoreload 2\n",
    "\n",
    "from Shared.shared import *\n",
    "from Shared.specific_CNB_sim import *\n",
    "\n",
    "sim_name = f\"Dopri5_1k\"\n",
    "sim_folder = f\"sim_output/{sim_name}\"\n",
    "fig_folder = f\"figures_local/{sim_name}\"\n",
    "Cl_folder = f\"Shared/Cls\"\n",
    "nu_m_range = jnp.load(f\"{sim_folder}/neutrino_massrange_eV.npy\")\n",
    "nu_m_picks = jnp.array([0.01, 0.05, 0.1, 0.2, 0.3])*Params.eV\n",
    "simdata = SimData(sim_folder)\n",
    "\n",
    "z_int_steps = jnp.load(f\"{sim_folder}/z_int_steps.npy\")\n",
    "s_int_steps = jnp.load(f\"{sim_folder}/s_int_steps.npy\")\n",
    "\n",
    "#! Broken halos: either snapshot info missing or anomalous number densities\n",
    "exclude_nums = jnp.array([\n",
    "    20,\n",
    "    # 21,\n",
    "    24,\n",
    "    25,\n",
    "])\n",
    "halo_nums = [x for x in range(1, 31) if x not in exclude_nums]\n",
    "\n",
    "\n",
    "# Fermi-Dirac distribution assumption\n",
    "# note: total densities are computed for length 50 mass range\n",
    "pix_dens_FD = jnp.load(f\"{sim_folder}/pixel_densities.npy\")[tuple(halo_nums),...]\n",
    "tot_dens_FD = jnp.load(f\"{sim_folder}/total_densities.npy\")[tuple(halo_nums),...]\n",
    "\n",
    "# pix_dens_FD = jnp.delete(pix_dens_FD, exclude_nums, axis=0)\n",
    "# tot_dens_FD = jnp.delete(tot_dens_FD, exclude_nums, axis=0)\n",
    "print(pix_dens_FD.shape)\n",
    "print(tot_dens_FD.shape)\n",
    "\n",
    "# Incl. primordial fluctuations, for all halos with 1 seed\n",
    "# note: all sky densities are computed for 5 specific masses\n",
    "pix_dens_PF_halos = jnp.load(f\"{sim_folder}/pixel_densities_incl_PFs.npy\")[tuple(halo_nums),...]\n",
    "tot_dens_PF_halos = jnp.load(f\"{sim_folder}/total_densities_incl_PFs.npy\")[tuple(halo_nums),...]\n",
    "\n",
    "# pix_dens_PF_halos = jnp.delete(pix_dens_PF_halos, exclude_nums, axis=0)\n",
    "# tot_dens_PF_halos = jnp.delete(tot_dens_PF_halos, exclude_nums, axis=0)\n",
    "print(pix_dens_PF_halos.shape)\n",
    "print(tot_dens_PF_halos.shape)\n",
    "\n",
    "# Incl. primordial fluctuations, for all halos with 1 seed\n",
    "# note: all sky densities are computed for 5 specific masses\n",
    "pix_dens_PF_seeds = jnp.array(\n",
    "    [jnp.load(f\"{sim_folder}/pixel_densities_incl_PFs_seeds_halo{halo_j}.npy\")\n",
    "     for halo_j in halo_nums])\n",
    "tot_dens_PF_seeds = jnp.array(\n",
    "    [jnp.load(f\"{sim_folder}/total_densities_incl_PFs_seeds_halo{halo_j}.npy\")\n",
    "     for halo_j in halo_nums])\n",
    "print(pix_dens_PF_seeds.shape)\n",
    "print(tot_dens_PF_seeds.shape)\n",
    "\n",
    "# Deltas_halos = jnp.load(f\"{sim_folder}/Deltas_halos.npy\")\n",
    "# print(Deltas_halos.shape)\n",
    "\n",
    "# Deltas_seeds = jnp.load(f\"{sim_folder}/Deltas_seeds.npy\")\n",
    "# print(Deltas_seeds.shape)\n",
    "\n",
    "\n",
    "#! some change/bug in the sim_execute script, now FD also only has 5 masses instead of 50."
   ]
  },
  {
   "cell_type": "markdown",
   "metadata": {},
   "source": [
    "## Sim output processing"
   ]
  },
  {
   "cell_type": "code",
   "execution_count": 13,
   "metadata": {},
   "outputs": [
    {
     "name": "stdout",
     "output_type": "stream",
     "text": [
      "(105, 768, 1000)\n",
      "(105, 768) [25.92697772 24.45514055 25.87036859 25.24766826 24.28531319 25.92697772\n",
      " 25.98358684 26.1534142  25.64393211 26.32324157 24.62496792 26.26663245\n",
      " 25.47410474 26.32324157 24.51174968 28.19134258 26.43645981 26.21002332\n",
      " 26.43645981 25.07784089 26.09680508 25.87036859 26.09680508 24.28531319\n",
      " 25.41749562 27.00255103 25.75715035 25.24766826 26.54967805 26.21002332\n",
      " 23.49278549 25.3608865  27.34220576 24.90801353 27.56864224 27.11576927\n",
      " 25.19105913 26.09680508 25.02123177]\n"
     ]
    }
   ],
   "source": [
    "# The decay simulation array which contains all the 0s and 1s for the neutrinos\n",
    "# at each redshift step needs to be processed in the following way:\n",
    "# 1. Reshape to all-sky type, i.e. smth like (zeds, Npix, nu_per_pix)\n",
    "# 2. Compute percentage of decayed neutrinos in each pixel\n",
    "\n",
    "# Load \n",
    "data_sim_folder = f\"sim_output/no_gravity_decay\"\n",
    "Gamma_str = \"2T\"\n",
    "decayed_neutrinos_z = jnp.load(\n",
    "    f'{data_sim_folder}/decayed_neutrinos_z_{Gamma_str}.npy'\n",
    ").reshape(-1, simdata.Npix, simdata.p_num)  # 0s and 1s\n",
    "print(decayed_neutrinos_z.shape)\n",
    "\n",
    "perc_parents_per_pix = jnp.sum(decayed_neutrinos_z, axis=-1)/simdata.p_num\n",
    "perc_daughters_per_pix = 1-perc_parents_per_pix\n",
    "print(perc_per_pix.shape, perc_per_pix[-1,::20]*Params.N0_cm3)\n",
    "\n",
    "# Plotting all-sky map for parents:\n",
    "# (Pixel value for no-decay sim) x (1 - decay perc. for that pixel)\n",
    "\n",
    "# Plotting all-sky map for daughters:\n",
    "# (Pixel value for no-decay sim) x (decay perc. for that pixel)"
   ]
  },
  {
   "cell_type": "markdown",
   "metadata": {},
   "source": [
    "## Power Spectra"
   ]
  },
  {
   "cell_type": "markdown",
   "metadata": {},
   "source": [
    "### Parents"
   ]
  },
  {
   "cell_type": "code",
   "execution_count": null,
   "metadata": {},
   "outputs": [],
   "source": []
  },
  {
   "cell_type": "markdown",
   "metadata": {},
   "source": [
    "### Daughters"
   ]
  }
 ],
 "metadata": {
  "kernelspec": {
   "display_name": "neutrino_clustering",
   "language": "python",
   "name": "python3"
  },
  "language_info": {
   "codemirror_mode": {
    "name": "ipython",
    "version": 3
   },
   "file_extension": ".py",
   "mimetype": "text/x-python",
   "name": "python",
   "nbconvert_exporter": "python",
   "pygments_lexer": "ipython3",
   "version": "3.10.0"
  }
 },
 "nbformat": 4,
 "nbformat_minor": 2
}
