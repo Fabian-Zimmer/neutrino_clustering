{
 "cells": [
  {
   "cell_type": "code",
   "execution_count": 1,
   "metadata": {},
   "outputs": [],
   "source": [
    "%load_ext autoreload\n",
    "%autoreload 2\n",
    "\n",
    "from Shared.shared import *\n",
    "from Shared.specific_CNB_sim import *\n",
    "\n",
    "import pandas as pd"
   ]
  },
  {
   "cell_type": "code",
   "execution_count": 16,
   "metadata": {},
   "outputs": [
    {
     "name": "stdout",
     "output_type": "stream",
     "text": [
      "(365,) (365,)\n",
      "0.9833098 4.7672204384173685e-09\n"
     ]
    }
   ],
   "source": [
    "# Load the Excel file into a pandas DataFrame\n",
    "df = pd.read_excel('Data/Earth-Sun_distances.xlsx')\n",
    "\n",
    "\n",
    "ES_distances = jnp.array(df.iloc[:, 1::2].apply(pd.to_numeric, errors='coerce')\\\n",
    "                                  .stack().reset_index(drop=True).tolist())[:-1]\n",
    "ES_dists_kpc = ES_distances*Params.AU/Params.kpc\n",
    "\n",
    "# print(ES_distances[jnp.array([0,-1])])\n",
    "#? first and last day are the same day? since there are 366 elements?\n",
    "\n",
    "days = jnp.arange(1,len(ES_distances)+1)\n",
    "\n",
    "print(ES_distances.shape, days.shape)\n",
    "\n",
    "print(ES_distances[0], ES_dists_kpc[0])"
   ]
  }
 ],
 "metadata": {
  "kernelspec": {
   "display_name": "neutrino_clustering",
   "language": "python",
   "name": "python3"
  },
  "language_info": {
   "codemirror_mode": {
    "name": "ipython",
    "version": 3
   },
   "file_extension": ".py",
   "mimetype": "text/x-python",
   "name": "python",
   "nbconvert_exporter": "python",
   "pygments_lexer": "ipython3",
   "version": "3.10.0"
  }
 },
 "nbformat": 4,
 "nbformat_minor": 2
}
