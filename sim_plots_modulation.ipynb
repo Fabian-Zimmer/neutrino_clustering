{
 "cells": [
  {
   "cell_type": "code",
   "execution_count": 15,
   "metadata": {},
   "outputs": [
    {
     "name": "stdout",
     "output_type": "stream",
     "text": [
      "The autoreload extension is already loaded. To reload it, use:\n",
      "  %reload_ext autoreload\n"
     ]
    }
   ],
   "source": [
    "%load_ext autoreload\n",
    "%autoreload 2\n",
    "\n",
    "from Shared.shared import *\n",
    "from Shared.specific_CNB_sim import *\n",
    "\n",
    "import pandas as pd\n",
    "\n",
    "sim_name = f\"Dopri5_1k\"\n",
    "sim_folder = f\"sim_output/{sim_name}\"\n",
    "fig_folder = f\"figures_local/{sim_name}\"\n",
    "Cl_folder = f\"Shared/Cls\"\n",
    "nu_m_range = jnp.load(f\"{sim_folder}/neutrino_massrange_eV.npy\")\n",
    "nu_m_picks = jnp.array([0.01, 0.05, 0.1, 0.2, 0.3])*Params.eV\n",
    "simdata = SimData(sim_folder)"
   ]
  },
  {
   "cell_type": "markdown",
   "metadata": {},
   "source": [
    "## Earth-Sun distances"
   ]
  },
  {
   "cell_type": "code",
   "execution_count": null,
   "metadata": {},
   "outputs": [],
   "source": [
    "# Load the Excel file into a pandas DataFrame\n",
    "df = pd.read_excel('Data/Earth-Sun_distances.xlsx')\n",
    "\n",
    "\n",
    "ES_distances = jnp.array(df.iloc[:, 1::2].apply(pd.to_numeric, errors='coerce')\\\n",
    "                                  .stack().reset_index(drop=True).tolist())[:-1]\n",
    "ES_dists_kpc = ES_distances*Params.AU/Params.kpc\n",
    "\n",
    "# print(ES_distances[jnp.array([0,-1])])\n",
    "#? first and last day are the same day? since there are 366 elements?\n",
    "\n",
    "days = jnp.arange(1,len(ES_distances)+1)\n",
    "\n",
    "print(ES_distances.shape, days.shape)\n",
    "\n",
    "print(ES_distances[0], ES_dists_kpc[0])"
   ]
  },
  {
   "cell_type": "markdown",
   "metadata": {},
   "source": [
    "## Integration steps"
   ]
  },
  {
   "cell_type": "code",
   "execution_count": 16,
   "metadata": {},
   "outputs": [
    {
     "name": "stdout",
     "output_type": "stream",
     "text": [
      "(365,)\n",
      "(365,)\n"
     ]
    }
   ],
   "source": [
    "from astropy.time import Time\n",
    "from scipy.integrate import quad\n",
    "\n",
    "def z_at_age(age):\n",
    "    # Function to calculate redshift for a given age of the universe\n",
    "    def age_diff(z):\n",
    "        return cosmo.age(z).to(apu.year).value - age\n",
    "    \n",
    "    # Use root_scalar to find the redshift that gives the specified age\n",
    "    sol = root_scalar(age_diff, bracket=[0, 10], method='brentq', xtol=1e-12, rtol=1e-12)\n",
    "    return sol.root\n",
    "\n",
    "def get_redshift_array():\n",
    "    # Today's date\n",
    "    today = Time.now()\n",
    "    \n",
    "    days = 365\n",
    "\n",
    "    # Initialize an array to store redshift values with 64-bit precision\n",
    "    redshifts = jnp.zeros(days, dtype=jnp.float64)\n",
    "    \n",
    "    # Age of the universe today\n",
    "    age_today = cosmo.age(0).to(apu.year).value\n",
    "    \n",
    "    # Calculate redshift for each day in the past year\n",
    "    for day in range(days):\n",
    "        # Calculate the date for each day of the past year\n",
    "        past_date = today - day * apu.day\n",
    "        # Calculate the lookback time in years\n",
    "        lookback_time = (today - past_date).to(apu.year).value\n",
    "        # Calculate the age of the universe at this lookback time\n",
    "        age_of_universe_then = age_today - lookback_time\n",
    "        # Find the redshift corresponding to this age of the universe\n",
    "        redshift = z_at_age(age_of_universe_then)\n",
    "        # Store the redshift value in the array\n",
    "        redshifts = redshifts.at[day].set(redshift)\n",
    "    \n",
    "    return redshifts\n",
    "\n",
    "\n",
    "def s_of_z(z, args):\n",
    "    \"\"\"\n",
    "    Convert redshift to time variable s with eqn. 4.1 in Mertsch et al.\n",
    "    (2020), keeping only Omega_M and Omega_L in the Hubble eqn. for H(z).\n",
    "\n",
    "    Args:\n",
    "        z (float): redshift\n",
    "\n",
    "    Returns:\n",
    "        float: time variable s (in [seconds] if 1/H0 factor is included)\n",
    "    \"\"\"    \n",
    "\n",
    "    def s_integrand(z):        \n",
    "\n",
    "        # We need value of H0 in units of 1/s.\n",
    "        H0_val = args.H0/(1/args.s)\n",
    "        a_dot = np.sqrt(args.Omega_M*(1.+z)**3 + args.Omega_L)/(1.+z)*H0_val\n",
    "        s_int = 1./a_dot\n",
    "\n",
    "        return s_int\n",
    "\n",
    "    s_of_z, _ = quad(s_integrand, 0., z)\n",
    "\n",
    "    return jnp.float64(s_of_z)\n",
    "\n",
    "\n",
    "# Get the redshift array for the past year\n",
    "z_int_steps_1year = get_redshift_array()\n",
    "print(z_int_steps_1year.shape)\n",
    "\n",
    "s_int_steps_1year = jnp.array([s_of_z(z, Params()) for z in z_int_steps_1year])\n",
    "print(s_int_steps_1year.shape)\n",
    "\n",
    "jnp.save(f\"{sim_folder}/z_int_steps_1year.npy\", z_int_steps_1year)\n",
    "jnp.save(f\"{sim_folder}/s_int_steps_1year.npy\", s_int_steps_1year)"
   ]
  }
 ],
 "metadata": {
  "kernelspec": {
   "display_name": "neutrino_clustering",
   "language": "python",
   "name": "python3"
  },
  "language_info": {
   "codemirror_mode": {
    "name": "ipython",
    "version": 3
   },
   "file_extension": ".py",
   "mimetype": "text/x-python",
   "name": "python",
   "nbconvert_exporter": "python",
   "pygments_lexer": "ipython3",
   "version": "3.10.0"
  }
 },
 "nbformat": 4,
 "nbformat_minor": 2
}
