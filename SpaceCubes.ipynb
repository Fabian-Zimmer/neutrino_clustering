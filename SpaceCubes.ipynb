{
 "cells": [
  {
   "cell_type": "code",
   "execution_count": 1,
   "metadata": {},
   "outputs": [],
   "source": [
    "from shared.preface import *\n",
    "import shared.functions as fct"
   ]
  },
  {
   "cell_type": "markdown",
   "metadata": {},
   "source": [
    "## Ch. 0: Preliminary Investigations."
   ]
  },
  {
   "cell_type": "markdown",
   "metadata": {},
   "source": [
    "### 2D grid, center coord. pairs."
   ]
  },
  {
   "cell_type": "code",
   "execution_count": null,
   "metadata": {},
   "outputs": [],
   "source": [
    "def grid_2D(l, s):\n",
    "\n",
    "    # 2D spatial grid, discretized.\n",
    "    eps = s/10\n",
    "    x, y = np.mgrid[-l:l+eps:s, -l:l+eps:s]\n",
    "\n",
    "    # [x y] edge coordinate pairs of above grid.\n",
    "    xy = np.mgrid[-l:l+eps:s, -l:l+eps:s].reshape(2,-1).T\n",
    "\n",
    "    # Create center coord.-pairs.\n",
    "    x_centers = (x[1:,:] + x[:-1,:])/2.\n",
    "    y_centers = (y[:,1:] + y[:,:-1])/2.\n",
    "    centers = np.array([x_centers[:,:-1], y_centers[:-1,:]])\n",
    "    cent_coordPairs2D = centers.reshape(2,-1).T\n",
    "    print('All coord. pairs 2D:\\n', cent_coordPairs2D)\n",
    "    # print('Coord pairs 2D shape:', cent_coordPairs2D.shape)\n",
    "\n",
    "    return cent_coordPairs2D\n",
    "\n",
    "limit_coarse, space_coarse = 1.5, 1.\n",
    "cent_coordPairs2D = grid_2D(limit_coarse, space_coarse)\n",
    "\n",
    "# Delete middle square.\n",
    "cent_coordPairs2D = np.delete(cent_coordPairs2D, 4, axis=0)\n",
    "\n",
    "# Create finegrained square.\n",
    "limit_fine, space_fine = limit_coarse/2., space_coarse/2.\n",
    "cent_coordPairs2D_fine = grid_2D(limit_fine, space_fine)\n",
    "\n",
    "# Insert finegrained square."
   ]
  },
  {
   "cell_type": "markdown",
   "metadata": {},
   "source": [
    "### 3D grid, center coord. pairs."
   ]
  },
  {
   "cell_type": "code",
   "execution_count": null,
   "metadata": {},
   "outputs": [],
   "source": [
    "# 3D spatial grid, discretized.\n",
    "x, y, z = np.mgrid[-1:1.1:1., -1:1.1:1., -1:1.1:1.]\n",
    "# print(x[0,...], x.shape)\n",
    "\n",
    "x_centers = (x[1:,...] + x[:-1,...])/2.\n",
    "# print(x_centers, x_centers.shape)\n",
    "\n",
    "y_centers = (y[:,1:,:] + y[:,:-1,:])/2.\n",
    "# print(y_centers, y_centers.shape)\n",
    "\n",
    "z_centers = (z[...,1:] + z[...,:-1])/2.\n",
    "# print(z_centers, z_centers.shape)\n",
    "\n",
    "\n",
    "# Create center coord.-pairs., truncate redundant points.\n",
    "centers3D = np.array([\n",
    "    x_centers[:,:-1,:-1], \n",
    "    y_centers[:-1,:,:-1], \n",
    "    z_centers[:-1,:-1,:]\n",
    "])\n",
    "# print(centers3D, centers3D.shape)\n",
    "\n",
    "cent_coordPairs3D = centers3D.reshape(3,-1).T \n",
    "print(cent_coordPairs3D, cent_coordPairs3D.shape)"
   ]
  },
  {
   "cell_type": "markdown",
   "metadata": {},
   "source": [
    "## Ch. 1: Milky Way-type halo and simple grid."
   ]
  },
  {
   "cell_type": "markdown",
   "metadata": {},
   "source": [
    "### 3D plot of the DM particles."
   ]
  },
  {
   "cell_type": "code",
   "execution_count": null,
   "metadata": {},
   "outputs": [],
   "source": [
    "# Read DM particles.\n",
    "fct.read_DM_positions_randomHalo(which_halos='halos', mass_select=12)\n",
    "\n",
    "# Build grid around Milky Way.\n",
    "MW_grid = fct.grid_3D(GRID_L, GRID_S) / kpc\n",
    "\n",
    "fig = plt.figure(figsize=(8,8))\n",
    "ax = fig.add_subplot(111, projection='3d')\n",
    "\n",
    "# Read in DM particle positions.\n",
    "DM_pos = np.load('sim_data/DM_positions_halos_M12.npy')\n",
    "print(f'{len(DM_pos)}')\n",
    "x_DM, y_DM, z_DM = DM_pos[:,0], DM_pos[:,1], DM_pos[:,2]\n",
    "cut = 10\n",
    "x, y, z = x_DM[1::cut], y_DM[1::cut], z_DM[1::cut]\n",
    "\n",
    "ax.scatter(x, y, z, alpha=0.2, c='dodgerblue')\n",
    "\n",
    "# Draw sphere around GC with radius=Rvir_MW.\n",
    "rGC = Rvir_MW/kpc\n",
    "uGC, vGC = np.mgrid[0:2 * np.pi:200j, 0:np.pi:100j]\n",
    "xGC = rGC * np.cos(uGC) * np.sin(vGC)\n",
    "yGC = rGC * np.sin(uGC) * np.sin(vGC)\n",
    "zGC = rGC * np.cos(vGC)\n",
    "\n",
    "xg, yg, zg = MW_grid[:,0], MW_grid[:,1], MW_grid[:,2] \n",
    "ax.scatter(xg, yg, zg, s=0.2, marker='x', color='black', alpha=0.1)\n",
    "\n",
    "\n",
    "ax.plot_surface(\n",
    "    xGC, yGC, zGC, alpha=0.1, \n",
    "    cmap=plt.cm.coolwarm, vmin=-1, vmax=1,# antialiased=False,\n",
    "    rstride=1, cstride=1\n",
    ")\n",
    "\n",
    "plt.show()"
   ]
  },
  {
   "cell_type": "markdown",
   "metadata": {},
   "source": [
    "### Calculate gravity in each cell."
   ]
  },
  {
   "cell_type": "code",
   "execution_count": null,
   "metadata": {},
   "outputs": [],
   "source": [
    "DM_pos = np.load('sim_data/DM_positions_halos_M12.npy')\n",
    "\n",
    "### Testing 1 cell with coords. at earth.\n",
    "cell_id = 0\n",
    "cell1 = np.array([8.5, 0, 0])*kpc\n",
    "\n",
    "cell_vector = fct.cell_gravity(cell1, DM_pos, GRAV_RANGE, DM_SIM_MASS)\n",
    "cell_vector /= (kpc/s**2)\n",
    "print(cell_vector)\n",
    "print(np.sqrt(np.sum(cell_vector**2)))\n",
    "\n",
    "#! this should be around same order of magnitude as in spher. symmetric setup."
   ]
  },
  {
   "cell_type": "markdown",
   "metadata": {},
   "source": [
    "## Ch. 2: Broadcasting for cell_gravity."
   ]
  },
  {
   "cell_type": "code",
   "execution_count": 38,
   "metadata": {},
   "outputs": [
    {
     "name": "stdout",
     "output_type": "stream",
     "text": [
      "(216, 1262, 3)\n",
      "(216, 1262)\n",
      "(216, 1262)\n"
     ]
    },
    {
     "ename": "IndexError",
     "evalue": "index 532 is out of bounds for axis 0 with size 216",
     "output_type": "error",
     "traceback": [
      "\u001b[0;31m---------------------------------------------------------------------------\u001b[0m",
      "\u001b[0;31mIndexError\u001b[0m                                Traceback (most recent call last)",
      "\u001b[1;32m/home/fabian/my_github_projects/neutrino_clustering_V2/SpaceCubes.ipynb Cell 13'\u001b[0m in \u001b[0;36m<cell line: 61>\u001b[0;34m()\u001b[0m\n\u001b[1;32m     <a href='vscode-notebook-cell:/home/fabian/my_github_projects/neutrino_clustering_V2/SpaceCubes.ipynb#ch0000014?line=54'>55</a>\u001b[0m DM \u001b[39m=\u001b[39m np\u001b[39m.\u001b[39mrepeat(DM, \u001b[39mlen\u001b[39m(grid), axis\u001b[39m=\u001b[39m\u001b[39m0\u001b[39m)\n\u001b[1;32m     <a href='vscode-notebook-cell:/home/fabian/my_github_projects/neutrino_clustering_V2/SpaceCubes.ipynb#ch0000014?line=55'>56</a>\u001b[0m \u001b[39m# print(DM.shape)\u001b[39;00m\n\u001b[1;32m     <a href='vscode-notebook-cell:/home/fabian/my_github_projects/neutrino_clustering_V2/SpaceCubes.ipynb#ch0000014?line=56'>57</a>\u001b[0m \n\u001b[1;32m     <a href='vscode-notebook-cell:/home/fabian/my_github_projects/neutrino_clustering_V2/SpaceCubes.ipynb#ch0000014?line=57'>58</a>\u001b[0m \u001b[39m# diff = DM - grid\u001b[39;00m\n\u001b[1;32m     <a href='vscode-notebook-cell:/home/fabian/my_github_projects/neutrino_clustering_V2/SpaceCubes.ipynb#ch0000014?line=58'>59</a>\u001b[0m \u001b[39m# print(diff.shape, (diff.nbytes)/1e6)\u001b[39;00m\n\u001b[0;32m---> <a href='vscode-notebook-cell:/home/fabian/my_github_projects/neutrino_clustering_V2/SpaceCubes.ipynb#ch0000014?line=60'>61</a>\u001b[0m dPsi_grid \u001b[39m=\u001b[39m cell_gravity(grid, DM, GRAV_RANGE, DM_SIM_MASS)\n",
      "\u001b[1;32m/home/fabian/my_github_projects/neutrino_clustering_V2/SpaceCubes.ipynb Cell 13'\u001b[0m in \u001b[0;36mcell_gravity\u001b[0;34m(cell_coords, DM_coords, grav_range, m_DM)\u001b[0m\n\u001b[1;32m     <a href='vscode-notebook-cell:/home/fabian/my_github_projects/neutrino_clustering_V2/SpaceCubes.ipynb#ch0000014?line=12'>13</a>\u001b[0m \u001b[39mprint\u001b[39m(ind\u001b[39m.\u001b[39mshape)\n\u001b[1;32m     <a href='vscode-notebook-cell:/home/fabian/my_github_projects/neutrino_clustering_V2/SpaceCubes.ipynb#ch0000014?line=14'>15</a>\u001b[0m \u001b[39m# Sort DM positions according to dist.\u001b[39;00m\n\u001b[0;32m---> <a href='vscode-notebook-cell:/home/fabian/my_github_projects/neutrino_clustering_V2/SpaceCubes.ipynb#ch0000014?line=15'>16</a>\u001b[0m DM_pos_sort \u001b[39m=\u001b[39m DM_cc[ind[\u001b[39m0\u001b[39;49m],ind[\u001b[39m1\u001b[39;49m],:]\n\u001b[1;32m     <a href='vscode-notebook-cell:/home/fabian/my_github_projects/neutrino_clustering_V2/SpaceCubes.ipynb#ch0000014?line=16'>17</a>\u001b[0m DM_dist_sort \u001b[39m=\u001b[39m DM_dist[ind]\n\u001b[1;32m     <a href='vscode-notebook-cell:/home/fabian/my_github_projects/neutrino_clustering_V2/SpaceCubes.ipynb#ch0000014?line=18'>19</a>\u001b[0m \u001b[39m# Truncate DM positions depending on distance to cc.\u001b[39;00m\n",
      "\u001b[0;31mIndexError\u001b[0m: index 532 is out of bounds for axis 0 with size 216"
     ]
    }
   ],
   "source": [
    "def cell_gravity(cell_coords, DM_coords, grav_range, m_DM):\n",
    "    \n",
    "    # Center all DM positions w.r.t. cell center.\n",
    "    DM_cc = DM_coords*kpc - cell_coords\n",
    "    print(DM_cc.shape)\n",
    "\n",
    "    # Calculate distances of DM to cc, sorted in ascending order.\n",
    "    DM_dist = np.sqrt(np.sum(DM_cc**2, axis=2))\n",
    "    print(DM_dist.shape)\n",
    "\n",
    "    # Ascending order indices.\n",
    "    ind = DM_dist.argsort(axis=1)\n",
    "    print(ind.shape)\n",
    "\n",
    "    # Sort DM positions according to dist.\n",
    "    DM_pos_sort = DM_cc[ind[0],ind[1],:]\n",
    "    DM_dist_sort = DM_dist[ind]\n",
    "\n",
    "    # Truncate DM positions depending on distance to cc.\n",
    "    if grav_range is None:\n",
    "        DM_pos_inRange = DM_pos_sort\n",
    "        DM_dist_inRange = DM_dist_sort\n",
    "    else:\n",
    "        DM_pos_inRange = DM_pos_sort[DM_dist_sort <= grav_range]\n",
    "        DM_dist_inRange = DM_dist_sort[DM_dist_sort <= grav_range]\n",
    "\n",
    "    # Adjust the distances array to make it compatible with DM positions array.\n",
    "    DM_dist_inRange_sync = DM_dist_inRange.reshape(len(DM_dist_inRange),1)\n",
    "    DM_dist_inRange_rep = np.repeat(DM_dist_inRange_sync, 3, axis=1)\n",
    "\n",
    "    # print(f'{len(DM_pos_trunc)} DM particles inside range')\n",
    "\n",
    "    ### Calculate superposition gravity.\n",
    "    pre = G*m_DM\n",
    "    quotient = (cell_coords-DM_pos_inRange)/(DM_dist_inRange_rep**3)\n",
    "    derivative = pre*np.sum(quotient, axis=0)\n",
    "\n",
    "    #NOTE: Minus sign, s.t. velocity changes correctly (see notes).\n",
    "    return np.asarray(-derivative, dtype=np.float64)\n",
    "\n",
    "\n",
    "fct.read_DM_positions_randomHalo(which_halos='halos', mass_select=12)\n",
    "DM = np.load('sim_data/DM_positions_halos_M12.npy')[1::100]\n",
    "grid = fct.grid_3D(GRID_L, GRID_S)\n",
    "\n",
    "# print(DM.shape)\n",
    "# print(grid.shape)\n",
    "\n",
    "grid = np.expand_dims(grid, axis=1)\n",
    "# print(grid.shape)\n",
    "\n",
    "DM = np.expand_dims(DM, axis=0)\n",
    "# print(DM.shape)\n",
    "\n",
    "DM = np.repeat(DM, len(grid), axis=0)\n",
    "# print(DM.shape)\n",
    "\n",
    "# diff = DM - grid\n",
    "# print(diff.shape, (diff.nbytes)/1e6)\n",
    "\n",
    "dPsi_grid = cell_gravity(grid, DM, GRAV_RANGE, DM_SIM_MASS)"
   ]
  },
  {
   "cell_type": "code",
   "execution_count": 34,
   "metadata": {},
   "outputs": [
    {
     "name": "stdout",
     "output_type": "stream",
     "text": [
      "(2, 5, 3)\n",
      "(2, 5) [[0 2 3 4 1]\n",
      " [0 2 3 4 1]]\n",
      "(2, 5, 3)\n"
     ]
    }
   ],
   "source": [
    "DM = 2.*np.random.randint(0,10, (5,3))\n",
    "grid = np.random.randint(0,10, (2,3))\n",
    "# print(DM.shape)\n",
    "# print(grid.shape)\n",
    "\n",
    "grid = np.expand_dims(grid, axis=1)\n",
    "# print(grid.shape)\n",
    "\n",
    "DM = np.expand_dims(DM, axis=0)\n",
    "# print(DM.shape)\n",
    "\n",
    "DM = np.repeat(DM, len(grid), axis=0)\n",
    "print(DM.shape)\n",
    "\n",
    "diff = DM - grid\n",
    "# print(diff.shape)\n",
    "\n",
    "DM_dist = np.sqrt(np.sum(DM**2, axis=2))\n",
    "\n",
    "# Ascending order indices.\n",
    "ind = DM_dist.argsort(axis=1)\n",
    "print(ind.shape, ind)\n",
    "# ind = np.expand_dims(ind, axis=2)\n",
    "# ind = np.repeat(ind, 3, axis=2)\n",
    "# print(ind.shape)\n",
    "# print(ind)\n",
    "\n",
    "DM_re = DM[:,ind[0],:]\n",
    "print(DM_re.shape)"
   ]
  },
  {
   "cell_type": "code",
   "execution_count": 16,
   "metadata": {},
   "outputs": [
    {
     "name": "stdout",
     "output_type": "stream",
     "text": [
      "[[ 1.12279492  0.30280522  0.07085926]\n",
      " [ 0.07304142 -1.42232584  1.52006949]\n",
      " [-0.29139398 -0.13309028 -0.1730696 ]]\n",
      "[[2 1 0]\n",
      " [1 0 2]\n",
      " [0 2 1]]\n",
      "[[ 0.07085926  0.30280522  1.12279492]\n",
      " [-1.42232584  0.07304142  1.52006949]\n",
      " [-0.29139398 -0.1730696  -0.13309028]]\n"
     ]
    }
   ],
   "source": [
    "a = np.random.randn(3, 3)\n",
    "print(a)\n",
    "print(np.argsort(a))\n",
    "\n",
    "print(np.array(list(map(lambda x, y: y[x], np.argsort(a), a))))"
   ]
  },
  {
   "cell_type": "markdown",
   "metadata": {},
   "source": [
    "## Ch. 3: Better derivative grid structure. "
   ]
  }
 ],
 "metadata": {
  "interpreter": {
   "hash": "f954fd519baabf9adc4c45dc1841670b54a153fe717f7fe4f74275668c90e9d2"
  },
  "kernelspec": {
   "display_name": "Python 3.9.12 ('NC_numba')",
   "language": "python",
   "name": "python3"
  },
  "language_info": {
   "codemirror_mode": {
    "name": "ipython",
    "version": 3
   },
   "file_extension": ".py",
   "mimetype": "text/x-python",
   "name": "python",
   "nbconvert_exporter": "python",
   "pygments_lexer": "ipython3",
   "version": "3.9.12"
  },
  "orig_nbformat": 4
 },
 "nbformat": 4,
 "nbformat_minor": 2
}
