{
 "cells": [
  {
   "cell_type": "markdown",
   "metadata": {},
   "source": [
    "## Generate data from sims."
   ]
  },
  {
   "cell_type": "code",
   "execution_count": null,
   "metadata": {},
   "outputs": [],
   "source": [
    "from shared.preface import *\n",
    "import shared.functions as fct\n",
    "\n",
    "# Initialize parameters and files.\n",
    "PRE = PRE(\n",
    "    # sim='L006N188', \n",
    "    sim='L012N376', \n",
    "    z0_snap=36, z4_snap=13, DM_lim=1000,\n",
    "    sim_dir=SIM_ROOT, sim_ver=SIM_TYPE,\n",
    "    phis=10, thetas=10, vels=100,\n",
    "    pre_CPUs=6, sim_CPUs=6\n",
    ")\n",
    "\n",
    "mass_gauge = 12.3\n",
    "mass_range = 0.3\n",
    "size = 1\n",
    "hname = f'1e+{mass_gauge}_pm{mass_range}Msun'\n",
    "fct.halo_batch_indices(\n",
    "    PRE.Z0_STR, mass_gauge, mass_range, 'halos', size, \n",
    "    hname, PRE.SIM_DIR, PRE.OUT_DIR\n",
    ")\n",
    "halo_batch_IDs = np.load(f'{PRE.OUT_DIR}/halo_batch_{hname}_indices.npy')\n",
    "halo_batch_params = np.load(f'{PRE.OUT_DIR}/halo_batch_{hname}_params.npy')\n",
    "halo_num = len(halo_batch_params)\n",
    "\n",
    "print('********Number density band********')\n",
    "print('Halo batch params (Rvir,Mvir,cNFW):')\n",
    "print(halo_batch_params)\n",
    "print('***********************************')\n",
    "\n",
    "\n",
    "mass_ticks = 100\n",
    "mass_range_eV = np.geomspace(0.01, 0.3, mass_ticks)*eV  # 10 to 300 meV\n",
    "\n",
    "etas_arr = []\n",
    "for halo_j in range(halo_num):\n",
    "\n",
    "    # Load velocities.\n",
    "    tot_name = f'{hname}_halo{halo_j}'\n",
    "    fname = f'{PRE.NUS}nus_{tot_name}'\n",
    "    u_all = fct.load_sim_data(PRE.OUT_DIR, fname, 'velocities')\n",
    "\n",
    "    # Calculate number density.\n",
    "    out_file = f'{PRE.OUT_DIR}/number_densities_{PRE.NUS}nus_{tot_name}.npy'\n",
    "    fct.number_densities_mass_range(\n",
    "        u_all, mass_range_eV, out_file,\n",
    "        average=False, m_start=0.01, z_start=0.5\n",
    "    )\n",
    "\n",
    "    etas = np.load(f'{out_file}')/N0\n",
    "    etas_arr.append(etas)\n",
    "\n",
    "etas_sim = np.array(etas_arr).reshape(halo_num, mass_ticks)\n",
    "\n",
    "\n",
    "# Load data for MW halo only of smooth simulation\n",
    "nus_smooth = 10000\n",
    "MW_HALO = True\n",
    "VC_HALO = False\n",
    "AG_HALO = False\n",
    "halos = 'MW'*MW_HALO + '+VC'*VC_HALO + '+AG'*AG_HALO\n",
    "sim = 'LinfNinf'\n",
    "smooth_name = f'nus_{nus_smooth}_halos_{halos}_{SOLVER}'\n",
    "u_all_MW = fct.load_sim_data(sim, smooth_name, 'velocities')\n",
    "\n",
    "output = f'{sim}/number_densities_{smooth_name}.npy'\n",
    "fct.number_densities_mass_range(\n",
    "    u_all_MW, mass_range_eV, output, \n",
    "    average=False, m_start=0.01, z_start=0.5\n",
    ")\n",
    "etas_smooth = np.load(f'{output}')/N0"
   ]
  },
  {
   "cell_type": "markdown",
   "metadata": {},
   "source": [
    "## Plotting."
   ]
  },
  {
   "cell_type": "code",
   "execution_count": null,
   "metadata": {},
   "outputs": [],
   "source": [
    "fig_dir = f'{os.getcwd()}/figures'\n",
    "fname = f'{SIM_TYPE}_{hname}'\n",
    "fct.plot_eta_band(etas_sim, etas_smooth, mass_range_eV, fig_dir, fname, show=True)"
   ]
  },
  {
   "cell_type": "code",
   "execution_count": null,
   "metadata": {},
   "outputs": [],
   "source": [
    "fig_dir = f'{os.getcwd()}/figures'\n",
    "fname = f'{SIM_TYPE}_{hname}'\n",
    "fct.plot_eta_z_back_1Halo(u_all, NU_MASSES, fig_dir, fname, show=True)\n"
   ]
  },
  {
   "cell_type": "code",
   "execution_count": null,
   "metadata": {},
   "outputs": [],
   "source": [
    "fig_dir = f'{os.getcwd()}/figures'\n",
    "fname = f'{SIM_TYPE}_{hname}'\n",
    "fct.plot_phase_space_1Halo(\n",
    "    u_all, NU_MASSES, halo_batch_params[0], \n",
    "    PRE.Vs, PRE.PHIs, PRE.THETAs, PRE.LOWER, PRE.UPPER,\n",
    "    fig_dir, fname, show=True\n",
    ")"
   ]
  },
  {
   "cell_type": "code",
   "execution_count": null,
   "metadata": {},
   "outputs": [],
   "source": [
    "fig_dir = f'{os.getcwd()}/figures'\n",
    "fname = f'{SIM_TYPE}_{hname}'\n",
    "fct.plot_number_density_integral(\n",
    "    u_all, NU_MASSES, \n",
    "    PRE.Vs, PRE.PHIs, PRE.THETAs, PRE.LOWER, PRE.UPPER,\n",
    "    fig_dir, fname, show=True\n",
    ")"
   ]
  }
 ],
 "metadata": {
  "kernelspec": {
   "display_name": "Python 3.9.5 ('neutrino_clustering')",
   "language": "python",
   "name": "python3"
  },
  "language_info": {
   "codemirror_mode": {
    "name": "ipython",
    "version": 3
   },
   "file_extension": ".py",
   "mimetype": "text/x-python",
   "name": "python",
   "nbconvert_exporter": "python",
   "pygments_lexer": "ipython3",
   "version": "3.9.5"
  },
  "orig_nbformat": 4,
  "vscode": {
   "interpreter": {
    "hash": "8a0d5d0f2e48edd2cdf812a3eedd1dc78c628b894b9ae93ffd6b09cf9a60bf81"
   }
  }
 },
 "nbformat": 4,
 "nbformat_minor": 2
}
