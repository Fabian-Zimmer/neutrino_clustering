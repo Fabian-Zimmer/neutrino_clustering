{
 "cells": [
  {
   "cell_type": "markdown",
   "metadata": {},
   "source": [
    "## Load number densities from sims."
   ]
  },
  {
   "cell_type": "code",
   "execution_count": null,
   "metadata": {},
   "outputs": [],
   "source": [
    "from shared.preface import *\n",
    "import shared.functions as fct\n",
    "\n",
    "# Initialize parameters and files.\n",
    "PRE_BOX = PRE(\n",
    "    sim='L025N752', \n",
    "    z0_snap=36, z4_snap=13, DM_lim=1000,\n",
    "    sim_dir=SIM_ROOT, sim_ver=SIM_TYPE,\n",
    "    phis=10, thetas=10, vels=100,\n",
    "    pre_CPUs=128, sim_CPUs=128, mem_lim_GB=224\n",
    ")\n",
    "\n",
    "mass_gauge = 12.0\n",
    "mass_range = 0.6\n",
    "size = 1\n",
    "\n",
    "hname = f'1e+{mass_gauge}_pm{mass_range}Msun'\n",
    "fct.halo_batch_indices(\n",
    "    PRE_BOX.Z0_STR, mass_gauge, mass_range, 'halos', size, \n",
    "    hname, PRE_BOX.SIM_DIR, PRE_BOX.OUT_DIR\n",
    ")\n",
    "halo_batch_IDs = np.load(f'{PRE_BOX.OUT_DIR}/halo_batch_{hname}_indices.npy')\n",
    "halo_batch_params = np.load(f'{PRE_BOX.OUT_DIR}/halo_batch_{hname}_params.npy')\n",
    "halo_num = len(halo_batch_params)\n",
    "\n",
    "print('********Number density band********')\n",
    "print('Halo batch params (Rvir,Mvir,cNFW):')\n",
    "print(halo_batch_params)\n",
    "print('***********************************')\n",
    "\n",
    "\n",
    "etas_arr = []\n",
    "for halo_j in range(halo_num)[::-1]:\n",
    "\n",
    "    # Load number densities.\n",
    "    tot_name = f'{hname}_halo{halo_j}'\n",
    "    fname = f'{PRE_BOX.NUS}nus_{tot_name}'\n",
    "    out_file = f'{PRE_BOX.OUT_DIR}/number_densities_band_{fname}.npy'\n",
    "    etas = np.load(f'{out_file}')/N0\n",
    "    etas_arr.append(etas)\n",
    "\n",
    "etas_sim = np.array(etas_arr).reshape(halo_num, len(NU_MRANGE))"
   ]
  },
  {
   "cell_type": "code",
   "execution_count": null,
   "metadata": {},
   "outputs": [],
   "source": [
    "from shared.preface import *\n",
    "import shared.functions as fct\n",
    "\n",
    "# Load data for MW halo only of smooth simulation.\n",
    "PRE_SMOOTH = PRE(\n",
    "    sim='LinfNinf', phis=10, thetas=10, vels=100,\n",
    "    sim_CPUs=128, MW_HALO=True, VC_HALO=False\n",
    ")\n",
    "\n",
    "smooth_name = f'{PRE_SMOOTH.NUS}nus_smooth_{PRE_SMOOTH.HALOS}_{SOLVER}'\n",
    "smooth_dir = f'{os.getcwd()}/{PRE_SMOOTH.SIM}'\n",
    "u_all_MW = fct.load_sim_data(smooth_dir, smooth_name, 'velocities')\n",
    "\n",
    "smooth_output = f'{smooth_dir}/number_densities_{smooth_name}.npy'\n",
    "fct.number_densities_mass_range(\n",
    "    u_all_MW, NU_MRANGE, smooth_output, \n",
    "    average=False, m_start=0.01, z_start=0.5\n",
    ")\n",
    "etas_smooth = np.load(f'{smooth_output}')/N0"
   ]
  },
  {
   "cell_type": "code",
   "execution_count": null,
   "metadata": {},
   "outputs": [],
   "source": [
    "fig_dir = f'{os.getcwd()}/figures'\n",
    "splits = re.split('/', SIM_TYPE)\n",
    "fname = f'{splits[0]}_{splits[1]}_{hname}'\n",
    "fct.plot_eta_band(etas_sim, etas_smooth, NU_MRANGE, fig_dir, fname, show=True, Mertsch=True)"
   ]
  },
  {
   "cell_type": "code",
   "execution_count": null,
   "metadata": {},
   "outputs": [],
   "source": [
    "etas_arr = []\n",
    "for halo_j in range(halo_num)[::-1]:\n",
    "\n",
    "    # Load number densities.\n",
    "    tot_name = f'{hname}_halo{halo_j}'\n",
    "    fname = f'{PRE_BOX.NUS}nus_{tot_name}'\n",
    "    out_file = f'{PRE_BOX.OUT_DIR}/number_densities_band_SR_{fname}.npy'\n",
    "    etas = np.load(f'{out_file}')/N0\n",
    "    etas_arr.append(etas)\n",
    "\n",
    "etas_sim_sr = np.array(etas_arr).reshape(halo_num, len(NU_MRANGE))\n",
    "\n",
    "\n",
    "fig_dir = f'{os.getcwd()}/figures'\n",
    "splits = re.split('/', SIM_TYPE)\n",
    "fname = f'{splits[0]}_{splits[1]}_{hname}'\n",
    "fct.plot_eta_band(etas_sim_sr, etas_smooth, NU_MRANGE, fig_dir, fname, show=True, Mertsch=True)"
   ]
  },
  {
   "cell_type": "code",
   "execution_count": null,
   "metadata": {},
   "outputs": [],
   "source": [
    "etas_arr = []\n",
    "for halo_j in range(halo_num)[::-1]:\n",
    "\n",
    "    # Load number densities.\n",
    "    tot_name = f'{hname}_halo{halo_j}'\n",
    "    fname = f'{PRE_BOX.NUS}nus_{tot_name}'\n",
    "    out_file = f'{PRE_BOX.OUT_DIR}/number_densities_band_DMbig_{fname}.npy'\n",
    "    etas = np.load(f'{out_file}')/N0\n",
    "    etas_arr.append(etas)\n",
    "\n",
    "etas_sim_big = np.array(etas_arr).reshape(halo_num, len(NU_MRANGE))\n",
    "\n",
    "\n",
    "fig_dir = f'{os.getcwd()}/figures'\n",
    "splits = re.split('/', SIM_TYPE)\n",
    "fname = f'{splits[0]}_{splits[1]}_{hname}'\n",
    "fct.plot_eta_band(etas_sim_big, etas_smooth, NU_MRANGE, fig_dir, fname, show=True, Mertsch=True)"
   ]
  },
  {
   "cell_type": "markdown",
   "metadata": {},
   "source": [
    "## Plotting."
   ]
  },
  {
   "cell_type": "markdown",
   "metadata": {},
   "source": [
    "### Local overdensity percentile band."
   ]
  },
  {
   "cell_type": "code",
   "execution_count": null,
   "metadata": {},
   "outputs": [],
   "source": [
    "fig_dir = f'{os.getcwd()}/figures'\n",
    "splits = re.split('/', SIM_TYPE)\n",
    "fname = f'{splits[0]}_{splits[1]}_{hname}'\n",
    "fct.plot_eta_band(etas_sim, etas_smooth, NU_MRANGE, fig_dir, fname, show=True, Mertsch=True)"
   ]
  },
  {
   "cell_type": "markdown",
   "metadata": {},
   "source": [
    "### Redshift evolution of local overdensity."
   ]
  },
  {
   "cell_type": "code",
   "execution_count": null,
   "metadata": {},
   "outputs": [],
   "source": [
    "fig_dir = f'{os.getcwd()}/figures'\n",
    "splits = re.split('/', SIM_TYPE)\n",
    "fname = f'{splits[0]}_{splits[1]}_{hname}'\n",
    "fct.plot_eta_z_back_1Halo(u_all, NU_MASSES, fig_dir, fname, show=True)\n"
   ]
  },
  {
   "cell_type": "markdown",
   "metadata": {},
   "source": [
    "### Phase-space distribution of neutrinos today."
   ]
  },
  {
   "cell_type": "code",
   "execution_count": null,
   "metadata": {},
   "outputs": [],
   "source": [
    "fig_dir = f'{os.getcwd()}/figures'\n",
    "splits = re.split('/', SIM_TYPE)\n",
    "fname = f'{splits[0]}_{splits[1]}_{hname}'\n",
    "fct.plot_phase_space_1Halo(\n",
    "    u_all, NU_MASSES, halo_batch_params[0], \n",
    "    PRE_BOX.Vs, PRE_BOX.PHIs, PRE_BOX.THETAs, PRE_BOX.LOWER, PRE_BOX.UPPER,\n",
    "    fig_dir, fname, show=True\n",
    ")"
   ]
  },
  {
   "cell_type": "markdown",
   "metadata": {},
   "source": [
    "### Number density integral (visual for how median of momenta increases)."
   ]
  },
  {
   "cell_type": "code",
   "execution_count": null,
   "metadata": {},
   "outputs": [],
   "source": [
    "PRE = PRE_BOX\n",
    "# PRE = PRE_SMOOTH\n",
    "\n",
    "fig_dir = f'{os.getcwd()}/figures'\n",
    "splits = re.split('/', SIM_TYPE)\n",
    "fname = f'{splits[0]}_{splits[1]}_{hname}'\n",
    "fct.plot_number_density_integral(\n",
    "    u_all, NU_MASSES, \n",
    "    PRE.Vs, PRE.PHIs, PRE.THETAs, PRE.LOWER, PRE.UPPER,\n",
    "    fig_dir, fname, show=True\n",
    ")"
   ]
  },
  {
   "cell_type": "markdown",
   "metadata": {},
   "source": [
    "### Redshift evolution of neutrino velocities and distances."
   ]
  },
  {
   "cell_type": "code",
   "execution_count": null,
   "metadata": {},
   "outputs": [],
   "source": [
    "def plot_velocities_and_distances(\n",
    "    out_dir, fname, Rvir, fig_dir, fig_name, batches=False, show=False\n",
    "):\n",
    "\n",
    "    # Load positions and velocities.\n",
    "    vel = fct.load_sim_data(out_dir, fname, 'velocities')\n",
    "    pos = fct.load_sim_data(out_dir, fname, 'positions')\n",
    "\n",
    "    # Magnitudes of velocities and radial distances from halo center.\n",
    "    mag = np.sqrt(np.sum(vel**2, axis=2))\n",
    "    dis = np.sqrt(np.sum(pos**2, axis=2))\n",
    "\n",
    "    # Sort arrays from low to high velocity neutrinos.\n",
    "    ids = mag[:,0].argsort()\n",
    "    ids_2D = np.repeat(np.expand_dims(ids, axis=1), mag.shape[1], axis=1)\n",
    "    u_unit = (kpc/s)/(km/s)\n",
    "    mag_sort = np.take_along_axis(mag, ids_2D, axis=0)*u_unit\n",
    "    dis_sort = np.take_along_axis(dis, ids_2D, axis=0)\n",
    "\n",
    "    # Special velocity markers.\n",
    "    v_start = mag_sort[:,0]\n",
    "    v_max = v_start.max()\n",
    "    v_esc = mag_sort[np.where(v_start <= 550)]\n",
    "\n",
    "    # Velocity batches.\n",
    "    v1 = mag_sort[np.where(v_start <= v_max/4)]\n",
    "    v2 = mag_sort[np.where((v_max/4 < v_start) & (v_start <= v_max/2))]\n",
    "    v3 = mag_sort[np.where((v_max/2 < v_start) & (v_start <= v_max*3/4))]\n",
    "    v4 = mag_sort[np.where(v_max*3/4 < v_start)]\n",
    "\n",
    "    # Corresponding distance batches.\n",
    "    d1 = dis_sort[:len(v1),:]\n",
    "    d2 = dis_sort[len(v1):len(v1)+len(v2),:]\n",
    "    d3 = dis_sort[len(v1)+len(v2):len(v1)+len(v2)+len(v3),:]\n",
    "    d4 = dis_sort[len(v1)+len(v2)+len(v3):,:]\n",
    "    # d_esc = dis_sort[:v_esc.shape[0],:]\n",
    "\n",
    "\n",
    "    # Plotting.\n",
    "    fig, ax = plt.subplots(1,1)\n",
    "\n",
    "    if batches:\n",
    "        for i, d in enumerate((d1,d2,d3,d4)):\n",
    "            print(d.shape, d[0,0], d[0,-1])\n",
    "            y_vals = np.median(d, axis=0)\n",
    "            ax.semilogy(ZEDS, y_vals, alpha=0.7, label=f'batch {i} mean')\n",
    "    else:\n",
    "        d_show = dis_sort[:3000,:][::300]   #! lowest velocities\n",
    "        # d_show = dis_sort[3000:,:][::1000]  #! highest velocities\n",
    "        for d in d_show:\n",
    "            ax.semilogy(ZEDS, d)\n",
    "\n",
    "    ax.axhline(Rvir, c='r', ls=':', label='R_vir of halo')\n",
    "    # ax[j].set_xlim(-0.01,1)\n",
    "    ax.legend()\n",
    "    ax.set_ylabel('distance to halo center (kpc)')\n",
    "    ax.set_xlabel('redshift')\n",
    "\n",
    "    fig_out = f'{fig_dir}/distance_from_origin_{fig_name}.pdf'\n",
    "    plt.savefig(\n",
    "        fig_out, facecolor=fig.get_facecolor(), edgecolor='none', \n",
    "        bbox_inches='tight'\n",
    "    )\n",
    "    if show:\n",
    "        plt.show()\n",
    "    else:\n",
    "        plt.close()\n",
    "\n",
    "\n",
    "\n",
    "# Discrete simulation.\n",
    "halo_j = 0\n",
    "tot_name = f'{hname}_halo{halo_j}'\n",
    "fname = f'{PRE_BOX.NUS}nus_{tot_name}'\n",
    "Rvir = halo_batch_params[halo_j, 0]\n",
    "\n",
    "fig_dir = f'{os.getcwd()}/figures'\n",
    "splits = re.split('/', SIM_TYPE)\n",
    "fig_name = f'{splits[0]}_{splits[1]}_{hname}'\n",
    "\n",
    "plot_velocities_and_distances(PRE_BOX.OUT_DIR, fname, Rvir, fig_dir, fig_name, batches=False, show=True)\n",
    "\n",
    "\n",
    "# Smooth simulation.\n",
    "# nus = 10000\n",
    "# MW_HALO = True\n",
    "# VC_HALO = False\n",
    "# AG_HALO = False\n",
    "# halos = 'MW'*MW_HALO + '+VC'*VC_HALO + '+AG'*AG_HALO\n",
    "\n",
    "# sim = 'LinfNinf'\n",
    "# fname = f'nus_{nus}_halos_{halos}_{SOLVER}'\n",
    "\n",
    "# fig_dir = f'{os.getcwd()}/figures'\n",
    "\n",
    "# plot_velocities_and_distances(\n",
    "#     PRE_SMOOTH.OUT_DIR, fname, Rvir, fig_dir, fig_name, \n",
    "#     batches=False, show=True\n",
    "# )"
   ]
  }
 ],
 "metadata": {
  "kernelspec": {
   "display_name": "Python 3 (ipykernel)",
   "language": "python",
   "name": "python3"
  },
  "language_info": {
   "codemirror_mode": {
    "name": "ipython",
    "version": 3
   },
   "file_extension": ".py",
   "mimetype": "text/x-python",
   "name": "python",
   "nbconvert_exporter": "python",
   "pygments_lexer": "ipython3",
   "version": "3.9.5"
  },
  "orig_nbformat": 4,
  "vscode": {
   "interpreter": {
    "hash": "f9f85f796d01129d0dd105a088854619f454435301f6ffec2fea96ecbd9be4ac"
   }
  }
 },
 "nbformat": 4,
 "nbformat_minor": 2
}
