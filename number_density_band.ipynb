{
 "cells": [
  {
   "cell_type": "code",
   "execution_count": null,
   "metadata": {},
   "outputs": [],
   "source": [
    "from shared.preface import *\n",
    "import shared.functions as fct\n",
    "\n",
    "# Load data.\n",
    "nus = 10000\n",
    "sim = 'temp_data'\n",
    "fname = f'nus_{nus}_CubeSpace'\n",
    "u_all = fct.load_sim_data(sim, fname, 'velocities')\n",
    "\n",
    "# 10 to 300 meV like in the paper.\n",
    "mass_range_eV = np.geomspace(0.01, 0.3, 50)*eV\n",
    "\n",
    "# Calculate number density, averaged values for z in [3.5, 4].\n",
    "output = f'{sim}/number_densities_{nus}nus.npy'\n",
    "fct.number_density_1_mass(\n",
    "    u_all, mass_range_eV, output, average=True, z_average=3.5\n",
    ")\n",
    "n_nus = np.load(f'{output}')/N0\n",
    "\n",
    "# Plotting:\n",
    "fig, ax = plt.subplots(1,1, figsize=(8,8))\n",
    "\n",
    "ax.plot(mass_range_eV*1e3, (n_nus-1))\n",
    "x_ends = [1e1, 3*1e2]\n",
    "y_ends = [3*1e-3, 4]\n",
    "ax.plot(x_ends, y_ends, marker='x', ls=':', c='r', alpha=0.6)\n",
    "\n",
    "for m in NU_MASSES:\n",
    "    ax.axvline(m*1e3, c='r', ls='-.')\n",
    "\n",
    "ax.set_xscale('log')\n",
    "ax.set_yscale('log')\n",
    "ax.set_title(f'CubeSpace!, Neutrinos: {nus}')\n",
    "ax.set_xlabel(r'$m_{\\nu}$ [meV]')\n",
    "ax.set_ylabel(r'$n_{\\nu} / n_{\\nu, 0}$')\n",
    "# ax.set_ylim(1e-3, 1e1)\n",
    "plt.grid(True, which=\"both\", ls=\"-\")\n",
    "\n",
    "ax.yaxis.set_major_formatter(ticker.FuncFormatter(fct.y_fmt))\n",
    "\n",
    "plt.savefig(f'figures/clustering_factors_nus_{nus}_CubeSpace.pdf')\n",
    "plt.show()\n",
    "\n",
    "print('Max value:', np.max(n_nus), np.max(n_nus-1))"
   ]
  }
 ],
 "metadata": {
  "kernelspec": {
   "display_name": "Python 3.9.5 ('neutrino_clustering')",
   "language": "python",
   "name": "python3"
  },
  "language_info": {
   "name": "python",
   "version": "3.9.5"
  },
  "orig_nbformat": 4,
  "vscode": {
   "interpreter": {
    "hash": "8a0d5d0f2e48edd2cdf812a3eedd1dc78c628b894b9ae93ffd6b09cf9a60bf81"
   }
  }
 },
 "nbformat": 4,
 "nbformat_minor": 2
}
