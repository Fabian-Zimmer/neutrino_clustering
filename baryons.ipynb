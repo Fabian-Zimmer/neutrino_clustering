{
 "cells": [
  {
   "cell_type": "code",
   "execution_count": 1,
   "metadata": {},
   "outputs": [],
   "source": [
    "from shared.preface import *\n",
    "import shared.functions as fct"
   ]
  },
  {
   "cell_type": "code",
   "execution_count": 4,
   "metadata": {},
   "outputs": [
    {
     "name": "stdout",
     "output_type": "stream",
     "text": [
      "********************* Initialization *********************\n",
      "# Initial conditions for neutrinos:\n",
      "PHIs = 10, THETAs=10, Vs=100\n",
      "Total neutrinos: 10000\n",
      "# Simulation parameters:\n",
      "Simulation box: L025N376\n",
      "Snapshot from 0036 (z=0) to 0013 (z=4)\n",
      "Pre/Sim CPUs 96/128\n",
      "DM limit for cells: 1000\n",
      "# File management:\n",
      "Box files directory: \n",
      " /projects/0/einf180/Tango_sims/L025N376/Hydro_Model_2/SigmaConstant00\n",
      "Output directory: \n",
      " /gpfs/home4/zimmer/neutrino_clustering_V2/L025N376/Hydro_Model_2/SigmaConstant00\n",
      "**********************************************************\n"
     ]
    }
   ],
   "source": [
    "PRE = PRE(\n",
    "    sim='L025N376', \n",
    "    z0_snap=36, z4_snap=13, DM_lim=1000,\n",
    "    sim_dir=SIM_ROOT, sim_ver=SIM_TYPE,\n",
    "    phis=10, thetas=10, vels=100,\n",
    "    pre_CPUs=96, sim_CPUs=128\n",
    ")"
   ]
  },
  {
   "cell_type": "code",
   "execution_count": 22,
   "metadata": {},
   "outputs": [
    {
     "name": "stdout",
     "output_type": "stream",
     "text": [
      "<KeysViewHDF5 ['BirthDensities', 'BirthScaleFactors', 'BirthTemperatures', 'Coordinates', 'DensitiesAtLastAGNEvent', 'DensitiesBeforeLastAGNEvent', 'ElementMassFractions', 'EnergiesReceivedFromAGNFeedback', 'EntropiesAtLastAGNEvent', 'EntropiesBeforeLastAGNEvent', 'FOFGroupIDs', 'FeedbackEnergyFractions', 'FeedbackNumberOfHeatingEvents', 'HeatedByAGNFeedback', 'HeatedBySNIIFeedback', 'InitialMasses', 'IronMassFractionsFromSNIa', 'LastAGNFeedbackScaleFactors', 'Luminosities', 'Masses', 'MassesFromAGB', 'MassesFromSNII', 'MassesFromSNIa', 'MaximalTemperatureScaleFactors', 'MaximalTemperatures', 'MetalMassFractions', 'MetalMassFractionsFromAGB', 'MetalMassFractionsFromSNII', 'MetalMassFractionsFromSNIa', 'NumberOfFeedbackEvents', 'ParticleIDs', 'ProgenitorParticleIDs', 'SmoothedElementMassFractions', 'SmoothedIronMassFractionsFromSNIa', 'SmoothedMetalMassFractions', 'SmoothingLengths', 'SplitCounts', 'SplitTrees', 'Velocities']>\n",
      "1907029\n"
     ]
    }
   ],
   "source": [
    "with h5py.File(f'{PRE.SIM_DIR}/snapshot_0036.hdf5') as snap:\n",
    "    print(snap['PartType4'].keys())\n",
    "    mass0 = snap['PartType4/MassesFromAGB'][:]*1e10*Msun\n",
    "    print(len(np.unique(mass0)))"
   ]
  },
  {
   "cell_type": "code",
   "execution_count": 14,
   "metadata": {},
   "outputs": [
    {
     "data": {
      "text/plain": [
       "53157376"
      ]
     },
     "execution_count": 14,
     "metadata": {},
     "output_type": "execute_result"
    }
   ],
   "source": [
    "376**3"
   ]
  }
 ],
 "metadata": {
  "kernelspec": {
   "display_name": "Python 3 (ipykernel)",
   "language": "python",
   "name": "python3"
  },
  "orig_nbformat": 4,
  "vscode": {
   "interpreter": {
    "hash": "f9f85f796d01129d0dd105a088854619f454435301f6ffec2fea96ecbd9be4ac"
   }
  }
 },
 "nbformat": 4,
 "nbformat_minor": 2
}
