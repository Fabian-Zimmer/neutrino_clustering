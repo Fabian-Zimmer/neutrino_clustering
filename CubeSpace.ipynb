{
 "cells": [
  {
   "cell_type": "code",
   "execution_count": 1,
   "metadata": {},
   "outputs": [],
   "source": [
    "from shared.preface import *\n",
    "import shared.functions as fct"
   ]
  },
  {
   "cell_type": "markdown",
   "metadata": {},
   "source": [
    "## Ch. 0: Preliminary Investigations."
   ]
  },
  {
   "cell_type": "markdown",
   "metadata": {},
   "source": [
    "### 2D grid, center coord. pairs."
   ]
  },
  {
   "cell_type": "code",
   "execution_count": null,
   "metadata": {},
   "outputs": [],
   "source": [
    "def grid_2D(l, s):\n",
    "\n",
    "    # 2D spatial grid, discretized.\n",
    "    eps = s/10\n",
    "    x, y = np.mgrid[-l:l+eps:s, -l:l+eps:s]\n",
    "\n",
    "    # [x y] edge coordinate pairs of above grid.\n",
    "    xy = np.mgrid[-l:l+eps:s, -l:l+eps:s].reshape(2,-1).T\n",
    "\n",
    "    # Create center coord.-pairs.\n",
    "    x_centers = (x[1:,:] + x[:-1,:])/2.\n",
    "    y_centers = (y[:,1:] + y[:,:-1])/2.\n",
    "    centers = np.array([x_centers[:,:-1], y_centers[:-1,:]])\n",
    "    cent_coordPairs2D = centers.reshape(2,-1).T\n",
    "    print('All coord. pairs 2D:\\n', cent_coordPairs2D)\n",
    "    # print('Coord pairs 2D shape:', cent_coordPairs2D.shape)\n",
    "\n",
    "    return cent_coordPairs2D\n",
    "\n",
    "limit_coarse, space_coarse = 1.5, 1.\n",
    "cent_coordPairs2D = grid_2D(limit_coarse, space_coarse)\n",
    "\n",
    "# Delete middle square.\n",
    "cent_coordPairs2D = np.delete(cent_coordPairs2D, 4, axis=0)\n",
    "\n",
    "# Create finegrained square.\n",
    "limit_fine, space_fine = limit_coarse/2., space_coarse/2.\n",
    "cent_coordPairs2D_fine = grid_2D(limit_fine, space_fine)\n",
    "\n",
    "# Insert finegrained square."
   ]
  },
  {
   "cell_type": "markdown",
   "metadata": {},
   "source": [
    "### 3D grid, center coord. pairs."
   ]
  },
  {
   "cell_type": "code",
   "execution_count": null,
   "metadata": {},
   "outputs": [],
   "source": [
    "# 3D spatial grid, discretized.\n",
    "x, y, z = np.mgrid[-1:1.1:1., -1:1.1:1., -1:1.1:1.]\n",
    "# print(x[0,...], x.shape)\n",
    "\n",
    "x_centers = (x[1:,...] + x[:-1,...])/2.\n",
    "# print(x_centers, x_centers.shape)\n",
    "\n",
    "y_centers = (y[:,1:,:] + y[:,:-1,:])/2.\n",
    "# print(y_centers, y_centers.shape)\n",
    "\n",
    "z_centers = (z[...,1:] + z[...,:-1])/2.\n",
    "# print(z_centers, z_centers.shape)\n",
    "\n",
    "\n",
    "# Create center coord.-pairs., truncate redundant points.\n",
    "centers3D = np.array([\n",
    "    x_centers[:,:-1,:-1], \n",
    "    y_centers[:-1,:,:-1], \n",
    "    z_centers[:-1,:-1,:]\n",
    "])\n",
    "# print(centers3D, centers3D.shape)\n",
    "\n",
    "cent_coordPairs3D = centers3D.reshape(3,-1).T \n",
    "print(cent_coordPairs3D, cent_coordPairs3D.shape)"
   ]
  },
  {
   "cell_type": "markdown",
   "metadata": {},
   "source": [
    "## Ch. 1: Milky Way-type halo and simple grid."
   ]
  },
  {
   "cell_type": "markdown",
   "metadata": {},
   "source": [
    "### 3D plot of the DM particles."
   ]
  },
  {
   "cell_type": "code",
   "execution_count": null,
   "metadata": {},
   "outputs": [],
   "source": [
    "# Read DM particles.\n",
    "fct.read_DM_positions_randomHalo(which_halos='halos', mass_select=12)\n",
    "\n",
    "# Build grid around Milky Way.\n",
    "MW_grid = fct.grid_3D(GRID_L, GRID_S) / kpc\n",
    "\n",
    "fig = plt.figure(figsize=(8,8))\n",
    "ax = fig.add_subplot(111, projection='3d')\n",
    "\n",
    "# Read in DM particle positions.\n",
    "DM_pos = np.load('sim_data/DM_positions_halos_M12.npy')\n",
    "print(f'{len(DM_pos)}')\n",
    "x_DM, y_DM, z_DM = DM_pos[:,0], DM_pos[:,1], DM_pos[:,2]\n",
    "cut = 10\n",
    "x, y, z = x_DM[1::cut], y_DM[1::cut], z_DM[1::cut]\n",
    "\n",
    "ax.scatter(x, y, z, alpha=0.1, c='dodgerblue')\n",
    "\n",
    "# Draw sphere around GC with radius=Rvir_MW.\n",
    "rGC = Rvir_MW/kpc\n",
    "uGC, vGC = np.mgrid[0:2 * np.pi:200j, 0:np.pi:100j]\n",
    "xGC = rGC * np.cos(uGC) * np.sin(vGC)\n",
    "yGC = rGC * np.sin(uGC) * np.sin(vGC)\n",
    "zGC = rGC * np.cos(vGC)\n",
    "\n",
    "xg, yg, zg = MW_grid[:,0], MW_grid[:,1], MW_grid[:,2] \n",
    "ax.scatter(xg, yg, zg, s=0.2, marker='x', color='black', alpha=0.5)\n",
    "\n",
    "\n",
    "ax.plot_surface(\n",
    "    xGC, yGC, zGC, alpha=0.1, \n",
    "    cmap=plt.cm.coolwarm, vmin=-1, vmax=1,# antialiased=False,\n",
    "    rstride=1, cstride=1\n",
    ")\n",
    "\n",
    "plt.show()"
   ]
  },
  {
   "cell_type": "markdown",
   "metadata": {},
   "source": [
    "### Calculate gravity in each cell."
   ]
  },
  {
   "cell_type": "code",
   "execution_count": null,
   "metadata": {},
   "outputs": [],
   "source": [
    "DM_pos = np.load('sim_data/DM_positions_halos_M12.npy')\n",
    "\n",
    "### Testing 1 cell with coords. at earth.\n",
    "cell_id = 0\n",
    "cell1 = np.array([8.5, 0, 0])*kpc\n",
    "\n",
    "cell_vector = fct.cell_gravity(cell1, DM_pos, GRAV_RANGE, DM_SIM_MASS)\n",
    "cell_vector /= (kpc/s**2)  \n",
    "print(cell_vector)\n",
    "print(np.sqrt(np.sum(cell_vector**2)))\n",
    "\n",
    "#! this should be around same order of magnitude as in spher. symmetric setup."
   ]
  },
  {
   "cell_type": "markdown",
   "metadata": {},
   "source": [
    "## Ch. 2: Broadcasting for cell_gravity."
   ]
  },
  {
   "cell_type": "code",
   "execution_count": null,
   "metadata": {},
   "outputs": [],
   "source": [
    "fct.read_DM_positions_randomHalo(which_halos='halos', mass_select=12)\n",
    "DM = np.load('sim_data/DM_positions_halos_M12.npy')[1::10]\n",
    "grid = fct.grid_3D(GRID_L, GRID_S)\n",
    "\n",
    "grid = np.expand_dims(grid, axis=1)\n",
    "\n",
    "DM = np.expand_dims(DM, axis=0)\n",
    "DM = np.repeat(DM, len(grid), axis=0)\n",
    "\n",
    "# diff = DM - grid\n",
    "# print(diff.shape, (diff.nbytes)/1e6)\n",
    "\n",
    "fct.cell_gravity_3D(grid, DM, GRAV_RANGE, DM_SIM_MASS)\n",
    "dPsi_grid = np.load('CubeSpace/dPsi_grid_snapsnot_X.npy')\n",
    "dPsi_grid /= (kpc/s**2) \n",
    "mags = np.sqrt(np.sum(dPsi_grid**2, axis=1))\n",
    "print(mags[0])"
   ]
  },
  {
   "cell_type": "markdown",
   "metadata": {},
   "source": [
    "## Ch. 3: Combined precalculations for all snapshots."
   ]
  },
  {
   "cell_type": "code",
   "execution_count": null,
   "metadata": {},
   "outputs": [],
   "source": [
    "from shared.preface import *\n",
    "import shared.functions as fct\n",
    "\n",
    "for i in range(12,37):\n",
    "    snap_i = f'{i:04d}'\n",
    "    print(snap_i)\n",
    "\n",
    "    # 1. Read in DM positions of halo in snapshot.\n",
    "    fct.read_DM_positions_randomHalo(\n",
    "        which_halos='halos', mass_select=12, mass_range=1., snap_num=snap_i\n",
    "        )\n",
    "    DM_pos = np.load('sim_data/DM_positions_halos_M12.npy')[1::10]\n",
    "\n",
    "    # 2. Build the spatial grid, depending on virial radius of halo, etc.\n",
    "    cell_grid = fct.grid_3D(GRID_L, GRID_S)\n",
    "    np.save(f'CubeSpace/cell_grid_snapsnot_{snap_i}', cell_grid)\n",
    "    cell_grid = np.expand_dims(cell_grid, axis=1)\n",
    "\n",
    "    # 2.5 Adjust arrays.\n",
    "    DM_pos = np.expand_dims(DM_pos, axis=0)\n",
    "    DM_pos = np.repeat(DM_pos, len(cell_grid), axis=0)\n",
    "\n",
    "    # 3. Calculate derivatives of each cell.\n",
    "    fct.cell_gravity_3D(\n",
    "        cell_grid, DM_pos, GRAV_RANGE, DM_SIM_MASS, snap_num=snap_i\n",
    "        )"
   ]
  },
  {
   "cell_type": "markdown",
   "metadata": {},
   "source": [
    "snapshot_0012 is at redshift ~3.8.\n",
    "\n",
    "**BUT** it contains no halo of mass_select=12 anymore.\n",
    "\n",
    "**TODO:** start at snapshot_0036 (z~1e-16) and **trace same halo** backwards through the\n",
    "snapshots.\n",
    "\n",
    "Ugly fix for now: Extended mass_select window to search down to 1e11*Msun halos.\n",
    "Then just pick random halo, will not be the same in all snapshots."
   ]
  },
  {
   "cell_type": "markdown",
   "metadata": {},
   "source": [
    "### Redshift z of each snapshot."
   ]
  },
  {
   "cell_type": "code",
   "execution_count": null,
   "metadata": {},
   "outputs": [],
   "source": [
    "zeds = np.zeros(25)\n",
    "nums = []\n",
    "for j, i in enumerate(range(12,37)):\n",
    "    snap_i = f'{i:04d}'\n",
    "    nums.append(snap_i)\n",
    "\n",
    "    with h5py.File(f'{SIM_DATA}/snapshot_{snap_i}.hdf5') as snap:\n",
    "        zeds[j] = snap['Cosmology'].attrs['Redshift'][0]\n",
    "\n",
    "np.save(f'shared/ZEDS_SNAPSHOTS.npy', np.asarray(zeds))\n",
    "np.save(f'shared/NUMS_SNAPSHOTS.npy', np.asarray(nums))"
   ]
  },
  {
   "cell_type": "markdown",
   "metadata": {},
   "source": [
    "## Ch. 4: Better derivative grid structure. "
   ]
  },
  {
   "cell_type": "markdown",
   "metadata": {},
   "source": [
    "### Final function: compile everything here later..."
   ]
  },
  {
   "cell_type": "code",
   "execution_count": null,
   "metadata": {},
   "outputs": [],
   "source": [
    "# Function for grouping DM particles around cells.\n",
    "# Framed differently: how much DM particles are around each cell?\n",
    "\n",
    "def DMnum_around_cell(cell_length):\n",
    "    \"\"\"Amount of DM particles in sphere around cell.\"\"\"\n",
    "\n",
    "    # Center all DM positions w.r.t. cell center.\n",
    "    DM_cc = DM_coords*kpc - cell_coords\n",
    "\n",
    "    # Calculate distances of DM to cc.\n",
    "    DM_dist = np.sqrt(np.sum(DM_cc**2, axis=2))\n",
    "\n",
    "    # Ascending order indices.\n",
    "    ind = DM_dist.argsort(axis=1)\n",
    "    ind_3D = np.expand_dims(ind, axis=2)\n",
    "    ind_3D = np.repeat(ind_3D, 3, axis=2)\n",
    "\n",
    "    # Sort DM positions according to dist.\n",
    "    DM_pos_sort = np.take_along_axis(DM_cc, ind_3D, axis=1)\n",
    "    DM_dist_sort = np.take_along_axis(DM_dist, ind, axis=1)\n",
    "\n",
    "    # Keep DM inside certain range.\n",
    "    DM_pos_inRange = DM_pos_sort[DM_dist_sort <= grav_range]\n",
    "\n",
    "\n",
    "    # recursive structure most likely...\n",
    "    # DMnum_around_cell(new_cell_length)\n",
    "    # ...\n"
   ]
  },
  {
   "cell_type": "markdown",
   "metadata": {},
   "source": [
    "### steps until: DM_pos array (cells, DM_amount, 3) containing nans."
   ]
  },
  {
   "cell_type": "code",
   "execution_count": 2,
   "metadata": {},
   "outputs": [
    {
     "name": "stdout",
     "output_type": "stream",
     "text": [
      "[[[3.40174463 0.83022935 3.50646878]\n",
      "  [3.81254045 1.07734463 3.69189687]\n",
      "  [1.48754678 0.79140075 2.66301873]\n",
      "  [2.85669883 0.5781353  0.37083844]\n",
      "  [1.71107986 1.47976177 1.03260905]\n",
      "  [0.37428074 4.52022854 3.52353901]]\n",
      "\n",
      " [[2.01268252 1.51130776 4.09996638]\n",
      "  [3.65392053 1.80047704 4.82493029]\n",
      "  [2.10836856 3.47406539 0.33554428]\n",
      "  [3.65153456 4.16868702 1.11156161]\n",
      "  [2.023621   1.70308657 0.75720067]\n",
      "  [1.16030079 1.16624842 1.84911662]]\n",
      "\n",
      " [[1.74777379 3.87590252 3.41629203]\n",
      "  [0.50272365 3.05094146 1.16615695]\n",
      "  [4.53132351 2.74682568 1.531754  ]\n",
      "  [2.95599237 0.69180604 1.99857213]\n",
      "  [0.77181338 4.36940132 1.93926686]\n",
      "  [3.39828885 2.53797609 4.41778309]]]\n",
      "[[0 3]\n",
      " [1 3]\n",
      " [2 2]] (3, 2)\n",
      "[[[3.40174463 0.83022935 3.50646878]\n",
      "  [3.81254045 1.07734463 3.69189687]\n",
      "  [1.48754678 0.79140075 2.66301873]\n",
      "  [2.85669883 0.5781353  0.37083844]\n",
      "  [       nan        nan        nan]\n",
      "  [       nan        nan        nan]]\n",
      "\n",
      " [[2.01268252 1.51130776 4.09996638]\n",
      "  [3.65392053 1.80047704 4.82493029]\n",
      "  [2.10836856 3.47406539 0.33554428]\n",
      "  [3.65153456 4.16868702 1.11156161]\n",
      "  [       nan        nan        nan]\n",
      "  [       nan        nan        nan]]\n",
      "\n",
      " [[1.74777379 3.87590252 3.41629203]\n",
      "  [0.50272365 3.05094146 1.16615695]\n",
      "  [4.53132351 2.74682568 1.531754  ]\n",
      "  [       nan        nan        nan]\n",
      "  [       nan        nan        nan]\n",
      "  [       nan        nan        nan]]]\n"
     ]
    }
   ],
   "source": [
    "cell_num, DM_num = 3, 6\n",
    "DM_cc = np.random.random(size=(cell_num, DM_num, 3)) * 5\n",
    "# print('DM_cc', DM_cc.shape)\n",
    "\n",
    "print(DM_cc)\n",
    "\n",
    "# Calculate distances of DM to cc.\n",
    "DM_dist = np.sqrt(np.sum(DM_cc**2, axis=2))\n",
    "\n",
    "# Ascending order indices.\n",
    "ind = DM_dist.argsort(axis=1)\n",
    "ind_3D = np.expand_dims(ind, axis=2)\n",
    "ind_3D = np.repeat(ind_3D, 3, axis=2)\n",
    "\n",
    "# Sort DM positions according to dist.\n",
    "DM_pos_sort = np.take_along_axis(DM_cc, ind_3D, axis=1)\n",
    "DM_dist_sort = np.take_along_axis(DM_dist, ind, axis=1)\n",
    "# print('DM_pos_sort', DM_pos_sort.shape)\n",
    "# print('DM_dist_sort', DM_dist_sort.shape)\n",
    "\n",
    "# Keep DM inside certain range.\n",
    "radius = 5\n",
    "\n",
    "# Index array for DM inside radius, for each cell: \n",
    "# [[cell_num, DM_particle_in_cell],...] (see print)\n",
    "trunc_ind = np.argwhere(DM_dist_sort <= radius)\n",
    "# print('trunc_ind \\n', trunc_ind)\n",
    "\n",
    "# Find index, up to which DM particles should be kept for each cell.\n",
    "row = trunc_ind.T[1]\n",
    "fw_diff = row[:-1] - row[1:]\n",
    "# print(fw_diff)\n",
    "take = np.argwhere(fw_diff.flatten() >= 0).flatten()\n",
    "# print(take)\n",
    "\n",
    "# -> Index up to max DM particle inside radius, paired with each cell num: \n",
    "# [[cell_0, DM_max_rank_for_cell_1],...] (see print)\n",
    "selection = np.vstack((trunc_ind[take,:], trunc_ind[-1,:]))\n",
    "print(selection, selection.shape)\n",
    "\n",
    "# Replace all entries beyond this indices (for each cell) with nan values.\n",
    "for i in range(cell_num):\n",
    "    DM_cc[i, selection[i,1]+1:, :] = np.nan\n",
    "\n",
    "print(DM_cc)\n",
    "\n",
    "# DM_pos_inRange = DM_pos_sort[selection[:,0], :selection[:,1], :]\n",
    "# print('DM_pos_inRange', DM_pos_inRange.shape)"
   ]
  },
  {
   "cell_type": "markdown",
   "metadata": {},
   "source": [
    "### steps until: deleting common nan rows, and cells not containing enough DM, and resetting DM positions."
   ]
  },
  {
   "cell_type": "code",
   "execution_count": 3,
   "metadata": {},
   "outputs": [
    {
     "name": "stdout",
     "output_type": "stream",
     "text": [
      "3\n",
      "[[[3.40174463 0.83022935 3.50646878]\n",
      "  [3.81254045 1.07734463 3.69189687]\n",
      "  [1.48754678 0.79140075 2.66301873]\n",
      "  [2.85669883 0.5781353  0.37083844]]\n",
      "\n",
      " [[2.01268252 1.51130776 4.09996638]\n",
      "  [3.65392053 1.80047704 4.82493029]\n",
      "  [2.10836856 3.47406539 0.33554428]\n",
      "  [3.65153456 4.16868702 1.11156161]]\n",
      "\n",
      " [[1.74777379 3.87590252 3.41629203]\n",
      "  [0.50272365 3.05094146 1.16615695]\n",
      "  [4.53132351 2.74682568 1.531754  ]\n",
      "  [       nan        nan        nan]]]\n",
      "[4 4 3] [0 0 1]\n",
      "[False False False]\n",
      "[[[3.40174463 0.83022935 3.50646878]\n",
      "  [3.81254045 1.07734463 3.69189687]\n",
      "  [1.48754678 0.79140075 2.66301873]\n",
      "  [2.85669883 0.5781353  0.37083844]]\n",
      "\n",
      " [[2.01268252 1.51130776 4.09996638]\n",
      "  [3.65392053 1.80047704 4.82493029]\n",
      "  [2.10836856 3.47406539 0.33554428]\n",
      "  [3.65153456 4.16868702 1.11156161]]\n",
      "\n",
      " [[1.74777379 3.87590252 3.41629203]\n",
      "  [0.50272365 3.05094146 1.16615695]\n",
      "  [4.53132351 2.74682568 1.531754  ]\n",
      "  [       nan        nan        nan]]]\n",
      "(3, 4, 3) (3, 1, 3)\n"
     ]
    }
   ],
   "source": [
    "# Drop all \"rows\", shared by all cells, which have only nan values,\n",
    "# determined by maximum present value in DM rank of all cells.\n",
    "\n",
    "# 1. Find max index (for DM rank) present in selection array.\n",
    "max_DM_rank = np.max(selection[:,1])\n",
    "print(max_DM_rank)\n",
    "\n",
    "# 2. \"Delete\" those common rows. \n",
    "#! np. delete creates a new array, so delete old and free memory (just in case). \n",
    "DM_cc_compact = np.delete(DM_cc, np.s_[max_DM_rank+1:], axis=1)\n",
    "\n",
    "# with contextlib.redirect_stdout(None):\n",
    "#     del DM_cc\n",
    "#     gc.collect()\n",
    "\n",
    "print(DM_cc_compact)\n",
    "\n",
    "# Counting how many (non-)nan rows are in each cell.\n",
    "DM_particle_count = np.count_nonzero(~np.isnan(DM_cc_compact[:,:,0]), axis=1)\n",
    "nan_count = np.count_nonzero(np.isnan(DM_cc_compact[:,:,0]), axis=1)\n",
    "print(DM_particle_count, nan_count)\n",
    "\n",
    "\n",
    "# Drop all cells, which have DM particle amount lower than threshold.\n",
    "#note: see later which is more efficient, drop cells from DM_compact or before.\n",
    "bool_DM = DM_particle_count < 2\n",
    "print(bool_DM)\n",
    "\n",
    "DM_cc_cell_filtered = np.delete(DM_cc_compact, bool_DM, axis=0)\n",
    "print(DM_cc_cell_filtered)\n",
    "\n",
    "# Also filter the cell coordinates. \n",
    "proxy_cell_coords = np.arange(cell_num*3).reshape((cell_num, 1, 3))\n",
    "cell_coords_filtered = np.delete(proxy_cell_coords, bool_DM, axis=0)\n",
    "\n",
    "print(DM_cc_cell_filtered.shape, cell_coords_filtered.shape)\n",
    "\n",
    "# Reset the DM coords. \n",
    "DM_cc_reset = DM_cc_cell_filtered + cell_coords_filtered"
   ]
  },
  {
   "cell_type": "markdown",
   "metadata": {},
   "source": [
    "### steps for: creating coord array for sub 8 division of cells."
   ]
  },
  {
   "cell_type": "code",
   "execution_count": 4,
   "metadata": {},
   "outputs": [
    {
     "name": "stdout",
     "output_type": "stream",
     "text": [
      "[[-1.25 -1.25 -1.25]\n",
      " [-1.25 -1.25  1.25]\n",
      " [-1.25  1.25 -1.25]\n",
      " [-1.25  1.25  1.25]\n",
      " [ 1.25 -1.25 -1.25]\n",
      " [ 1.25 -1.25  1.25]\n",
      " [ 1.25  1.25 -1.25]\n",
      " [ 1.25  1.25  1.25]]\n"
     ]
    }
   ],
   "source": [
    "orig_GRID_S = 5\n",
    "\n",
    "test_grid = fct.grid_3D(orig_GRID_S/2., orig_GRID_S/2)\n",
    "print(test_grid)\n",
    "\n",
    "#note CONTINUE HERE: 1. the subdivision has to be done for many cells, each\n",
    "#note                   having different coords -> find broadcast-style method?\n",
    "#note                2. continue with steps (see goodnotes), loop almost done!"
   ]
  }
 ],
 "metadata": {
  "kernelspec": {
   "display_name": "Python 3.9.12 ('NC_numba')",
   "language": "python",
   "name": "python3"
  },
  "language_info": {
   "codemirror_mode": {
    "name": "ipython",
    "version": 3
   },
   "file_extension": ".py",
   "mimetype": "text/x-python",
   "name": "python",
   "nbconvert_exporter": "python",
   "pygments_lexer": "ipython3",
   "version": "3.9.12"
  },
  "orig_nbformat": 4,
  "vscode": {
   "interpreter": {
    "hash": "f954fd519baabf9adc4c45dc1841670b54a153fe717f7fe4f74275668c90e9d2"
   }
  }
 },
 "nbformat": 4,
 "nbformat_minor": 2
}
