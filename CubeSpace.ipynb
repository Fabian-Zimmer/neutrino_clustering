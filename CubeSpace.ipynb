{
 "cells": [
  {
   "cell_type": "code",
   "execution_count": 1,
   "metadata": {},
   "outputs": [],
   "source": [
    "from shared.preface import *\n",
    "import shared.functions as fct"
   ]
  },
  {
   "cell_type": "markdown",
   "metadata": {},
   "source": [
    "## Ch. 0: Preliminary Investigations."
   ]
  },
  {
   "cell_type": "markdown",
   "metadata": {},
   "source": [
    "### 2D grid, center coord. pairs."
   ]
  },
  {
   "cell_type": "code",
   "execution_count": null,
   "metadata": {},
   "outputs": [],
   "source": [
    "def grid_2D(l, s):\n",
    "\n",
    "    # 2D spatial grid, discretized.\n",
    "    eps = s/10\n",
    "    x, y = np.mgrid[-l:l+eps:s, -l:l+eps:s]\n",
    "\n",
    "    # [x y] edge coordinate pairs of above grid.\n",
    "    xy = np.mgrid[-l:l+eps:s, -l:l+eps:s].reshape(2,-1).T\n",
    "\n",
    "    # Create center coord.-pairs.\n",
    "    x_centers = (x[1:,:] + x[:-1,:])/2.\n",
    "    y_centers = (y[:,1:] + y[:,:-1])/2.\n",
    "    centers = np.array([x_centers[:,:-1], y_centers[:-1,:]])\n",
    "    cent_coordPairs2D = centers.reshape(2,-1).T\n",
    "    print('All coord. pairs 2D:\\n', cent_coordPairs2D)\n",
    "    # print('Coord pairs 2D shape:', cent_coordPairs2D.shape)\n",
    "\n",
    "    return cent_coordPairs2D\n",
    "\n",
    "limit_coarse, space_coarse = 1.5, 1.\n",
    "cent_coordPairs2D = grid_2D(limit_coarse, space_coarse)\n",
    "\n",
    "# Delete middle square.\n",
    "cent_coordPairs2D = np.delete(cent_coordPairs2D, 4, axis=0)\n",
    "\n",
    "# Create finegrained square.\n",
    "limit_fine, space_fine = limit_coarse/2., space_coarse/2.\n",
    "cent_coordPairs2D_fine = grid_2D(limit_fine, space_fine)\n",
    "\n",
    "# Insert finegrained square."
   ]
  },
  {
   "cell_type": "markdown",
   "metadata": {},
   "source": [
    "### 3D grid, center coord. pairs."
   ]
  },
  {
   "cell_type": "code",
   "execution_count": null,
   "metadata": {},
   "outputs": [],
   "source": [
    "# 3D spatial grid, discretized.\n",
    "x, y, z = np.mgrid[-1:1.1:1., -1:1.1:1., -1:1.1:1.]\n",
    "# print(x[0,...], x.shape)\n",
    "\n",
    "x_centers = (x[1:,...] + x[:-1,...])/2.\n",
    "# print(x_centers, x_centers.shape)\n",
    "\n",
    "y_centers = (y[:,1:,:] + y[:,:-1,:])/2.\n",
    "# print(y_centers, y_centers.shape)\n",
    "\n",
    "z_centers = (z[...,1:] + z[...,:-1])/2.\n",
    "# print(z_centers, z_centers.shape)\n",
    "\n",
    "\n",
    "# Create center coord.-pairs., truncate redundant points.\n",
    "centers3D = np.array([\n",
    "    x_centers[:,:-1,:-1], \n",
    "    y_centers[:-1,:,:-1], \n",
    "    z_centers[:-1,:-1,:]\n",
    "])\n",
    "# print(centers3D, centers3D.shape)\n",
    "\n",
    "cent_coordPairs3D = centers3D.reshape(3,-1).T \n",
    "print(cent_coordPairs3D, cent_coordPairs3D.shape)"
   ]
  },
  {
   "cell_type": "markdown",
   "metadata": {},
   "source": [
    "## Ch. 1: Milky Way-type halo and simple grid."
   ]
  },
  {
   "cell_type": "markdown",
   "metadata": {},
   "source": [
    "### 3D plot of the DM particles."
   ]
  },
  {
   "cell_type": "code",
   "execution_count": null,
   "metadata": {},
   "outputs": [],
   "source": [
    "# Read DM particles.\n",
    "fct.read_DM_positions_randomHalo(which_halos='halos', mass_select=12)\n",
    "\n",
    "# Build grid around Milky Way.\n",
    "MW_grid = fct.grid_3D(GRID_L, GRID_S) / kpc\n",
    "\n",
    "fig = plt.figure(figsize=(8,8))\n",
    "ax = fig.add_subplot(111, projection='3d')\n",
    "\n",
    "# Read in DM particle positions.\n",
    "DM_pos = np.load('sim_data/DM_positions_halos_M12.npy')\n",
    "print(f'{len(DM_pos)}')\n",
    "x_DM, y_DM, z_DM = DM_pos[:,0], DM_pos[:,1], DM_pos[:,2]\n",
    "cut = 10\n",
    "x, y, z = x_DM[1::cut], y_DM[1::cut], z_DM[1::cut]\n",
    "\n",
    "ax.scatter(x, y, z, alpha=0.2, c='dodgerblue')\n",
    "\n",
    "# Draw sphere around GC with radius=Rvir_MW.\n",
    "rGC = Rvir_MW/kpc\n",
    "uGC, vGC = np.mgrid[0:2 * np.pi:200j, 0:np.pi:100j]\n",
    "xGC = rGC * np.cos(uGC) * np.sin(vGC)\n",
    "yGC = rGC * np.sin(uGC) * np.sin(vGC)\n",
    "zGC = rGC * np.cos(vGC)\n",
    "\n",
    "xg, yg, zg = MW_grid[:,0], MW_grid[:,1], MW_grid[:,2] \n",
    "ax.scatter(xg, yg, zg, s=0.2, marker='x', color='black', alpha=0.1)\n",
    "\n",
    "\n",
    "ax.plot_surface(\n",
    "    xGC, yGC, zGC, alpha=0.1, \n",
    "    cmap=plt.cm.coolwarm, vmin=-1, vmax=1,# antialiased=False,\n",
    "    rstride=1, cstride=1\n",
    ")\n",
    "\n",
    "plt.show()"
   ]
  },
  {
   "cell_type": "markdown",
   "metadata": {},
   "source": [
    "### Calculate gravity in each cell."
   ]
  },
  {
   "cell_type": "code",
   "execution_count": null,
   "metadata": {},
   "outputs": [],
   "source": [
    "DM_pos = np.load('sim_data/DM_positions_halos_M12.npy')\n",
    "\n",
    "### Testing 1 cell with coords. at earth.\n",
    "cell_id = 0\n",
    "cell1 = np.array([8.5, 0, 0])*kpc\n",
    "\n",
    "cell_vector = fct.cell_gravity(cell1, DM_pos, GRAV_RANGE, DM_SIM_MASS)\n",
    "cell_vector /= (kpc/s**2)  \n",
    "print(cell_vector)\n",
    "print(np.sqrt(np.sum(cell_vector**2)))\n",
    "\n",
    "#! this should be around same order of magnitude as in spher. symmetric setup."
   ]
  },
  {
   "cell_type": "markdown",
   "metadata": {},
   "source": [
    "## Ch. 2: Broadcasting for cell_gravity."
   ]
  },
  {
   "cell_type": "code",
   "execution_count": null,
   "metadata": {},
   "outputs": [],
   "source": [
    "fct.read_DM_positions_randomHalo(which_halos='halos', mass_select=12)\n",
    "DM = np.load('sim_data/DM_positions_halos_M12.npy')[1::10]\n",
    "grid = fct.grid_3D(GRID_L, GRID_S)\n",
    "\n",
    "grid = np.expand_dims(grid, axis=1)\n",
    "\n",
    "DM = np.expand_dims(DM, axis=0)\n",
    "DM = np.repeat(DM, len(grid), axis=0)\n",
    "\n",
    "# diff = DM - grid\n",
    "# print(diff.shape, (diff.nbytes)/1e6)\n",
    "\n",
    "fct.cell_gravity_3D(grid, DM, GRAV_RANGE, DM_SIM_MASS)\n",
    "dPsi_grid = np.load('CubeSpace/dPsi_grid_snapsnot_X.npy')\n",
    "dPsi_grid /= (kpc/s**2) \n",
    "mags = np.sqrt(np.sum(dPsi_grid**2, axis=1))\n",
    "print(mags[0])"
   ]
  },
  {
   "cell_type": "markdown",
   "metadata": {},
   "source": [
    "## Ch. 3: Combined precalculations for all snapshots."
   ]
  },
  {
   "cell_type": "code",
   "execution_count": null,
   "metadata": {},
   "outputs": [],
   "source": [
    "from shared.preface import *\n",
    "import shared.functions as fct\n",
    "\n",
    "for i in range(12,37):\n",
    "    snap_i = f'{i:04d}'\n",
    "    print(snap_i)\n",
    "\n",
    "    # 1. Read in DM positions of halo in snapshot.\n",
    "    fct.read_DM_positions_randomHalo(\n",
    "        which_halos='halos', mass_select=12, mass_range=1., snap_num=snap_i\n",
    "        )\n",
    "    DM_pos = np.load('sim_data/DM_positions_halos_M12.npy')[1::10]\n",
    "\n",
    "    # 2. Build the spatial grid, depending on virial radius of halo, etc.\n",
    "    cell_grid = fct.grid_3D(GRID_L, GRID_S)\n",
    "    np.save(f'CubeSpace/cell_grid_snapsnot_{snap_i}', cell_grid)\n",
    "    cell_grid = np.expand_dims(cell_grid, axis=1)\n",
    "\n",
    "    # 2.5 Adjust arrays.\n",
    "    DM_pos = np.expand_dims(DM_pos, axis=0)\n",
    "    DM_pos = np.repeat(DM_pos, len(cell_grid), axis=0)\n",
    "\n",
    "    # 3. Calculate derivatives of each cell.\n",
    "    fct.cell_gravity_3D(\n",
    "        cell_grid, DM_pos, GRAV_RANGE, DM_SIM_MASS, snap_num=snap_i\n",
    "        )"
   ]
  },
  {
   "cell_type": "markdown",
   "metadata": {},
   "source": [
    "snapshot_0012 is at redshift ~3.8.\n",
    "\n",
    "**BUT** it contains no halo of mass_select=12 anymore.\n",
    "\n",
    "**TODO:** start at snapshot_0036 (z~1e-16) and **trace same halo** backwards through the\n",
    "snapshots.\n",
    "\n",
    "Ugly fix for now: Extended mass_select window to search down to 1e11*Msun halos.\n",
    "Then just pick random halo, will not be the same in all snapshots."
   ]
  },
  {
   "cell_type": "markdown",
   "metadata": {},
   "source": [
    "### Redshift z of each snapshot."
   ]
  },
  {
   "cell_type": "code",
   "execution_count": 35,
   "metadata": {},
   "outputs": [],
   "source": [
    "zeds = np.zeros(25)\n",
    "nums = []\n",
    "for j, i in enumerate(range(12,37)):\n",
    "    snap_i = f'{i:04d}'\n",
    "    nums.append(snap_i)\n",
    "\n",
    "    with h5py.File(f'{SIM_DATA}/snapshot_{snap_i}.hdf5') as snap:\n",
    "        zeds[j] = snap['Cosmology'].attrs['Redshift'][0]\n",
    "\n",
    "np.save(f'shared/ZEDS_SNAPSHOTS.npy', np.asarray(zeds))\n",
    "np.save(f'shared/NUMS_SNAPSHOTS.npy', np.asarray(nums))"
   ]
  },
  {
   "cell_type": "markdown",
   "metadata": {},
   "source": [
    "## Ch. 4: Better derivative grid structure. "
   ]
  }
 ],
 "metadata": {
  "kernelspec": {
   "display_name": "Python 3.9.12 ('NC_numba')",
   "language": "python",
   "name": "python3"
  },
  "language_info": {
   "codemirror_mode": {
    "name": "ipython",
    "version": 3
   },
   "file_extension": ".py",
   "mimetype": "text/x-python",
   "name": "python",
   "nbconvert_exporter": "python",
   "pygments_lexer": "ipython3",
   "version": "3.9.12"
  },
  "orig_nbformat": 4,
  "vscode": {
   "interpreter": {
    "hash": "f954fd519baabf9adc4c45dc1841670b54a153fe717f7fe4f74275668c90e9d2"
   }
  }
 },
 "nbformat": 4,
 "nbformat_minor": 2
}
