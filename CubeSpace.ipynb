{
 "cells": [
  {
   "cell_type": "code",
   "execution_count": 1,
   "metadata": {},
   "outputs": [],
   "source": [
    "from shared.preface import *\n",
    "import shared.functions as fct"
   ]
  },
  {
   "cell_type": "markdown",
   "metadata": {},
   "source": [
    "## Ch. 0: Preliminary Investigations."
   ]
  },
  {
   "cell_type": "markdown",
   "metadata": {},
   "source": [
    "### 2D grid, center coord. pairs."
   ]
  },
  {
   "cell_type": "code",
   "execution_count": null,
   "metadata": {},
   "outputs": [],
   "source": [
    "def grid_2D(l, s):\n",
    "\n",
    "    # 2D spatial grid, discretized.\n",
    "    eps = s/10\n",
    "    x, y = np.mgrid[-l:l+eps:s, -l:l+eps:s]\n",
    "\n",
    "    # [x y] edge coordinate pairs of above grid.\n",
    "    xy = np.mgrid[-l:l+eps:s, -l:l+eps:s].reshape(2,-1).T\n",
    "\n",
    "    # Create center coord.-pairs.\n",
    "    x_centers = (x[1:,:] + x[:-1,:])/2.\n",
    "    y_centers = (y[:,1:] + y[:,:-1])/2.\n",
    "    centers = np.array([x_centers[:,:-1], y_centers[:-1,:]])\n",
    "    cent_coordPairs2D = centers.reshape(2,-1).T\n",
    "    print('All coord. pairs 2D:\\n', cent_coordPairs2D)\n",
    "    # print('Coord pairs 2D shape:', cent_coordPairs2D.shape)\n",
    "\n",
    "    return cent_coordPairs2D\n",
    "\n",
    "limit_coarse, space_coarse = 1.5, 1.\n",
    "cent_coordPairs2D = grid_2D(limit_coarse, space_coarse)\n",
    "\n",
    "# Delete middle square.\n",
    "cent_coordPairs2D = np.delete(cent_coordPairs2D, 4, axis=0)\n",
    "\n",
    "# Create finegrained square.\n",
    "limit_fine, space_fine = limit_coarse/2., space_coarse/2.\n",
    "cent_coordPairs2D_fine = grid_2D(limit_fine, space_fine)\n",
    "\n",
    "# Insert finegrained square."
   ]
  },
  {
   "cell_type": "markdown",
   "metadata": {},
   "source": [
    "### 3D grid, center coord. pairs."
   ]
  },
  {
   "cell_type": "code",
   "execution_count": null,
   "metadata": {},
   "outputs": [],
   "source": [
    "# 3D spatial grid, discretized.\n",
    "x, y, z = np.mgrid[-1:1.1:1., -1:1.1:1., -1:1.1:1.]\n",
    "# print(x[0,...], x.shape)\n",
    "\n",
    "x_centers = (x[1:,...] + x[:-1,...])/2.\n",
    "# print(x_centers, x_centers.shape)\n",
    "\n",
    "y_centers = (y[:,1:,:] + y[:,:-1,:])/2.\n",
    "# print(y_centers, y_centers.shape)\n",
    "\n",
    "z_centers = (z[...,1:] + z[...,:-1])/2.\n",
    "# print(z_centers, z_centers.shape)\n",
    "\n",
    "\n",
    "# Create center coord.-pairs., truncate redundant points.\n",
    "centers3D = np.array([\n",
    "    x_centers[:,:-1,:-1], \n",
    "    y_centers[:-1,:,:-1], \n",
    "    z_centers[:-1,:-1,:]\n",
    "])\n",
    "# print(centers3D, centers3D.shape)\n",
    "\n",
    "cent_coordPairs3D = centers3D.reshape(3,-1).T \n",
    "print(cent_coordPairs3D, cent_coordPairs3D.shape)"
   ]
  },
  {
   "cell_type": "markdown",
   "metadata": {},
   "source": [
    "## Ch. 1: Milky Way-type halo and simple grid."
   ]
  },
  {
   "cell_type": "markdown",
   "metadata": {},
   "source": [
    "### 3D plot of the DM particles."
   ]
  },
  {
   "cell_type": "code",
   "execution_count": null,
   "metadata": {},
   "outputs": [],
   "source": [
    "snap = '0036'\n",
    "sim_ID = 'L006N188'\n",
    "m0 = '2.59e+11'\n",
    "proj = 2\n",
    "\n",
    "# Uncomment for interactive 3D plot.\n",
    "# %matplotlib widget\n",
    "\n",
    "# Generate files with positions of DM particles\n",
    "fct.read_DM_positions(\n",
    "    which_halos='halos', mass_select=12,  # unnecessary when giving index...\n",
    "    random=False, snap_num=snap, sim=sim_ID, \n",
    "    halo_index=int(proj), init_m=m0\n",
    ")\n",
    "\n",
    "# Build grid around Milky Way.\n",
    "MW_grid = fct.grid_3D(GRID_L, GRID_S) / kpc\n",
    "\n",
    "fig = plt.figure(figsize=(8,8))\n",
    "ax = fig.add_subplot(111, projection='3d')\n",
    "\n",
    "# Read in DM particle positions.\n",
    "DM_pos = np.load(\n",
    "    f'CubeSpace/DM_positions_{sim_ID}_snapshot_{snap}_{m0}Msun.npy'\n",
    ")\n",
    "\n",
    "print(f'{len(DM_pos)}')\n",
    "x_DM, y_DM, z_DM = DM_pos[:,0], DM_pos[:,1], DM_pos[:,2]\n",
    "cut = 10\n",
    "x, y, z = x_DM[1::cut], y_DM[1::cut], z_DM[1::cut]\n",
    "\n",
    "ax.scatter(x, y, z, alpha=0.1, c='dodgerblue')\n",
    "\n",
    "# Draw sphere around GC with radius=Rvir_MW.\n",
    "rGC = Rvir_MW/kpc\n",
    "uGC, vGC = np.mgrid[0:2 * np.pi:200j, 0:np.pi:100j]\n",
    "xGC = rGC * np.cos(uGC) * np.sin(vGC)\n",
    "yGC = rGC * np.sin(uGC) * np.sin(vGC)\n",
    "zGC = rGC * np.cos(vGC)\n",
    "\n",
    "xg, yg, zg = MW_grid[:,0], MW_grid[:,1], MW_grid[:,2] \n",
    "ax.scatter(xg, yg, zg, s=0.2, marker='x', color='black', alpha=0.5)\n",
    "\n",
    "\n",
    "ax.plot_surface(\n",
    "    xGC, yGC, zGC, alpha=0.1, \n",
    "    cmap=plt.cm.coolwarm, vmin=-1, vmax=1,# antialiased=False,\n",
    "    rstride=1, cstride=1\n",
    ")\n",
    "\n",
    "plt.show()"
   ]
  },
  {
   "cell_type": "markdown",
   "metadata": {},
   "source": [
    "### Calculate gravity in each cell."
   ]
  },
  {
   "cell_type": "code",
   "execution_count": null,
   "metadata": {},
   "outputs": [],
   "source": [
    "def cell_gravity(cell_coords, DM_coords, grav_range, m_DM):\n",
    "    \n",
    "    # Center all DM positions w.r.t. cell center.\n",
    "    DM_cc = DM_coords*kpc - cell_coords\n",
    "\n",
    "    # Calculate distances of DM to cc, sorted in ascending order.\n",
    "    DM_dist = np.sqrt(np.sum(DM_cc**2, axis=1))\n",
    "\n",
    "    # Ascending order indices.\n",
    "    ind = DM_dist.argsort()\n",
    "\n",
    "    # Truncate DM positions depending on distance to cc.\n",
    "    DM_pos_sort = DM_cc[ind]\n",
    "    DM_dist_sort = DM_dist[ind]\n",
    "\n",
    "    #note: there is a particle exactly at (0,0,0), which causes infinities...\n",
    "    #? for now manually remove it and discuss with Camila...\n",
    "    DM_pos_sort = DM_pos_sort[1:]\n",
    "    DM_dist_sort = DM_dist_sort[1:]\n",
    "\n",
    "    if grav_range is None:\n",
    "        DM_pos_inRange = DM_pos_sort\n",
    "        DM_dist_inRange = DM_dist_sort\n",
    "    else:\n",
    "        DM_pos_inRange = DM_pos_sort[DM_dist_sort <= grav_range]\n",
    "        DM_dist_inRange = DM_dist_sort[DM_dist_sort <= grav_range]\n",
    "\n",
    "    # Adjust the distances array to make it compatible with DM positions array.\n",
    "    DM_dist_inRange_sync = DM_dist_inRange.reshape(len(DM_dist_inRange),1)\n",
    "    DM_dist_inRange_rep = np.repeat(DM_dist_inRange_sync, 3, axis=1)\n",
    "\n",
    "    ### Calculate superposition gravity.\n",
    "    pre = G*m_DM\n",
    "    quotient = (cell_coords-DM_pos_inRange)/(DM_dist_inRange_rep**3)\n",
    "    derivative = pre*np.sum(quotient, axis=0)\n",
    "\n",
    "    #NOTE: Minus sign, s.t. velocity changes correctly (see notes).\n",
    "    return np.asarray(-derivative, dtype=np.float64)\n",
    "\n",
    "\n",
    "DM_pos = np.load('sim_data/DM_positions_halos_M12.npy')\n",
    "\n",
    "# For position of Sun/Earth.\n",
    "cell_coords = np.array([8.5, 0, 0])*kpc\n",
    "cell_vector = cell_gravity(cell_coords, DM_pos, GRAV_RANGE, DM_SIM_MASS)\n",
    "cell_vector /= (kpc/s**2)  \n",
    "print('Position of Sun/Earth:')\n",
    "print(cell_vector)\n",
    "print(np.sqrt(np.sum(cell_vector**2)), '\\n')\n",
    "\n",
    "# For position of Sun/Earth.\n",
    "cell_coords = np.array([0., 0, 0])*kpc\n",
    "cell_vector = cell_gravity(cell_coords, DM_pos, GRAV_RANGE, DM_SIM_MASS)\n",
    "cell_vector /= (kpc/s**2)  \n",
    "print('Position close to center:')\n",
    "print(cell_vector)\n",
    "print(np.sqrt(np.sum(cell_vector**2)), '\\n')\n",
    "\n",
    "# For position of Sun/Earth.\n",
    "cell_coords = np.array([333., 0, 0])*kpc\n",
    "cell_vector = cell_gravity(cell_coords, DM_pos, GRAV_RANGE, DM_SIM_MASS)\n",
    "cell_vector /= (kpc/s**2)  \n",
    "print('Position at virial radius:')\n",
    "print(cell_vector)\n",
    "print(np.sqrt(np.sum(cell_vector**2)))\n",
    "\n",
    "#! values should be around same order of magnitude as in spher. symmetric setup."
   ]
  },
  {
   "cell_type": "markdown",
   "metadata": {},
   "source": [
    "## Ch. 2: Broadcasting for cell_gravity: tests for gravity_range."
   ]
  },
  {
   "cell_type": "markdown",
   "metadata": {},
   "source": [
    "### Comparing finite to infinite grav_range:"
   ]
  },
  {
   "cell_type": "code",
   "execution_count": 3,
   "metadata": {},
   "outputs": [
    {
     "data": {
      "image/png": "[encoded data removed]",
      "text/plain": [
       "<Figure size 800x800 with 1 Axes>"
      ]
     },
     "metadata": {},
     "output_type": "display_data"
    }
   ],
   "source": [
    "snap = '0036'\n",
    "sim_ID = 'L006N188'\n",
    "m0s = ['1.89e+12', '4.32e+11', '2.59e+11']\n",
    "projs = [0,1,2]\n",
    "\n",
    "for m0, proj in zip(m0s, projs):\n",
    "\n",
    "    # Comment out to iterate over all halos in m0s.\n",
    "    if proj != 2:\n",
    "        continue\n",
    "\n",
    "    # Generate files with positions of DM particles\n",
    "    fct.read_DM_positions(\n",
    "        which_halos='halos', mass_select=12,  # unnecessary when giving index...\n",
    "        random=False, snap_num=snap, sim=sim_ID, \n",
    "        halo_index=int(proj), init_m=m0\n",
    "    )\n",
    "\n",
    "    # Read in DM particle positions.\n",
    "    DM_raw = np.load(\n",
    "        f'CubeSpace/DM_positions_{sim_ID}_snapshot_{snap}_{m0}Msun.npy'\n",
    "    )[::1]*kpc\n",
    "    # print(len(DM))\n",
    "\n",
    "\n",
    "adapted_cc = np.load(\n",
    "    f'CubeSpace/adapted_cc_{SIM_ID}_snapshot_{snap}.npy'\n",
    ")\n",
    "cell_com = np.load(\n",
    "    f'CubeSpace/cell_com_{SIM_ID}_snapshot_{snap}.npy'\n",
    ")\n",
    "DM_count = np.load(\n",
    "    f'CubeSpace/DM_count_{SIM_ID}_snapshot_{snap}.npy'\n",
    ")\n",
    "DM_pos = np.expand_dims(DM_raw, axis=0)\n",
    "adapted_DM = np.repeat(DM_pos, len(adapted_cc), axis=0)\n",
    "\n",
    "\n",
    "fig, ax = plt.subplots(1,1, figsize=(8,8))\n",
    "\n",
    "\n",
    "ranges = [GRID_S/2., GRID_S/np.sqrt(2)]\n",
    "labels = ['Inscribed sphere', 'Circumscribed sphere']\n",
    "for rangeX, l0 in zip(ranges, labels):\n",
    "\n",
    "    fct.cell_gravity_3D(\n",
    "        adapted_cc, cell_com, adapted_DM, DM_count, \n",
    "        None, DM_SIM_MASS, snap\n",
    "    )\n",
    "    dPsi_grid_None = np.load(f'CubeSpace/dPsi_grid_snapshot_{snap}.npy')\n",
    "    mags_None = np.sqrt(np.sum(dPsi_grid_None**2, axis=1))\n",
    "\n",
    "    fct.cell_gravity_3D(\n",
    "        adapted_cc, cell_com, adapted_DM, DM_count, \n",
    "        rangeX, DM_SIM_MASS, snap\n",
    "    )\n",
    "    dPsi_grid_rangeX = np.load(f'CubeSpace/dPsi_grid_snapshot_{snap}.npy')\n",
    "    mags_rangeX = np.sqrt(np.sum(dPsi_grid_rangeX**2, axis=1))\n",
    "\n",
    "    # Sort cells by distance from center (0,0,0).\n",
    "    grid_dis = np.sqrt(np.sum(adapted_cc**2, axis=2)).flatten()\n",
    "    dis_ind = grid_dis.argsort()\n",
    "    grid_dis = grid_dis[dis_ind]\n",
    "    mags_None = mags_None[dis_ind]\n",
    "    mags_rangeX = mags_rangeX[dis_ind]\n",
    "\n",
    "    diff = (mags_None-mags_rangeX)/mags_None\n",
    "    ax.scatter(\n",
    "        grid_dis/kpc, diff, s=5, alpha=0.8, \n",
    "        label=f'grav_range {np.round(rangeX/kpc,1)} kpc ({l0})'\n",
    "        )\n",
    "\n",
    "ax.set_title(\n",
    "    f'Difference of limited vs. unlimited grav_range (1 good, 0 bad)'\n",
    "    '\\n'\n",
    "    'Multiple dots for each x-axis point, since multiple cells share same distance'\n",
    "    )\n",
    "ax.set_xlabel(f'Cell distance from center (kpc)')\n",
    "ax.set_ylabel(f'grav. strength w.r.t \"infinite\" (all DM particles) range')\n",
    "# ax.set_ylim(0,1)\n",
    "\n",
    "def y_fmt_here(value, tick_number):\n",
    "    return np.round(1-value,1)\n",
    "\n",
    "ax.yaxis.set_major_formatter(ticker.FuncFormatter(y_fmt_here))\n",
    "\n",
    "\n",
    "plt.legend(loc='lower right')\n",
    "plt.show()"
   ]
  },
  {
   "cell_type": "markdown",
   "metadata": {},
   "source": [
    "### Check sim_vs_NFW_gravity.py for comparison to NFW."
   ]
  },
  {
   "cell_type": "markdown",
   "metadata": {},
   "source": [
    "## Ch. 3: Better derivative grid structure. "
   ]
  },
  {
   "cell_type": "code",
   "execution_count": null,
   "metadata": {},
   "outputs": [],
   "source": [
    "# Values for file reading.\n",
    "sim_ID = 'L006N188'\n",
    "snap = '0036'\n",
    "m0 = '2.59e+11'\n",
    "\n",
    "# Initial grid and DM positions. \n",
    "DM_raw = np.load(\n",
    "    f'CubeSpace/DM_positions_{sim_ID}_snapshot_{snap}_{m0}Msun.npy'\n",
    ")*kpc  #! needs to be in kpc\n",
    "grid = fct.grid_3D(GRID_L, GRID_S)\n",
    "init_cc = np.expand_dims(grid, axis=1)\n",
    "DM_pos = np.expand_dims(DM_raw, axis=0)\n",
    "DM_pos_for_cell_division = np.repeat(DM_pos, len(init_cc), axis=0)\n",
    "\n",
    "DM_lim = 1000\n",
    "\n",
    "cell_division_count = fct.cell_division(\n",
    "    init_cc, DM_pos_for_cell_division, GRID_S, DM_lim, None,\n",
    "    sim=sim_ID, snap_num=snap\n",
    "    )\n",
    "adapted_cc = np.load(f'CubeSpace/adapted_cc_{sim_ID}_snapshot_{snap}.npy')\n",
    "\n",
    "print(init_cc.shape)\n",
    "print(adapted_cc.shape)\n",
    "\n",
    "print(f'Total cell division rounds: {cell_division_count}')"
   ]
  },
  {
   "cell_type": "markdown",
   "metadata": {},
   "source": [
    "### Plotting the outcome after one iteration."
   ]
  },
  {
   "cell_type": "code",
   "execution_count": null,
   "metadata": {},
   "outputs": [],
   "source": [
    "# Build grid around Milky Way.\n",
    "new_grid = np.squeeze(adapted_cc, axis=1) / kpc\n",
    "\n",
    "fig = plt.figure(figsize=(8,8))\n",
    "ax = fig.add_subplot(111, projection='3d')\n",
    "\n",
    "# Read in DM particle positions.\n",
    "DM_pos = np.load(\n",
    "    f'CubeSpace/DM_positions_{sim_ID}_snapshot_{snap}_{m0}Msun.npy'\n",
    ")\n",
    "print(f'{len(DM_pos)}')\n",
    "x_DM, y_DM, z_DM = DM_pos[:,0], DM_pos[:,1], DM_pos[:,2]\n",
    "cut = 10\n",
    "x, y, z = x_DM[1::cut], y_DM[1::cut], z_DM[1::cut]\n",
    "\n",
    "ax.scatter(x, y, z, alpha=0.1, c='dodgerblue')\n",
    "\n",
    "# Draw sphere around GC with radius=Rvir_MW.\n",
    "rGC = Rvir_MW/kpc\n",
    "uGC, vGC = np.mgrid[0:2 * np.pi:200j, 0:np.pi:100j]\n",
    "xGC = rGC * np.cos(uGC) * np.sin(vGC)\n",
    "yGC = rGC * np.sin(uGC) * np.sin(vGC)\n",
    "zGC = rGC * np.cos(vGC)\n",
    "\n",
    "xg, yg, zg = new_grid[:,0], new_grid[:,1], new_grid[:,2] \n",
    "ax.scatter(xg, yg, zg, s=0.2, marker='x', color='black', alpha=0.5)\n",
    "\n",
    "\n",
    "ax.plot_surface(\n",
    "    xGC, yGC, zGC, alpha=0.1, \n",
    "    cmap=plt.cm.coolwarm, vmin=-1, vmax=1,# antialiased=False,\n",
    "    rstride=1, cstride=1\n",
    ")\n",
    "\n",
    "# How many DM particles inside Virial Radius?\n",
    "DM_dists = np.sqrt(np.sum(DM_pos**2, axis=1))\n",
    "inside_VR = DM_pos[DM_dists <= rGC]\n",
    "print(len(inside_VR))\n",
    "\n",
    "plt.show()"
   ]
  },
  {
   "cell_type": "markdown",
   "metadata": {},
   "source": [
    "## Ch. 4: Tracing halo masses through snapshots."
   ]
  },
  {
   "cell_type": "markdown",
   "metadata": {},
   "source": [
    "! Now a seperate file: merger_tree.py, to generate the MergerTree file."
   ]
  },
  {
   "cell_type": "code",
   "execution_count": null,
   "metadata": {},
   "outputs": [],
   "source": [
    "sim_ID = 'L006N188'\n",
    "\n",
    "# Path to merger_tree file.\n",
    "tree_path = f'{pathlib.Path.cwd().parent}/neutrino_clustering_output_local/MergerTree/MergerTree_{sim_ID}.hdf5'\n",
    "\n",
    "with h5py.File(tree_path) as tree:\n",
    "    choice = 1  #note: 0 is ~1e12Msun, 1 & 2 are ~1e11Msun\n",
    "    Masses = tree['Assembly_history/Mass'][choice,:]\n",
    "    zeds = tree['Assembly_history/Redshift']\n",
    "    \n",
    "    y = np.asarray(Masses)\n",
    "    x = np.asarray(zeds)\n",
    "\n",
    "    fig = plt.figure()\n",
    "    plt.semilogy(x, y, label=f'{y[0]:.2e}')\n",
    "    plt.title(u'Starting mass in labels ->')\n",
    "    plt.xlabel('redshift')\n",
    "    plt.ylabel('halo masses [Msun]')\n",
    "    plt.legend()\n",
    "    plt.show()"
   ]
  },
  {
   "cell_type": "markdown",
   "metadata": {},
   "source": [
    "## Ch. 5: Long-range gravity."
   ]
  },
  {
   "cell_type": "code",
   "execution_count": null,
   "metadata": {},
   "outputs": [],
   "source": [
    "def DM_in_cell(cell_coords, cell_gen, DM_pos, init_grid_s):\n",
    "\n",
    "        # Center all DM positions w.r.t. cell center.\n",
    "        DM_pos -= cell_coords\n",
    "\n",
    "        cell_len = init_grid_s/(2**cell_gen)\n",
    "\n",
    "        DM_x = DM_pos[:,:,0]\n",
    "        DM_y = DM_pos[:,:,1]\n",
    "        DM_z = DM_pos[:,:,2]\n",
    "\n",
    "        # Limit z.\n",
    "        DM_zcut = DM_pos[DM_x <= ]"
   ]
  },
  {
   "cell_type": "markdown",
   "metadata": {},
   "source": [
    "## Ch. 6: More DM structures."
   ]
  }
 ],
 "metadata": {
  "kernelspec": {
   "display_name": "Python 3.9.5 ('neutrino_clustering')",
   "language": "python",
   "name": "python3"
  },
  "language_info": {
   "codemirror_mode": {
    "name": "ipython",
    "version": 3
   },
   "file_extension": ".py",
   "mimetype": "text/x-python",
   "name": "python",
   "nbconvert_exporter": "python",
   "pygments_lexer": "ipython3",
   "version": "3.9.5"
  },
  "vscode": {
   "interpreter": {
    "hash": "8a0d5d0f2e48edd2cdf812a3eedd1dc78c628b894b9ae93ffd6b09cf9a60bf81"
   }
  }
 },
 "nbformat": 4,
 "nbformat_minor": 4
}
