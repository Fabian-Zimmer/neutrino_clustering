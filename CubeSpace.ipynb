{
 "cells": [
  {
   "cell_type": "markdown",
   "metadata": {},
   "source": [
    "## Grid building tests."
   ]
  },
  {
   "cell_type": "markdown",
   "metadata": {},
   "source": [
    "### 2D grid, center coord. pairs."
   ]
  },
  {
   "cell_type": "code",
   "execution_count": null,
   "metadata": {},
   "outputs": [],
   "source": [
    "def grid_2D(l, s):\n",
    "\n",
    "    # 2D spatial grid, discretized.\n",
    "    eps = s/10\n",
    "    x, y = np.mgrid[-l:l+eps:s, -l:l+eps:s]\n",
    "\n",
    "    # [x y] edge coordinate pairs of above grid.\n",
    "    xy = np.mgrid[-l:l+eps:s, -l:l+eps:s].reshape(2,-1).T\n",
    "\n",
    "    # Create center coord.-pairs.\n",
    "    x_centers = (x[1:,:] + x[:-1,:])/2.\n",
    "    y_centers = (y[:,1:] + y[:,:-1])/2.\n",
    "    centers = np.array([x_centers[:,:-1], y_centers[:-1,:]])\n",
    "    cent_coordPairs2D = centers.reshape(2,-1).T\n",
    "    print('All coord. pairs 2D:\\n', cent_coordPairs2D)\n",
    "    # print('Coord pairs 2D shape:', cent_coordPairs2D.shape)\n",
    "\n",
    "    return cent_coordPairs2D\n",
    "\n",
    "limit_coarse, space_coarse = 1.5, 1.\n",
    "cent_coordPairs2D = grid_2D(limit_coarse, space_coarse)\n",
    "\n",
    "# Delete middle square.\n",
    "cent_coordPairs2D = np.delete(cent_coordPairs2D, 4, axis=0)\n",
    "\n",
    "# Create finegrained square.\n",
    "limit_fine, space_fine = limit_coarse/2., space_coarse/2.\n",
    "cent_coordPairs2D_fine = grid_2D(limit_fine, space_fine)\n",
    "\n",
    "# Insert finegrained square."
   ]
  },
  {
   "cell_type": "markdown",
   "metadata": {},
   "source": [
    "### 3D grid, center coord. pairs."
   ]
  },
  {
   "cell_type": "code",
   "execution_count": null,
   "metadata": {},
   "outputs": [],
   "source": [
    "# 3D spatial grid, discretized.\n",
    "x, y, z = np.mgrid[-1:1.1:1., -1:1.1:1., -1:1.1:1.]\n",
    "# print(x[0,...], x.shape)\n",
    "\n",
    "x_centers = (x[1:,...] + x[:-1,...])/2.\n",
    "# print(x_centers, x_centers.shape)\n",
    "\n",
    "y_centers = (y[:,1:,:] + y[:,:-1,:])/2.\n",
    "# print(y_centers, y_centers.shape)\n",
    "\n",
    "z_centers = (z[...,1:] + z[...,:-1])/2.\n",
    "# print(z_centers, z_centers.shape)\n",
    "\n",
    "\n",
    "# Create center coord.-pairs., truncate redundant points.\n",
    "centers3D = np.array([\n",
    "    x_centers[:,:-1,:-1], \n",
    "    y_centers[:-1,:,:-1], \n",
    "    z_centers[:-1,:-1,:]\n",
    "])\n",
    "# print(centers3D, centers3D.shape)\n",
    "\n",
    "cent_coordPairs3D = centers3D.reshape(3,-1).T \n",
    "print(cent_coordPairs3D, cent_coordPairs3D.shape)"
   ]
  },
  {
   "cell_type": "markdown",
   "metadata": {},
   "source": [
    "## Analyze gravity."
   ]
  },
  {
   "cell_type": "code",
   "execution_count": 48,
   "metadata": {},
   "outputs": [
    {
     "name": "stderr",
     "output_type": "stream",
     "text": [
      "/home/fabian/my_github_projects/neutrino_clustering_V2/shared/functions.py:29: RuntimeWarning: invalid value encountered in double_scalars\n",
      "  delta_c = numer/denom\n",
      "/tmp/ipykernel_204698/1121744921.py:27: RuntimeWarning: divide by zero encountered in double_scalars\n",
      "  halo_Rs = halo_rvir / halo_cNFW\n"
     ]
    },
    {
     "name": "stdout",
     "output_type": "stream",
     "text": [
      "Halo parameters: (m0=2.59e+11) \n",
      " halo_index=2 ; cNFW=0.00 rvir=134.40 kpc ; Mvir=2.59e+11 Msun\n",
      "Grid and DM shapes before division: (343, 1, 3) (343, 150358, 3)\n",
      "cell division rounds: 0\n",
      "Shapes of output files: (343, 1, 3) (343,) (343, 3) (343,)\n",
      "Total DM count across all cells: 150358\n"
     ]
    },
    {
     "ename": "ZeroDivisionError",
     "evalue": "division by zero",
     "output_type": "error",
     "traceback": [
      "\u001b[0;31m---------------------------------------------------------------------------\u001b[0m",
      "\u001b[0;31mZeroDivisionError\u001b[0m                         Traceback (most recent call last)",
      "\u001b[1;32m/home/fabian/my_github_projects/neutrino_clustering_V2/CubeSpace.ipynb Cell 7\u001b[0m in \u001b[0;36m<cell line: 69>\u001b[0;34m()\u001b[0m\n\u001b[1;32m     <a href='vscode-notebook-cell:/home/fabian/my_github_projects/neutrino_clustering_V2/CubeSpace.ipynb#X10sZmlsZQ%3D%3D?line=64'>65</a>\u001b[0m \u001b[39m### ------------------------------------------- ###\u001b[39;00m\n\u001b[1;32m     <a href='vscode-notebook-cell:/home/fabian/my_github_projects/neutrino_clustering_V2/CubeSpace.ipynb#X10sZmlsZQ%3D%3D?line=65'>66</a>\u001b[0m \u001b[39m### Calculate NFW gravity with halo parameters. ###\u001b[39;00m\n\u001b[1;32m     <a href='vscode-notebook-cell:/home/fabian/my_github_projects/neutrino_clustering_V2/CubeSpace.ipynb#X10sZmlsZQ%3D%3D?line=66'>67</a>\u001b[0m \u001b[39m### ------------------------------------------- ###\u001b[39;00m\n\u001b[1;32m     <a href='vscode-notebook-cell:/home/fabian/my_github_projects/neutrino_clustering_V2/CubeSpace.ipynb#X10sZmlsZQ%3D%3D?line=67'>68</a>\u001b[0m adapted_grid \u001b[39m=\u001b[39m np\u001b[39m.\u001b[39msqueeze(adapted_cc, axis\u001b[39m=\u001b[39m\u001b[39m1\u001b[39m)\n\u001b[0;32m---> <a href='vscode-notebook-cell:/home/fabian/my_github_projects/neutrino_clustering_V2/CubeSpace.ipynb#X10sZmlsZQ%3D%3D?line=68'>69</a>\u001b[0m NFW_grav \u001b[39m=\u001b[39m np\u001b[39m.\u001b[39marray([\n\u001b[1;32m     <a href='vscode-notebook-cell:/home/fabian/my_github_projects/neutrino_clustering_V2/CubeSpace.ipynb#X10sZmlsZQ%3D%3D?line=69'>70</a>\u001b[0m     fct\u001b[39m.\u001b[39mdPsi_dxi_NFW(x_i, z, halo_rho0, halo_Mvir, halo_rvir, halo_Rs, \u001b[39m'\u001b[39m\u001b[39mMW\u001b[39m\u001b[39m'\u001b[39m)\n\u001b[1;32m     <a href='vscode-notebook-cell:/home/fabian/my_github_projects/neutrino_clustering_V2/CubeSpace.ipynb#X10sZmlsZQ%3D%3D?line=70'>71</a>\u001b[0m     \u001b[39mfor\u001b[39;00m x_i \u001b[39min\u001b[39;00m adapted_grid\n\u001b[1;32m     <a href='vscode-notebook-cell:/home/fabian/my_github_projects/neutrino_clustering_V2/CubeSpace.ipynb#X10sZmlsZQ%3D%3D?line=71'>72</a>\u001b[0m ])\n\u001b[1;32m     <a href='vscode-notebook-cell:/home/fabian/my_github_projects/neutrino_clustering_V2/CubeSpace.ipynb#X10sZmlsZQ%3D%3D?line=72'>73</a>\u001b[0m NFW_grav \u001b[39m/\u001b[39m\u001b[39m=\u001b[39m (kpc\u001b[39m/\u001b[39ms\u001b[39m*\u001b[39m\u001b[39m*\u001b[39m\u001b[39m2\u001b[39m)\n\u001b[1;32m     <a href='vscode-notebook-cell:/home/fabian/my_github_projects/neutrino_clustering_V2/CubeSpace.ipynb#X10sZmlsZQ%3D%3D?line=73'>74</a>\u001b[0m NFW_mags \u001b[39m=\u001b[39m np\u001b[39m.\u001b[39msqrt(np\u001b[39m.\u001b[39msum(NFW_grav\u001b[39m*\u001b[39m\u001b[39m*\u001b[39m\u001b[39m2\u001b[39m, axis\u001b[39m=\u001b[39m\u001b[39m1\u001b[39m))\n",
      "\u001b[1;32m/home/fabian/my_github_projects/neutrino_clustering_V2/CubeSpace.ipynb Cell 7\u001b[0m in \u001b[0;36m<listcomp>\u001b[0;34m(.0)\u001b[0m\n\u001b[1;32m     <a href='vscode-notebook-cell:/home/fabian/my_github_projects/neutrino_clustering_V2/CubeSpace.ipynb#X10sZmlsZQ%3D%3D?line=64'>65</a>\u001b[0m \u001b[39m### ------------------------------------------- ###\u001b[39;00m\n\u001b[1;32m     <a href='vscode-notebook-cell:/home/fabian/my_github_projects/neutrino_clustering_V2/CubeSpace.ipynb#X10sZmlsZQ%3D%3D?line=65'>66</a>\u001b[0m \u001b[39m### Calculate NFW gravity with halo parameters. ###\u001b[39;00m\n\u001b[1;32m     <a href='vscode-notebook-cell:/home/fabian/my_github_projects/neutrino_clustering_V2/CubeSpace.ipynb#X10sZmlsZQ%3D%3D?line=66'>67</a>\u001b[0m \u001b[39m### ------------------------------------------- ###\u001b[39;00m\n\u001b[1;32m     <a href='vscode-notebook-cell:/home/fabian/my_github_projects/neutrino_clustering_V2/CubeSpace.ipynb#X10sZmlsZQ%3D%3D?line=67'>68</a>\u001b[0m adapted_grid \u001b[39m=\u001b[39m np\u001b[39m.\u001b[39msqueeze(adapted_cc, axis\u001b[39m=\u001b[39m\u001b[39m1\u001b[39m)\n\u001b[1;32m     <a href='vscode-notebook-cell:/home/fabian/my_github_projects/neutrino_clustering_V2/CubeSpace.ipynb#X10sZmlsZQ%3D%3D?line=68'>69</a>\u001b[0m NFW_grav \u001b[39m=\u001b[39m np\u001b[39m.\u001b[39marray([\n\u001b[0;32m---> <a href='vscode-notebook-cell:/home/fabian/my_github_projects/neutrino_clustering_V2/CubeSpace.ipynb#X10sZmlsZQ%3D%3D?line=69'>70</a>\u001b[0m     fct\u001b[39m.\u001b[39;49mdPsi_dxi_NFW(x_i, z, halo_rho0, halo_Mvir, halo_rvir, halo_Rs, \u001b[39m'\u001b[39;49m\u001b[39mMW\u001b[39;49m\u001b[39m'\u001b[39;49m)\n\u001b[1;32m     <a href='vscode-notebook-cell:/home/fabian/my_github_projects/neutrino_clustering_V2/CubeSpace.ipynb#X10sZmlsZQ%3D%3D?line=70'>71</a>\u001b[0m     \u001b[39mfor\u001b[39;00m x_i \u001b[39min\u001b[39;00m adapted_grid\n\u001b[1;32m     <a href='vscode-notebook-cell:/home/fabian/my_github_projects/neutrino_clustering_V2/CubeSpace.ipynb#X10sZmlsZQ%3D%3D?line=71'>72</a>\u001b[0m ])\n\u001b[1;32m     <a href='vscode-notebook-cell:/home/fabian/my_github_projects/neutrino_clustering_V2/CubeSpace.ipynb#X10sZmlsZQ%3D%3D?line=72'>73</a>\u001b[0m NFW_grav \u001b[39m/\u001b[39m\u001b[39m=\u001b[39m (kpc\u001b[39m/\u001b[39ms\u001b[39m*\u001b[39m\u001b[39m*\u001b[39m\u001b[39m2\u001b[39m)\n\u001b[1;32m     <a href='vscode-notebook-cell:/home/fabian/my_github_projects/neutrino_clustering_V2/CubeSpace.ipynb#X10sZmlsZQ%3D%3D?line=73'>74</a>\u001b[0m NFW_mags \u001b[39m=\u001b[39m np\u001b[39m.\u001b[39msqrt(np\u001b[39m.\u001b[39msum(NFW_grav\u001b[39m*\u001b[39m\u001b[39m*\u001b[39m\u001b[39m2\u001b[39m, axis\u001b[39m=\u001b[39m\u001b[39m1\u001b[39m))\n",
      "\u001b[0;31mZeroDivisionError\u001b[0m: division by zero"
     ]
    }
   ],
   "source": [
    "from shared.preface import *\n",
    "import shared.functions as fct\n",
    "\n",
    "### -------------------------------- ###\n",
    "### Initialize parameters and files. ###\n",
    "### -------------------------------- ###\n",
    "\n",
    "# Parameters.\n",
    "sim_id = 'L006N188'\n",
    "snap_num = '0036'\n",
    "z = 0\n",
    "\n",
    "# Generate progenitor index list.\n",
    "# note on init_halo for L006N188 sim: 0 is ~1e12Msun, 1 & 2 are ~1e11Msun.\n",
    "m0, prog_idx = fct.read_MergerTree(init_halo=2) \n",
    "halo_0036 = prog_idx[0][0]\n",
    "\n",
    "# Generate file for DM particles of chosen halo and get parameters.\n",
    "halo_cNFW, halo_rvir, halo_Mvir = fct.read_DM_positions(\n",
    "    which_halos='halos', mass_select=12,  # outdated but necessary...\n",
    "    random=False, snap_num=snap_num, sim=sim_id, \n",
    "    halo_index=int(halo_0036), init_m=m0, save_params=True\n",
    ")\n",
    "halo_rvir *= kpc\n",
    "halo_Mvir = 10**halo_Mvir * Msun\n",
    "halo_rho0 = fct.scale_density_NFW(z, halo_cNFW)\n",
    "halo_Rs = halo_rvir / halo_cNFW\n",
    "print(\n",
    "    f'Halo parameters: (m0={m0})',\n",
    "    '\\n', \n",
    "    f'halo_index={halo_0036} ; cNFW={halo_cNFW:.2f}',\n",
    "    f'rvir={halo_rvir/kpc:.2f} kpc ; Mvir={halo_Mvir/Msun:.2e} Msun'\n",
    ")\n",
    "\n",
    "DM_raw = np.load(\n",
    "    f'CubeSpace/DM_positions_{sim_id}_snapshot_{snap_num}_{m0}Msun.npy'\n",
    ")*kpc\n",
    "DM_pos = np.expand_dims(DM_raw, axis=0)\n",
    "\n",
    "DM_lim_custom = 300000  \n",
    "\n",
    "# Custom initial grid.\n",
    "GRID_L_custom = Rvir_MW\n",
    "GRID_S_custom= 100*kpc\n",
    "\n",
    "adapted_cc, cell_gen, cell_com, DM_count = fct.manual_cell_division(\n",
    "    sim_id, snap_num, m0, DM_raw,\n",
    "    DM_lim_custom, GRID_L_custom, GRID_S_custom\n",
    ")\n",
    "\n",
    "### ------------------------------- ###\n",
    "### Calculate gravity of cell grid. ###\n",
    "### ------------------------------- ###\n",
    "long_yesno = True\n",
    "adapted_DM = np.repeat(DM_pos, len(adapted_cc), axis=0)\n",
    "fct.cell_gravity_3D(\n",
    "    adapted_cc, cell_com, cell_gen,\n",
    "    adapted_DM, DM_count, DM_SIM_MASS, snap_num,\n",
    "    long_range=long_yesno, test_names=True\n",
    ")\n",
    "dPsi_grid = np.load(f'CubeSpace/dPsi_grid_snapshot_TestFile.npy')\n",
    "cube_mags = np.sqrt(np.sum(dPsi_grid**2, axis=1))\n",
    "\n",
    "\n",
    "### ------------------------------------------- ###\n",
    "### Calculate NFW gravity with halo parameters. ###\n",
    "### ------------------------------------------- ###\n",
    "adapted_grid = np.squeeze(adapted_cc, axis=1)\n",
    "NFW_grav = np.array([\n",
    "    fct.dPsi_dxi_NFW(x_i, z, halo_rho0, halo_Mvir, halo_rvir, halo_Rs, 'MW')\n",
    "    for x_i in adapted_grid\n",
    "])\n",
    "NFW_grav /= (kpc/s**2)\n",
    "NFW_mags = np.sqrt(np.sum(NFW_grav**2, axis=1))\n",
    "\n",
    "# Sort cells by distance from center (0,0,0).\n",
    "grid_dis = np.sqrt(np.sum(adapted_grid**2, axis=1))\n",
    "dis_ind = grid_dis.argsort()\n",
    "\n",
    "grid_dis = grid_dis[dis_ind]\n",
    "cube_mags = cube_mags[dis_ind]\n",
    "NFW_mags = NFW_mags[dis_ind]"
   ]
  },
  {
   "cell_type": "code",
   "execution_count": 37,
   "metadata": {},
   "outputs": [
    {
     "name": "stdout",
     "output_type": "stream",
     "text": [
      "0.0 1.4569343942802186e-32\n"
     ]
    }
   ],
   "source": [
    "# print(cube_mags[:5], NFW_mags[:5])\n",
    "print(cube_mags[-5], NFW_mags[-5])"
   ]
  },
  {
   "cell_type": "code",
   "execution_count": null,
   "metadata": {},
   "outputs": [
    {
     "data": {
      "image/png": "[encoded data removed]",
      "text/plain": [
       "<Figure size 800x800 with 1 Axes>"
      ]
     },
     "metadata": {},
     "output_type": "display_data"
    }
   ],
   "source": [
    "fig, ax = plt.subplots(1,1)\n",
    "\n",
    "diff = (NFW_mags-cube_mags)/NFW_mags\n",
    "\n",
    "ax.scatter(\n",
    "    grid_dis/kpc, diff, s=5, alpha=0.8, label=f'Long-range: {long_yesno}'\n",
    ")\n",
    "\n",
    "# ax.set_ylim(-0.2,1)\n",
    "# def y_fmt_here(value, tick_number):\n",
    "#     return np.round(1-value,1)\n",
    "\n",
    "# ax.yaxis.set_major_formatter(ticker.FuncFormatter(y_fmt_here))\n",
    "\n",
    "\n",
    "ax.set_title(\n",
    "    f'Difference of sim vs. NFW (1 bad, 0 good, <0 is ?)'\n",
    "    '\\n'\n",
    "    'Multiple dots for each x-axis point, since multiple cells share same distance'\n",
    "    )\n",
    "# ax.set_yscale('log')\n",
    "ax.set_xlabel(f'Cell distance from center (kpc)')\n",
    "ax.set_ylabel(f'gravity ratio')\n",
    "plt.legend(loc='lower right')\n",
    "# plt.savefig('figures/sim_vs_NFW_gravity.pdf')\n",
    "plt.show()"
   ]
  },
  {
   "cell_type": "markdown",
   "metadata": {},
   "source": [
    "## Visualize cells after cell divisions."
   ]
  },
  {
   "cell_type": "code",
   "execution_count": null,
   "metadata": {},
   "outputs": [],
   "source": [
    "# Parameters.\n",
    "sim_id = 'L006N188'\n",
    "snap_num = '0036'\n",
    "m0 = '2.59e+11'\n",
    "GRID_L_custom = Rvir_MW\n",
    "GRID_S_custom= 100*kpc\n",
    "\n",
    "DM_raw = np.load(\n",
    "    f'CubeSpace/DM_positions_{sim_id}_snapshot_{snap_num}_{m0}Msun.npy'\n",
    ")*kpc\n",
    "\n",
    "# For above halo, following DM_LIM values correspond to:\n",
    "# DM_lim_custom = 100000  # round(s): 0\n",
    "# DM_lim_custom = 50000   # round(s): 1\n",
    "DM_lim_custom = 40000   # round(s): 2\n",
    "# DM_lim_custom = 10000   # round(s): 4\n",
    "# DM_lim_custom = 1000    # round(s): 8\n",
    "\n",
    "adapted_cc, cell_gen, cell_com, DM_count = fct.manual_cell_division(\n",
    "    sim_id, snap_num, m0, DM_raw,\n",
    "    DM_lim_custom, GRID_L_custom, GRID_S_custom\n",
    ")\n",
    "\n",
    "\n",
    "################################################\n",
    "### Plotting the outcome after iteration(s). ###\n",
    "################################################\n",
    "\n",
    "# Build grid around Milky Way.\n",
    "new_grid = np.squeeze(adapted_cc, axis=1) / kpc\n",
    "\n",
    "fig = plt.figure(figsize=(8,8))\n",
    "ax = fig.add_subplot(111, projection='3d')\n",
    "\n",
    "DM_raw /= kpc\n",
    "x_DM, y_DM, z_DM = DM_raw[:,0], DM_raw[:,1], DM_raw[:,2]\n",
    "cut = 100\n",
    "x, y, z = x_DM[1::cut], y_DM[1::cut], z_DM[1::cut]\n",
    "\n",
    "ax.scatter(x, y, z, alpha=0.1, c='dodgerblue')\n",
    "\n",
    "# Draw sphere around GC with radius=Rvir_MW.\n",
    "rGC = Rvir_MW/kpc\n",
    "uGC, vGC = np.mgrid[0:2 * np.pi:200j, 0:np.pi:100j]\n",
    "xGC = rGC * np.cos(uGC) * np.sin(vGC)\n",
    "yGC = rGC * np.sin(uGC) * np.sin(vGC)\n",
    "zGC = rGC * np.cos(vGC)\n",
    "\n",
    "xg, yg, zg = new_grid[:,0], new_grid[:,1], new_grid[:,2] \n",
    "ax.scatter(xg, yg, zg, s=0.2, marker='x', color='black', alpha=0.5)\n",
    "\n",
    "\n",
    "ax.plot_surface(\n",
    "    xGC, yGC, zGC, alpha=0.1, \n",
    "    cmap=plt.cm.coolwarm, vmin=-1, vmax=1,# antialiased=False,\n",
    "    rstride=1, cstride=1\n",
    ")\n",
    "\n",
    "# How many DM particles inside Virial Radius?\n",
    "# DM_dists = np.sqrt(np.sum(DM_raw**2, axis=1))\n",
    "# inside_VR = DM_pos[DM_dists <= rGC]\n",
    "# print(len(inside_VR))\n",
    "\n",
    "plt.show()"
   ]
  },
  {
   "cell_type": "markdown",
   "metadata": {},
   "source": [
    "## Visualize halo mass evolution through snapshots."
   ]
  },
  {
   "cell_type": "code",
   "execution_count": null,
   "metadata": {},
   "outputs": [],
   "source": [
    "sim_ID = 'L006N188'\n",
    "\n",
    "# Path to merger_tree file (has to have been generated with merger_tree.py)\n",
    "tree_path = f'{pathlib.Path.cwd().parent}/neutrino_clustering_output_local/MergerTree/MergerTree_{sim_ID}.hdf5'\n",
    "\n",
    "with h5py.File(tree_path) as tree:\n",
    "    choice = 1  #note: 0 is ~1e12Msun, 1 & 2 are ~1e11Msun\n",
    "    Masses = tree['Assembly_history/Mass'][choice,:]\n",
    "    zeds = tree['Assembly_history/Redshift']\n",
    "    \n",
    "    y = np.asarray(Masses)\n",
    "    x = np.asarray(zeds)\n",
    "\n",
    "    fig = plt.figure()\n",
    "    plt.semilogy(x, y, label=f'{y[0]:.2e}')\n",
    "    plt.title(u'Starting mass in labels ->')\n",
    "    plt.xlabel('redshift')\n",
    "    plt.ylabel('halo masses [Msun]')\n",
    "    plt.legend()\n",
    "    plt.show()"
   ]
  }
 ],
 "metadata": {
  "kernelspec": {
   "display_name": "Python 3.9.5 ('neutrino_clustering')",
   "language": "python",
   "name": "python3"
  },
  "language_info": {
   "codemirror_mode": {
    "name": "ipython",
    "version": 3
   },
   "file_extension": ".py",
   "mimetype": "text/x-python",
   "name": "python",
   "nbconvert_exporter": "python",
   "pygments_lexer": "ipython3",
   "version": "3.9.5"
  },
  "vscode": {
   "interpreter": {
    "hash": "8a0d5d0f2e48edd2cdf812a3eedd1dc78c628b894b9ae93ffd6b09cf9a60bf81"
   }
  }
 },
 "nbformat": 4,
 "nbformat_minor": 4
}
