{
 "cells": [
  {
   "cell_type": "code",
   "execution_count": 21,
   "metadata": {},
   "outputs": [
    {
     "name": "stdout",
     "output_type": "stream",
     "text": [
      "126187 DM particles inside range\n",
      "[ 7.85970873e-40 -1.37574642e-40  1.06935706e-41]\n",
      "6.367913481530823e-79\n"
     ]
    }
   ],
   "source": [
    "from shared.preface import *\n",
    "import shared.functions as fct\n",
    "\n",
    "DM_pos = np.load('sim_data/DM_positions_halos_M12.npy')\n",
    "\n",
    "def cell_gravity(cell_coords, grav_range, m_DM):\n",
    "    \n",
    "    # Center all DM positions w.r.t. cell center (cc).\n",
    "    DM_pos_cc = DM_pos*kpc - cell_coords\n",
    "\n",
    "    # Calculate distances of DM to cc, sorted in ascending order.\n",
    "    DM_dist_cc = np.sqrt(np.sum(DM_pos_cc**2, axis=1))\n",
    "\n",
    "    # Ascending order indices.\n",
    "    ind = DM_dist_cc.argsort()\n",
    "\n",
    "    # Truncate DM positions depending on distance to cc.\n",
    "    DM_pos_cc_sort = DM_pos_cc[ind]\n",
    "    DM_pos_trunc = DM_pos_cc_sort[DM_dist_cc[ind] <= grav_range]\n",
    "    print(f'{len(DM_pos_trunc)} DM particles inside range')\n",
    "\n",
    "    ### Calculate superposition gravity.\n",
    "    pre = G*m_DM\n",
    "    denom = np.power(np.sum((cell_coords-DM_pos_trunc)**2), 3./2.)\n",
    "\n",
    "    return pre*np.sum((cell_coords-DM_pos_trunc)/denom, axis=0)\n",
    "\n",
    "\n",
    "\n",
    "### Testing 1 cell.\n",
    "\n",
    "# Coords. of 1 cell.\n",
    "grid_V1 = fct.grid_3D(GRID_L, GRID_S) / kpc\n",
    "xg, yg, zg = grid_V1[:,0], grid_V1[:,1], grid_V1[:,2] \n",
    "\n",
    "cell_id = 0\n",
    "# cell1 = np.array([xg[cell_id], yg[cell_id], zg[cell_id]])*kpc\n",
    "cell1 = np.array([8.5, 0, 0])*kpc\n",
    "\n",
    "\n",
    "grav_range = 100*GRID_S/np.sqrt(2)\n",
    "# grav_range = 1*GRID_S/2\n",
    "mass_DM = 11502999.*Msun\n",
    "\n",
    "cell_vector = cell_gravity(cell1, grav_range, mass_DM)\n",
    "cell_vector/= (kpc/s**2)\n",
    "print(cell_vector)\n",
    "print(np.sum(cell_vector**2))"
   ]
  }
 ],
 "metadata": {
  "interpreter": {
   "hash": "f954fd519baabf9adc4c45dc1841670b54a153fe717f7fe4f74275668c90e9d2"
  },
  "kernelspec": {
   "display_name": "Python 3.9.12 ('NC_numba')",
   "language": "python",
   "name": "python3"
  },
  "language_info": {
   "codemirror_mode": {
    "name": "ipython",
    "version": 3
   },
   "file_extension": ".py",
   "mimetype": "text/x-python",
   "name": "python",
   "nbconvert_exporter": "python",
   "pygments_lexer": "ipython3",
   "version": "3.9.12"
  },
  "orig_nbformat": 4
 },
 "nbformat": 4,
 "nbformat_minor": 2
}
