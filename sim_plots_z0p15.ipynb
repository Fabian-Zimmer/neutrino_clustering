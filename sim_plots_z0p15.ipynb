{
 "cells": [
  {
   "cell_type": "code",
   "execution_count": null,
   "metadata": {},
   "outputs": [],
   "source": [
    "%load_ext autoreload\n",
    "%autoreload 2\n",
    "\n",
    "from Shared.shared import *\n",
    "from Shared.specific_CNB_sim import *\n",
    "\n",
    "sim_name = f\"Dopri5_1k_z0p15\"\n",
    "sim_folder = f\"sim_output/{sim_name}\"\n",
    "fig_folder = f\"figures_local/{sim_name}\"\n",
    "Cl_folder = f\"Shared/Cls\"\n",
    "nu_m_range = jnp.load(f\"{sim_folder}/neutrino_massrange_eV.npy\")\n",
    "nu_m_picks = jnp.array([\n",
    "    0.01, \n",
    "    # 0.05, \n",
    "    0.1, \n",
    "    # 0.2, 0.3\n",
    "])*Params.eV\n",
    "simdata = SimData(sim_folder)\n",
    "\n",
    "#! Broken halos: either snapshot info missing or anomalous number densities\n",
    "exclude_nums = jnp.array([\n",
    "    22,  # halo23\n",
    "])\n",
    "\n",
    "\n",
    "# Fermi-Dirac distribution assumption\n",
    "# note: total densities are computed for length 50 mass range\n",
    "pix_dens_FD = jnp.load(f\"{sim_folder}/pixel_densities.npy\")\n",
    "tot_dens_FD = jnp.load(f\"{sim_folder}/total_densities.npy\")\n",
    "\n",
    "# pix_dens_FD = jnp.delete(pix_dens_FD, exclude_nums, axis=0)\n",
    "# tot_dens_FD = jnp.delete(tot_dens_FD, exclude_nums, axis=0)\n",
    "print(pix_dens_FD.shape)\n",
    "print(tot_dens_FD.shape)\n",
    "\n",
    "# Incl. primordial fluctuations, for all halos with 1 seed\n",
    "# note: all sky densities are computed for 5 specific masses\n",
    "pix_dens_PF_halos = jnp.load(f\"{sim_folder}/pixel_densities_incl_PFs.npy\")\n",
    "tot_dens_PF_halos = jnp.load(f\"{sim_folder}/total_densities_incl_PFs.npy\")\n",
    "\n",
    "print(pix_dens_PF_halos.shape)\n",
    "print(tot_dens_PF_halos.shape)\n",
    "\n",
    "# Incl. primordial fluctuations, for all halos with 1 seed\n",
    "# note: all sky densities are computed for 5 specific masses\n",
    "exclude_halo_nums = [20]\n",
    "halo_nums = [x for x in range(1, 11) if x not in exclude_halo_nums]\n",
    "pix_dens_PF_seeds = jnp.array(\n",
    "    [jnp.load(f\"{sim_folder}/pixel_densities_incl_PFs_seeds_halo{halo_j}.npy\")\n",
    "     for halo_j in halo_nums])\n",
    "tot_dens_PF_seeds = jnp.array(\n",
    "    [jnp.load(f\"{sim_folder}/total_densities_incl_PFs_seeds_halo{halo_j}.npy\")\n",
    "     for halo_j in halo_nums])\n",
    "print(pix_dens_PF_seeds.shape)\n",
    "print(tot_dens_PF_seeds.shape)\n",
    "\n",
    "# Deltas_halos = jnp.load(f\"{sim_folder}/Deltas_halos.npy\")\n",
    "# print(Deltas_halos.shape)\n",
    "\n",
    "# Deltas_seeds = jnp.load(f\"{sim_folder}/Deltas_seeds.npy\")\n",
    "# print(Deltas_seeds.shape)\n",
    "\n",
    "\n",
    "#! some change/bug in the sim_execute script, now FD also only has 5 masses instead of 50."
   ]
  },
  {
   "cell_type": "markdown",
   "metadata": {},
   "source": [
    "## Comparison of FD & PF power spectra"
   ]
  },
  {
   "cell_type": "markdown",
   "metadata": {},
   "source": [
    "$\\theta \\approx \\frac{180^\\circ}{\\ell}$"
   ]
  },
  {
   "cell_type": "code",
   "execution_count": null,
   "metadata": {},
   "outputs": [],
   "source": [
    "# Up to what l is a healpy skymap \"valid\"? Use formula above.\n",
    "Params.Pi/jnp.sqrt(simdata.pix_sr)"
   ]
  },
  {
   "cell_type": "markdown",
   "metadata": {},
   "source": [
    "### 10 Halos - 1 PF"
   ]
  },
  {
   "cell_type": "code",
   "execution_count": null,
   "metadata": {},
   "outputs": [],
   "source": [
    "N0_pix = Params.N0 / simdata.Npix\n",
    "skymap_norm = N0_pix / (Params.cm**-3)\n",
    "for m_pick in nu_m_picks:\n",
    "    print(m_pick)\n",
    "    SimPlot.power_spectra_FDxPF(\n",
    "        m_pick=m_pick, \n",
    "        pix_dens_FD=pix_dens_FD - skymap_norm, \n",
    "        pix_dens_PF=pix_dens_PF_halos - skymap_norm,\n",
    "        y_lims=(1e5, 1e11),\n",
    "        sim_dir=sim_folder, \n",
    "        fig_dir=fig_folder,\n",
    "        args=Params)"
   ]
  },
  {
   "cell_type": "markdown",
   "metadata": {},
   "source": [
    "### 1 Halo - 10 PFs"
   ]
  },
  {
   "cell_type": "code",
   "execution_count": null,
   "metadata": {},
   "outputs": [],
   "source": [
    "for halo_i in jnp.arange(7,8):\n",
    "\n",
    "    print(halo_i)\n",
    "\n",
    "    pix_dens_PF_seeds = jnp.load(f\"{sim_folder}/pixel_densities_incl_PFs_seeds_halo{halo_i}.npy\")\n",
    "\n",
    "    N0_pix = Params.N0 / simdata.Npix\n",
    "    skymap_norm = N0_pix / (Params.cm**-3)\n",
    "    pix_dens_FD_1Halo = jnp.repeat(pix_dens_FD[halo_i-1][None,...], 10, axis=0)\n",
    "\n",
    "    for m_pick in nu_m_picks[1:2]:\n",
    "        print(m_pick)\n",
    "        SimPlot.power_spectra_FDxPF(\n",
    "            m_pick=m_pick, \n",
    "            pix_dens_FD=pix_dens_FD_1Halo - skymap_norm, \n",
    "            pix_dens_PF=pix_dens_PF_seeds - skymap_norm, \n",
    "            y_lims=(1e5, 1e11),\n",
    "            sim_dir=sim_folder, \n",
    "            fig_dir=fig_folder,\n",
    "            args=Params,\n",
    "            _1Halo=True,\n",
    "            Elbers=True)"
   ]
  }
 ],
 "metadata": {
  "kernelspec": {
   "display_name": "neutrino_clustering",
   "language": "python",
   "name": "python3"
  },
  "language_info": {
   "codemirror_mode": {
    "name": "ipython",
    "version": 3
   },
   "file_extension": ".py",
   "mimetype": "text/x-python",
   "name": "python",
   "nbconvert_exporter": "python",
   "pygments_lexer": "ipython3",
   "version": "3.10.0"
  }
 },
 "nbformat": 4,
 "nbformat_minor": 2
}
