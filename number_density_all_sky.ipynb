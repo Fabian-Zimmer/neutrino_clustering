{
 "cells": [
  {
   "cell_type": "markdown",
   "metadata": {},
   "source": [
    "## Healpy Info:\n",
    "\n",
    "\n",
    "The standard coordinates are the colatitude $\\theta$, 0 at the North Pole, $\\pi / 2$ at the equator and $\\pi$ at the South Pole and the longitude $\\phi$ between 0 and $2 \\pi$ eastward, in a Mollview projection, $\\phi = 0$ is at the center and increases toward the left, then wraps around and comes from the right towards the center again."
   ]
  },
  {
   "cell_type": "markdown",
   "metadata": {},
   "source": [
    "## All-sky map for discrete simulation."
   ]
  },
  {
   "cell_type": "code",
   "execution_count": null,
   "metadata": {},
   "outputs": [],
   "source": [
    "from shared.preface import *\n",
    "import shared.functions as fct\n",
    "\n",
    "# Generate (phi, theta) coord. pairs based on desired healpy map.\n",
    "Nside = 2**2              # Specify nside parameter\n",
    "Npix = 12 * Nside**2      # Number of pixels\n",
    "pix_sr = (4*np.pi)/Npix   # Pixel size  [sr]\n",
    "print(f'Healpy parameters: Nside={Nside}, Npix={Npix}, pix_sr={pix_sr}')\n",
    "hp_thetas, hp_phis = np.array(hp.pixelfunc.pix2ang(Nside, np.arange(Npix)))\n",
    "\n",
    "# Initialize parameters and files.\n",
    "PRE = PRE(\n",
    "    sim='L012N376', \n",
    "    z0_snap=62, z4_snap=13, DM_lim=1000,\n",
    "    sim_dir=SIM_ROOT, sim_ver=SIM_TYPE,\n",
    "    phis=hp_phis, thetas=hp_thetas, vels=10000,\n",
    "    pre_CPUs=96, sim_CPUs=128\n",
    ")\n",
    "\n",
    "mass_gauge = 12.0\n",
    "mass_range = 0.46\n",
    "size = 10\n",
    "hname = f'1e+{mass_gauge}_pm{mass_range}Msun'\n",
    "fct.halo_batch_indices(\n",
    "    PRE.Z0_STR, mass_gauge, mass_range, 'halos', size, \n",
    "    hname, PRE.SIM_DIR, PRE.OUT_DIR\n",
    ")\n",
    "halo_batch_IDs = np.load(f'{PRE.OUT_DIR}/halo_batch_{hname}_indices.npy')\n",
    "halo_batch_params = np.load(f'{PRE.OUT_DIR}/halo_batch_{hname}_params.npy')\n",
    "halo_num = len(halo_batch_params)\n",
    "\n",
    "print('********Number density band********')\n",
    "print('Halo batch params (Rvir,Mvir,cNFW):')\n",
    "print(halo_batch_params)\n",
    "print('***********************************')\n",
    "\n",
    "# Specify which halo_j to use.\n",
    "\n",
    "\n",
    "for halo_j in (0,1,2,4,6,7,8):\n",
    "\n",
    "    # Load local number densities for all pixels.\n",
    "    nu_mass_range = np.geomspace(0.01, 0.3, 100)*eV\n",
    "    which_mass_eV = 0.01\n",
    "    mass_choice_idx = (np.abs(nu_mass_range-which_mass_eV)).argmin()\n",
    "    etas_arr = np.zeros(Npix)\n",
    "    for i in range(Npix):\n",
    "        CPname = f'{PRE.NUS}nus_{hname}_halo{halo_j}_CoordPair{i+1}'\n",
    "        out_file = f'{PRE.OUT_DIR}/number_densities_{CPname}.npy'\n",
    "        etas_arr[i] = np.load(f'{out_file}')[mass_choice_idx]/N0\n",
    "\n",
    "    print(np.sum(etas_arr))\n",
    "\n",
    "    hp.mollview(\n",
    "        etas_arr, \n",
    "        title=f'All-sky overdensities, Mvir = {halo_batch_params[halo_j,1]:.2f}', \n",
    "        unit=r'$\\eta = n_{\\nu, sim} / n_{\\nu, 0}$',\n",
    "        # min=(0.5*np.min(etas_arr)), max=(1.5*np.max(etas_arr))\n",
    "    )\n",
    "    hp.graticule()\n",
    "    plt.show()"
   ]
  },
  {
   "cell_type": "markdown",
   "metadata": {},
   "source": [
    "## All-sky map for smooth simulation."
   ]
  },
  {
   "cell_type": "markdown",
   "metadata": {},
   "source": [
    "### Milky Way halo only."
   ]
  },
  {
   "cell_type": "code",
   "execution_count": null,
   "metadata": {},
   "outputs": [],
   "source": [
    "from shared.preface import *\n",
    "import shared.functions as fct\n",
    "\n",
    "\n",
    "# Generate (phi, theta) coord. pairs based on desired healpy map.\n",
    "Nside = 2**2              # Specify nside parameter\n",
    "Npix = 12 * Nside**2      # Number of pixels\n",
    "pix_sr = (4*np.pi)/Npix   # Pixel size  [sr]\n",
    "print(f'Healpy parameters: Nside={Nside}, Npix={Npix}, pix_sr={pix_sr}')\n",
    "hp_thetas, hp_phis = np.array(hp.pixelfunc.pix2ang(Nside, np.arange(Npix)))\n",
    "\n",
    "\n",
    "# Initialize parameters and files.\n",
    "PRE = PRE(\n",
    "    sim='LinfNinf', phis=hp_phis, thetas=hp_thetas, vels=10000,\n",
    "    sim_CPUs=128, MW_HALO=True\n",
    ")\n",
    "\n",
    "# Load local number densities for all pixels.\n",
    "nu_mass_range = np.geomspace(0.01, 0.3, 100)*eV\n",
    "# note: for <= 0.02eV they come from center, for >= 0.03 they come from sides!\n",
    "which_mass_eV = 0.3\n",
    "mass_choice_idx = (np.abs(nu_mass_range-which_mass_eV)).argmin()\n",
    "etas_arr = np.zeros(Npix)\n",
    "for i in range(Npix):\n",
    "    CPname = f'{PRE.NUS}nus_smooth_{PRE.HALOS}_{SOLVER}_CoordPair{i+1}'\n",
    "    out_file = f'{PRE.OUT_DIR}/number_densities_{CPname}.npy'\n",
    "    etas_arr[i] = np.load(f'{out_file}')[mass_choice_idx]/N0\n",
    "\n",
    "print(np.sum(etas_arr))\n",
    "\n",
    "hp.mollview(etas_arr, title='All-sky overdensities, 10k nus per pixel', unit=r'$\\eta = n_{\\nu, sim} / n_{\\nu, 0}$')\n",
    "hp.graticule()\n",
    "plt.show()"
   ]
  },
  {
   "cell_type": "markdown",
   "metadata": {},
   "source": [
    "### Milky Way + Virgo Cluster halos."
   ]
  },
  {
   "cell_type": "code",
   "execution_count": null,
   "metadata": {},
   "outputs": [],
   "source": [
    "from shared.preface import *\n",
    "import shared.functions as fct\n",
    "\n",
    "\n",
    "# Generate (phi, theta) coord. pairs based on desired healpy map.\n",
    "Nside = 2**2              # Specify nside parameter\n",
    "Npix = 12 * Nside**2      # Number of pixels\n",
    "pix_sr = (4*np.pi)/Npix   # Pixel size  [sr]\n",
    "print(f'Healpy parameters: Nside={Nside}, Npix={Npix}, pix_sr={pix_sr}')\n",
    "hp_thetas, hp_phis = np.array(hp.pixelfunc.pix2ang(Nside, np.arange(Npix)))\n",
    "\n",
    "\n",
    "# Initialize parameters and files.\n",
    "PRE = PRE(\n",
    "    sim='LinfNinf', phis=hp_phis, thetas=hp_thetas, vels=10000,\n",
    "    sim_CPUs=128, MW_HALO=True, VC_HALO=True\n",
    ")\n",
    "\n",
    "# Load local number densities for all pixels.\n",
    "nu_mass_range = np.geomspace(0.01, 0.3, 100)*eV\n",
    "which_mass_eV = 0.01\n",
    "mass_choice_idx = (np.abs(nu_mass_range-which_mass_eV)).argmin()\n",
    "etas_arr = np.zeros(Npix)\n",
    "for i in range(Npix):\n",
    "    CPname = f'{PRE.NUS}nus_smooth_{PRE.HALOS}_{SOLVER}_CoordPair{i+1}'\n",
    "    out_file = f'{PRE.OUT_DIR}/number_densities_{CPname}.npy'\n",
    "    etas_arr[i] = np.load(f'{out_file}')[mass_choice_idx]/N0\n",
    "\n",
    "print(np.sum(etas_arr))\n",
    "\n",
    "\n",
    "# Check where Virgo Cluster is.\n",
    "show_VC = False\n",
    "if show_VC:\n",
    "    VC_vec = hp.ang2vec(GLON_VC, GLAT_VC, lonlat=True)\n",
    "    ipix_disc = hp.query_disc(nside=Nside, vec=VC_vec, radius=np.radians(10))\n",
    "    etas_arr[ipix_disc] = hp.UNSEEN\n",
    "\n",
    "hp.mollview(etas_arr, title='All-sky overdensities, 10k nus per pixel', unit=r'$\\eta = n_{\\nu, sim} / n_{\\nu, 0}$')\n",
    "hp.graticule()\n",
    "plt.show()"
   ]
  }
 ],
 "metadata": {
  "kernelspec": {
   "display_name": "Python 3 (ipykernel)",
   "language": "python",
   "name": "python3"
  },
  "language_info": {
   "codemirror_mode": {
    "name": "ipython",
    "version": 3
   },
   "file_extension": ".py",
   "mimetype": "text/x-python",
   "name": "python",
   "nbconvert_exporter": "python",
   "pygments_lexer": "ipython3",
   "version": "3.9.5"
  },
  "orig_nbformat": 4,
  "vscode": {
   "interpreter": {
    "hash": "8a0d5d0f2e48edd2cdf812a3eedd1dc78c628b894b9ae93ffd6b09cf9a60bf81"
   }
  }
 },
 "nbformat": 4,
 "nbformat_minor": 2
}
