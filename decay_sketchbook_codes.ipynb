{
 "cells": [
  {
   "cell_type": "code",
   "execution_count": 3,
   "metadata": {},
   "outputs": [
    {
     "name": "stdout",
     "output_type": "stream",
     "text": [
      "The autoreload extension is already loaded. To reload it, use:\n",
      "  %reload_ext autoreload\n"
     ]
    }
   ],
   "source": [
    "%load_ext autoreload\n",
    "%autoreload 2\n",
    "\n",
    "from Shared.shared import *\n",
    "from Shared.specific_CNB_decay import *\n",
    "\n",
    "sim_name = f\"no_gravity\"\n",
    "#! marias files are inside the Data/decay folder\n",
    "decay_dir = f\"Data/decay\"\n",
    "sim_folder = f\"{decay_dir}/sim_output/{sim_name}\"\n",
    "fig_folder = f\"{decay_dir}/figures_local/{sim_name}\"\n",
    "nu_m_range = jnp.load(f\"{sim_folder}/neutrino_massrange_eV.npy\")\n",
    "nu_m_picks = jnp.array([0.01, 0.05, 0.1, 0.2, 0.3])*Params.eV\n",
    "simdata = SimData(sim_folder)"
   ]
  },
  {
   "cell_type": "markdown",
   "metadata": {},
   "source": [
    "## Pre-sim arrays"
   ]
  },
  {
   "cell_type": "code",
   "execution_count": 17,
   "metadata": {},
   "outputs": [
    {
     "name": "stderr",
     "output_type": "stream",
     "text": [
      "ic| angle_momentum_decay.shape: (180, 100)\n",
      "ic| decayed_neutrinos_theta.shape: (334785,)\n",
      "ic| decayed_neutrinos_phi.shape: (334785,)\n",
      "ic| decayed_neutrinos_z.shape: (100, 768000)\n",
      "ic| decayed_neutrinos_index_z.shape: (100,)\n",
      "ic| z_array.shape: (100,)\n",
      "ic| neutrino_momenta.shape: (1000,)\n"
     ]
    },
    {
     "name": "stdout",
     "output_type": "stream",
     "text": [
      "END\n"
     ]
    }
   ],
   "source": [
    "gamma ='2T'\n",
    "\n",
    "angle_momentum_decay = jnp.load(\n",
    "    f'{sim_folder}/neutrino_angle_momentum_decay.npy') \n",
    "decayed_neutrinos_theta = jnp.load(\n",
    "    f'{sim_folder}/decayed_neutrinos_theta_{gamma}.npy')\n",
    "decayed_neutrinos_phi = jnp.load(\n",
    "    f'{sim_folder}/decayed_neutrinos_phi_{gamma}.npy')\n",
    "decayed_neutrinos_z = jnp.load(\n",
    "    f'{decay_dir}/decays_gamma/decayed_neutrinos_z_{gamma}.npy')\n",
    "decayed_neutrinos_index_z = jnp.load(\n",
    "    f'{decay_dir}/decays_gamma/decayed_neutrinos_index_z_{gamma}.npy', allow_pickle=True)\n",
    "z_array = jnp.load(\n",
    "    f'{sim_folder}/z_int_steps.npy')\n",
    "neutrino_momenta = jnp.load(\n",
    "    f'{sim_folder}/neutrino_momenta.npy')\n",
    "\n",
    "common_args = (\n",
    "    angle_momentum_decay, decayed_neutrinos_z, z_array, \n",
    "    neutrino_momenta,decayed_neutrinos_phi, decayed_neutrinos_theta)\n",
    "\n",
    "ic(angle_momentum_decay.shape)\n",
    "ic(decayed_neutrinos_theta.shape)\n",
    "ic(decayed_neutrinos_phi.shape)\n",
    "ic(decayed_neutrinos_z.shape)\n",
    "ic(decayed_neutrinos_index_z.shape)\n",
    "ic(z_array.shape)\n",
    "ic(neutrino_momenta.shape)\n",
    "print(\"END\")\n",
    "\n",
    "def find_nearest(array, value):\n",
    "    idx = jnp.argmin(jnp.abs(array - value))\n",
    "    return idx, array[idx]"
   ]
  },
  {
   "cell_type": "markdown",
   "metadata": {},
   "source": [
    "## Testing EOMs_no_gravity logic"
   ]
  },
  {
   "cell_type": "code",
   "execution_count": 29,
   "metadata": {},
   "outputs": [
    {
     "name": "stdout",
     "output_type": "stream",
     "text": [
      "433215 768000\n",
      "0 0\n"
     ]
    }
   ],
   "source": [
    "angle_momentum_decay, decayed_neutrinos_z, z_array, neutrino_momenta,decayed_neutrinos_phi, decayed_neutrinos_theta = common_args\n",
    "\n",
    "print(jnp.count_nonzero(decayed_neutrinos_z[-1]), simdata.nus_in_sim)\n",
    "\n",
    "z = 4\n",
    "\n",
    "z_nearest = find_nearest(z_array, z)\n",
    "\n",
    "# Find correct index for z_array, that corresponds to current z\n",
    "z_index, z_nearest = find_nearest(z_array, z)\n",
    "\n",
    "Nr_index = 0\n",
    "now_nu_number = jnp.int16(decayed_neutrinos_z[z_index, Nr_index])\n",
    "pre_nu_number = jnp.int16(decayed_neutrinos_z[z_index-1, Nr_index])\n",
    "\n",
    "print(now_nu_number, pre_nu_number)\n",
    "\n",
    "# p_i = find_nearest(neutrino_momenta, 0.06 * jnp.linalg.norm(u_i_p, axis=-1))\n",
    "# p_index = jnp.argmax(jnp.equal(neutrino_momenta, p_i))"
   ]
  }
 ],
 "metadata": {
  "kernelspec": {
   "display_name": "neutrino_clustering",
   "language": "python",
   "name": "python3"
  },
  "language_info": {
   "codemirror_mode": {
    "name": "ipython",
    "version": 3
   },
   "file_extension": ".py",
   "mimetype": "text/x-python",
   "name": "python",
   "nbconvert_exporter": "python",
   "pygments_lexer": "ipython3",
   "version": "3.10.0"
  }
 },
 "nbformat": 4,
 "nbformat_minor": 2
}
