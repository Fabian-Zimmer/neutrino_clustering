{
 "cells": [
  {
   "cell_type": "markdown",
   "metadata": {},
   "source": [
    "## Clustering factors vs. mass."
   ]
  },
  {
   "cell_type": "code",
   "execution_count": null,
   "metadata": {
    "vscode": {
     "languageId": "python"
    }
   },
   "outputs": [],
   "source": [
    "from shared.preface import *\n",
    "import shared.functions as fct\n",
    "\n",
    "# Load data.\n",
    "nus = 10000\n",
    "sim = 'temp_data'\n",
    "fname = f'nus_{nus}_CubeSpace'\n",
    "u_all = fct.load_sim_data(sim, fname, 'velocities')\n",
    "\n",
    "# 10 to 300 meV like in the paper.\n",
    "mass_range_eV = np.geomspace(0.01, 0.3, 50)*eV\n",
    "\n",
    "# Calculate number density, averaged values for z in [3.5, 4].\n",
    "output = f'{sim}/number_densities_{nus}nus.npy'\n",
    "fct.number_density_1_mass(\n",
    "    u_all, mass_range_eV, output, average=True, z_average=3.5\n",
    ")\n",
    "n_nus = np.load(f'{output}')/N0\n",
    "\n",
    "# Plotting:\n",
    "fig, ax = plt.subplots(1,1, figsize=(8,8))\n",
    "\n",
    "ax.plot(mass_range_eV*1e3, (n_nus-1))\n",
    "x_ends = [1e1, 3*1e2]\n",
    "y_ends = [3*1e-3, 4]\n",
    "ax.plot(x_ends, y_ends, marker='x', ls=':', c='r', alpha=0.6)\n",
    "\n",
    "for m in NU_MASSES:\n",
    "    ax.axvline(m*1e3, c='r', ls='-.')\n",
    "\n",
    "ax.set_xscale('log')\n",
    "ax.set_yscale('log')\n",
    "ax.set_title(f'CubeSpace!, Neutrinos: {nus}')\n",
    "ax.set_xlabel(r'$m_{\\nu}$ [meV]')\n",
    "ax.set_ylabel(r'$n_{\\nu} / n_{\\nu, 0}$')\n",
    "# ax.set_ylim(1e-3, 1e1)\n",
    "plt.grid(True, which=\"both\", ls=\"-\")\n",
    "\n",
    "ax.yaxis.set_major_formatter(ticker.FuncFormatter(fct.y_fmt))\n",
    "\n",
    "plt.savefig(f'figures/clustering_factors_nus_{nus}_CubeSpace.pdf')\n",
    "plt.show()\n",
    "\n",
    "print('Max value:', np.max(n_nus), np.max(n_nus-1))"
   ]
  },
  {
   "cell_type": "code",
   "execution_count": null,
   "metadata": {
    "vscode": {
     "languageId": "python"
    }
   },
   "outputs": [],
   "source": [
    "from shared.preface import *\n",
    "import shared.functions as fct\n",
    "\n",
    "# Load data.\n",
    "nus = 10000\n",
    "u_all = fct.load_u_sim(nus, discrete=True)\n",
    "\n",
    "def n_nu_of_redshift(m_eV):\n",
    "    \n",
    "    # Convert to momenta. \n",
    "    p, _ = fct.u_to_p_eV(u_all, m_eV)\n",
    "\n",
    "    n_nus = np.zeros(len(ZEDS))\n",
    "    for i, _ in enumerate(ZEDS):\n",
    "\n",
    "        # Calculate number density.\n",
    "        n_nus[i] = fct.number_density(p[:,0], p[:,i])\n",
    "\n",
    "    np.save(\n",
    "        f'neutrino_data/z_dependence_nus_{nus}_CubeSpace_{m_eV}eV.npy', \n",
    "        n_nus\n",
    "        )\n",
    "\n",
    "\n",
    "# Plotting.\n",
    "fig, ax = plt.subplots(1,1, figsize=(8,14))\n",
    "\n",
    "colors = ['blue', 'orange', 'green', 'red']\n",
    "\n",
    "for j, m in enumerate(NU_MASSES):\n",
    "    n_nu_of_redshift(m)\n",
    "\n",
    "    n = np.load(\n",
    "        f'neutrino_data/z_dependence_nus_{nus}_CubeSpace_{m}eV.npy'\n",
    "        )/N0\n",
    "    # print('Max:', np.max(n),'Mean:', np.mean(n))\n",
    "\n",
    "    ax.semilogy(ZEDS, n-1, c=colors[j], label=r'$m_\\nu$ ='+f'{m} eV')\n",
    "\n",
    "ax.vlines(ZEDS_SNAPSHOTS, 1e-3, 5e1, colors='k', linestyles=':', label='Snapshots')\n",
    "\n",
    "ax.set_title(f'{nus} neutrinos, solver={SOLVER}')\n",
    "ax.set_xlabel('z')\n",
    "ax.set_ylabel(r'$n_{\\nu} / n_{\\nu, 0}$')\n",
    "ax.set_ylim(1e-3, 3e2)\n",
    "\n",
    "ax.yaxis.set_major_formatter(ticker.FuncFormatter(fct.y_fmt))\n",
    "plt.legend(loc='upper right')\n",
    "plt.savefig(f'figures/z_dependence_nus_{nus}_CubeSpace.pdf')\n",
    "plt.show()\n",
    "\n",
    "for z in ZEDS_SNAPSHOTS:\n",
    "    print(f'{z:.2f}')"
   ]
  }
 ],
 "metadata": {
  "kernelspec": {
   "display_name": "Python 3 (ipykernel)",
   "language": "python",
   "name": "python3"
  },
  "orig_nbformat": 4,
  "vscode": {
   "interpreter": {
    "hash": "8a0d5d0f2e48edd2cdf812a3eedd1dc78c628b894b9ae93ffd6b09cf9a60bf81"
   }
  }
 },
 "nbformat": 4,
 "nbformat_minor": 2
}
