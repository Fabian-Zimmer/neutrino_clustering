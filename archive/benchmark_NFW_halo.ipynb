{
 "cells": [
  {
   "attachments": {},
   "cell_type": "markdown",
   "metadata": {},
   "source": [
    "# Creation of benchmark N-body NFW MW-type halo via sampling."
   ]
  },
  {
   "attachments": {},
   "cell_type": "markdown",
   "metadata": {},
   "source": [
    "## Previous method."
   ]
  },
  {
   "cell_type": "code",
   "execution_count": null,
   "metadata": {},
   "outputs": [],
   "source": [
    "from shared.preface import *\n",
    "import shared.functions as fct\n",
    "\n",
    "PRE = PRE(\n",
    "    sim='L025N752', \n",
    "    z0_snap=36, z4_snap=13, DM_lim=1000,\n",
    "    sim_dir=SIM_ROOT, sim_ver=SIM_TYPE,\n",
    "    phis=20, thetas=20, vels=200,\n",
    "    pre_CPUs=128, sim_CPUs=128, mem_lim_GB=224\n",
    ")\n",
    "\n",
    "# Determine number of DM particles to sample based on virial mass.\n",
    "DM_mass = 1437874.875*Msun  # from 25 Mpc box\n",
    "num_DM_MW = math.floor(Mvir_MW / DM_mass)  # ~1.4 mio.\n",
    "num_DM_box = 235953  # a halo from sim box\n",
    "\n",
    "Mvir_box = num_DM_box*DM_mass\n",
    "\n",
    "def halo_sample(z, snap, Mvir_init, R_s_init, rho0_init, DM_mass_Msun, out_dir):\n",
    "\n",
    "    # R_200 of MW-type halo at redshift 0.\n",
    "    R_200_MW = (Mvir_MW / (200 * fct.rho_crit(0) * 4.*Pi/3.))**(1./3.)\n",
    "    \n",
    "    # Determine R_200 and c_200 and scale radius at redshift z.\n",
    "    R_200 = (Mvir_init / (200 * fct.rho_crit(z) * 4.*Pi/3.))**(1./3.)\n",
    "    c_200 = fct.c_vir(z, Mvir_init, R_200_MW, R_s_init)\n",
    "\n",
    "    # Calculate virial mass at redshift z and with it number of DM particles.\n",
    "    f_200 = np.log(1+c_200) - (c_200/(1+c_200))\n",
    "    M_200 = 4*Pi*rho0_init*Rs_MW**3 * f_200\n",
    "    num_DM = math.floor(M_200/DM_mass_Msun)\n",
    "\n",
    "    # Construct projection function.\n",
    "    def Proj(r, r_s, f_norm):\n",
    "        x = r/r_s\n",
    "        f_r = np.log(1+x) - (x/(1+x))\n",
    "        return f_r/f_norm\n",
    "\n",
    "    # Construct inverse function. Needs to be without numerical units.\n",
    "    invf = inversefunc(Proj, args=(Rs_MW/kpc, f_200))  \n",
    "\n",
    "    # Sample uniformly between [0,1] and project to corresponding radius.\n",
    "    sample = np.sort(np.random.uniform(size=num_DM))\n",
    "    r_sample = invf(sample)\n",
    "\n",
    "    # Sample for angles and convert to cartesian coordinates.\n",
    "    phis = np.random.uniform(0, 2*Pi, num_DM)  # uniform [0,2pi)\n",
    "    cos_thetas = 2.*np.random.uniform(0, 1, num_DM) - 1  # uniform [-1,1)\n",
    "\n",
    "    # Convert to cartesian coordinates.\n",
    "    x = r_sample*np.cos(phis)*np.sqrt(1. - cos_thetas**2)\n",
    "    y = r_sample*np.sin(phis)*np.sqrt(1. - cos_thetas**2)\n",
    "    z = r_sample*cos_thetas\n",
    "    coords = np.column_stack((x,y,z))\n",
    "\n",
    "    np.save(f'{out_dir}/benchmark_halo_snap_{snap}.npy', coords)"
   ]
  },
  {
   "attachments": {},
   "cell_type": "markdown",
   "metadata": {},
   "source": [
    "## Inverting procedure for each redshift (multiprocess), with commah"
   ]
  },
  {
   "cell_type": "code",
   "execution_count": null,
   "metadata": {},
   "outputs": [],
   "source": [
    "from shared.preface import *\n",
    "import shared.functions as fct\n",
    "\n",
    "PRE = PRE(\n",
    "    sim='L025N752', \n",
    "    z0_snap=36, z4_snap=13, DM_lim=10000,\n",
    "    sim_dir=SIM_ROOT, sim_ver=SIM_TYPE,\n",
    "    phis=10, thetas=10, vels=100,\n",
    "    pre_CPUs=128, sim_CPUs=128, mem_lim_GB=224\n",
    ")"
   ]
  },
  {
   "cell_type": "code",
   "execution_count": null,
   "metadata": {},
   "outputs": [],
   "source": [
    "import commah\n",
    "\n",
    "def halo_sample_z(z, snap, Mvir_z0, out_dir):\n",
    "\n",
    "    # Get the DM halo mass (and the number of DM particles for sample).\n",
    "    commah_output = commah.run('WMAP9', zi=0, Mi=Mvir_z0, z=z)\n",
    "    Mz = commah_output['Mz'][0,0]*Msun\n",
    "    num_DM = math.floor(Mz / PRE.DM_SIM_MASS)\n",
    "\n",
    "    # Get the concentration of the halo.\n",
    "    c_200 = commah_output['c'][0,0]\n",
    "\n",
    "    # Calculate R_200 and R_s (\"virial\" radius and scale radius).\n",
    "    R_200 = np.power(Mz / (200*fct.rho_crit(z)*4/3*Pi), 1./3.)\n",
    "    R_s = R_200 / c_200\n",
    "\n",
    "    # Construct projection function.\n",
    "    def Proj(r, r_s, norm):\n",
    "        x = r/r_s\n",
    "        return (np.log(1+x) - (x/(1+x)))/norm\n",
    "\n",
    "    # Construct inverse function. Needs to be without numerical units.\n",
    "    f_200 = np.log(1+c_200) - (c_200/(1+c_200))\n",
    "    invf = inversefunc(Proj, args=(R_s/kpc, f_200))  \n",
    "\n",
    "    # Sample uniformly between [0,1] and project to corresponding radius.\n",
    "    sample = np.sort(np.random.uniform(size=num_DM))\n",
    "    r_sample = invf(sample)\n",
    "\n",
    "    # Sample for angles and convert to cartesian coordinates.\n",
    "    phis = np.random.uniform(0, 2*Pi, num_DM)  # uniform [0,2pi)\n",
    "    cos_thetas = 2.*np.random.uniform(0, 1, num_DM) - 1  # uniform [-1,1)\n",
    "\n",
    "    # Convert to cartesian coordinates.\n",
    "    x = r_sample*np.cos(phis)*np.sqrt(1. - cos_thetas**2)\n",
    "    y = r_sample*np.sin(phis)*np.sqrt(1. - cos_thetas**2)\n",
    "    z = r_sample*cos_thetas\n",
    "    coords = np.column_stack((x,y,z))\n",
    "\n",
    "    np.save(f'{out_dir}/benchmark_halo_snap_{snap}.npy', coords)\n",
    "    # return coords\n",
    "\n",
    "# for zed, snap in zip(PRE.ZEDS_SNAPS[::-1], PRE.NUMS_SNAPS[::-1]):\n",
    "#     halo_sample_z(zed, snap, Mvir_MW/Msun, PRE.OUT_DIR)"
   ]
  },
  {
   "cell_type": "code",
   "execution_count": null,
   "metadata": {},
   "outputs": [],
   "source": [
    "with ProcessPoolExecutor(24) as ex:\n",
    "    ex.map(\n",
    "        halo_sample_z, PRE.ZEDS_SNAPS[::-1], PRE.NUMS_SNAPS[::-1],\n",
    "        repeat(Mvir_MW/Msun), repeat(PRE.OUT_DIR)\n",
    "    )"
   ]
  },
  {
   "cell_type": "code",
   "execution_count": null,
   "metadata": {},
   "outputs": [],
   "source": [
    "fig = plt.figure()\n",
    "ax = fig.add_subplot(111, projection='3d')\n",
    "\n",
    "for snap in PRE.NUMS_SNAPS[::-1][[0, 10]]:\n",
    "    coords = np.load(f'{PRE.OUT_DIR}/benchmark_halo_snap_{snap}.npy')\n",
    "    print(len(coords))\n",
    "    ss = 100\n",
    "    x, y, z = coords[:,0][::ss], coords[:,1][::ss], coords[:,2][::ss]\n",
    "    ax.scatter(x,y,z, alpha=1, s=0.05)\n",
    "plt.show()"
   ]
  },
  {
   "attachments": {},
   "cell_type": "markdown",
   "metadata": {},
   "source": [
    "## Density profile check."
   ]
  },
  {
   "cell_type": "code",
   "execution_count": null,
   "metadata": {},
   "outputs": [],
   "source": [
    "# Bin centers in kpc.\n",
    "radial_bins = 10**np.arange(0, 5, 0.1)\n",
    "centers = bin_centers(radial_bins)\n",
    "\n",
    "# Calculate density for each bin center.\n",
    "density = analyse_halo(DM_mass, coords)\n",
    "\n",
    "fig = plt.figure()\n",
    "\n",
    "# Density profile of sampled halo.\n",
    "u1, u2 = kpc, Msun/kpc**3\n",
    "r, d = centers*u1, density*u2\n",
    "plt.loglog(r/u1, d/u2, c='blue', label=f'sampled halo')\n",
    "\n",
    "# NFW density profile with parameters of sampled halo.\n",
    "rho_NFW = scale_density_NFW(c=c200)\n",
    "NFW = fct.NFW_profile(r, rho_NFW, r_s*kpc)\n",
    "plt.loglog(r/u1, NFW/u2, c='black', ls='-.', label='NFW')\n",
    "\n",
    "plt.title('Benchmark halo density profile')\n",
    "plt.xlabel('radius from halo center [kpc]')\n",
    "plt.ylabel('density in [Msun/kpc^3]')\n",
    "plt.xlim(np.min(r/kpc), 1.3*Rvir)\n",
    "plt.ylim(1e1, 1e9)\n",
    "plt.legend()\n",
    "plt.show()"
   ]
  }
 ],
 "metadata": {
  "kernelspec": {
   "display_name": "Python 3 (ipykernel)",
   "language": "python",
   "name": "python3"
  },
  "language_info": {
   "codemirror_mode": {
    "name": "ipython",
    "version": 3
   },
   "file_extension": ".py",
   "mimetype": "text/x-python",
   "name": "python",
   "nbconvert_exporter": "python",
   "pygments_lexer": "ipython3",
   "version": "3.9.13"
  },
  "orig_nbformat": 4,
  "vscode": {
   "interpreter": {
    "hash": "f9f85f796d01129d0dd105a088854619f454435301f6ffec2fea96ecbd9be4ac"
   }
  }
 },
 "nbformat": 4,
 "nbformat_minor": 2
}
