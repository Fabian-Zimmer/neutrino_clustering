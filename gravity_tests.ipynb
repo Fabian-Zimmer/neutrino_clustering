{
 "cells": [
  {
   "cell_type": "code",
   "execution_count": 2,
   "metadata": {},
   "outputs": [
    {
     "name": "stdout",
     "output_type": "stream",
     "text": [
      "Halo batch params (Rvir,Mvir,cNFW):\n",
      "[[329.17613982  12.58066253   8.41010098]\n",
      " [298.72978142  12.45421305  10.25293176]]\n",
      "2\n",
      "1719691\n",
      "(176, 1, 3)\n"
     ]
    }
   ],
   "source": [
    "from shared.preface import *\n",
    "import shared.functions as fct\n",
    "\n",
    "# ------------------------------------- #\n",
    "# Select halo to do gravity tests with. #\n",
    "# ------------------------------------- #\n",
    "\n",
    "sim = 'L012N376'\n",
    "snap = '0036'\n",
    "z = 0 \n",
    "mass_gauge = 12.5  # in log10 Msun\n",
    "mass_range = 0.3\n",
    "\n",
    "hname = f'1e+{mass_gauge}_pm{mass_range}Msun_Test'\n",
    "fct.halo_batch_indices(sim, snap, mass_gauge, mass_range, 'halos', hname)\n",
    "halo_batch_IDs = np.load(f'{sim}/halo_batch_{hname}_indices.npy')\n",
    "halo_batch_params = np.load(f'{sim}/halo_batch_{hname}_params.npy')\n",
    "halo_num = len(halo_batch_params)\n",
    "\n",
    "print('Halo batch params (Rvir,Mvir,cNFW):')\n",
    "print(halo_batch_params)\n",
    "\n",
    "halo_ID = halo_batch_IDs[1]\n",
    "print(halo_ID)\n",
    "halo_j = 1\n",
    "\n",
    "halo_rvir = halo_batch_params[halo_j, 0]\n",
    "halo_Mvir = halo_batch_params[halo_j, 1]\n",
    "halo_cNFW = halo_batch_params[halo_j, 2]\n",
    "\n",
    "halo_rvir *= kpc\n",
    "halo_Mvir = 10**halo_Mvir * Msun\n",
    "halo_rho0 = fct.scale_density_NFW(z, halo_cNFW)\n",
    "halo_Rs = halo_rvir / halo_cNFW\n",
    "\n",
    "\n",
    "# --------------------------- #\n",
    "# Read and load DM positions. #\n",
    "# --------------------------- #\n",
    "\n",
    "IDname = f'origID{halo_ID}_snap_{snap}_Test'\n",
    "fct.read_DM_halo_index(sim, snap, halo_ID, IDname)\n",
    "DM_raw = np.load(f'{sim}/DM_pos_{IDname}.npy')  \n",
    "\n",
    "print(len(DM_raw))\n",
    "\n",
    "# ---------------------- #\n",
    "# Cell division process. #\n",
    "# ---------------------- #\n",
    "\n",
    "# Initialize grid.\n",
    "GRID_L = (int(np.abs(DM_raw).max()) + 1)*kpc\n",
    "raw_grid = fct.grid_3D(GRID_L, GRID_L)  # to get 8 all-covering cells\n",
    "init_grid = np.expand_dims(raw_grid, axis=1)\n",
    "\n",
    "# Prepare arrays for cell division.\n",
    "DM_raw *= kpc\n",
    "DM_pos = np.expand_dims(DM_raw, axis=0)\n",
    "DM_pos_for_cell_division = np.repeat(DM_pos, len(init_grid), axis=0)\n",
    "\n",
    "# Cell division.\n",
    "DM_lim = 100000\n",
    "cell_division_count = fct.cell_division(\n",
    "    init_grid, DM_pos_for_cell_division, GRID_L, DM_lim, None, \n",
    "    sim, IDname\n",
    ")\n",
    "\n",
    "# Load files from cell division.\n",
    "fin_grid = np.load(f'{sim}/fin_grid_{IDname}.npy')\n",
    "DM_count = np.load(f'{sim}/DM_count_{IDname}.npy')\n",
    "cell_com = np.load(f'{sim}/cell_com_{IDname}.npy')\n",
    "cell_gen = np.load(f'{sim}/cell_gen_{IDname}.npy')\n",
    "\n",
    "print(fin_grid.shape)"
   ]
  },
  {
   "cell_type": "code",
   "execution_count": 3,
   "metadata": {},
   "outputs": [
    {
     "name": "stdout",
     "output_type": "stream",
     "text": [
      "(176, 1, 3) (176,) (176, 3) (176,)\n",
      "-1\n",
      "snapshot 0036 : cell division rounds: 3\n"
     ]
    }
   ],
   "source": [
    "print(fin_grid.shape, DM_count.shape, cell_com.shape, cell_gen.shape)\n",
    "print(DM_count.sum() - len(DM_raw))\n",
    "# note: 1 DM particle is \"missing\" in grid\n",
    "print(f'snapshot {snap} : cell division rounds: {cell_division_count}')"
   ]
  },
  {
   "cell_type": "code",
   "execution_count": null,
   "metadata": {},
   "outputs": [],
   "source": [
    "# --------------------------------------------- #\n",
    "# Calculate gravity grid (in batches of cells). #\n",
    "# --------------------------------------------- #\n",
    "\n",
    "batch_size = 50\n",
    "bs_cc = chunks(batch_size, fin_grid)\n",
    "bs_count = chunks(batch_size, DM_count)\n",
    "bs_com = chunks(batch_size, cell_com)\n",
    "bs_gen = chunks(batch_size, cell_gen)\n",
    "\n",
    "b_nums = []\n",
    "for b, (b_cc,  b_gen,  b_com,  b_count) in enumerate(\n",
    "    zip(bs_cc, bs_gen, bs_com, bs_count)\n",
    "):\n",
    "    b_nums.append(b)\n",
    "    b_cc = np.array(b_cc)\n",
    "    b_gen = np.array(b_gen)\n",
    "    b_com = np.array(b_com)\n",
    "    b_count = np.array(b_count)\n",
    "\n",
    "    # Calculate gravity in each cell in current batch.\n",
    "    b_DM = np.repeat(DM_pos, len(b_cc), axis=0)\n",
    "    bname = f'batch{b}_Test'\n",
    "    fct.cell_gravity(\n",
    "        b_cc, b_com, b_gen, b_DM, b_count, \n",
    "        sim, bname\n",
    "    )\n",
    "bs_nums = np.array(b_nums)\n",
    "\n",
    "# Combine and then delete batch files.\n",
    "dPsi_batches = [\n",
    "    np.load(f'{sim}/dPsi_grid_batch{b}_Test.npy') for b in bs_nums\n",
    "]\n",
    "dPsi_fin = np.array(list(chain.from_iterable(dPsi_batches)))\n",
    "np.save(f'{sim}/dPsi_grid_{IDname}.npy', dPsi_fin)\n",
    "\n",
    "# Delete intermediate data.\n",
    "fct.delete_temp_data(f'{sim}/dPsi_*batch*Test.npy') \n",
    "fct.delete_temp_data(f'{sim}/DM_pos_*.npy')"
   ]
  }
 ],
 "metadata": {
  "kernelspec": {
   "display_name": "Python 3.9.5 ('neutrino_clustering')",
   "language": "python",
   "name": "python3"
  },
  "language_info": {
   "codemirror_mode": {
    "name": "ipython",
    "version": 3
   },
   "file_extension": ".py",
   "mimetype": "text/x-python",
   "name": "python",
   "nbconvert_exporter": "python",
   "pygments_lexer": "ipython3",
   "version": "3.9.5"
  },
  "orig_nbformat": 4,
  "vscode": {
   "interpreter": {
    "hash": "8a0d5d0f2e48edd2cdf812a3eedd1dc78c628b894b9ae93ffd6b09cf9a60bf81"
   }
  }
 },
 "nbformat": 4,
 "nbformat_minor": 2
}
