{
 "cells": [
  {
   "cell_type": "code",
   "execution_count": null,
   "metadata": {},
   "outputs": [],
   "source": [
    "from shared.preface import *\n",
    "from shared.shared_functions import *\n",
    "\n",
    "Nside = 2**2  # Specified nside parameter, power of 2\n",
    "Npix = 12 * Nside**2  # Number of pixels\n",
    "pix_sr = (4*np.pi)/Npix  # Pixel size  [sr]\n",
    "\n",
    "# Galactic coordinates.\n",
    "phi_angles, theta_angles = np.array(\n",
    "    hp.pixelfunc.pix2ang(Nside, np.arange(Npix), lonlat=True)\n",
    ")\n",
    "\n",
    "ic(phi_angles, theta_angles)"
   ]
  },
  {
   "attachments": {},
   "cell_type": "markdown",
   "metadata": {},
   "source": [
    "## Mass & Rvir evolution of selected halos."
   ]
  },
  {
   "cell_type": "code",
   "execution_count": 23,
   "metadata": {},
   "outputs": [
    {
     "name": "stderr",
     "output_type": "stream",
     "text": [
      "ic| halo_IDs: array([28])\n",
      "ic| R_200/kpc: array([[190.91191887, 190.04071832, 186.89035685, 182.79055872,\n",
      "                       178.87118083, 175.38477675, 173.07927226, 172.77594279,\n",
      "                       171.35606604, 171.70148095, 171.92970643, 171.11349376,\n",
      "                       166.05074648, 153.21640537, 143.2723855 , 138.54667688,\n",
      "                       135.28242581, 133.99886993, 134.81875027, 134.75229748,\n",
      "                       131.75803846, 123.94637784, 108.63712745,  99.96151359,\n",
      "                        68.03003096]])\n"
     ]
    }
   ],
   "source": [
    "from shared.preface import *\n",
    "from shared.shared_functions import *\n",
    "\n",
    "\n",
    "folder = f'L025N752/DMONLY/SigmaConstant00/all_sky_control'\n",
    "tree_path = f'{folder}/MergerTree.hdf5'\n",
    "halo_IDs = np.load(f'{folder}/halo_batch_1e+12.0_pm0.6Msun_indices.npy')\n",
    "ic(halo_IDs)\n",
    "\n",
    "with h5py.File(tree_path) as tree:\n",
    "\n",
    "    Masses_box = tree['Assembly_history/Mass'][halo_IDs.flatten(),:]\n",
    "    # ic(tree['Assembly_history'].keys())\n",
    "    zeds_box = tree['Assembly_history/Redshift']\n",
    "    Masses = np.asarray(Masses_box)*Msun\n",
    "    zeds = np.asarray(zeds_box)\n",
    "\n",
    "    # Box parameters.\n",
    "    with open(f'{folder}/box_parameters.yaml', 'r') as file:\n",
    "        box_setup = yaml.safe_load(file)\n",
    "    H0 = box_setup['Cosmology']['h']*100*km/s/Mpc\n",
    "    Omega_M = box_setup['Cosmology']['Omega_M']\n",
    "    Omega_L = box_setup['Cosmology']['Omega_L']\n",
    "\n",
    "    R_200 = []\n",
    "    for z, Mz in zip(zeds, Masses):\n",
    "        rho_c = fct_rho_crit(z, H0, Omega_M, Omega_L)\n",
    "        R_200.append(np.power(Mz / (200*rho_c*4/3*Pi), 1./3.))\n",
    "    R_200 = np.array(R_200)\n",
    "\n",
    "    ic(R_200/kpc)\n",
    "\n"
   ]
  },
  {
   "cell_type": "code",
   "execution_count": null,
   "metadata": {},
   "outputs": [],
   "source": [
    "from shared.preface import *\n",
    "from shared.shared_functions import *\n",
    "\n",
    "# folder = 'L025N752/DMONLY/SigmaConstant00/all_sky_high_res_TEST/temp_data_TEST'\n",
    "# paths = glob.glob(f'{folder}/DM_pos_origID*_snap_0036.npy')\n",
    "# for i, path in enumerate(paths):\n",
    "#     sarr = np.load(path)\n",
    "#     # print(type(sarr.shape[0]))\n",
    "#     # print(sarr.itemsize*sarr.size/1e6)\n",
    "#     np.save(f'DM_pos_for_plots/DM_pos_halo_with_{sarr.shape[0]}', sarr)\n",
    "\n",
    "folder = 'L025N752/DMONLY/SigmaConstant00/all_sky_high_res_TEST'\n",
    "# zints = np.load(f'{folder}/z_int_steps.npy')\n",
    "# sints = np.load(f'{folder}/s_int_steps.npy')\n",
    "# znow = np.interp(0, sints, zints)\n",
    "# print(znow)\n",
    "\n",
    "# cell_len_init = np.load(f'{folder}/CELL_LEN_INIT.npy')\n",
    "# cell_cc_init = np.load(f'{folder}/CELL_CC_INIT.npy')\n",
    "# print(cell_len_init/kpc)\n",
    "# print(np.linalg.norm(cell_cc_init/kpc))\n",
    "\n",
    "with open(f'{folder}/box_parameters.yaml', 'r') as file:\n",
    "    box_setup = yaml.safe_load(file)\n",
    "\n",
    "box_file_dir = box_setup['File Paths']['Box File Directory']\n",
    "snap = '0036'\n",
    "snaps = h5py.File(f'{box_file_dir}/snapshot_{snap}.hdf5')\n",
    "densities = snaps['PartType1/Densities']\n",
    "print(densities.shape, 752**3)\n",
    "minDens, maxDens = np.min(densities)*gram/cm**3, np.max(densities)*gram/cm**3"
   ]
  },
  {
   "cell_type": "code",
   "execution_count": 3,
   "metadata": {},
   "outputs": [
    {
     "name": "stderr",
     "output_type": "stream",
     "text": [
      "ic| init_xyz: array([-6.2578125, -2.0859375, -6.2578125])\n",
      "ic| np.linalg.norm(init_xyz): 9.092390765041875\n"
     ]
    },
    {
     "data": {
      "text/plain": [
       "9.092390765041875"
      ]
     },
     "execution_count": 3,
     "metadata": {},
     "output_type": "execute_result"
    }
   ],
   "source": [
    "from shared.preface import *\n",
    "from shared.shared_functions import *\n",
    "\n",
    "haloID = 28\n",
    "cell_ccs = np.squeeze(np.load(f'L025N752/DMONLY/SigmaConstant00/all_sky_control/temp_data_TEST/fin_grid_origID{haloID}_snap_0036.npy'))\n",
    "cell_ccs_kpc = cell_ccs/kpc\n",
    "cell_dis = np.linalg.norm(cell_ccs_kpc, axis=-1)\n",
    "init_dis = 8.178\n",
    "\n",
    "# Take first cell, which is in Earth-like position (there can be multiple).\n",
    "init_xyz = cell_ccs[np.abs(cell_dis - init_dis).argsort()][0]/kpc.flatten()\n",
    "ic(init_xyz)\n",
    "ic(np.linalg.norm(init_xyz))"
   ]
  },
  {
   "cell_type": "code",
   "execution_count": 1,
   "metadata": {},
   "outputs": [
    {
     "ename": "NameError",
     "evalue": "name 'np' is not defined",
     "output_type": "error",
     "traceback": [
      "\u001b[0;31m---------------------------------------------------------------------------\u001b[0m",
      "\u001b[0;31mNameError\u001b[0m                                 Traceback (most recent call last)",
      "\u001b[1;32m/home/zimmer/neutrino_clustering_V2/testground.ipynb Cell 6\u001b[0m in \u001b[0;36m2\n\u001b[1;32m     <a href='vscode-notebook-cell://ssh-remote%2Bsnellius.surf.nl/home/zimmer/neutrino_clustering_V2/testground.ipynb#W5sdnNjb2RlLXJlbW90ZQ%3D%3D?line=19'>20</a>\u001b[0m         \u001b[39mreturn\u001b[39;00m {\n\u001b[1;32m     <a href='vscode-notebook-cell://ssh-remote%2Bsnellius.surf.nl/home/zimmer/neutrino_clustering_V2/testground.ipynb#W5sdnNjb2RlLXJlbW90ZQ%3D%3D?line=20'>21</a>\u001b[0m             \u001b[39m'\u001b[39m\u001b[39mdPsi_grid\u001b[39m\u001b[39m'\u001b[39m: data[\u001b[39m'\u001b[39m\u001b[39mdPsi_grid\u001b[39m\u001b[39m'\u001b[39m]\u001b[39m.\u001b[39mcopy(),\n\u001b[1;32m     <a href='vscode-notebook-cell://ssh-remote%2Bsnellius.surf.nl/home/zimmer/neutrino_clustering_V2/testground.ipynb#W5sdnNjb2RlLXJlbW90ZQ%3D%3D?line=21'>22</a>\u001b[0m             \u001b[39m'\u001b[39m\u001b[39mcell_grid\u001b[39m\u001b[39m'\u001b[39m: data[\u001b[39m'\u001b[39m\u001b[39mcell_grid\u001b[39m\u001b[39m'\u001b[39m]\u001b[39m.\u001b[39mcopy(),\n\u001b[1;32m     <a href='vscode-notebook-cell://ssh-remote%2Bsnellius.surf.nl/home/zimmer/neutrino_clustering_V2/testground.ipynb#W5sdnNjb2RlLXJlbW90ZQ%3D%3D?line=22'>23</a>\u001b[0m             \u001b[39m'\u001b[39m\u001b[39mcell_gens\u001b[39m\u001b[39m'\u001b[39m: data[\u001b[39m'\u001b[39m\u001b[39mcell_gens\u001b[39m\u001b[39m'\u001b[39m]\u001b[39m.\u001b[39mcopy(),\n\u001b[1;32m     <a href='vscode-notebook-cell://ssh-remote%2Bsnellius.surf.nl/home/zimmer/neutrino_clustering_V2/testground.ipynb#W5sdnNjb2RlLXJlbW90ZQ%3D%3D?line=23'>24</a>\u001b[0m         }\n\u001b[1;32m     <a href='vscode-notebook-cell://ssh-remote%2Bsnellius.surf.nl/home/zimmer/neutrino_clustering_V2/testground.ipynb#W5sdnNjb2RlLXJlbW90ZQ%3D%3D?line=25'>26</a>\u001b[0m folder \u001b[39m=\u001b[39m \u001b[39m'\u001b[39m\u001b[39mL025N752/DMONLY/SigmaConstant00/all_sky_TEST\u001b[39m\u001b[39m'\u001b[39m\n\u001b[0;32m---> <a href='vscode-notebook-cell://ssh-remote%2Bsnellius.surf.nl/home/zimmer/neutrino_clustering_V2/testground.ipynb#W5sdnNjb2RlLXJlbW90ZQ%3D%3D?line=26'>27</a>\u001b[0m nums_snaps \u001b[39m=\u001b[39m np\u001b[39m.\u001b[39mload(\u001b[39mf\u001b[39m\u001b[39m'\u001b[39m\u001b[39m{\u001b[39;00mfolder\u001b[39m}\u001b[39;00m\u001b[39m/nums_snaps.npy\u001b[39m\u001b[39m'\u001b[39m)\n\u001b[1;32m     <a href='vscode-notebook-cell://ssh-remote%2Bsnellius.surf.nl/home/zimmer/neutrino_clustering_V2/testground.ipynb#W5sdnNjb2RlLXJlbW90ZQ%3D%3D?line=27'>28</a>\u001b[0m temp_dir \u001b[39m=\u001b[39m \u001b[39mf\u001b[39m\u001b[39m'\u001b[39m\u001b[39m{\u001b[39;00mfolder\u001b[39m}\u001b[39;00m\u001b[39m/temp_data_TEST\u001b[39m\u001b[39m'\u001b[39m\n\u001b[1;32m     <a href='vscode-notebook-cell://ssh-remote%2Bsnellius.surf.nl/home/zimmer/neutrino_clustering_V2/testground.ipynb#W5sdnNjb2RlLXJlbW90ZQ%3D%3D?line=28'>29</a>\u001b[0m halo_ID \u001b[39m=\u001b[39m \u001b[39m28\u001b[39m\n",
      "\u001b[0;31mNameError\u001b[0m: name 'np' is not defined"
     ]
    }
   ],
   "source": [
    "class PreloadedData:\n",
    "    def __init__(self, halo_ID, nums_snaps, temp_dir):\n",
    "        self.halo_ID = halo_ID\n",
    "        self.nums_snaps = nums_snaps\n",
    "        self.temp_dir = temp_dir\n",
    "        self.data_files = {}\n",
    "\n",
    "        # Preload data\n",
    "        for snap in self.nums_snaps:\n",
    "            fname = f'origID{self.halo_ID}_snap_{snap}'\n",
    "            self.data_files[fname] = {\n",
    "                'dPsi_grid': np.load(f'{self.temp_dir}/dPsi_grid_{fname}.npy'),\n",
    "                'cell_grid': np.load(f'{self.temp_dir}/fin_grid_{fname}.npy'),\n",
    "                'cell_gens': np.load(f'{self.temp_dir}/cell_gen_{fname}.npy'),\n",
    "            }\n",
    "\n",
    "    def get_data_for_snap(self, snap):\n",
    "        fname = f'origID{self.halo_ID}_snap_{snap}'\n",
    "        data = self.data_files[fname]\n",
    "        return {\n",
    "            'dPsi_grid': data['dPsi_grid'].copy(),\n",
    "            'cell_grid': data['cell_grid'].copy(),\n",
    "            'cell_gens': data['cell_gens'].copy(),\n",
    "        }\n",
    "\n",
    "folder = 'L025N752/DMONLY/SigmaConstant00/all_sky_TEST'\n",
    "nums_snaps = np.load(f'{folder}/nums_snaps.npy')\n",
    "temp_dir = f'{folder}/temp_data_TEST'\n",
    "halo_ID = 28\n",
    "snap = '0036'\n",
    "\n",
    "# Create an instance of the PreloadedData class\n",
    "preloaded_data = PreloadedData(halo_ID, nums_snaps, temp_dir)\n",
    "\n",
    "\n",
    "# Find a cell fitting initial distance criterium, then get (x,y,z) of that \n",
    "# cell for starting position.\n",
    "\n",
    "# Load grid data and compute radial distances from center of cell centers.\n",
    "cell_ccs = np.squeeze(preloaded_data.get_data_for_snap(snap)['cell_grid'])\n",
    "cell_ccs_kpc = cell_ccs/kpc\n",
    "cell_dis = np.linalg.norm(cell_ccs_kpc, axis=-1)\n",
    "\n",
    "# Take first cell, which is in Earth-like position (there can be multiple).\n",
    "# Needs to be without kpc units (thus doing /kpc) for simulation start.\n",
    "init_xyz = cell_ccs[np.abs(cell_dis - init_dis).argsort()][0]/kpc.flatten()\n",
    "ic(init_xyz)\n",
    "ic(np.linalg.norm(init_xyz))\n",
    "ic(np.linalg.norm(init_xyz)-8.178)\n",
    "# np.save(f'{folder}/init_xyz_haloID{halo_ID}.npy', init_xyz)"
   ]
  },
  {
   "cell_type": "code",
   "execution_count": null,
   "metadata": {},
   "outputs": [],
   "source": [
    "hp.nside2npix(2**2)"
   ]
  },
  {
   "attachments": {},
   "cell_type": "markdown",
   "metadata": {},
   "source": [
    "## Speed up."
   ]
  },
  {
   "cell_type": "code",
   "execution_count": null,
   "metadata": {},
   "outputs": [],
   "source": [
    "from shared.preface import *\n",
    "from shared.shared_functions import *\n",
    "\n",
    "# delete_temp_data('L025N752/DMONLY/SigmaConstant00/all_sky_TEST/temp_data_TEST/nu_*.npy')\n",
    "\n",
    "directory = f'L025N752/DMONLY/SigmaConstant00/all_sky_TEST'\n",
    "\n",
    "shell_multipliers = np.load(f'{directory}/shell_multipliers.npy')\n",
    "FCT_shell_multipliers = np.copy(shell_multipliers)\n",
    "DM_shell_edges = np.load(f'{directory}/DM_shell_edges.npy')  # *kpc already\n",
    "FCT_DM_shell_edges = np.copy(DM_shell_edges)\n",
    "\n",
    "\n",
    "# def nu_in_which_cell(x_i, cell_coords, cell_gens, init_GRID_S):\n",
    "    \n",
    "#     # Number of cells.\n",
    "#     num_cells = cell_coords.shape[0]\n",
    "\n",
    "#     # \"Center\" the neutrino coordinates on the cell coordinates.\n",
    "#     x_diff = x_i - cell_coords.reshape(num_cells, 3)\n",
    "\n",
    "#     # Calculate cell lengths.\n",
    "#     cell_lens = init_GRID_S / (2 ** (cell_gens + 1))\n",
    "\n",
    "#     # Find the indices of cells in which the neutrino is enclosed\n",
    "#     in_cell = np.empty(num_cells, dtype=np.bool_)\n",
    "#     for i in range(num_cells):\n",
    "#         in_cell[i] = np.all(np.abs(x_diff[i]) < cell_lens[i])\n",
    "\n",
    "#     ic(in_cell)\n",
    "\n",
    "#     # Get the index of the first cell in which the neutrino is enclosed\n",
    "#     cell_idx = np.argmax(in_cell)\n",
    "\n",
    "#     return cell_idx\n"
   ]
  },
  {
   "attachments": {},
   "cell_type": "markdown",
   "metadata": {},
   "source": [
    "## Snaprange"
   ]
  },
  {
   "cell_type": "code",
   "execution_count": null,
   "metadata": {},
   "outputs": [],
   "source": [
    "from shared.preface import *\n",
    "from shared.shared_functions import *\n",
    "\n",
    "nums_snaps = np.load('L025N752/DMONLY/SigmaConstant00/all_sky_analytical_tests/nums_snaps.npy')\n",
    "\n",
    "def make_snap_range(snap_start, snap_stop):\n",
    "    snap_range = [f'{s:04d}' for s in range(snap_start, snap_stop+1)]\n",
    "    return np.array(snap_range)\n",
    "\n",
    "snap_range = make_snap_range(snap_start=34,snap_stop=36)\n",
    "\n",
    "snap_IDs = np.array([np.where(s == nums_snaps) for s in snap_range]).flatten()\n",
    "print(snap_IDs)"
   ]
  },
  {
   "attachments": {},
   "cell_type": "markdown",
   "metadata": {},
   "source": [
    "## Generic 3D plot."
   ]
  },
  {
   "cell_type": "code",
   "execution_count": null,
   "metadata": {},
   "outputs": [],
   "source": [
    "fig = plt.figure()\n",
    "ax = fig.add_subplot(111, projection='3d')\n",
    "\n",
    "cond = ()\n",
    "x_DM, y_DM, z_DM = DM_pos_orig[:,0], DM_pos_orig[:,1], DM_pos_orig[:,2]\n",
    "cut = 1\n",
    "x, y, z = x_DM[1::cut], y_DM[1::cut], z_DM[1::cut]\n",
    "ax.scatter(x, y, z, alpha=1, c='blueviolet', s=0.0001, label='DM particles')\n",
    "# ax.scatter(0.465, 0.025, 8.48, c='green', s=100, label='Earth')\n",
    "axlim = 20\n",
    "# ax.set_xlabel('x-axis?')\n",
    "ax.set_xlim(-axlim, axlim)\n",
    "ax.set_ylim(-axlim, axlim)\n",
    "ax.set_zlim(-axlim, axlim)\n",
    "ax.view_init(elev=0, azim=0)\n",
    "plt.legend(loc='upper right')\n",
    "plt.show()"
   ]
  },
  {
   "attachments": {},
   "cell_type": "markdown",
   "metadata": {},
   "source": [
    "## Quiver plot for directionality."
   ]
  },
  {
   "cell_type": "code",
   "execution_count": null,
   "metadata": {},
   "outputs": [],
   "source": [
    "from shared.preface import *\n",
    "from shared.shared_functions import *\n",
    "\n",
    "\n",
    "reso = 'low'\n",
    "init_vels = np.load(\n",
    "    f'L025N752/DMONLY/SigmaConstant00/{reso}_res_all_sky/initial_velocities.npy'\n",
    ")\n",
    "ic(init_vels.shape)\n",
    "\n",
    "def vel_arrows(\n",
    "    pos_coords, vel_coords\n",
    "):\n",
    "\n",
    "    # Coordinates in position space.\n",
    "    pX = pos_coords[:,0]\n",
    "    pY = pos_coords[:,1]\n",
    "    pZ = pos_coords[:,2]\n",
    "\n",
    "    # Coordinates in velocity space.\n",
    "\n",
    "    vX = vel_coords[:,0]\n",
    "    vY = vel_coords[:,1]\n",
    "    vZ = vel_coords[:,2]\n",
    "\n",
    "    fig = plt.figure()\n",
    "    ax = fig.add_subplot(111, projection='3d')\n",
    "\n",
    "    start, stop = 0, -1 \n",
    "    # start, stop = 100, -1 \n",
    "    ax.quiver(\n",
    "        pX[start:stop], pY[start:stop], pZ[start:stop], \n",
    "        vX[start:stop], vY[start:stop], vZ[start:stop], \n",
    "        length=0.05, normalize=True\n",
    "    )\n",
    "    ax.set_xlabel('x-axis')\n",
    "    ax.set_ylabel('y-axis')\n",
    "    ax.set_zlabel('z-axis')\n",
    "    ax.view_init(elev=90, azim=0)\n",
    "\n",
    "    plt.show()\n",
    "\n",
    "\n",
    "vel_coords = init_vels[:,0,:]\n",
    "vel_coords = vel_coords[vel_coords[...,0] > 0.]\n",
    "pos_coords = np.zeros((len(vel_coords),3))\n",
    "vel_arrows(pos_coords, vel_coords)"
   ]
  },
  {
   "attachments": {},
   "cell_type": "markdown",
   "metadata": {},
   "source": [
    "## Healpix conventions: pixel numbering and axes."
   ]
  },
  {
   "cell_type": "code",
   "execution_count": 9,
   "metadata": {},
   "outputs": [
    {
     "name": "stderr",
     "output_type": "stream",
     "text": [
      "ic| np.min(phi_angles): 0.0, np.max(phi_angles): 354.375\n",
      "ic| f'{uX:.2f}': '1.00'\n",
      "ic| f'{uY:.2f}': '0.00'\n",
      "ic| f'{uZ:.2f}': '0.00'\n"
     ]
    },
    {
     "data": {
      "text/plain": [
       "'\\n### ---------------------- ###\\n### Testing DM projection. ###\\n### ---------------------- ###\\n\\nDM_test = np.array([0, 0, 0])\\nobs_xyz = np.array([6.6, -6.6, -6.6])\\nDM_obs_cent = DM_test - obs_xyz\\nDM_proj_XY_plane_dis = np.sqrt(np.sum(DM_obs_cent[:2]**2, axis=-1))\\nDM_obs_dis = np.sqrt(np.sum(DM_obs_cent**2, axis=-1))\\n\\nthetas = np.arctan2(DM_obs_cent[2], DM_proj_XY_plane_dis)\\nphis = np.arctan2(DM_obs_cent[1], DM_obs_cent[0])\\n\\nhp_glon, hp_glat = np.rad2deg(phis), np.rad2deg(thetas)\\n\\n# Convert angles to pixel indices using ang2pix.\\npixel_indices = hp.ang2pix(Nside, hp_glon, hp_glat, lonlat=True)\\n\\n# Increment the corresponding pixels of empty healpix map.\\nhealpix_map = np.zeros(Npix)\\nnp.add.at(healpix_map, pixel_indices, 1)\\n\\nfig = plt.figure(figsize =(12, 6))\\nax1 = fig.add_subplot(111)\\nax1.spines[\\'top\\'].set_visible(False)\\nax1.spines[\\'right\\'].set_visible(False)\\nax1.spines[\\'bottom\\'].set_visible(False)\\nax1.spines[\\'left\\'].set_visible(False)\\nax1.get_xaxis().set_ticks([])\\nax1.get_yaxis().set_ticks([])\\nsubax1 = 111\\n\\nhp.newvisufunc.projview(\\n    healpix_map,\\n    coord=[\\'G\\'],\\n    title=f\\'Test\\',\\n    unit=r\\'\\',\\n    graticule=True,\\n    graticule_labels=True,\\n    xlabel=\"longitude\",\\n    ylabel=\"latitude\",\\n    cb_orientation=\"horizontal\",\\n    projection_type=\"mollweide\",\\n    flip=\\'astro\\',\\n    latitude_grid_spacing=45,\\n    longitude_grid_spacing=45,\\n    sub=subax1\\n)\\n\\n# note: scatter has inverse x-axis, must take -phis (tested)\\nplt.scatter(-phis, thetas, c=\\'red\\', s=20)\\nplt.show()\\n\\n# '"
      ]
     },
     "execution_count": 9,
     "metadata": {},
     "output_type": "execute_result"
    },
    {
     "data": {
      "image/png": "[encoded data removed]",
      "text/plain": [
       "<Figure size 850x535.5 with 2 Axes>"
      ]
     },
     "metadata": {},
     "output_type": "display_data"
    }
   ],
   "source": [
    "from shared.preface import *\n",
    "from shared.shared_functions import *\n",
    "\n",
    "Nside = 2**3  # Specified nside parameter, power of 2\n",
    "Npix = 12 * Nside**2  # Number of pixels\n",
    "pix_sr = (4*np.pi)/Npix  # Pixel size  [sr]\n",
    "\n",
    "# '''\n",
    "### --------------------------- ###\n",
    "### Testing initial velocities. ###\n",
    "### --------------------------- ###\n",
    "\n",
    "# Galactic coordinates.\n",
    "phi_angles, theta_angles = np.array(\n",
    "    hp.pixelfunc.pix2ang(Nside, np.arange(Npix), lonlat=True)\n",
    ")\n",
    "ic(np.min(phi_angles), np.max(phi_angles))\n",
    "# ic(theta_angles)\n",
    "\n",
    "bt = 0\n",
    "lt = \n",
    "# note: only works for positive l (phi), and pix2ang gives phi_angles [0, 2Pi]\n",
    "theta_angles = theta_angles[np.abs(theta_angles - np.rad2deg(bt)).argmin()]\n",
    "phi_angles = phi_angles[np.abs(phi_angles - np.rad2deg(lt)).argmin()]\n",
    "\n",
    "glat = np.deg2rad(theta_angles)\n",
    "glon = np.deg2rad(phi_angles)\n",
    "\n",
    "# note: the choice of these 3 equations determines the orientation of x,y,z\n",
    "# note: the signs of uX,uY,uZ corresponds to the directions of the spatial axes\n",
    "uX = np.squeeze(np.array([np.cos(glat)*np.cos(glon)]))\n",
    "uY = np.squeeze(np.array([np.cos(glat)*np.sin(glon)]))\n",
    "uZ = np.squeeze(np.array([np.sin(glat)]))\n",
    "\n",
    "u_proj_XY_plane_dis = np.sqrt(uX**2 + uY**2)\n",
    "\n",
    "ic(f'{uX:.2f}') \n",
    "ic(f'{uY:.2f}')\n",
    "ic(f'{uZ:.2f}')\n",
    "\n",
    "\n",
    "thetas = np.arctan2(uZ, u_proj_XY_plane_dis)\n",
    "phis = np.arctan2(uY, uX)\n",
    "\n",
    "hp_glon, hp_glat = np.rad2deg(phis), np.rad2deg(thetas)\n",
    "\n",
    "# Convert angles to pixel indices using ang2pix.\n",
    "pixel_indices = hp.ang2pix(Nside, hp_glon, hp_glat, lonlat=True)\n",
    "\n",
    "# Increment the corresponding pixels of empty healpix map.\n",
    "healpix_map2 = np.zeros(Npix)\n",
    "np.add.at(healpix_map2, pixel_indices, 1)\n",
    "\n",
    "hp.newvisufunc.projview(\n",
    "    healpix_map2,\n",
    "    coord=['G'],\n",
    "    title=f'Test',\n",
    "    unit=r'',\n",
    "    graticule=True,\n",
    "    graticule_labels=True,\n",
    "    xlabel=\"longitude\",\n",
    "    ylabel=\"latitude\",\n",
    "    cb_orientation=\"horizontal\",\n",
    "    projection_type=\"mollweide\",\n",
    "    flip='astro'\n",
    ")\n",
    "# '''\n",
    "\n",
    "\n",
    "'''\n",
    "### ---------------------- ###\n",
    "### Testing DM projection. ###\n",
    "### ---------------------- ###\n",
    "\n",
    "DM_test = np.array([0, 0, 0])\n",
    "obs_xyz = np.array([6.6, -6.6, -6.6])\n",
    "DM_obs_cent = DM_test - obs_xyz\n",
    "DM_proj_XY_plane_dis = np.sqrt(np.sum(DM_obs_cent[:2]**2, axis=-1))\n",
    "DM_obs_dis = np.sqrt(np.sum(DM_obs_cent**2, axis=-1))\n",
    "\n",
    "thetas = np.arctan2(DM_obs_cent[2], DM_proj_XY_plane_dis)\n",
    "phis = np.arctan2(DM_obs_cent[1], DM_obs_cent[0])\n",
    "\n",
    "hp_glon, hp_glat = np.rad2deg(phis), np.rad2deg(thetas)\n",
    "\n",
    "# Convert angles to pixel indices using ang2pix.\n",
    "pixel_indices = hp.ang2pix(Nside, hp_glon, hp_glat, lonlat=True)\n",
    "\n",
    "# Increment the corresponding pixels of empty healpix map.\n",
    "healpix_map = np.zeros(Npix)\n",
    "np.add.at(healpix_map, pixel_indices, 1)\n",
    "\n",
    "fig = plt.figure(figsize =(12, 6))\n",
    "ax1 = fig.add_subplot(111)\n",
    "ax1.spines['top'].set_visible(False)\n",
    "ax1.spines['right'].set_visible(False)\n",
    "ax1.spines['bottom'].set_visible(False)\n",
    "ax1.spines['left'].set_visible(False)\n",
    "ax1.get_xaxis().set_ticks([])\n",
    "ax1.get_yaxis().set_ticks([])\n",
    "subax1 = 111\n",
    "\n",
    "hp.newvisufunc.projview(\n",
    "    healpix_map,\n",
    "    coord=['G'],\n",
    "    title=f'Test',\n",
    "    unit=r'',\n",
    "    graticule=True,\n",
    "    graticule_labels=True,\n",
    "    xlabel=\"longitude\",\n",
    "    ylabel=\"latitude\",\n",
    "    cb_orientation=\"horizontal\",\n",
    "    projection_type=\"mollweide\",\n",
    "    flip='astro',\n",
    "    latitude_grid_spacing=45,\n",
    "    longitude_grid_spacing=45,\n",
    "    sub=subax1\n",
    ")\n",
    "\n",
    "# note: scatter has inverse x-axis, must take -phis (tested)\n",
    "plt.scatter(-phis, thetas, c='red', s=20)\n",
    "plt.show()\n",
    "\n",
    "# '''"
   ]
  },
  {
   "attachments": {},
   "cell_type": "markdown",
   "metadata": {},
   "source": [
    "## Rotation matrices for DM projection to healpix map."
   ]
  },
  {
   "cell_type": "code",
   "execution_count": null,
   "metadata": {},
   "outputs": [],
   "source": [
    "from shared.preface import *\n",
    "from shared.shared_functions import *\n",
    "\n",
    "init_dis = 8.5\n",
    "orig_xyz = np.array([init_dis, 0, 0.])\n",
    "ic(orig_xyz)\n",
    "xE = np.cos(np.deg2rad(Pi))*np.sin(np.deg2rad(Pi))*init_dis\n",
    "yE = np.sin(np.deg2rad(Pi))*np.sin(np.deg2rad(Pi))*init_dis\n",
    "zE = np.cos(np.deg2rad(Pi))*init_dis\n",
    "init_xyz = np.array([xE, yE, zE])\n",
    "# ic(init_xyz)\n",
    "\n",
    "# Rotations happen in clockwise direction, when viewed from the positive top of \n",
    "# the axis around which rotation happends. \n",
    "# note: See GoodNotes drawing, for orientation of axes the functions assume.\n",
    "\n",
    "# Earth was on x-axis originally. Applying matrix with positive angles will \n",
    "# result in going to the new earth frame, where now the original position is \n",
    "# seen from earths frame.\n",
    "# This matrix must be used, to get all the DM in this new frame, such that we \n",
    "# can project it on the healpix map#!\n",
    "order = 'zyx'\n",
    "z_rot = Pi\n",
    "y_rot = -Pi\n",
    "x_rot = 0\n",
    "rotation_mat_for_map = rotation_matrix(z_rot, y_rot, x_rot, order)\n",
    "# ic(rotation_mat)\n",
    "# angles = rotation_angles(rotation_mat, order)\n",
    "# print(angles)\n",
    "rot_xyz = np.matmul(rotation_mat_for_map, orig_xyz)\n",
    "ic(rot_xyz)\n",
    "\n",
    "# Rotation matrix with negative angles must be used, to get earths slightly \n",
    "# shifted position (needed for the cell edge issue) in the original frame, \n",
    "# where all the simulation happens#!\n",
    "rotation_mat_for_sim = rotation_matrix(-z_rot, -y_rot, -x_rot, order)\n",
    "\n",
    "\n",
    "### TEST ###\n",
    "\n",
    "# Take a DM particle in the original frame with coordinates (x,y,z)_DM and \n",
    "# earth position in the same frame with (x,y,z)_E, where Earth is not \n",
    "# positioned on the x-axis. The only thing that we have to do, to \"rotate\" the \n",
    "# DM particle into the frame, where Earth is again on the x-axis connecting it \n",
    "# to the halo center, is to multiply (x,y,z)_DM by the rotation matrix, which \n",
    "# brought earth to be at the location in the original frame in the first place.\n",
    "\n",
    "# note: We can get the galactic latitude and galactic longitude in the frame, where Earth lies on the x-axis (see drawings) connecting it to the halo center.\n",
    "\n",
    "# Step 1: Original positions.\n",
    "DM_test = np.array([-5, 1, 5])  # DM particle in original frame\n",
    "\n",
    "# Offset Earth position from x-axis (because of the cell edge issue).\n",
    "rot_mat = rotation_matrix(0, 0, 20, order)\n",
    "\n",
    "# DM particle in earths frame.\n",
    "DM_earth = np.matmul(rot_mat, DM_test)\n",
    "ic('************')\n",
    "ic(DM_test)\n",
    "ic(DM_earth)"
   ]
  },
  {
   "attachments": {},
   "cell_type": "markdown",
   "metadata": {},
   "source": [
    "## Visual of all colorcet maps."
   ]
  },
  {
   "cell_type": "code",
   "execution_count": null,
   "metadata": {},
   "outputs": [],
   "source": [
    "from colorcet.plotting import swatch, swatches\n",
    "import holoviews as hv\n",
    "hv.extension('matplotlib')\n",
    "\n",
    "swatches(group='diverging')"
   ]
  },
  {
   "attachments": {},
   "cell_type": "markdown",
   "metadata": {},
   "source": [
    "## Old stuff: to be analyzed and documented."
   ]
  },
  {
   "cell_type": "code",
   "execution_count": null,
   "metadata": {},
   "outputs": [],
   "source": [
    "def nu_in_which_cell(x_i, cell_coords, cell_gens, init_GRID_S):\n",
    "\n",
    "    # print(x_i.shape)  # (3,)\n",
    "    # print(cell_coords.shape)  # (cells, 1, 3)\n",
    "    # print(cell_gens.shape)  # (cells,)\n",
    "\n",
    "    # Center neutrino coords. on each cell center (whole grid).\n",
    "    x_i = np.repeat(np.expand_dims(x_i, axis=(0,1)), len(cell_coords), axis=0)\n",
    "    x_i -= cell_coords\n",
    "\n",
    "    # All cell lengths. Limit for the largest cell is GRID_S/2, not just \n",
    "    # GRID_S, therefore the cell_gen+1 !\n",
    "    cell_lens = np.expand_dims(init_GRID_S/(2**(cell_gens+1)), axis=1)\n",
    "    # print(cell_lens.shape)  # (cells, 1)\n",
    "    # print(x_i[...,0].shape)  # (cells, 1)\n",
    "\n",
    "    # Find index of cell in which neutrino is enclosed.\n",
    "    in_cell = np.asarray(\n",
    "        (np.abs(x_i[...,0]) < cell_lens) & \n",
    "        (np.abs(x_i[...,1]) < cell_lens) & \n",
    "        (np.abs(x_i[...,2]) < cell_lens)\n",
    "    )\n",
    "    cell_idx = np.argwhere(in_cell==True).flatten()[0]  # np.int64\n",
    "\n",
    "    return cell_idx\n",
    "\n",
    "\n",
    "# Load files.\n",
    "out_dir = 'L025N752/DMONLY/SigmaConstant00'\n",
    "temp_dir = f'{out_dir}/temp_data_TEST'\n",
    "cell_coords = np.load(f'{temp_dir}/fin_grid_origID28_snap_0014.npy')\n",
    "cell_gens = np.load(f'{temp_dir}/cell_gen_origID28_snap_0014.npy')\n",
    "init_GRID_S = np.load(f'{out_dir}/snaps_GRID_L.npy')[2]\n",
    "print('Cells for this snap:', len(cell_coords))\n",
    "\n",
    "with open(f'{out_dir}/sim_parameters.yaml', 'r') as file:\n",
    "    sim_setup = yaml.safe_load(file)\n",
    "\n",
    "init_dis = sim_setup['initial_haloGC_distance']\n",
    "xE = np.cos(np.deg2rad(Pi))*np.sin(np.deg2rad(Pi))*init_dis\n",
    "yE = np.sin(np.deg2rad(Pi))*np.sin(np.deg2rad(Pi))*init_dis\n",
    "zE = np.cos(np.deg2rad(Pi))*init_dis\n",
    "x_i = np.array([xE, yE, zE])*kpc\n",
    "\n",
    "cell_idx = nu_in_which_cell(x_i, cell_coords, cell_gens, init_GRID_S)"
   ]
  },
  {
   "cell_type": "code",
   "execution_count": null,
   "metadata": {},
   "outputs": [],
   "source": [
    "from itertools import zip_longest\n",
    "\n",
    "x1 = np.arange(3)+6\n",
    "x2 = np.arange(5)+6\n",
    "\n",
    "y1 = np.arange(3)+25\n",
    "y2 = np.arange(5)+25\n",
    "\n",
    "lx1d = [x1,x2]\n",
    "ly1d = [y1,y2]\n",
    "\n",
    "arrx2d = np.array(list(zip_longest(*lx1d, fillvalue=np.nan))).T\n",
    "arry2d = np.array(list(zip_longest(*ly1d, fillvalue=np.nan))).T\n",
    "\n",
    "print(arrx2d)\n",
    "print(arrx2d.shape)\n",
    "print(arry2d)\n",
    "print(arry2d.shape)\n",
    "\n",
    "fin = np.stack((arrx2d, arry2d), axis=2)\n",
    "print(fin)"
   ]
  },
  {
   "cell_type": "code",
   "execution_count": null,
   "metadata": {},
   "outputs": [],
   "source": [
    "from itertools import product, combinations\n",
    "\n",
    "arra = [[1,2],[3,4],[5,6]]\n",
    "arrb = [4,5,6]\n",
    "arrc = np.array(list(combinations(arra, 2)))\n",
    "print(arrc)\n",
    "print(np.product(arrc, axis=1))"
   ]
  },
  {
   "cell_type": "code",
   "execution_count": null,
   "metadata": {},
   "outputs": [],
   "source": [
    "count_arr = np.arange(4)+2\n",
    "print(count_arr)\n",
    "count_arr[0] = 0.\n",
    "count_arr[1] = 0.\n",
    "count_arr[2] = 0.\n",
    "# count_arr[3] = 0.\n",
    "print(count_arr)\n",
    "\n",
    "if np.all(count_arr==0):\n",
    "    DM_axis0 = np.full(shape=(len(count_arr),1,3), fill_value=np.nan)\n",
    "else:\n",
    "    x_arr = np.arange(np.sum(count_arr))\n",
    "    breaks = np.cumsum(count_arr[:-1])\n",
    "    x_split = np.split(x_arr, breaks)\n",
    "    # print(x_split)\n",
    "    DM_axis0 = np.array(list(zip_longest(*x_split, fillvalue=np.nan))).T\n",
    "\n",
    "\n",
    "print(DM_axis0)"
   ]
  },
  {
   "cell_type": "code",
   "execution_count": null,
   "metadata": {},
   "outputs": [],
   "source": [
    "DM_count_mpoles = np.array([2])\n",
    "\n",
    "x_arr = np.arange(np.sum(DM_count_mpoles))\n",
    "breaks = np.cumsum(DM_count_mpoles[:-1])\n",
    "x_split = np.split(x_arr, breaks)\n",
    "print(x_split)\n",
    "DM_axis0 = np.array(list(zip_longest(*x_split, fillvalue=np.nan))).T\n",
    "DM_axis1 = np.array(list(zip_longest(*x_split, fillvalue=np.nan))).T\n",
    "DM_axis2 = np.array(list(zip_longest(*x_split, fillvalue=np.nan))).T\n",
    "print(DM_axis0)\n",
    "DM_mpoles = np.stack((DM_axis0, DM_axis1, DM_axis2), axis=2)\n",
    "print(DM_mpoles)"
   ]
  },
  {
   "cell_type": "markdown",
   "metadata": {},
   "source": [
    "shapes/nums: 267 (267,) 1 (3,) (267, 3) (267,) 394.0 (1, 457240, 3) (267,) (457239, 2)"
   ]
  },
  {
   "cell_type": "code",
   "execution_count": null,
   "metadata": {},
   "outputs": [],
   "source": [
    "from shared.preface import *\n",
    "import shared.functions as fct\n",
    "\n",
    "PRE = PRE(\n",
    "    sim='L025N752', \n",
    "    z0_snap=36, z4_snap=13, DM_lim=1000,\n",
    "    sim_dir=SIM_ROOT, sim_ver=SIM_TYPE,\n",
    "    phis=20, thetas=20, vels=200,\n",
    "    pre_CPUs=10, sim_CPUs=128\n",
    ")\n",
    "\n",
    "\n",
    "# Make temporary folder to store files, s.t. parallel runs don't clash.\n",
    "rand_code = ''.join(\n",
    "    random.choices(string.ascii_uppercase + string.digits, k=4)\n",
    ")\n",
    "TEMP_DIR = f'{PRE.OUT_DIR}/temp_data_{rand_code}'\n",
    "os.makedirs(TEMP_DIR)\n",
    "\n",
    "Testing = False\n",
    "if Testing:\n",
    "    mass_gauge = 12.3\n",
    "    mass_range = 0.3\n",
    "    size = 1\n",
    "else:\n",
    "    mass_gauge = 12.0\n",
    "    mass_range = 0.6\n",
    "    size = 10\n",
    "\n",
    "hname = f'1e+{mass_gauge}_pm{mass_range}Msun'\n",
    "fct.halo_batch_indices(\n",
    "    PRE.Z0_STR, mass_gauge, mass_range, 'halos', size, \n",
    "    hname, PRE.SIM_DIR, TEMP_DIR\n",
    ")\n",
    "halo_batch_IDs = np.load(f'{TEMP_DIR}/halo_batch_{hname}_indices.npy')\n",
    "halo_batch_params = np.load(f'{TEMP_DIR}/halo_batch_{hname}_params.npy')\n",
    "halo_num = len(halo_batch_params)\n",
    "\n",
    "print('********Number density band********')\n",
    "print('Halo batch params (Rvir,Mvir,cNFW):')\n",
    "print(halo_batch_params)\n",
    "print('***********************************')\n",
    "\n",
    "# Remove temporary folder with all individual neutrino files.\n",
    "shutil.rmtree(TEMP_DIR)"
   ]
  },
  {
   "cell_type": "code",
   "execution_count": null,
   "metadata": {},
   "outputs": [],
   "source": [
    "from shared.preface import *\n",
    "import shared.functions as fct\n",
    "\n",
    "# Initialize parameters and files.\n",
    "PRE = PRE(\n",
    "    sim='L012N376', \n",
    "    z0_snap=36, z4_snap=13, DM_lim=1000,\n",
    "    sim_dir=SIM_ROOT, sim_ver=SIM_TYPE,\n",
    "    phis=10, thetas=10, vels=100,\n",
    "    pre_CPUs=6, sim_CPUs=6\n",
    ")\n",
    "\n",
    "Testing=False\n",
    "if Testing:\n",
    "    mass_gauge = 12.3\n",
    "    mass_range = 0.3\n",
    "    size = 1\n",
    "else:\n",
    "    mass_gauge = 12.0\n",
    "    mass_range = 0.6\n",
    "    size = 10\n",
    "\n",
    "hname = f'1e+{mass_gauge}_pm{mass_range}Msun'\n",
    "fct.halo_batch_indices(\n",
    "    PRE.Z0_STR, mass_gauge, mass_range, 'halos', size, \n",
    "    hname, PRE.SIM_DIR, PRE.OUT_DIR\n",
    ")\n",
    "halo_batch_IDs = np.load(f'{PRE.OUT_DIR}/halo_batch_{hname}_indices.npy')\n",
    "halo_batch_params = np.load(f'{PRE.OUT_DIR}/halo_batch_{hname}_params.npy')\n",
    "halo_num = len(halo_batch_params)\n",
    "\n",
    "print('********Number density band********')\n",
    "print('Halo batch params (Rvir,Mvir,cNFW):')\n",
    "print(halo_batch_params)\n",
    "print('***********************************')"
   ]
  },
  {
   "cell_type": "markdown",
   "metadata": {},
   "source": [
    "# Tests for CubeSpace components."
   ]
  },
  {
   "cell_type": "markdown",
   "metadata": {},
   "source": [
    "# Tests for functions in shared/functions.py"
   ]
  },
  {
   "cell_type": "markdown",
   "metadata": {},
   "source": [
    "### Optimal momentum spacing."
   ]
  },
  {
   "cell_type": "code",
   "execution_count": null,
   "metadata": {},
   "outputs": [],
   "source": [
    "from shared.preface import *\n",
    "import shared.functions as fct\n",
    "\n",
    "Vs = 200\n",
    "LOWER = 0.01*T_CNB\n",
    "UPPER = 10*T_CNB\n",
    "\n",
    "fig, ax = plt.subplots(1,1)\n",
    "\n",
    "v_tot_min = 1/np.sqrt(NU_MASSES[-1]**2/LOWER**2 + 1) / (kpc/s)\n",
    "v_tot_max = 1/np.sqrt(NU_MASSES[0]**2/UPPER**2 + 1) / (kpc/s)\n",
    "v_lines = np.geomspace(v_tot_min, v_tot_max, 5)\n",
    "\n",
    "v_tot_geo = np.geomspace(v_tot_min, v_tot_max, Vs)\n",
    "ax.scatter(v_tot_geo, v_tot_geo+(1.1*v_tot_geo), s=2)\n",
    "\n",
    "for v0, v1 in zip(v_lines[:-1], v_lines[1:]):\n",
    "    v_segment = np.geomspace(v0, v1, int(Vs/4))\n",
    "    ax.scatter(v_segment, v_segment, s=2)\n",
    "    ax.axvline(v0, ls=':', c='r')\n",
    "\n",
    "plt.xscale('log')\n",
    "plt.yscale('log')\n",
    "plt.show()"
   ]
  },
  {
   "cell_type": "code",
   "execution_count": null,
   "metadata": {},
   "outputs": [],
   "source": [
    "from shared.preface import *\n",
    "import shared.functions as fct\n",
    "\n",
    "\n",
    "fig, ax = plt.subplots(1,1)\n",
    "\n",
    "momenta = np.geomspace(0.01*T_CNB, 10*T_CNB, 100)\n",
    "v_kpc = 1/np.sqrt(NU_MASS**2/momenta**2 + 1) / (kpc/s)  # rel. formula\n",
    "ax.scatter(v_kpc, v_kpc, s=2)\n",
    "\n",
    "# plt.xscale('log')\n",
    "# plt.yscale('log')\n",
    "plt.show()"
   ]
  },
  {
   "cell_type": "markdown",
   "metadata": {},
   "source": [
    "### Conversions between momentum to velocity."
   ]
  },
  {
   "cell_type": "code",
   "execution_count": null,
   "metadata": {},
   "outputs": [],
   "source": [
    "from shared.preface import *\n",
    "import shared.functions as fct\n",
    "\n",
    "Vs = 100\n",
    "LOWER = 0.01*T_CNB\n",
    "UPPER = 400.*T_CNB\n",
    "\n",
    "# Momentum range.\n",
    "MOMENTA = np.geomspace(LOWER, UPPER, Vs)\n",
    "NU_MASSES = np.array([0.01, 0.05, 0.1, 0.3])\n",
    "\n",
    "# Without Lorentz factor.\n",
    "v_mins = np.zeros(len(NU_MASSES))\n",
    "v_maxs = np.zeros(len(NU_MASSES))\n",
    "for i, m_nu in enumerate(NU_MASSES):\n",
    "    v_km = MOMENTA / m_nu / (m/s)\n",
    "    v_min, v_max = v_km[0], v_km[-1]\n",
    "    print(f'(m/s) -> v_min = {v_min:.2f}, v_max = {v_max:.2f}, %c = {v_max/const.c.value*100:.2f} : for {m_nu} eV neutrino')\n",
    "\n",
    "    v_mins[i] = v_min\n",
    "    v_maxs[i] = v_max\n",
    "\n",
    "# With Lorentz factor.\n",
    "v_mins = np.zeros(len(NU_MASSES))\n",
    "v_maxs = np.zeros(len(NU_MASSES))\n",
    "for m_nu in NU_MASSES:\n",
    "    v_km = 1/np.sqrt(m_nu**2/MOMENTA**2 + 1) / (m/s)\n",
    "    v_min, v_max = v_km[0], v_km[-1]\n",
    "    print(f'(m/s) -> v_min = {v_min:.2f}, v_max = {v_max:.2f}, %c = {v_max/const.c.value*100:.2f} : for {m_nu} eV neutrino')\n",
    "\n",
    "#! Since the sim is using 0.3 eV mass, the max. velocity present in the sim is \n",
    "#! ~20% of c, not the ~98% of the 0.01 eV neutrino (see output of cell).\n",
    "\n",
    "# Back to momentum to check formulas & functions."
   ]
  },
  {
   "cell_type": "markdown",
   "metadata": {},
   "source": [
    "### Coordinates of Andromeda (AG) and the Virgo Cluster (VC)."
   ]
  },
  {
   "cell_type": "code",
   "execution_count": null,
   "metadata": {},
   "outputs": [],
   "source": [
    "# Cross-check with values in Mertsch et al. (2020).\n",
    "# -> x and y coords. are switched, since our setup is different,\n",
    "# and my x (their y) coords. differ by 8.5 kpc due to placement of sun\n",
    "# on our x-axis.\n",
    "coords_VC = fct.halo_pos(GLAT_VC, GLON_VC, DIST_VC/kpc)\n",
    "print(coords_VC, 'in kpc')\n",
    "coords_AG = fct.halo_pos(GLAT_AG, GLON_AG, DIST_AG/kpc)\n",
    "print(coords_AG, 'in kpc')"
   ]
  },
  {
   "cell_type": "markdown",
   "metadata": {},
   "source": [
    "### Values in Table 1 of Mertsch et al. (2020)."
   ]
  },
  {
   "cell_type": "code",
   "execution_count": null,
   "metadata": {},
   "outputs": [],
   "source": [
    "Rvir_Tab1 = fct.R_vir_fct(0, Mvir_MW)\n",
    "print(Rvir_Tab1/kpc)\n",
    "c_vir_Tab1 = fct.c_vir(0, Mvir_MW, Rvir_MW, Rs_MW)\n",
    "Rs_Tab1 = Rvir_Tab1 / c_vir_Tab1\n",
    "print(Rs_Tab1/kpc)"
   ]
  },
  {
   "cell_type": "markdown",
   "metadata": {},
   "source": [
    "### Critical density of universe."
   ]
  },
  {
   "cell_type": "code",
   "execution_count": null,
   "metadata": {},
   "outputs": [],
   "source": [
    "rho_crit_today = fct.rho_crit(0)\n",
    "print(f'{rho_crit_today*(Msun/kpc**3)/(kg/m**3):.2e} kg/m^3') "
   ]
  },
  {
   "cell_type": "markdown",
   "metadata": {},
   "source": [
    "### Time Variable s(z) and comparison to age of universe."
   ]
  },
  {
   "cell_type": "code",
   "execution_count": null,
   "metadata": {},
   "outputs": [],
   "source": [
    "# In s_of_z function we use\n",
    "H0_mod = H0/ (1/s)\n",
    "print(H0_mod)\n",
    "\n",
    "test_z = 1\n",
    "s_val = fct.s_of_z(test_z)\n",
    "print(f'Value of time variable s in seconds at redhshift {test_z}:','\\n', s_val)\n",
    "print(\n",
    "    'Age of universe comparison: \\n', \n",
    "    f'\"Observed/measured\": {t0/s:.2e}, i.e. {t0/Gyr:.2f} Gyr \\n', \n",
    "    f'What we use in s_of_z function: {1/H0/s:.2e}, i.e. {1/H0/Gyr:.2f} Gyr'\n",
    ")"
   ]
  },
  {
   "cell_type": "markdown",
   "metadata": {},
   "source": [
    "### Integrals for cosmic time."
   ]
  },
  {
   "cell_type": "code",
   "execution_count": null,
   "metadata": {},
   "outputs": [],
   "source": [
    "def t_integrand_a(a):\n",
    "\n",
    "    # We need value of H0 in units of 1/s.\n",
    "    H0_val = H0/(1/s)\n",
    "\n",
    "    a_dot = np.sqrt(Omega_M/a**3 + Omega_L)*H0_val*a\n",
    "    t_int = 1./a_dot\n",
    "\n",
    "    return t_int\n",
    "\n",
    "t, err = quad(t_integrand_a, 0, 1)\n",
    "t_uni, err_uni = t, err\n",
    "print(t_uni*s/Gyr, err_uni*s/Gyr)"
   ]
  },
  {
   "cell_type": "code",
   "execution_count": null,
   "metadata": {},
   "outputs": [],
   "source": [
    "def t_integrand_z(z):\n",
    "\n",
    "    # We need value of H0 in units of 1/s.\n",
    "    H0_val = H0/(1/s)\n",
    "\n",
    "    a_dot = np.sqrt(Omega_M*(1.+z)**3 + Omega_L)*H0_val*(1.+z)\n",
    "    t_int = 1./a_dot\n",
    "\n",
    "    return t_int\n",
    "\n",
    "t, err = quad(t_integrand_z, 0, np.inf)\n",
    "t_uni, err_uni = t, err\n",
    "print(t_uni*s/Gyr, err_uni*s/Gyr)"
   ]
  },
  {
   "cell_type": "markdown",
   "metadata": {},
   "source": [
    "### Fermi-Dirac distribution."
   ]
  },
  {
   "cell_type": "code",
   "execution_count": null,
   "metadata": {},
   "outputs": [],
   "source": [
    "p_test_range = np.linspace(0.01, 10)*T_CNB\n",
    "FD_range = fct.Fermi_Dirac(p_test_range)\n",
    "\n",
    "plt.loglog(p_test_range/T_CNB, FD_range)\n",
    "plt.show()"
   ]
  },
  {
   "cell_type": "markdown",
   "metadata": {},
   "source": [
    "### Redshift array for integration steps."
   ]
  },
  {
   "cell_type": "code",
   "execution_count": null,
   "metadata": {},
   "outputs": [],
   "source": [
    "# Linear spacing.\n",
    "# late_steps = 200\n",
    "# early_steps = 100\n",
    "# Z_START, Z_STOP, Z_AMOUNT = 0., 4., late_steps+early_steps\n",
    "# z_late = np.linspace(0,1,late_steps)\n",
    "# z_early = np.linspace(1.01,4,early_steps)\n",
    "# ZEDS = np.concatenate((z_late, z_early))\n",
    "\n",
    "# Logarithmic spacing.\n",
    "Z_AMOUNT = 50\n",
    "z_shift = 1e-1\n",
    "ZEDS = np.geomspace(z_shift, 4.+z_shift, Z_AMOUNT) - z_shift\n",
    "\n",
    "plt.scatter(ZEDS, ZEDS, s=1)\n",
    "plt.scatter(ZEDS_SNAPSHOTS, ZEDS_SNAPSHOTS+0.1, s=1)\n",
    "plt.show()\n",
    "print(ZEDS[0:10], ZEDS[-1])"
   ]
  },
  {
   "cell_type": "markdown",
   "metadata": {},
   "source": [
    "### NFW density profile fct."
   ]
  },
  {
   "cell_type": "code",
   "execution_count": null,
   "metadata": {},
   "outputs": [],
   "source": [
    "r_range = np.geomspace(1e-3, 100, 100)*kpc\n",
    "NFW_vals = fct.NFW_profile(r_range, rho0_MW, Rs_MW)\n",
    "plt.loglog(r_range/kpc, NFW_vals/(GeV/cm**3))"
   ]
  },
  {
   "cell_type": "markdown",
   "metadata": {},
   "source": [
    "### Typical grav. potential gradient vectors in spher. symmetric simulation."
   ]
  },
  {
   "cell_type": "code",
   "execution_count": null,
   "metadata": {},
   "outputs": [],
   "source": [
    "z = 0\n",
    "\n",
    "# For position of Sun/Earth.\n",
    "x_i = X_SUN*kpc\n",
    "grad_MW = fct.dPsi_dxi_NFW(x_i, z, rho0_MW, Mvir_MW, Rvir_MW, Rs_MW, 'MW')\n",
    "grad_MW /= (kpc/s**2)\n",
    "print('Position of Sun/Earth:')\n",
    "print(grad_MW)\n",
    "print(np.sqrt(np.sum(grad_MW**2)), '\\n')\n",
    "\n",
    "# For a position closer to the center of the halo.\n",
    "x_i = np.array([0.01, 0, 0])*kpc\n",
    "grad_MW = fct.dPsi_dxi_NFW(x_i, z, rho0_MW, Mvir_MW, Rvir_MW, Rs_MW, 'MW')\n",
    "grad_MW /= (kpc/s**2)\n",
    "print('Position close to center:')\n",
    "print(grad_MW)\n",
    "print(np.sqrt(np.sum(grad_MW**2)), '\\n')\n",
    "\n",
    "# For a position further away to the center of the halo.\n",
    "x_i = np.array([333., 0, 0])*kpc\n",
    "grad_MW = fct.dPsi_dxi_NFW(x_i, z, rho0_MW, Mvir_MW, Rvir_MW, Rs_MW, 'MW')\n",
    "grad_MW /= (kpc/s**2)\n",
    "print('Position at virial radius:')\n",
    "print(grad_MW)\n",
    "print(np.sqrt(np.sum(grad_MW**2)))"
   ]
  }
 ],
 "metadata": {
  "kernelspec": {
   "display_name": "Python 3 (ipykernel)",
   "language": "python",
   "name": "python3"
  },
  "language_info": {
   "codemirror_mode": {
    "name": "ipython",
    "version": 3
   },
   "file_extension": ".py",
   "mimetype": "text/x-python",
   "name": "python",
   "nbconvert_exporter": "python",
   "pygments_lexer": "ipython3",
   "version": "3.9.5"
  },
  "orig_nbformat": 4,
  "vscode": {
   "interpreter": {
    "hash": "f9f85f796d01129d0dd105a088854619f454435301f6ffec2fea96ecbd9be4ac"
   }
  }
 },
 "nbformat": 4,
 "nbformat_minor": 2
}
