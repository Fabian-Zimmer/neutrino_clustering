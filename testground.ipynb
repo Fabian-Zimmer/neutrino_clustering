{
 "cells": [
  {
   "cell_type": "code",
   "execution_count": 3,
   "metadata": {},
   "outputs": [],
   "source": [
    "from shared.preface import *\n",
    "import shared.functions as fct"
   ]
  },
  {
   "cell_type": "markdown",
   "metadata": {},
   "source": [
    "### Rearranging 2D array along one axis."
   ]
  },
  {
   "cell_type": "code",
   "execution_count": null,
   "metadata": {},
   "outputs": [],
   "source": [
    "x2D = np.arange(6).reshape(2,3)\n",
    "print(x2D)\n",
    "\n",
    "ind2D = np.array([[1,0,2], [2,1,0]])\n",
    "\n",
    "ax0 = np.arange(x2D.shape[0])[:,None]\n",
    "\n",
    "print(ax0.shape, ind2D.shape)\n",
    "\n",
    "new_x2D = x2D[ax0, ind2D]\n",
    "print(new_x2D)"
   ]
  },
  {
   "cell_type": "markdown",
   "metadata": {},
   "source": [
    "### Rearranging 3D array along one axis."
   ]
  },
  {
   "cell_type": "code",
   "execution_count": null,
   "metadata": {},
   "outputs": [],
   "source": [
    "x3D = np.arange(18).reshape(2,3,3)\n",
    "print(x3D)\n",
    "ind3D = np.array([[1,0,2], [2,1,0]])[:,:,None]\n",
    "\n",
    "ax0 = np.arange(x3D.shape[0])[:,None,None]\n",
    "ax2 = np.arange(x3D.shape[2])[None,None,:]\n",
    "\n",
    "new_x3D = x3D[ax0,ind3D,ax2]\n",
    "print(new_x3D)"
   ]
  },
  {
   "cell_type": "markdown",
   "metadata": {},
   "source": [
    "### Conversions between momentum to velocity."
   ]
  },
  {
   "cell_type": "code",
   "execution_count": null,
   "metadata": {},
   "outputs": [],
   "source": [
    "NU_MASSES = np.array([0.01, 0.05, 0.1, 0.3])*eV\n",
    "Vs = 100\n",
    "LOWER = 0.01*T_CNB\n",
    "UPPER = 400*T_CNB\n",
    "\n",
    "# Momentum range.\n",
    "MOMENTA = np.geomspace(LOWER, UPPER, Vs)\n",
    "\n",
    "\n",
    "# Without Lorentz factor.\n",
    "v_mins = np.zeros(len(NU_MASSES))\n",
    "v_maxs = np.zeros(len(NU_MASSES))\n",
    "for i, m_nu in enumerate(NU_MASSES):\n",
    "    v_km = MOMENTA / m_nu / (m/s)\n",
    "    v_min, v_max = v_km[0], v_km[-1]\n",
    "    print(f'(m/s) -> v_min = {v_min:.2f}, v_max = {v_max:.2f}, %c = {v_max/const.c.value*100:.2f} : for {m_nu} eV neutrino')\n",
    "\n",
    "    v_mins[i] = v_min\n",
    "    v_maxs[i] = v_max\n",
    "\n",
    "\n",
    "# for m_nu in NU_MASSES:\n",
    "\n",
    "\n",
    "\n",
    "# With Lorentz factor.\n",
    "v_mins = np.zeros(len(NU_MASSES))\n",
    "v_maxs = np.zeros(len(NU_MASSES))\n",
    "for m_nu in NU_MASSES:\n",
    "    v_km = 1/np.sqrt(m_nu**2/MOMENTA**2 + 1) / (m/s)\n",
    "    v_min, v_max = v_km[0], v_km[-1]\n",
    "    print(f'(m/s) -> v_min = {v_min:.2f}, v_max = {v_max:.2f}, %c = {v_max/const.c.value*100:.2f} : for {m_nu} eV neutrino')\n",
    "\n",
    "\n",
    "#! Since the sim is using 0.3 eV mass, the max. velocity present in the sim is \n",
    "#! ~20% of c, not the ~98% of the 0.01 eV neutrino (see output of cell).\n",
    "\n",
    "\n",
    "# Back to momentum to check formulas & functions.\n"
   ]
  },
  {
   "cell_type": "markdown",
   "metadata": {},
   "source": [
    "### Coordinates of Andromeda (AG) and the Virgo Cluster (VC)."
   ]
  },
  {
   "cell_type": "code",
   "execution_count": null,
   "metadata": {},
   "outputs": [],
   "source": [
    "# Cross-check with values in Mertsch et al. (2020).\n",
    "# -> x and y coords. are switched, since our setup is different,\n",
    "# and my x (their y) coords. differ by 8.5 kpc due to placement of sun\n",
    "# on our x-axis.\n",
    "coords_VC = fct.halo_pos(GLAT_VC, GLON_VC, DIST_VC/kpc)\n",
    "print(coords_VC, 'in kpc')\n",
    "coords_AG = fct.halo_pos(GLAT_AG, GLON_AG, DIST_AG/kpc)\n",
    "print(coords_AG, 'in kpc')"
   ]
  },
  {
   "cell_type": "markdown",
   "metadata": {},
   "source": [
    "### Values in Table 1 of Mertsch et al. (2020)."
   ]
  },
  {
   "cell_type": "code",
   "execution_count": null,
   "metadata": {},
   "outputs": [],
   "source": [
    "Rvir_Tab1 = fct.R_vir_fct(0, Mvir_MW)\n",
    "print(Rvir_Tab1/kpc)\n",
    "c_vir_Tab1 = fct.c_vir(0, Mvir_MW, Rvir_MW, Rs_MW)\n",
    "Rs_Tab1 = Rvir_Tab1 / c_vir_Tab1\n",
    "print(Rs_Tab1/kpc)"
   ]
  },
  {
   "cell_type": "markdown",
   "metadata": {},
   "source": [
    "### Critical density of universe."
   ]
  },
  {
   "cell_type": "code",
   "execution_count": null,
   "metadata": {},
   "outputs": [],
   "source": [
    "rho_crit_today = fct.rho_crit(0)\n",
    "print(f'{rho_crit_today*(Msun/kpc**3)/(kg/m**3):.2e} kg/m^3') "
   ]
  },
  {
   "cell_type": "markdown",
   "metadata": {},
   "source": [
    "### Time Variable s(z) and comparison to age of universe."
   ]
  },
  {
   "cell_type": "code",
   "execution_count": null,
   "metadata": {},
   "outputs": [],
   "source": [
    "# In s_of_z function we use\n",
    "H0_mod = H0/ (1/s)\n",
    "print(H0_mod)\n",
    "\n",
    "test_z = 1\n",
    "s_val = fct.s_of_z(test_z)\n",
    "print(f'Value of time variable s in seconds at redhshift {test_z}:','\\n', s_val)\n",
    "print(\n",
    "    'Age of universe comparison: \\n', \n",
    "    f'\"Observed/measured\": {t0/s:.2e}, i.e. {t0/Gyr:.2f} Gyr \\n', \n",
    "    f'What we use in s_of_z function: {1/H0/s:.2e}, i.e. {1/H0/Gyr:.2f} Gyr'\n",
    ")"
   ]
  },
  {
   "cell_type": "markdown",
   "metadata": {},
   "source": [
    "### Integrals for cosmic time."
   ]
  },
  {
   "cell_type": "code",
   "execution_count": null,
   "metadata": {},
   "outputs": [],
   "source": [
    "def t_integrand_a(a):\n",
    "\n",
    "    # We need value of H0 in units of 1/s.\n",
    "    H0_val = H0/(1/s)\n",
    "\n",
    "    a_dot = np.sqrt(Omega_M/a**3 + Omega_L)*H0_val*a\n",
    "    t_int = 1./a_dot\n",
    "\n",
    "    return t_int\n",
    "\n",
    "t, err = quad(t_integrand_a, 0, 1)\n",
    "t_uni, err_uni = t, err\n",
    "print(t_uni*s/Gyr, err_uni*s/Gyr)"
   ]
  },
  {
   "cell_type": "code",
   "execution_count": null,
   "metadata": {},
   "outputs": [],
   "source": [
    "def t_integrand_z(z):\n",
    "\n",
    "    # We need value of H0 in units of 1/s.\n",
    "    H0_val = H0/(1/s)\n",
    "\n",
    "    a_dot = np.sqrt(Omega_M*(1.+z)**3 + Omega_L)*H0_val*(1.+z)\n",
    "    t_int = 1./a_dot\n",
    "\n",
    "    return t_int\n",
    "\n",
    "t, err = quad(t_integrand_z, 0, np.inf)\n",
    "t_uni, err_uni = t, err\n",
    "print(t_uni*s/Gyr, err_uni*s/Gyr)"
   ]
  },
  {
   "cell_type": "markdown",
   "metadata": {},
   "source": [
    "### Fermi-Dirac distribution."
   ]
  },
  {
   "cell_type": "code",
   "execution_count": null,
   "metadata": {},
   "outputs": [],
   "source": [
    "p_test_range = np.linspace(0.01, 10)*T_CNB\n",
    "FD_range = fct.Fermi_Dirac(p_test_range)\n",
    "\n",
    "plt.loglog(p_test_range/T_CNB, FD_range)\n",
    "plt.show()"
   ]
  },
  {
   "cell_type": "markdown",
   "metadata": {},
   "source": [
    "### Redshift array for integration steps."
   ]
  },
  {
   "cell_type": "code",
   "execution_count": null,
   "metadata": {},
   "outputs": [],
   "source": [
    "# Linear spacing.\n",
    "# late_steps = 200\n",
    "# early_steps = 100\n",
    "# Z_START, Z_STOP, Z_AMOUNT = 0., 4., late_steps+early_steps\n",
    "# z_late = np.linspace(0,1,late_steps)\n",
    "# z_early = np.linspace(1.01,4,early_steps)\n",
    "# ZEDS = np.concatenate((z_late, z_early))\n",
    "\n",
    "# Logarithmic spacing.\n",
    "Z_START, Z_STOP, Z_AMOUNT = 0., 4., 300-1  # -1 to compensate np.insert of z=4\n",
    "Z_START_LOG = 1e-1\n",
    "zeds_pre = np.geomspace(Z_START_LOG, Z_STOP, Z_AMOUNT) - Z_START_LOG\n",
    "ZEDS = np.insert(zeds_pre, len(zeds_pre), 4.)\n",
    "\n",
    "plt.scatter(ZEDS, ZEDS, s=1)\n",
    "plt.show()\n",
    "print(ZEDS[0:10], ZEDS[-1])"
   ]
  },
  {
   "cell_type": "markdown",
   "metadata": {},
   "source": [
    "### NFW density profile fct."
   ]
  },
  {
   "cell_type": "code",
   "execution_count": null,
   "metadata": {},
   "outputs": [],
   "source": [
    "r_range = np.geomspace(1e-3, 100, 100)*kpc\n",
    "NFW_vals = fct.NFW_profile(r_range, rho0_MW, Rs_MW)\n",
    "plt.loglog(r_range/kpc, NFW_vals/(GeV/cm**3))"
   ]
  },
  {
   "cell_type": "markdown",
   "metadata": {},
   "source": [
    "### Typical grav. potential gradient vectors in spher. symmetric simulation."
   ]
  },
  {
   "cell_type": "code",
   "execution_count": null,
   "metadata": {},
   "outputs": [],
   "source": [
    "z = 0\n",
    "\n",
    "# For position of Sun/Earth.\n",
    "x_i = X_SUN*kpc\n",
    "grad_MW = fct.dPsi_dxi_NFW(x_i, z, rho0_MW, Mvir_MW, Rvir_MW, Rs_MW, 'MW')\n",
    "grad_MW /= (kpc/s**2)\n",
    "print('Position of Sun/Earth:')\n",
    "print(grad_MW)\n",
    "print(np.sqrt(np.sum(grad_MW**2)), '\\n')\n",
    "\n",
    "# For a position closer to the center of the halo.\n",
    "x_i = np.array([0.01, 0, 0])*kpc\n",
    "grad_MW = fct.dPsi_dxi_NFW(x_i, z, rho0_MW, Mvir_MW, Rvir_MW, Rs_MW, 'MW')\n",
    "grad_MW /= (kpc/s**2)\n",
    "print('Position close to center:')\n",
    "print(grad_MW)\n",
    "print(np.sqrt(np.sum(grad_MW**2)), '\\n')\n",
    "\n",
    "# For a position further away to the center of the halo.\n",
    "x_i = np.array([333., 0, 0])*kpc\n",
    "grad_MW = fct.dPsi_dxi_NFW(x_i, z, rho0_MW, Mvir_MW, Rvir_MW, Rs_MW, 'MW')\n",
    "grad_MW /= (kpc/s**2)\n",
    "print('Position at virial radius:')\n",
    "print(grad_MW)\n",
    "print(np.sqrt(np.sum(grad_MW**2)))"
   ]
  },
  {
   "cell_type": "markdown",
   "metadata": {},
   "source": [
    "### Determining offset in cell_gravity_3D"
   ]
  },
  {
   "cell_type": "code",
   "execution_count": 11,
   "metadata": {},
   "outputs": [
    {
     "data": {
      "image/png": "[encoded data removed]",
      "text/plain": [
       "<Figure size 432x288 with 1 Axes>"
      ]
     },
     "metadata": {
      "needs_background": "light"
     },
     "output_type": "display_data"
    }
   ],
   "source": [
    "cell_dis = np.linspace(1,5,100)\n",
    "offset = cell_dis+1e-10\n",
    "pot = 1/cell_dis**2\n",
    "pot_offset = 1/offset**2\n",
    "\n",
    "plt.semilogy(cell_dis, pot)\n",
    "plt.semilogy(offset, pot_offset)\n",
    "plt.show()"
   ]
  },
  {
   "cell_type": "markdown",
   "metadata": {},
   "source": [
    "### Test memory sizes"
   ]
  },
  {
   "cell_type": "code",
   "execution_count": null,
   "metadata": {},
   "outputs": [],
   "source": [
    "mem = np.random.random(size=(40000000,3))\n",
    "print(mem.shape, (mem.nbytes)/1e6)\n",
    "\n",
    "mem0 = np.empty((40000000,3))\n",
    "print(mem0.shape, (mem0.nbytes)/1e6)"
   ]
  },
  {
   "cell_type": "markdown",
   "metadata": {},
   "source": [
    "40 million cells have ~ 1GB memory. There shouldn't be memory issues with the final arrays, especially with the SNELLIUS cluster memory nodes of ~64GB or even ~128GB."
   ]
  }
 ],
 "metadata": {
  "kernelspec": {
   "display_name": "Python 3.9.12 ('NC_numba')",
   "language": "python",
   "name": "python3"
  },
  "language_info": {
   "codemirror_mode": {
    "name": "ipython",
    "version": 3
   },
   "file_extension": ".py",
   "mimetype": "text/x-python",
   "name": "python",
   "nbconvert_exporter": "python",
   "pygments_lexer": "ipython3",
   "version": "3.9.12"
  },
  "orig_nbformat": 4,
  "vscode": {
   "interpreter": {
    "hash": "f954fd519baabf9adc4c45dc1841670b54a153fe717f7fe4f74275668c90e9d2"
   }
  }
 },
 "nbformat": 4,
 "nbformat_minor": 2
}
