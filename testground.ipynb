{
 "cells": [
  {
   "attachments": {},
   "cell_type": "markdown",
   "metadata": {},
   "source": [
    "## Rotation matrices for DM projection to healpix map."
   ]
  },
  {
   "cell_type": "code",
   "execution_count": null,
   "metadata": {},
   "outputs": [],
   "source": [
    "from shared.preface import *\n",
    "from shared.shared_functions import *\n",
    "\n",
    "init_dis = 8.5\n",
    "orig_xyz = np.array([init_dis, 0, 0.])\n",
    "ic(orig_xyz)\n",
    "xE = np.cos(np.deg2rad(Pi))*np.sin(np.deg2rad(Pi))*init_dis\n",
    "yE = np.sin(np.deg2rad(Pi))*np.sin(np.deg2rad(Pi))*init_dis\n",
    "zE = np.cos(np.deg2rad(Pi))*init_dis\n",
    "init_xyz = np.array([xE, yE, zE])\n",
    "# ic(init_xyz)\n",
    "\n",
    "# Rotations happen in clockwise direction, when viewed from the positive top of \n",
    "# the axis around which rotation happends. \n",
    "# note: See GoodNotes drawing, for orientation of axes the functions assume.\n",
    "\n",
    "# Earth was on x-axis originally. Applying matrix with positive angles will \n",
    "# result in going to the new earth frame, where now the original position is \n",
    "# seen from earths frame.\n",
    "# This matrix must be used, to get all the DM in this new frame, such that we \n",
    "# can project it on the healpix map#!\n",
    "order = 'zyx'\n",
    "z_rot = Pi\n",
    "y_rot = -Pi\n",
    "x_rot = 0\n",
    "rotation_mat_for_map = rotation_matrix(z_rot, y_rot, x_rot, order)\n",
    "# ic(rotation_mat)\n",
    "# angles = rotation_angles(rotation_mat, order)\n",
    "# print(angles)\n",
    "rot_xyz = np.matmul(rotation_mat_for_map, orig_xyz)\n",
    "ic(rot_xyz)\n",
    "\n",
    "# Rotation matrix with negative angles must be used, to get earths slightly \n",
    "# shifted position (needed for the cell edge issue) in the original frame, \n",
    "# where all the simulation happens#!\n",
    "rotation_mat_for_sim = rotation_matrix(-z_rot, -y_rot, -x_rot, order)\n",
    "\n",
    "\n",
    "### TEST ###\n",
    "\n",
    "# Take a DM particle in the original frame with coordinates (x,y,z)_DM and \n",
    "# earth position in the same frame with (x,y,z)_E, where Earth is not \n",
    "# positioned on the x-axis. The only thing that we have to do, to \"rotate\" the \n",
    "# DM particle into the frame, where Earth is again on the x-axis connecting it \n",
    "# to the halo center, is to multiply (x,y,z)_DM by the rotation matrix, which \n",
    "# brought earth to be at the location in the original frame in the first place.\n",
    "\n",
    "# note: We can get the galactic latitude and galactic longitude in the frame, where Earth lies on the x-axis (see drawings) connecting it to the halo center.\n",
    "\n",
    "# Step 1: Original positions.\n",
    "DM_test = np.array([-5, 1, 5])  # DM particle in original frame\n",
    "\n",
    "# Offset Earth position from x-axis (because of the cell edge issue).\n",
    "rot_mat = rotation_matrix(0, 0, 20, order)\n",
    "\n",
    "# DM particle in earths frame.\n",
    "DM_earth = np.matmul(rot_mat, DM_test)\n",
    "ic('************')\n",
    "ic(DM_test)\n",
    "ic(DM_earth)"
   ]
  },
  {
   "attachments": {},
   "cell_type": "markdown",
   "metadata": {},
   "source": [
    "## Visual of all colorcet maps."
   ]
  },
  {
   "cell_type": "code",
   "execution_count": null,
   "metadata": {},
   "outputs": [],
   "source": []
  },
  {
   "attachments": {},
   "cell_type": "markdown",
   "metadata": {},
   "source": [
    "## Old stuff: to be analyzed and documented."
   ]
  },
  {
   "cell_type": "code",
   "execution_count": 13,
   "metadata": {},
   "outputs": [
    {
     "name": "stdout",
     "output_type": "stream",
     "text": [
      "Cells for this snap: 50\n",
      "(3,)\n",
      "(50, 1, 3)\n",
      "(50,)\n",
      "(50, 1)\n",
      "(50, 1)\n",
      "<class 'numpy.int64'>\n"
     ]
    }
   ],
   "source": [
    "def nu_in_which_cell(x_i, cell_coords, cell_gens, init_GRID_S):\n",
    "\n",
    "    # print(x_i.shape)  # (3,)\n",
    "    # print(cell_coords.shape)  # (cells, 1, 3)\n",
    "    # print(cell_gens.shape)  # (cells,)\n",
    "\n",
    "    # Center neutrino coords. on each cell center (whole grid).\n",
    "    x_i = np.repeat(np.expand_dims(x_i, axis=(0,1)), len(cell_coords), axis=0)\n",
    "    x_i -= cell_coords\n",
    "\n",
    "    # All cell lengths. Limit for the largest cell is GRID_S/2, not just \n",
    "    # GRID_S, therefore the cell_gen+1 !\n",
    "    cell_lens = np.expand_dims(init_GRID_S/(2**(cell_gens+1)), axis=1)\n",
    "    # print(cell_lens.shape)  # (cells, 1)\n",
    "    # print(x_i[...,0].shape)  # (cells, 1)\n",
    "\n",
    "    # Find index of cell in which neutrino is enclosed.\n",
    "    in_cell = np.asarray(\n",
    "        (np.abs(x_i[...,0]) < cell_lens) & \n",
    "        (np.abs(x_i[...,1]) < cell_lens) & \n",
    "        (np.abs(x_i[...,2]) < cell_lens)\n",
    "    )\n",
    "    cell_idx = np.argwhere(in_cell==True).flatten()[0]  # np.int64\n",
    "\n",
    "    return cell_idx\n",
    "\n",
    "\n",
    "# Load files.\n",
    "out_dir = 'L025N752/DMONLY/SigmaConstant00'\n",
    "temp_dir = f'{out_dir}/temp_data_TEST'\n",
    "cell_coords = np.load(f'{temp_dir}/fin_grid_origID28_snap_0014.npy')\n",
    "cell_gens = np.load(f'{temp_dir}/cell_gen_origID28_snap_0014.npy')\n",
    "init_GRID_S = np.load(f'{out_dir}/snaps_GRID_L.npy')[2]\n",
    "print('Cells for this snap:', len(cell_coords))\n",
    "\n",
    "with open(f'{out_dir}/sim_parameters.yaml', 'r') as file:\n",
    "    sim_setup = yaml.safe_load(file)\n",
    "\n",
    "init_dis = sim_setup['initial_haloGC_distance']\n",
    "xE = np.cos(np.deg2rad(Pi))*np.sin(np.deg2rad(Pi))*init_dis\n",
    "yE = np.sin(np.deg2rad(Pi))*np.sin(np.deg2rad(Pi))*init_dis\n",
    "zE = np.cos(np.deg2rad(Pi))*init_dis\n",
    "x_i = np.array([xE, yE, zE])*kpc\n",
    "\n",
    "cell_idx = nu_in_which_cell(x_i, cell_coords, cell_gens, init_GRID_S)"
   ]
  },
  {
   "cell_type": "code",
   "execution_count": 6,
   "metadata": {},
   "outputs": [
    {
     "name": "stdout",
     "output_type": "stream",
     "text": [
      "[[ 6.  7.  8. nan nan]\n",
      " [ 6.  7.  8.  9. 10.]]\n",
      "(2, 5)\n",
      "[[25. 26. 27. nan nan]\n",
      " [25. 26. 27. 28. 29.]]\n",
      "(2, 5)\n",
      "[[[ 6. 25.]\n",
      "  [ 7. 26.]\n",
      "  [ 8. 27.]\n",
      "  [nan nan]\n",
      "  [nan nan]]\n",
      "\n",
      " [[ 6. 25.]\n",
      "  [ 7. 26.]\n",
      "  [ 8. 27.]\n",
      "  [ 9. 28.]\n",
      "  [10. 29.]]]\n"
     ]
    }
   ],
   "source": [
    "from itertools import zip_longest\n",
    "\n",
    "x1 = np.arange(3)+6\n",
    "x2 = np.arange(5)+6\n",
    "\n",
    "y1 = np.arange(3)+25\n",
    "y2 = np.arange(5)+25\n",
    "\n",
    "lx1d = [x1,x2]\n",
    "ly1d = [y1,y2]\n",
    "\n",
    "arrx2d = np.array(list(zip_longest(*lx1d, fillvalue=np.nan))).T\n",
    "arry2d = np.array(list(zip_longest(*ly1d, fillvalue=np.nan))).T\n",
    "\n",
    "print(arrx2d)\n",
    "print(arrx2d.shape)\n",
    "print(arry2d)\n",
    "print(arry2d.shape)\n",
    "\n",
    "fin = np.stack((arrx2d, arry2d), axis=2)\n",
    "print(fin)"
   ]
  },
  {
   "cell_type": "code",
   "execution_count": 16,
   "metadata": {},
   "outputs": [
    {
     "name": "stdout",
     "output_type": "stream",
     "text": [
      "[[[1 2]\n",
      "  [3 4]]\n",
      "\n",
      " [[1 2]\n",
      "  [5 6]]\n",
      "\n",
      " [[3 4]\n",
      "  [5 6]]]\n",
      "[[ 3  8]\n",
      " [ 5 12]\n",
      " [15 24]]\n"
     ]
    }
   ],
   "source": [
    "from itertools import product, combinations\n",
    "\n",
    "arra = [[1,2],[3,4],[5,6]]\n",
    "arrb = [4,5,6]\n",
    "arrc = np.array(list(combinations(arra, 2)))\n",
    "print(arrc)\n",
    "print(np.product(arrc, axis=1))"
   ]
  },
  {
   "cell_type": "code",
   "execution_count": 4,
   "metadata": {},
   "outputs": [
    {
     "name": "stdout",
     "output_type": "stream",
     "text": [
      "[2 3 4 5]\n",
      "[0 0 0 5]\n",
      "[[nan nan nan nan nan]\n",
      " [nan nan nan nan nan]\n",
      " [nan nan nan nan nan]\n",
      " [ 0.  1.  2.  3.  4.]]\n"
     ]
    }
   ],
   "source": [
    "count_arr = np.arange(4)+2\n",
    "print(count_arr)\n",
    "count_arr[0] = 0.\n",
    "count_arr[1] = 0.\n",
    "count_arr[2] = 0.\n",
    "# count_arr[3] = 0.\n",
    "print(count_arr)\n",
    "\n",
    "if np.all(count_arr==0):\n",
    "    DM_axis0 = np.full(shape=(len(count_arr),1,3), fill_value=np.nan)\n",
    "else:\n",
    "    x_arr = np.arange(np.sum(count_arr))\n",
    "    breaks = np.cumsum(count_arr[:-1])\n",
    "    x_split = np.split(x_arr, breaks)\n",
    "    # print(x_split)\n",
    "    DM_axis0 = np.array(list(zip_longest(*x_split, fillvalue=np.nan))).T\n",
    "\n",
    "\n",
    "print(DM_axis0)"
   ]
  },
  {
   "cell_type": "code",
   "execution_count": 9,
   "metadata": {},
   "outputs": [
    {
     "name": "stdout",
     "output_type": "stream",
     "text": [
      "[array([0, 1])]\n",
      "[[0 1]]\n",
      "[[[0 0 0]\n",
      "  [1 1 1]]]\n"
     ]
    }
   ],
   "source": [
    "DM_count_mpoles = np.array([2])\n",
    "\n",
    "x_arr = np.arange(np.sum(DM_count_mpoles))\n",
    "breaks = np.cumsum(DM_count_mpoles[:-1])\n",
    "x_split = np.split(x_arr, breaks)\n",
    "print(x_split)\n",
    "DM_axis0 = np.array(list(zip_longest(*x_split, fillvalue=np.nan))).T\n",
    "DM_axis1 = np.array(list(zip_longest(*x_split, fillvalue=np.nan))).T\n",
    "DM_axis2 = np.array(list(zip_longest(*x_split, fillvalue=np.nan))).T\n",
    "print(DM_axis0)\n",
    "DM_mpoles = np.stack((DM_axis0, DM_axis1, DM_axis2), axis=2)\n",
    "print(DM_mpoles)"
   ]
  },
  {
   "cell_type": "markdown",
   "metadata": {},
   "source": [
    "shapes/nums: 267 (267,) 1 (3,) (267, 3) (267,) 394.0 (1, 457240, 3) (267,) (457239, 2)"
   ]
  },
  {
   "cell_type": "code",
   "execution_count": 7,
   "metadata": {},
   "outputs": [
    {
     "name": "stdout",
     "output_type": "stream",
     "text": [
      "********************* Initialization *********************\n",
      "# Initial conditions for neutrinos:\n",
      "PHIs = 20, THETAs=20, Vs=200\n",
      "Total neutrinos: 80000\n",
      "# Simulation parameters:\n",
      "Simulation box: L025N752\n",
      "Snapshot from 0036 (z=0) to 0013 (z=4)\n",
      "Pre/Sim CPUs 10/128\n",
      "DM limit for cells: 1000\n",
      "# File management:\n",
      "Box files directory: \n",
      " /projects/0/einf180/Tango_sims/L025N752/DMONLY/SigmaConstant00\n",
      "Output directory: \n",
      " /gpfs/home4/zimmer/neutrino_clustering_V2/L025N752/DMONLY/SigmaConstant00\n",
      "**********************************************************\n",
      "********Number density band********\n",
      "Halo batch params (Rvir,Mvir,cNFW):\n",
      "[[253.5523526   12.24058042   6.9286026 ]\n",
      " [158.62979351  11.62953177   8.03988676]\n",
      " [137.07912107  11.43929142   9.41292697]\n",
      " [141.82849159  11.48366794   2.6088865 ]\n",
      " [306.35586267  12.48705608  11.48652354]\n",
      " [190.92998087  11.87099988   7.03921462]\n",
      " [240.52254202  12.17184485   7.39127504]\n",
      " [169.32112452  11.71451092   8.23421103]\n",
      " [167.71139596  11.70206521   7.62954256]\n",
      " [168.53268315  11.7084299    9.38434194]]\n",
      "***********************************\n"
     ]
    }
   ],
   "source": [
    "from shared.preface import *\n",
    "import shared.functions as fct\n",
    "\n",
    "PRE = PRE(\n",
    "    sim='L025N752', \n",
    "    z0_snap=36, z4_snap=13, DM_lim=1000,\n",
    "    sim_dir=SIM_ROOT, sim_ver=SIM_TYPE,\n",
    "    phis=20, thetas=20, vels=200,\n",
    "    pre_CPUs=10, sim_CPUs=128\n",
    ")\n",
    "\n",
    "\n",
    "# Make temporary folder to store files, s.t. parallel runs don't clash.\n",
    "rand_code = ''.join(\n",
    "    random.choices(string.ascii_uppercase + string.digits, k=4)\n",
    ")\n",
    "TEMP_DIR = f'{PRE.OUT_DIR}/temp_data_{rand_code}'\n",
    "os.makedirs(TEMP_DIR)\n",
    "\n",
    "Testing = False\n",
    "if Testing:\n",
    "    mass_gauge = 12.3\n",
    "    mass_range = 0.3\n",
    "    size = 1\n",
    "else:\n",
    "    mass_gauge = 12.0\n",
    "    mass_range = 0.6\n",
    "    size = 10\n",
    "\n",
    "hname = f'1e+{mass_gauge}_pm{mass_range}Msun'\n",
    "fct.halo_batch_indices(\n",
    "    PRE.Z0_STR, mass_gauge, mass_range, 'halos', size, \n",
    "    hname, PRE.SIM_DIR, TEMP_DIR\n",
    ")\n",
    "halo_batch_IDs = np.load(f'{TEMP_DIR}/halo_batch_{hname}_indices.npy')\n",
    "halo_batch_params = np.load(f'{TEMP_DIR}/halo_batch_{hname}_params.npy')\n",
    "halo_num = len(halo_batch_params)\n",
    "\n",
    "print('********Number density band********')\n",
    "print('Halo batch params (Rvir,Mvir,cNFW):')\n",
    "print(halo_batch_params)\n",
    "print('***********************************')\n",
    "\n",
    "# Remove temporary folder with all individual neutrino files.\n",
    "shutil.rmtree(TEMP_DIR)"
   ]
  },
  {
   "cell_type": "code",
   "execution_count": 1,
   "metadata": {},
   "outputs": [
    {
     "name": "stdout",
     "output_type": "stream",
     "text": [
      "********************* Initialization *********************\n",
      "# Initial conditions for neutrinos:\n",
      "PHIs = 10, THETAs=10, Vs=100\n",
      "Total neutrinos: 10000\n",
      "# Simulation parameters:\n",
      "Simulation box: L012N376\n",
      "Snapshot from 0036 (z=0) to 0013 (z=4)\n",
      "Pre/Sim CPUs 6/6\n",
      "DM limit for cells: 1000\n",
      "# File management:\n",
      "Box files directory: \n",
      " /home/fabian/ownCloud/snellius/L012N376/DMONLY/SigmaConstant00\n",
      "Output directory: \n",
      " /home/fabian/my_github_projects/neutrino_clustering_V2/L012N376/DMONLY/SigmaConstant00\n",
      "**********************************************************\n",
      "16\n",
      "********Number density band********\n",
      "Halo batch params (Rvir,Mvir,cNFW):\n",
      "[[195.00028262  11.89848321  13.2646342 ]\n",
      " [171.6865726   11.73258648   5.56997953]\n",
      " [139.87064301  11.46555721   7.37974116]\n",
      " [151.26621853  11.56760334   7.82480041]\n",
      " [298.72978142  12.45421305  10.25293176]\n",
      " [140.09726066  11.46766642  10.07694324]\n",
      " [153.19481535  11.58410969  10.62058499]\n",
      " [176.89228757  11.77150419   6.78838463]\n",
      " [173.01242844  11.7426094    5.41372435]\n",
      " [214.21391326  12.02092052   5.10431355]]\n",
      "***********************************\n"
     ]
    }
   ],
   "source": [
    "from shared.preface import *\n",
    "import shared.functions as fct\n",
    "\n",
    "# Initialize parameters and files.\n",
    "PRE = PRE(\n",
    "    sim='L012N376', \n",
    "    z0_snap=36, z4_snap=13, DM_lim=1000,\n",
    "    sim_dir=SIM_ROOT, sim_ver=SIM_TYPE,\n",
    "    phis=10, thetas=10, vels=100,\n",
    "    pre_CPUs=6, sim_CPUs=6\n",
    ")\n",
    "\n",
    "Testing=False\n",
    "if Testing:\n",
    "    mass_gauge = 12.3\n",
    "    mass_range = 0.3\n",
    "    size = 1\n",
    "else:\n",
    "    mass_gauge = 12.0\n",
    "    mass_range = 0.6\n",
    "    size = 10\n",
    "\n",
    "hname = f'1e+{mass_gauge}_pm{mass_range}Msun'\n",
    "fct.halo_batch_indices(\n",
    "    PRE.Z0_STR, mass_gauge, mass_range, 'halos', size, \n",
    "    hname, PRE.SIM_DIR, PRE.OUT_DIR\n",
    ")\n",
    "halo_batch_IDs = np.load(f'{PRE.OUT_DIR}/halo_batch_{hname}_indices.npy')\n",
    "halo_batch_params = np.load(f'{PRE.OUT_DIR}/halo_batch_{hname}_params.npy')\n",
    "halo_num = len(halo_batch_params)\n",
    "\n",
    "print('********Number density band********')\n",
    "print('Halo batch params (Rvir,Mvir,cNFW):')\n",
    "print(halo_batch_params)\n",
    "print('***********************************')"
   ]
  },
  {
   "cell_type": "markdown",
   "metadata": {},
   "source": [
    "# Tests for CubeSpace components."
   ]
  },
  {
   "cell_type": "markdown",
   "metadata": {},
   "source": [
    "# Tests for functions in shared/functions.py"
   ]
  },
  {
   "cell_type": "markdown",
   "metadata": {},
   "source": [
    "### Optimal momentum spacing."
   ]
  },
  {
   "cell_type": "code",
   "execution_count": null,
   "metadata": {},
   "outputs": [],
   "source": []
  },
  {
   "cell_type": "code",
   "execution_count": null,
   "metadata": {},
   "outputs": [],
   "source": [
    "from shared.preface import *\n",
    "import shared.functions as fct\n",
    "\n",
    "Vs = 200\n",
    "LOWER = 0.01*T_CNB\n",
    "UPPER = 10*T_CNB\n",
    "\n",
    "fig, ax = plt.subplots(1,1)\n",
    "\n",
    "v_tot_min = 1/np.sqrt(NU_MASSES[-1]**2/LOWER**2 + 1) / (kpc/s)\n",
    "v_tot_max = 1/np.sqrt(NU_MASSES[0]**2/UPPER**2 + 1) / (kpc/s)\n",
    "v_lines = np.geomspace(v_tot_min, v_tot_max, 5)\n",
    "\n",
    "v_tot_geo = np.geomspace(v_tot_min, v_tot_max, Vs)\n",
    "ax.scatter(v_tot_geo, v_tot_geo+(1.1*v_tot_geo), s=2)\n",
    "\n",
    "for v0, v1 in zip(v_lines[:-1], v_lines[1:]):\n",
    "    v_segment = np.geomspace(v0, v1, int(Vs/4))\n",
    "    ax.scatter(v_segment, v_segment, s=2)\n",
    "    ax.axvline(v0, ls=':', c='r')\n",
    "\n",
    "plt.xscale('log')\n",
    "plt.yscale('log')\n",
    "plt.show()"
   ]
  },
  {
   "cell_type": "code",
   "execution_count": null,
   "metadata": {},
   "outputs": [],
   "source": [
    "from shared.preface import *\n",
    "import shared.functions as fct\n",
    "\n",
    "\n",
    "fig, ax = plt.subplots(1,1)\n",
    "\n",
    "momenta = np.geomspace(0.01*T_CNB, 10*T_CNB, 100)\n",
    "v_kpc = 1/np.sqrt(NU_MASS**2/momenta**2 + 1) / (kpc/s)  # rel. formula\n",
    "ax.scatter(v_kpc, v_kpc, s=2)\n",
    "\n",
    "# plt.xscale('log')\n",
    "# plt.yscale('log')\n",
    "plt.show()"
   ]
  },
  {
   "cell_type": "markdown",
   "metadata": {},
   "source": [
    "### Conversions between momentum to velocity."
   ]
  },
  {
   "cell_type": "code",
   "execution_count": 3,
   "metadata": {},
   "outputs": [
    {
     "name": "stdout",
     "output_type": "stream",
     "text": [
      "(m/s) -> v_min = 50256.48, v_max = 296513342.86, %c = 98.91 : for 0.01 eV neutrino\n",
      "(m/s) -> v_min = 10051.30, v_max = 240334142.09, %c = 80.17 : for 0.05 eV neutrino\n",
      "(m/s) -> v_min = 5025.65, v_max = 166963809.94, %c = 55.69 : for 0.1 eV neutrino\n",
      "(m/s) -> v_min = 1675.22, v_max = 65394995.35, %c = 21.81 : for 0.3 eV neutrino\n"
     ]
    }
   ],
   "source": [
    "from shared.preface import *\n",
    "import shared.functions as fct\n",
    "\n",
    "Vs = 100\n",
    "LOWER = 0.01*T_CNB\n",
    "UPPER = 400.*T_CNB\n",
    "\n",
    "# Momentum range.\n",
    "MOMENTA = np.geomspace(LOWER, UPPER, Vs)\n",
    "\n",
    "# Without Lorentz factor.\n",
    "v_mins = np.zeros(len(NU_MASSES))\n",
    "v_maxs = np.zeros(len(NU_MASSES))\n",
    "for i, m_nu in enumerate(NU_MASSES):\n",
    "    v_km = MOMENTA / m_nu / (m/s)\n",
    "    v_min, v_max = v_km[0], v_km[-1]\n",
    "    # print(f'(m/s) -> v_min = {v_min:.2f}, v_max = {v_max:.2f}, %c = {v_max/const.c.value*100:.2f} : for {m_nu} eV neutrino')\n",
    "\n",
    "    v_mins[i] = v_min\n",
    "    v_maxs[i] = v_max\n",
    "\n",
    "# With Lorentz factor.\n",
    "v_mins = np.zeros(len(NU_MASSES))\n",
    "v_maxs = np.zeros(len(NU_MASSES))\n",
    "for m_nu in NU_MASSES:\n",
    "    v_km = 1/np.sqrt(m_nu**2/MOMENTA**2 + 1) / (m/s)\n",
    "    v_min, v_max = v_km[0], v_km[-1]\n",
    "    print(f'(m/s) -> v_min = {v_min:.2f}, v_max = {v_max:.2f}, %c = {v_max/const.c.value*100:.2f} : for {m_nu} eV neutrino')\n",
    "\n",
    "#! Since the sim is using 0.3 eV mass, the max. velocity present in the sim is \n",
    "#! ~20% of c, not the ~98% of the 0.01 eV neutrino (see output of cell).\n",
    "\n",
    "# Back to momentum to check formulas & functions."
   ]
  },
  {
   "cell_type": "markdown",
   "metadata": {},
   "source": [
    "### Coordinates of Andromeda (AG) and the Virgo Cluster (VC)."
   ]
  },
  {
   "cell_type": "code",
   "execution_count": null,
   "metadata": {},
   "outputs": [],
   "source": [
    "# Cross-check with values in Mertsch et al. (2020).\n",
    "# -> x and y coords. are switched, since our setup is different,\n",
    "# and my x (their y) coords. differ by 8.5 kpc due to placement of sun\n",
    "# on our x-axis.\n",
    "coords_VC = fct.halo_pos(GLAT_VC, GLON_VC, DIST_VC/kpc)\n",
    "print(coords_VC, 'in kpc')\n",
    "coords_AG = fct.halo_pos(GLAT_AG, GLON_AG, DIST_AG/kpc)\n",
    "print(coords_AG, 'in kpc')"
   ]
  },
  {
   "cell_type": "markdown",
   "metadata": {},
   "source": [
    "### Values in Table 1 of Mertsch et al. (2020)."
   ]
  },
  {
   "cell_type": "code",
   "execution_count": null,
   "metadata": {},
   "outputs": [],
   "source": [
    "Rvir_Tab1 = fct.R_vir_fct(0, Mvir_MW)\n",
    "print(Rvir_Tab1/kpc)\n",
    "c_vir_Tab1 = fct.c_vir(0, Mvir_MW, Rvir_MW, Rs_MW)\n",
    "Rs_Tab1 = Rvir_Tab1 / c_vir_Tab1\n",
    "print(Rs_Tab1/kpc)"
   ]
  },
  {
   "cell_type": "markdown",
   "metadata": {},
   "source": [
    "### Critical density of universe."
   ]
  },
  {
   "cell_type": "code",
   "execution_count": null,
   "metadata": {},
   "outputs": [],
   "source": [
    "rho_crit_today = fct.rho_crit(0)\n",
    "print(f'{rho_crit_today*(Msun/kpc**3)/(kg/m**3):.2e} kg/m^3') "
   ]
  },
  {
   "cell_type": "markdown",
   "metadata": {},
   "source": [
    "### Time Variable s(z) and comparison to age of universe."
   ]
  },
  {
   "cell_type": "code",
   "execution_count": null,
   "metadata": {},
   "outputs": [],
   "source": [
    "# In s_of_z function we use\n",
    "H0_mod = H0/ (1/s)\n",
    "print(H0_mod)\n",
    "\n",
    "test_z = 1\n",
    "s_val = fct.s_of_z(test_z)\n",
    "print(f'Value of time variable s in seconds at redhshift {test_z}:','\\n', s_val)\n",
    "print(\n",
    "    'Age of universe comparison: \\n', \n",
    "    f'\"Observed/measured\": {t0/s:.2e}, i.e. {t0/Gyr:.2f} Gyr \\n', \n",
    "    f'What we use in s_of_z function: {1/H0/s:.2e}, i.e. {1/H0/Gyr:.2f} Gyr'\n",
    ")"
   ]
  },
  {
   "cell_type": "markdown",
   "metadata": {},
   "source": [
    "### Integrals for cosmic time."
   ]
  },
  {
   "cell_type": "code",
   "execution_count": null,
   "metadata": {},
   "outputs": [],
   "source": [
    "def t_integrand_a(a):\n",
    "\n",
    "    # We need value of H0 in units of 1/s.\n",
    "    H0_val = H0/(1/s)\n",
    "\n",
    "    a_dot = np.sqrt(Omega_M/a**3 + Omega_L)*H0_val*a\n",
    "    t_int = 1./a_dot\n",
    "\n",
    "    return t_int\n",
    "\n",
    "t, err = quad(t_integrand_a, 0, 1)\n",
    "t_uni, err_uni = t, err\n",
    "print(t_uni*s/Gyr, err_uni*s/Gyr)"
   ]
  },
  {
   "cell_type": "code",
   "execution_count": null,
   "metadata": {},
   "outputs": [],
   "source": [
    "def t_integrand_z(z):\n",
    "\n",
    "    # We need value of H0 in units of 1/s.\n",
    "    H0_val = H0/(1/s)\n",
    "\n",
    "    a_dot = np.sqrt(Omega_M*(1.+z)**3 + Omega_L)*H0_val*(1.+z)\n",
    "    t_int = 1./a_dot\n",
    "\n",
    "    return t_int\n",
    "\n",
    "t, err = quad(t_integrand_z, 0, np.inf)\n",
    "t_uni, err_uni = t, err\n",
    "print(t_uni*s/Gyr, err_uni*s/Gyr)"
   ]
  },
  {
   "cell_type": "markdown",
   "metadata": {},
   "source": [
    "### Fermi-Dirac distribution."
   ]
  },
  {
   "cell_type": "code",
   "execution_count": null,
   "metadata": {},
   "outputs": [],
   "source": [
    "p_test_range = np.linspace(0.01, 10)*T_CNB\n",
    "FD_range = fct.Fermi_Dirac(p_test_range)\n",
    "\n",
    "plt.loglog(p_test_range/T_CNB, FD_range)\n",
    "plt.show()"
   ]
  },
  {
   "cell_type": "markdown",
   "metadata": {},
   "source": [
    "### Redshift array for integration steps."
   ]
  },
  {
   "cell_type": "code",
   "execution_count": null,
   "metadata": {},
   "outputs": [],
   "source": [
    "# Linear spacing.\n",
    "# late_steps = 200\n",
    "# early_steps = 100\n",
    "# Z_START, Z_STOP, Z_AMOUNT = 0., 4., late_steps+early_steps\n",
    "# z_late = np.linspace(0,1,late_steps)\n",
    "# z_early = np.linspace(1.01,4,early_steps)\n",
    "# ZEDS = np.concatenate((z_late, z_early))\n",
    "\n",
    "# Logarithmic spacing.\n",
    "Z_AMOUNT = 50\n",
    "z_shift = 1e-1\n",
    "ZEDS = np.geomspace(z_shift, 4.+z_shift, Z_AMOUNT) - z_shift\n",
    "\n",
    "plt.scatter(ZEDS, ZEDS, s=1)\n",
    "plt.scatter(ZEDS_SNAPSHOTS, ZEDS_SNAPSHOTS+0.1, s=1)\n",
    "plt.show()\n",
    "print(ZEDS[0:10], ZEDS[-1])"
   ]
  },
  {
   "cell_type": "markdown",
   "metadata": {},
   "source": [
    "### NFW density profile fct."
   ]
  },
  {
   "cell_type": "code",
   "execution_count": null,
   "metadata": {},
   "outputs": [],
   "source": [
    "r_range = np.geomspace(1e-3, 100, 100)*kpc\n",
    "NFW_vals = fct.NFW_profile(r_range, rho0_MW, Rs_MW)\n",
    "plt.loglog(r_range/kpc, NFW_vals/(GeV/cm**3))"
   ]
  },
  {
   "cell_type": "markdown",
   "metadata": {},
   "source": [
    "### Typical grav. potential gradient vectors in spher. symmetric simulation."
   ]
  },
  {
   "cell_type": "code",
   "execution_count": null,
   "metadata": {},
   "outputs": [],
   "source": [
    "z = 0\n",
    "\n",
    "# For position of Sun/Earth.\n",
    "x_i = X_SUN*kpc\n",
    "grad_MW = fct.dPsi_dxi_NFW(x_i, z, rho0_MW, Mvir_MW, Rvir_MW, Rs_MW, 'MW')\n",
    "grad_MW /= (kpc/s**2)\n",
    "print('Position of Sun/Earth:')\n",
    "print(grad_MW)\n",
    "print(np.sqrt(np.sum(grad_MW**2)), '\\n')\n",
    "\n",
    "# For a position closer to the center of the halo.\n",
    "x_i = np.array([0.01, 0, 0])*kpc\n",
    "grad_MW = fct.dPsi_dxi_NFW(x_i, z, rho0_MW, Mvir_MW, Rvir_MW, Rs_MW, 'MW')\n",
    "grad_MW /= (kpc/s**2)\n",
    "print('Position close to center:')\n",
    "print(grad_MW)\n",
    "print(np.sqrt(np.sum(grad_MW**2)), '\\n')\n",
    "\n",
    "# For a position further away to the center of the halo.\n",
    "x_i = np.array([333., 0, 0])*kpc\n",
    "grad_MW = fct.dPsi_dxi_NFW(x_i, z, rho0_MW, Mvir_MW, Rvir_MW, Rs_MW, 'MW')\n",
    "grad_MW /= (kpc/s**2)\n",
    "print('Position at virial radius:')\n",
    "print(grad_MW)\n",
    "print(np.sqrt(np.sum(grad_MW**2)))"
   ]
  }
 ],
 "metadata": {
  "kernelspec": {
   "display_name": "Python 3 (ipykernel)",
   "language": "python",
   "name": "python3"
  },
  "language_info": {
   "codemirror_mode": {
    "name": "ipython",
    "version": 3
   },
   "file_extension": ".py",
   "mimetype": "text/x-python",
   "name": "python",
   "nbconvert_exporter": "python",
   "pygments_lexer": "ipython3",
   "version": "3.9.5"
  },
  "orig_nbformat": 4,
  "vscode": {
   "interpreter": {
    "hash": "f9f85f796d01129d0dd105a088854619f454435301f6ffec2fea96ecbd9be4ac"
   }
  }
 },
 "nbformat": 4,
 "nbformat_minor": 2
}
