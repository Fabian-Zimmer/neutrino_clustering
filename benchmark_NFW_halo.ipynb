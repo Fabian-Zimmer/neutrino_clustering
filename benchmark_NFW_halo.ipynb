{
 "cells": [
  {
   "attachments": {},
   "cell_type": "markdown",
   "metadata": {},
   "source": [
    "## Creation of benchmark N-body NFW MW-type halo via sampling."
   ]
  },
  {
   "cell_type": "code",
   "execution_count": 1,
   "metadata": {
    "vscode": {
     "languageId": "python"
    }
   },
   "outputs": [
    {
     "name": "stdout",
     "output_type": "stream",
     "text": [
      "********************* Initialization *********************\n",
      "# Initial conditions for neutrinos:\n",
      "PHIs = 20, THETAs=20, Vs=200\n",
      "Total neutrinos: 80000\n",
      "# Simulation parameters:\n",
      "Simulation box: L025N752\n",
      "Snapshot from 0036 (z=0) to 0013 (z=4)\n",
      "Pre/Sim CPUs 128/128\n",
      "DM limit for cells: 1000\n",
      "DM mass of sim box in log10 Msun: 6.1577\n",
      "Smoothening length of sim box in kpc: 0.65\n",
      "# File management:\n",
      "Box files directory: \n",
      " /projects/0/einf180/Tango_sims/L025N752/DMONLY/SigmaConstant00\n",
      "Output directory: \n",
      " /gpfs/home4/zimmer/neutrino_clustering_V2/L025N752/DMONLY/SigmaConstant00\n",
      "**********************************************************\n"
     ]
    }
   ],
   "source": [
    "from shared.preface import *\n",
    "import shared.functions as fct\n",
    "\n",
    "PRE = PRE(\n",
    "    sim='L025N752', \n",
    "    z0_snap=36, z4_snap=13, DM_lim=1000,\n",
    "    sim_dir=SIM_ROOT, sim_ver=SIM_TYPE,\n",
    "    phis=20, thetas=20, vels=200,\n",
    "    pre_CPUs=128, sim_CPUs=128, mem_lim_GB=224\n",
    ")\n",
    "\n",
    "# Determine number of DM particles to sample based on virial mass.\n",
    "DM_mass = 1437874.875*Msun  # from 25 Mpc box\n",
    "num_DM_MW = math.floor(Mvir_MW / DM_mass)  # ~1.4 mio.\n",
    "num_DM_box = 235953  # a halo from sim box\n",
    "\n",
    "Mvir_box = num_DM_box*DM_mass\n",
    "\n",
    "def halo_sample(z, snap, Mvir_init, R_s_init, rho0_init, DM_mass_Msun, out_dir):\n",
    "\n",
    "    # R_200 of MW-type halo at redshift 0.\n",
    "    R_200_MW = (Mvir_MW / (200 * fct.rho_crit(0) * 4.*Pi/3.))**(1./3.)\n",
    "    \n",
    "    # Determine R_200 and c_200 and scale radius at redshift z.\n",
    "    R_200 = (Mvir_init / (200 * fct.rho_crit(z) * 4.*Pi/3.))**(1./3.)\n",
    "    c_200 = fct.c_vir(z, Mvir_init, R_200_MW, R_s_init)\n",
    "\n",
    "    # Calculate virial mass at redshift z and with it number of DM particles.\n",
    "    f_200 = np.log(1+c_200) - (c_200/(1+c_200))\n",
    "    M_200 = 4*Pi*rho0_init*Rs_MW**3 * f_200\n",
    "    num_DM = math.floor(M_200/DM_mass_Msun)\n",
    "\n",
    "    # Construct projection function.\n",
    "    def Proj(r, r_s, f_norm):\n",
    "        x = r/r_s\n",
    "        f_r = np.log(1+x) - (x/(1+x))\n",
    "        return f_r/f_norm\n",
    "\n",
    "    # Construct inverse function. Needs to be without numerical units.\n",
    "    invf = inversefunc(Proj, args=(Rs_MW/kpc, f_200))  \n",
    "\n",
    "    # Sample uniformly between [0,1] and project to corresponding radius.\n",
    "    sample = np.sort(np.random.uniform(size=num_DM))\n",
    "    r_sample = invf(sample)\n",
    "\n",
    "    # Sample for angles and convert to cartesian coordinates.\n",
    "    phis = np.random.uniform(0, 2*Pi, num_DM)  # uniform [0,2pi)\n",
    "    cos_thetas = 2.*np.random.uniform(0, 1, num_DM) - 1  # uniform [-1,1)\n",
    "\n",
    "    # Convert to cartesian coordinates.\n",
    "    x = r_sample*np.cos(phis)*np.sqrt(1. - cos_thetas**2)\n",
    "    y = r_sample*np.sin(phis)*np.sqrt(1. - cos_thetas**2)\n",
    "    z = r_sample*cos_thetas\n",
    "    coords = np.column_stack((x,y,z))\n",
    "\n",
    "    np.save(f'{out_dir}/benchmark_halo_snap_{snap}.npy', coords)"
   ]
  },
  {
   "cell_type": "code",
   "execution_count": null,
   "metadata": {
    "vscode": {
     "languageId": "python"
    }
   },
   "outputs": [],
   "source": [
    "# fig = plt.figure()\n",
    "# ax = fig.add_subplot(111, projection='3d')\n",
    "# x, y, z = coords[:,0], coords[:,1], coords[:,2]\n",
    "# ax.scatter(x,y,z, alpha=0.5, c='blueviolet', s=0.001, label='DM particles')\n",
    "# plt.show()"
   ]
  },
  {
   "cell_type": "code",
   "execution_count": null,
   "metadata": {
    "vscode": {
     "languageId": "python"
    }
   },
   "outputs": [],
   "source": [
    "with ProcessPoolExecutor(24) as ex:\n",
    "    ex.map(\n",
    "        halo_sample, PRE.ZEDS_SNAPS[::-1], PRE.NUMS_SNAPS[::-1],\n",
    "        repeat(Mvir_MW), repeat(Rs_MW), repeat(rho0_MW), \n",
    "        repeat(PRE.DM_SIM_MASS), repeat(PRE.OUT_DIR)\n",
    "    )"
   ]
  },
  {
   "attachments": {},
   "cell_type": "markdown",
   "metadata": {},
   "source": [
    "## Density profile check."
   ]
  },
  {
   "cell_type": "code",
   "execution_count": null,
   "metadata": {
    "vscode": {
     "languageId": "python"
    }
   },
   "outputs": [],
   "source": [
    "# Check if sampled halo produces NFW density profile.\n",
    "\n",
    "import scipy.stats as stat\n",
    "\n",
    "def bin_volumes(radial_bins):\n",
    "    \"\"\"Returns the volumes of the bins. \"\"\"\n",
    "\n",
    "    single_vol = lambda x: (4.0 / 3.0) * np.pi * x ** 3\n",
    "    outer = single_vol(radial_bins[1:])\n",
    "    inner = single_vol(radial_bins[:-1])\n",
    "    return outer - inner\n",
    "\n",
    "\n",
    "def bin_centers(radial_bins):\n",
    "    \"\"\"Returns the centers of the bins. \"\"\"\n",
    "\n",
    "    outer = radial_bins[1:]\n",
    "    inner = radial_bins[:-1]\n",
    "    return 0.5 * (outer + inner)\n",
    "\n",
    "\n",
    "def analyse_halo(mass, pos):\n",
    "    # Define radial bins [log scale, kpc units]\n",
    "    radial_bins = np.arange(0, 5, 0.1)\n",
    "    radial_bins = 10 ** radial_bins\n",
    "\n",
    "    # Radial coordinates [kpc units]\n",
    "    r = np.sqrt(np.sum(pos ** 2, axis=1))\n",
    "\n",
    "    SumMasses, _, _ = stat.binned_statistic(\n",
    "        x=r, values=np.ones(len(r)) * mass, \n",
    "        statistic=\"sum\", bins=radial_bins\n",
    "    )\n",
    "    density = (SumMasses / bin_volumes(radial_bins))  # Msun/kpc^3\n",
    "    return density\n",
    "\n",
    "\n",
    "def scale_density_NFW(c, z=0.):\n",
    "    \"\"\"Eqn. (2) from arXiv:1302.0288. c=r_200/r_s.\"\"\"\n",
    "    numer = 200 * c**3\n",
    "    denom = 3 * (np.log(1+c) - (c/(1+c)))\n",
    "    delta_c = numer/denom\n",
    "\n",
    "    rho_crit = fct.rho_crit(z)\n",
    "\n",
    "    return rho_crit*delta_c\n",
    "    \n",
    "\n",
    "# Bin centers in kpc.\n",
    "radial_bins = 10**np.arange(0, 5, 0.1)\n",
    "centers = bin_centers(radial_bins)\n",
    "\n",
    "# Calculate density for each bin center.\n",
    "density = analyse_halo(DM_mass, coords)\n",
    "\n",
    "fig = plt.figure()\n",
    "\n",
    "# Density profile of sampled halo.\n",
    "u1, u2 = kpc, Msun/kpc**3\n",
    "r, d = centers*u1, density*u2\n",
    "plt.loglog(r/u1, d/u2, c='blue', label=f'sampled halo')\n",
    "\n",
    "# NFW density profile with parameters of sampled halo.\n",
    "rho_NFW = scale_density_NFW(c=c200)\n",
    "NFW = fct.NFW_profile(r, rho_NFW, r_s*kpc)\n",
    "plt.loglog(r/u1, NFW/u2, c='black', ls='-.', label='NFW')\n",
    "\n",
    "plt.title('Benchmark halo density profile')\n",
    "plt.xlabel('radius from halo center [kpc]')\n",
    "plt.ylabel('density in [Msun/kpc^3]')\n",
    "plt.xlim(np.min(r/kpc), 1.3*Rvir)\n",
    "plt.ylim(1e1, 1e9)\n",
    "plt.legend()\n",
    "plt.show()"
   ]
  }
 ],
 "metadata": {
  "kernelspec": {
   "display_name": "Python 3 (ipykernel)",
   "language": "python",
   "name": "python3"
  },
  "orig_nbformat": 4,
  "vscode": {
   "interpreter": {
    "hash": "f9f85f796d01129d0dd105a088854619f454435301f6ffec2fea96ecbd9be4ac"
   }
  }
 },
 "nbformat": 4,
 "nbformat_minor": 2
}
