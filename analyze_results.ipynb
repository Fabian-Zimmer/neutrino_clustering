{
 "cells": [
  {
   "attachments": {},
   "cell_type": "markdown",
   "metadata": {},
   "source": [
    "# Testing sim scripts."
   ]
  },
  {
   "cell_type": "code",
   "execution_count": 1,
   "metadata": {},
   "outputs": [
    {
     "name": "stdout",
     "output_type": "stream",
     "text": [
      "['0012' '0013' '0014' '0015' '0016' '0017' '0018' '0019' '0020' '0021'\n",
      " '0022' '0023' '0024' '0025' '0026' '0027' '0028' '0029' '0030' '0031'\n",
      " '0032' '0033' '0034' '0035' '0036']\n",
      "[3.81000000e+00 3.43000000e+00 3.09000000e+00 2.79000000e+00\n",
      " 2.52000000e+00 2.28000000e+00 2.06000000e+00 1.86000000e+00\n",
      " 1.68000000e+00 1.51000000e+00 1.36000000e+00 1.21000000e+00\n",
      " 1.08000000e+00 9.60000000e-01 8.50000000e-01 7.40000000e-01\n",
      " 6.40000000e-01 5.50000000e-01 4.60000000e-01 3.70000000e-01\n",
      " 2.90000000e-01 2.10000000e-01 1.40000000e-01 7.00000000e-02\n",
      " 2.22044605e-16]\n",
      "[0.         0.00382232 0.00779075 0.01191086 0.01618846 0.02062956\n",
      " 0.02524041 0.0300275  0.03499758 0.04015762]\n",
      "[0.00000000e+00 1.74215520e+15 3.55466566e+15 5.44047768e+15\n",
      " 7.40266591e+15 9.44443913e+15 1.15691460e+16 1.37802813e+16\n",
      " 1.60814920e+16 1.84765842e+16]\n",
      "/projects/0/einf180/Tango_sims/L025N752/DMONLY/SigmaConstant00 <class 'str'>\n",
      "[    43     44     55     60     62     69     71     74     66     65\n",
      "     60     67     72     75     80     98     99     87     85     76\n",
      "     68     67     68     61 333410]\n"
     ]
    }
   ],
   "source": [
    "from shared.preface import *\n",
    "\n",
    "box_name = 'L025N752'\n",
    "box_ver = 'DMONLY/SigmaConstant00'\n",
    "out_dir = f'{box_name}/{box_ver}'\n",
    "nums_snaps = np.load(f'{out_dir}/nums_snaps.npy')\n",
    "zeds = np.load(f'{out_dir}/zeds_snaps.npy')\n",
    "zint = np.load(f'{out_dir}/z_int_steps.npy')\n",
    "sint = np.load(f'{out_dir}/s_int_steps.npy')\n",
    "print(nums_snaps)\n",
    "print(zeds)\n",
    "print(zint[:10])\n",
    "print(sint[:10])\n",
    "\n",
    "from shared.functions import read_DM_halo_index\n",
    "\n",
    "with h5py.File(f'{out_dir}/MergerTree.hdf5') as tree:\n",
    "    prog_IDs = tree['Assembly_history/Progenitor_index'][28,:]\n",
    "    prog_IDs_np = np.array(np.expand_dims(prog_IDs, axis=1), dtype=int)\n",
    "\n",
    "with open(f'{out_dir}/box_parameters.yaml', 'r') as file:\n",
    "    box_setup = yaml.safe_load(file)\n",
    "\n",
    "box_file_dir = box_setup['File Paths']['Box File Directory']\n",
    "print(box_file_dir, type(box_file_dir))\n",
    "print(prog_IDs_np.flatten())\n",
    "\n",
    "np.savetxt('prog_IDs.txt', prog_IDs_np.flatten(), fmt='%d')"
   ]
  },
  {
   "cell_type": "code",
   "execution_count": 1,
   "metadata": {},
   "outputs": [
    {
     "name": "stdout",
     "output_type": "stream",
     "text": [
      "From 1 to and incl. 10000\n",
      "Batch 1/1 done!\n",
      "Sim time: 0.15243199113344114 min, 0.0025405331855573522 h.\n"
     ]
    }
   ],
   "source": [
    "# !python simulation_analytical.py -d L025N752/DMONLY/SigmaConstant00 --MW_halo --no-VC_halo --no-AG_halo"
   ]
  },
  {
   "cell_type": "code",
   "execution_count": 2,
   "metadata": {},
   "outputs": [
    {
     "name": "stdout",
     "output_type": "stream",
     "text": [
      "(10000, 100, 6)\n"
     ]
    }
   ],
   "source": [
    "out_dir = f'L025N752/DMONLY/SigmaConstant00'\n",
    "output = np.load(f'{out_dir}/neutrino_vectors_analytical_batch1.npy')\n",
    "print(output.shape)"
   ]
  },
  {
   "cell_type": "code",
   "execution_count": 7,
   "metadata": {},
   "outputs": [
    {
     "name": "stdout",
     "output_type": "stream",
     "text": [
      "********Numerical Simulation: Mode=single_halos********\n",
      "Halo batch params (Rvir,Mvir,cNFW):\n",
      "[[253.5523526   12.24058042   6.9286026 ]]\n",
      "***********************************\n",
      "halo 1/1 ; snapshot 0012\n",
      "halo 1/1 ; snapshot 0013\n",
      "halo 1/1 ; snapshot 0014\n",
      "halo 1/1 ; snapshot 0015\n",
      "halo 1/1 ; snapshot 0016\n",
      "halo 1/1 ; snapshot 0017\n",
      "halo 1/1 ; snapshot 0018\n",
      "halo 1/1 ; snapshot 0019\n",
      "halo 1/1 ; snapshot 0020\n",
      "halo 1/1 ; snapshot 0021\n",
      "halo 1/1 ; snapshot 0022\n",
      "halo 1/1 ; snapshot 0023\n",
      "halo 1/1 ; snapshot 0024\n",
      "halo 1/1 ; snapshot 0025\n",
      "halo 1/1 ; snapshot 0026\n",
      "halo 1/1 ; snapshot 0027\n",
      "halo 1/1 ; snapshot 0028\n",
      "halo 1/1 ; snapshot 0029\n",
      "halo 1/1 ; snapshot 0030\n",
      "halo 1/1 ; snapshot 0031\n",
      "halo 1/1 ; snapshot 0032\n",
      "halo 1/1 ; snapshot 0033\n",
      "halo 1/1 ; snapshot 0034\n",
      "halo 1/1 ; snapshot 0035\n",
      "halo 1/1 ; snapshot 0036\n",
      "***Running simulation: mode = single_halos***\n",
      "halo=1/1, CPUs=128\n",
      "Sim time: 2.197348520299905 min, 0.036622475338331746 h.\n",
      "Total time: 35.39737151341663 min, 0.5899561918902771 h.\n"
     ]
    }
   ],
   "source": [
    "# !python simulation_numerical.py -d L025N752/DMONLY/SigmaConstant00 -st single_halos -mg 12.0 -mr 0.6 -hn 1"
   ]
  },
  {
   "attachments": {},
   "cell_type": "markdown",
   "metadata": {},
   "source": [
    "# Final Content of notebook."
   ]
  },
  {
   "attachments": {},
   "cell_type": "markdown",
   "metadata": {},
   "source": [
    "## Load and transform simulation outputs."
   ]
  },
  {
   "cell_type": "code",
   "execution_count": null,
   "metadata": {},
   "outputs": [],
   "source": [
    "from shared.preface import *\n",
    "import shared.functions as fct\n",
    "\n",
    "def transform_simulation_outputs(box_name, box_ver, sim_fullname):\n",
    "    \"\"\"\n",
    "    Input sim_fullname specifies the simulation mode with additional information: e.g. \"single_halos_40k_test1\" or \"spheres_5shells_10k_final\".\n",
    "    \"\"\"\n",
    "\n",
    "    # Path to simulation outputs.\n",
    "\n",
    "    # note: right now while testing, I didn't specify the sim_fullname...\n",
    "    # out_dir = f'{box_name}/{box_ver}/{sim_fullname}'\n",
    "    out_dir = f'{box_name}/{box_ver}'  # using this for now...\n",
    "\n",
    "\n",
    "    # Try loading the equivalent output for the analytical simulation method.\n",
    "    # If it hasn't been run yet, raise error and inform user.\n",
    "    try:\n",
    "        overdensities_analytical = np.load(\n",
    "            f'{out_dir}/number_densities_analytical.npy'\n",
    "        )/N0\n",
    "\n",
    "        # Load neutrino vectors (positions and velocities) of the 10k batches, and concatenate them into a single array.\n",
    "        neutrino_vectors_analytical = np.array([[[]]])  # empty (1,1,1) array\n",
    "\n",
    "        batch_paths = glob.glob(\n",
    "            f'{out_dir}/neutrino_vectors_numerical_batch*.npy'\n",
    "        )\n",
    "        for batch_path in batch_paths:\n",
    "            batch_vectors = np.load(batch_path)\n",
    "            neutrino_vectors_analytical = np.concatenate(\n",
    "                (neutrino_vectors_analytical, batch_vectors), axis=0\n",
    "            )\n",
    "\n",
    "        analytical_out = True\n",
    "\n",
    "        return overdensities_analytical, neutrino_vectors_analytical\n",
    "\n",
    "    except FileNotFoundError:\n",
    "        print('! Analytical simulation output not found !')\n",
    "        analytical_out = False\n",
    "\n",
    "\n",
    "    if 'single_halos' or 'spheres' in sim_fullname:\n",
    "        # Load neutrino vectors (positions and velocities) of the 10k batches, and concatenate them into a single array.\n",
    "        neutrino_vectors_numerical = np.array([[[]]])  # empty (1,1,1) array\n",
    "\n",
    "        batch_paths = glob.glob(\n",
    "            f'{out_dir}/neutrino_vectors_numerical_batch*.npy'\n",
    "        )\n",
    "        for batch_path in batch_paths:\n",
    "            batch_vectors = np.load(batch_path)\n",
    "            neutrino_vectors_numerical = np.concatenate(\n",
    "                (neutrino_vectors_numerical, batch_vectors), axis=0\n",
    "            )\n",
    "\n",
    "        # Calculate overdensities.\n",
    "        overdensities_numerical = np.load(f'{out_dir}/number_densities_numerical.npy')/N0\n",
    "\n",
    "        if analytical_out:\n",
    "            return overdensities_analytical, neutrino_vectors_analytical, overdensities_numerical, neutrino_vectors_numerical\n",
    "        else:\n",
    "            return overdensities_numerical, neutrino_vectors_numerical\n",
    "    \n",
    "    else:\n",
    "        # Load angle pairs and calculate overdensities for the all_sky mode.\n",
    "        all_sky_output = np.load(f'{out_dir}/number_densities_numerical.npy')\n",
    "        angle_pairs = all_sky_output[:, :2]\n",
    "        overdensities_numerical = all_sky_output[:, 2:]/N0\n",
    "\n",
    "        return overdensities_numerical, angle_pairs\n",
    "\n",
    "\n",
    "box_name = 'L025N752'\n",
    "box_ver = 'DMONLY/SigmaConstant00'\n",
    "sim_fullname = 'single_halos_10k'\n",
    "etas, vectors = transform_simulation_outputs(box_name, box_ver, sim_fullname)"
   ]
  },
  {
   "attachments": {},
   "cell_type": "markdown",
   "metadata": {},
   "source": [
    "## Analyze and plot simulation outputs."
   ]
  },
  {
   "cell_type": "code",
   "execution_count": 12,
   "metadata": {},
   "outputs": [
    {
     "name": "stdout",
     "output_type": "stream",
     "text": [
      "(100,) [81.40410625 79.35218703 77.20972799 74.99057834 72.6863505  70.30725087\n",
      " 67.86709839 65.35172999 62.78228895 60.1607994 ]\n",
      "(100,) [112.52549147 112.55101963 112.58560248 112.61131996 112.64152414\n",
      " 112.67270233 112.69875384 112.73915364 112.77559968 112.81538843]\n"
     ]
    },
    {
     "data": {
      "image/png": "[encoded data removed]",
      "text/plain": [
       "<Figure size 800x800 with 1 Axes>"
      ]
     },
     "metadata": {},
     "output_type": "display_data"
    }
   ],
   "source": [
    "def analyze_simulation_outputs(\n",
    "        etas, m_nu_range,\n",
    "        box_name, box_ver,\n",
    "        plots_to_make, ylims, Mertsch=False,\n",
    "        # vectors, sim_fullname,\n",
    "    ):\n",
    "\n",
    "    # Figure directory.\n",
    "    # fig_dir = f'figures/{box_name}/{box_ver}/{sim_fullname}'\n",
    "    fig_dir = f'figures/{box_name}/{box_ver}'\n",
    "    if not os.path.exists(fig_dir):\n",
    "        os.makedirs(fig_dir)\n",
    "\n",
    "    savefig_args = dict(\n",
    "        bbox_inches='tight'\n",
    "    )\n",
    "\n",
    "    if Mertsch:\n",
    "        etas_analytical = etas[0,:]\n",
    "        etas_numerical = etas[1:,:]\n",
    "    else:\n",
    "        etas_numerical = etas[...]\n",
    "\n",
    "    ### ================================== ###\n",
    "    ### Figure of merit: overdensity band. ###\n",
    "    ### ================================== ###\n",
    "\n",
    "    fig, ax = plt.subplots(1,1)\n",
    "\n",
    "    if 'overdensity_band' in plots_to_make:\n",
    "\n",
    "        # Plot smooth simulation.\n",
    "        ax.plot(\n",
    "            m_nu_range*1e3, (etas_analytical-1), color='red', ls='solid', \n",
    "            label='Analytical simulation'\n",
    "        )\n",
    "\n",
    "        if etas_numerical.ndim <= 1:\n",
    "            ax.plot(\n",
    "                m_nu_range*1e3, (etas_numerical-1), color='blue', \n",
    "                label='medians'\n",
    "            )\n",
    "        else:\n",
    "            nus_median = np.median(etas_numerical, axis=0)\n",
    "            nus_perc2p5 = np.percentile(etas_numerical, q=2.5, axis=0)\n",
    "            nus_perc97p5 = np.percentile(etas_numerical, q=97.5, axis=0)\n",
    "            nus_perc16 = np.percentile(etas_numerical, q=16, axis=0)\n",
    "            nus_perc84 = np.percentile(etas_numerical, q=84, axis=0)\n",
    "            ax.plot(\n",
    "                m_nu_range*1e3, (nus_median-1), color='blue', \n",
    "                label='Halo sample medians'\n",
    "            )\n",
    "            ax.fill_between(\n",
    "                m_nu_range*1e3, (nus_perc2p5-1), (nus_perc97p5-1), \n",
    "                color='blue', alpha=0.2, label='2.5-97.5 %'\n",
    "            )\n",
    "            ax.fill_between(\n",
    "                m_nu_range*1e3, (nus_perc16-1), (nus_perc84-1), \n",
    "                color='blue', alpha=0.3, label='16-84 %'\n",
    "            )\n",
    "\n",
    "        # ax.set_xscale('log')\n",
    "        # ax.set_yscale('log')\n",
    "        ax.set_title(f'Overdensity band')\n",
    "        ax.set_xlabel(r'$m_{\\nu}$ [meV]')\n",
    "        ax.set_ylabel(r'$n_{\\nu} / n_{\\nu, 0}$')\n",
    "        # ax.set_ylim(ylims[0], ylims[1])\n",
    "        plt.grid(True, which=\"both\", ls=\"-\")\n",
    "        plt.legend(loc='lower right')\n",
    "\n",
    "\n",
    "        plt.savefig(fig_dir, **savefig_args)\n",
    "        plt.show()\n",
    "\n",
    "    ### ================================== ###\n",
    "    ### Figure of merit: overdensity band. ###\n",
    "    ### ================================== ###\n",
    "\n",
    "\n",
    "\n",
    "# Load analytical and numerical simulation output.\n",
    "out_dir = f'L025N752/DMONLY/SigmaConstant00'\n",
    "out_analytical = np.load(f'{out_dir}/number_densities_analytical.npy')\n",
    "out_numerical = np.load(f'{out_dir}/number_densities_numerical.npy')\n",
    "etas_combined = np.stack((out_analytical, out_numerical), axis=0)\n",
    "\n",
    "# print(np.transpose([out_analytical,out_numerical]))\n",
    "# print(out_numerical)\n",
    "print(out_analytical.shape, out_analytical[:10])\n",
    "# print(etas_combined.shape)\n",
    "\n",
    "neutrino_massrange = np.load(f'{out_dir}/neutrino_massrange_eV.npy')*eV\n",
    "\n",
    "old_analytical = np.load(\n",
    "    'LinfNinf/number_densities_10000nus_smooth_MW_RK23.npy'\n",
    ")\n",
    "\n",
    "print(old_analytical.shape, old_analytical[:10])\n",
    "\n",
    "analyze_simulation_outputs(\n",
    "    etas=etas_combined, \n",
    "    m_nu_range=neutrino_massrange,\n",
    "    box_name='L025N752', \n",
    "    box_ver='DMONLY/SigmaConstant00',\n",
    "    plots_to_make=('overdensity_band', 'vels'), \n",
    "    # ylims=(1e-3, 1e2),\n",
    "    ylims=(0, 1e-2),\n",
    "    Mertsch=True\n",
    ")"
   ]
  }
 ],
 "metadata": {
  "kernelspec": {
   "display_name": "Python 3 (ipykernel)",
   "language": "python",
   "name": "python3"
  },
  "language_info": {
   "codemirror_mode": {
    "name": "ipython",
    "version": 3
   },
   "file_extension": ".py",
   "mimetype": "text/x-python",
   "name": "python",
   "nbconvert_exporter": "python",
   "pygments_lexer": "ipython3",
   "version": "3.9.5"
  },
  "orig_nbformat": 4
 },
 "nbformat": 4,
 "nbformat_minor": 2
}
