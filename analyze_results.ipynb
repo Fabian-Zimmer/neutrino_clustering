{
 "cells": [
  {
   "attachments": {},
   "cell_type": "markdown",
   "metadata": {},
   "source": [
    "## Load and transform simulation outputs."
   ]
  },
  {
   "cell_type": "code",
   "execution_count": null,
   "metadata": {},
   "outputs": [],
   "source": [
    "from shared.preface import *\n",
    "import shared.functions as fct\n",
    "\n",
    "def transform_simulation_outputs(box_name, box_ver, sim_fullname):\n",
    "    \"\"\"\n",
    "    Input sim_fullname specifies the simulation mode with additional information: e.g. \"single_halos_40k_test1\" or \"spheres_5shells_10k_final\".\n",
    "    \"\"\"\n",
    "\n",
    "    # Path to simulation outputs.\n",
    "    out_dir = f'{box_name}/{box_ver}/{sim_fullname}'\n",
    "\n",
    "    if 'single_halos' or 'spheres' in sim_fullname:\n",
    "        # Load neutrino vectors (positions and velocities) of the 10k batches, and concatenate them into a single array.\n",
    "        neutrino_vectors = np.array([[[]]])  # create empty (1,1,1) array\n",
    "\n",
    "        batch_paths = glob.glob(f'{out_dir}/neutrino_vectors_batch*.npy')\n",
    "        for batch_path in batch_paths:\n",
    "            batch_vectors = np.load(batch_path)\n",
    "            neutrino_vectors = np.concatenate(\n",
    "                (neutrino_vectors, batch_vectors), axis=1\n",
    "            )\n",
    "\n",
    "        # Calculate overdensities.\n",
    "        overdensities = np.load(f'{out_dir}/number_densities.npy')/N0\n",
    "\n",
    "        return overdensities, neutrino_vectors\n",
    "    \n",
    "    else:\n",
    "        # Load angle pairs and calculate overdensities for the all_sky mode.\n",
    "        all_sky_output = np.load(f'{out_dir}/number_densities.npy')\n",
    "        angle_pairs = all_sky_output[:, :2]\n",
    "        overdensities = all_sky_output[:, 2:]/N0\n",
    "\n",
    "        return overdensities, angle_pairs\n",
    "    \n",
    "\n",
    "box_name = 'L025N752'\n",
    "box_ver = 'DMONLY/SigmaConstant00'\n",
    "sim_fullname = 'single_halos_10k'\n",
    "sim_arrays = transform_simulation_outputs(box_name, box_ver, sim_fullname)"
   ]
  },
  {
   "attachments": {},
   "cell_type": "markdown",
   "metadata": {},
   "source": [
    "## Analyze and plot simulation outputs."
   ]
  },
  {
   "cell_type": "code",
   "execution_count": null,
   "metadata": {},
   "outputs": [],
   "source": [
    "def analyze_simulation_outputs(\n",
    "        sim_arrays_to_analyze, \n",
    "        box_name, box_ver, sim_fullname,\n",
    "        plots_to_make\n",
    "    ):\n",
    "\n",
    "    # Figure directory.\n",
    "    if not os.path.exists('figures'):\n",
    "        os.makedirs('figures')\n",
    "    fig_dir = f'figures/{box_name}/{box_ver}/{sim_fullname}'\n",
    "\n",
    "    savefig_args = dict(\n",
    "        bbox_inches='tight'\n",
    "    )\n",
    "\n",
    "\n",
    "    ### ================================== ###\n",
    "    ### Figure of merit: overdensity band. ###\n",
    "    ### ================================== ###\n",
    "\n",
    "    fig, ax = plt.subplots(1,1)\n",
    "\n",
    "    # Numerical simulation.\n",
    "    if etas_sim.ndim <= 1:\n",
    "        ax.plot(\n",
    "            m_nu_range*1e3, (etas_sim-1), color='blue', \n",
    "            label='medians'\n",
    "        )\n",
    "    else:\n",
    "        nus_median = np.median(etas_sim, axis=0)\n",
    "        nus_perc2p5 = np.percentile(etas_sim, q=2.5, axis=0)\n",
    "        nus_perc97p5 = np.percentile(etas_sim, q=97.5, axis=0)\n",
    "        nus_perc16 = np.percentile(etas_sim, q=16, axis=0)\n",
    "        nus_perc84 = np.percentile(etas_sim, q=84, axis=0)\n",
    "        ax.plot(\n",
    "            m_nu_range*1e3, (nus_median-1), color='blue', \n",
    "            label='Halo sample medians'\n",
    "        )\n",
    "        ax.fill_between(\n",
    "            m_nu_range*1e3, (nus_perc2p5-1), (nus_perc97p5-1), \n",
    "            color='blue', alpha=0.2, label='2.5-97.5 %'\n",
    "        )\n",
    "        ax.fill_between(\n",
    "            m_nu_range*1e3, (nus_perc16-1), (nus_perc84-1), \n",
    "            color='blue', alpha=0.3, label='16-84 %'\n",
    "        )\n",
    "    plt.savefig(fig_dir, **savefig_args)"
   ]
  }
 ],
 "metadata": {
  "kernelspec": {
   "display_name": "Python 3 (ipykernel)",
   "language": "python",
   "name": "python3"
  },
  "language_info": {
   "codemirror_mode": {
    "name": "ipython",
    "version": 3
   },
   "file_extension": ".py",
   "mimetype": "text/x-python",
   "name": "python",
   "nbconvert_exporter": "python",
   "pygments_lexer": "ipython3",
   "version": "3.9.5"
  },
  "orig_nbformat": 4
 },
 "nbformat": 4,
 "nbformat_minor": 2
}
