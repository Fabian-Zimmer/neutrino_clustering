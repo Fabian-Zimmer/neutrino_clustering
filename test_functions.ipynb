{
 "cells": [
  {
   "cell_type": "code",
   "execution_count": 2,
   "metadata": {},
   "outputs": [
    {
     "name": "stdout",
     "output_type": "stream",
     "text": [
      "True\n"
     ]
    }
   ],
   "source": [
    "from shared.preface import *\n",
    "\n",
    "# To test if DM_reset array contains unique values (no duplicate DM).\n",
    "rand_DM = np.random.random((2,4,3))\n",
    "DM_reset = rand_DM\n",
    "\n",
    "t_DM_re = DM_reset.reshape((DM_reset.shape[0]*DM_reset.shape[1],3))\n",
    "t_DM_sort = np.sort(t_DM_re, axis=0)\n",
    "\n",
    "t_max_row = np.count_nonzero(~np.isnan(t_DM_sort[:,0]))\n",
    "\n",
    "t_DM_trunc = np.delete(t_DM_sort, np.s_[t_max_row:], axis=0)\n",
    "\n",
    "t_DM_unique = np.unique(t_DM_trunc, axis=1)\n",
    "\n",
    "t_len1 = len(t_DM_unique)\n",
    "t_len2 = len(t_DM_trunc)\n",
    "print(t_len1==t_len2)"
   ]
  }
 ],
 "metadata": {
  "kernelspec": {
   "display_name": "Python 3.9.5 ('neutrino_clustering')",
   "language": "python",
   "name": "python3"
  },
  "language_info": {
   "codemirror_mode": {
    "name": "ipython",
    "version": 3
   },
   "file_extension": ".py",
   "mimetype": "text/x-python",
   "name": "python",
   "nbconvert_exporter": "python",
   "pygments_lexer": "ipython3",
   "version": "3.9.5"
  },
  "orig_nbformat": 4,
  "vscode": {
   "interpreter": {
    "hash": "8a0d5d0f2e48edd2cdf812a3eedd1dc78c628b894b9ae93ffd6b09cf9a60bf81"
   }
  }
 },
 "nbformat": 4,
 "nbformat_minor": 2
}
