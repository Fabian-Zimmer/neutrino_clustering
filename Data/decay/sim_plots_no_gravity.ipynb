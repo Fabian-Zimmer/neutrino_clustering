{
 "cells": [
  {
   "cell_type": "code",
   "execution_count": 1,
   "metadata": {},
   "outputs": [],
   "source": [
    "%load_ext autoreload\n",
    "%autoreload 2\n",
    "\n",
    "from Shared.shared import *\n",
    "from Shared.specific_CNB_sim import *\n",
    "\n",
    "# Ignore UserWarnings issued by healpy\n",
    "import warnings\n",
    "warnings.filterwarnings(\"ignore\", category=UserWarning, module=\"healpy\")\n",
    "\n",
    "sim_name = f\"no_gravity\"\n",
    "sim_folder = f\"sim_output/{sim_name}\"\n",
    "nu_mass_range = jnp.load(f\"{sim_folder}/neutrino_massrange_eV.npy\")\n",
    "\n",
    "# Simulation parameters.\n",
    "with open(f'{sim_folder}/sim_parameters.yaml', 'r') as file:\n",
    "    sim_setup = yaml.safe_load(file)\n",
    "Nside = sim_setup[\"Nside\"]\n",
    "Npix = sim_setup[\"Npix\"]\n",
    "nu_per_pix = sim_setup[\"momentum_num\"]\n",
    "pix_sr = sim_setup[\"pix_sr\"]"
   ]
  },
  {
   "cell_type": "markdown",
   "metadata": {},
   "source": [
    "## Overdensity band"
   ]
  },
  {
   "cell_type": "code",
   "execution_count": 12,
   "metadata": {},
   "outputs": [
    {
     "name": "stderr",
     "output_type": "stream",
     "text": [
      "ic| tot_dens_halos.shape: (1, 50)\n"
     ]
    },
    {
     "name": "stdout",
     "output_type": "stream",
     "text": [
      "[[56.59817452 56.60432873 56.60716104 56.60837604 56.60885944 56.60903686\n",
      "  56.60909659 56.60911493 56.60912002 56.6091213  56.60912158 56.60912164\n",
      "  56.60912165 56.60912165 56.60912165 56.60912165 56.60912165 56.60912164\n",
      "  56.60912164 56.60912164 56.60912164 56.60912164 56.60912163 56.60912163\n",
      "  56.60912162 56.60912162 56.60912161 56.6091216  56.60912159 56.60912157\n",
      "  56.60912155 56.60912153 56.6091215  56.60912146 56.60912142 56.60912137\n",
      "  56.60912131 56.60912123 56.60912113 56.60912101 56.60912086 56.60912068\n",
      "  56.60912045 56.60912012 56.60911983 56.60911941 56.60911889 56.60911825\n",
      "  56.60911746 56.60911649]]\n",
      "[[56.59817452 56.60432873 56.60716104 56.60837604 56.60885944 56.60903686\n",
      "  56.60909659 56.60911493 56.60912002 56.6091213  56.60912158 56.60912164\n",
      "  56.60912165 56.60912165 56.60912165 56.60912165 56.60912165 56.60912164\n",
      "  56.60912164 56.60912164 56.60912164 56.60912164 56.60912163 56.60912163\n",
      "  56.60912162 56.60912162 56.60912161 56.6091216  56.60912159 56.60912157\n",
      "  56.60912155 56.60912153 56.6091215  56.60912146 56.60912142 56.60912137\n",
      "  56.60912131 56.60912123 56.60912113 56.60912101 56.60912086 56.60912068\n",
      "  56.60912045 56.60912012 56.60911983 56.60911941 56.60911889 56.60911825\n",
      "  56.60911746 56.60911649]]\n"
     ]
    },
    {
     "ename": "TypeError",
     "evalue": "SimPlot.overdensity_band() got an unexpected keyword argument 'dens_arr'",
     "output_type": "error",
     "traceback": [
      "\u001b[0;31m---------------------------------------------------------------------------\u001b[0m",
      "\u001b[0;31mTypeError\u001b[0m                                 Traceback (most recent call last)",
      "Cell \u001b[0;32mIn[12], line 16\u001b[0m\n\u001b[1;32m      8\u001b[0m eta \u001b[38;5;241m=\u001b[39m \u001b[38;5;241m1e-12\u001b[39m\n\u001b[1;32m      9\u001b[0m \u001b[38;5;124;03m'''SimPlot.overdensity_band(\u001b[39;00m\n\u001b[1;32m     10\u001b[0m \u001b[38;5;124;03m    dens_arr=tot_dens_halos,\u001b[39;00m\n\u001b[1;32m     11\u001b[0m \u001b[38;5;124;03m    m_arr=nu_mass_range,\u001b[39;00m\n\u001b[0;32m   (...)\u001b[0m\n\u001b[1;32m     14\u001b[0m \u001b[38;5;124;03m    fig_path=f\"figures/overdensity_band_{sim_name}.pdf\",\u001b[39;00m\n\u001b[1;32m     15\u001b[0m \u001b[38;5;124;03m    args=Params())'''\u001b[39;00m\n\u001b[0;32m---> 16\u001b[0m \u001b[43mSimPlot\u001b[49m\u001b[38;5;241;43m.\u001b[39;49m\u001b[43moverdensity_band\u001b[49m\u001b[43m(\u001b[49m\n\u001b[1;32m     17\u001b[0m \u001b[43m    \u001b[49m\u001b[43mdens_arr\u001b[49m\u001b[38;5;241;43m=\u001b[39;49m\u001b[43mtot_dens_halos\u001b[49m\u001b[43m,\u001b[49m\n\u001b[1;32m     18\u001b[0m \u001b[43m    \u001b[49m\u001b[43mm_arr\u001b[49m\u001b[38;5;241;43m=\u001b[39;49m\u001b[43mnu_mass_range\u001b[49m\u001b[43m,\u001b[49m\n\u001b[1;32m     19\u001b[0m \u001b[43m    \u001b[49m\u001b[43mplot_ylims\u001b[49m\u001b[38;5;241;43m=\u001b[39;49m\u001b[43m(\u001b[49m\u001b[43m(\u001b[49m\u001b[38;5;241;43m0\u001b[39;49m\u001b[38;5;241;43m-\u001b[39;49m\u001b[43meta\u001b[49m\u001b[43m)\u001b[49m\u001b[43m,\u001b[49m\u001b[43m(\u001b[49m\u001b[38;5;241;43m0\u001b[39;49m\u001b[38;5;241;43m+\u001b[39;49m\u001b[43meta\u001b[49m\u001b[43m)\u001b[49m\u001b[43m)\u001b[49m\u001b[43m,\u001b[49m\n\u001b[1;32m     20\u001b[0m \u001b[43m    \u001b[49m\u001b[43mplot_log\u001b[49m\u001b[38;5;241;43m=\u001b[39;49m\u001b[38;5;28;43;01mFalse\u001b[39;49;00m\u001b[43m,\u001b[49m\n\u001b[1;32m     21\u001b[0m \u001b[43m    \u001b[49m\u001b[43margs\u001b[49m\u001b[38;5;241;43m=\u001b[39;49m\u001b[43mParams\u001b[49m\u001b[43m(\u001b[49m\u001b[43m)\u001b[49m\u001b[43m)\u001b[49m\n",
      "\u001b[0;31mTypeError\u001b[0m: SimPlot.overdensity_band() got an unexpected keyword argument 'dens_arr'"
     ]
    }
   ],
   "source": [
    "tot_dens_halos = jnp.load(f\"{sim_folder}/total_densities.npy\")\n",
    "tot_dens_halos_2 = jnp.load(f\"total_densities.npy\")\n",
    "\n",
    "ic(tot_dens_halos.shape)\n",
    "print(tot_dens_halos)\n",
    "print(tot_dens_halos_2)\n",
    "\n",
    "eta = 1e-12\n",
    "'''SimPlot.overdensity_band(\n",
    "    dens_arr=tot_dens_halos,\n",
    "    m_arr=nu_mass_range,\n",
    "    plot_ylims=((0-eta),(0+eta)),\n",
    "    plot_log=False,\n",
    "    fig_path=f\"figures/overdensity_band_{sim_name}.pdf\",\n",
    "    args=Params())'''\n",
    "SimPlot.overdensity_band(\n",
    "    dens_arr=tot_dens_halos,\n",
    "    m_arr=nu_mass_range,\n",
    "    plot_ylims=((0-eta),(0+eta)),\n",
    "    plot_log=False,\n",
    "    args=Params())"
   ]
  },
  {
   "cell_type": "markdown",
   "metadata": {},
   "source": [
    "## Anisotropy Skymaps and Power Spectra"
   ]
  },
  {
   "cell_type": "code",
   "execution_count": 9,
   "metadata": {},
   "outputs": [
    {
     "name": "stderr",
     "output_type": "stream",
     "text": [
      "ic| nu_vectors.shape: (768, 1000, 2, 6)\n"
     ]
    },
    {
     "ename": "KeyboardInterrupt",
     "evalue": "",
     "output_type": "error",
     "traceback": [
      "\u001b[0;31m---------------------------------------------------------------------------\u001b[0m",
      "\u001b[0;31mKeyboardInterrupt\u001b[0m                         Traceback (most recent call last)",
      "Cell \u001b[0;32mIn[9], line 6\u001b[0m\n\u001b[1;32m      2\u001b[0m nu_vectors_2 \u001b[38;5;241m=\u001b[39m jnp\u001b[38;5;241m.\u001b[39mload(\u001b[38;5;124mf\u001b[39m\u001b[38;5;124m\"\u001b[39m\u001b[38;5;124mvectors_halo1.npy\u001b[39m\u001b[38;5;124m\"\u001b[39m)\n\u001b[1;32m      4\u001b[0m ic(nu_vectors\u001b[38;5;241m.\u001b[39mshape)\n\u001b[0;32m----> 6\u001b[0m nu_dens \u001b[38;5;241m=\u001b[39m \u001b[43mPhysics\u001b[49m\u001b[38;5;241;43m.\u001b[39;49m\u001b[43mnumber_densities_all_sky\u001b[49m\u001b[43m(\u001b[49m\n\u001b[1;32m      7\u001b[0m \u001b[43m    \u001b[49m\u001b[43mv_arr\u001b[49m\u001b[38;5;241;43m=\u001b[39;49m\u001b[43mnu_vectors\u001b[49m\u001b[43m[\u001b[49m\u001b[38;5;241;43m.\u001b[39;49m\u001b[38;5;241;43m.\u001b[39;49m\u001b[38;5;241;43m.\u001b[39;49m\u001b[43m,\u001b[49m\u001b[43m \u001b[49m\u001b[38;5;241;43m3\u001b[39;49m\u001b[43m:\u001b[49m\u001b[43m]\u001b[49m\u001b[43m,\u001b[49m\n\u001b[1;32m      8\u001b[0m \u001b[43m    \u001b[49m\u001b[43mm_arr\u001b[49m\u001b[38;5;241;43m=\u001b[39;49m\u001b[43mnu_mass_range\u001b[49m\u001b[43m,\u001b[49m\n\u001b[1;32m      9\u001b[0m \u001b[43m    \u001b[49m\u001b[43mpix_sr\u001b[49m\u001b[38;5;241;43m=\u001b[39;49m\u001b[43mpix_sr\u001b[49m\u001b[43m,\u001b[49m\n\u001b[1;32m     10\u001b[0m \u001b[43m    \u001b[49m\u001b[43margs\u001b[49m\u001b[38;5;241;43m=\u001b[39;49m\u001b[43mParams\u001b[49m\u001b[43m(\u001b[49m\u001b[43m)\u001b[49m\u001b[43m)\u001b[49m\n\u001b[1;32m     11\u001b[0m ic(nu_dens\u001b[38;5;241m.\u001b[39mshape)\n\u001b[1;32m     12\u001b[0m \u001b[38;5;66;03m#print(nu_dens )\u001b[39;00m\n",
      "\u001b[0;31mKeyboardInterrupt\u001b[0m: "
     ]
    }
   ],
   "source": [
    "nu_vectors = jnp.load(f\"{sim_folder}/vectors_halo1.npy\")\n",
    "nu_vectors_2 = jnp.load(f\"vectors_halo1.npy\")\n",
    "\n",
    "ic(nu_vectors.shape)\n",
    "\n",
    "nu_dens = Physics.number_densities_all_sky(\n",
    "    v_arr=nu_vectors_2[..., 3:],\n",
    "    m_arr=nu_mass_range,\n",
    "    pix_sr=pix_sr,\n",
    "    args=Params())\n",
    "ic(nu_dens.shape)\n",
    "#print(nu_dens)"
   ]
  },
  {
   "cell_type": "code",
   "execution_count": 4,
   "metadata": {},
   "outputs": [
    {
     "name": "stderr",
     "output_type": "stream",
     "text": [
      "ic| CNB_dens_1mass.shape: (768,)\n",
      "ic| CNB_dens_1mass.min(): Array(0.07370979, dtype=float64)\n",
      "    CNB_dens_1mass.max(): Array(0.07370979, dtype=float64)\n"
     ]
    },
    {
     "ename": "TypeError",
     "evalue": "SimPlot.healpix_side_by_side() got an unexpected keyword argument 'fig_path'",
     "output_type": "error",
     "traceback": [
      "\u001b[0;31m---------------------------------------------------------------------------\u001b[0m",
      "\u001b[0;31mTypeError\u001b[0m                                 Traceback (most recent call last)",
      "Cell \u001b[0;32mIn[4], line 19\u001b[0m\n\u001b[1;32m     16\u001b[0m ic(CNB_dens_1mass\u001b[38;5;241m.\u001b[39mshape)\n\u001b[1;32m     17\u001b[0m ic(CNB_dens_1mass\u001b[38;5;241m.\u001b[39mmin(), CNB_dens_1mass\u001b[38;5;241m.\u001b[39mmax())\n\u001b[0;32m---> 19\u001b[0m \u001b[38;5;28mmap\u001b[39m \u001b[38;5;241m=\u001b[39m \u001b[43mSimPlot\u001b[49m\u001b[38;5;241;43m.\u001b[39;49m\u001b[43mskymaps_CNBxDM\u001b[49m\u001b[43m(\u001b[49m\n\u001b[1;32m     20\u001b[0m \u001b[43m    \u001b[49m\u001b[43mnu_mass\u001b[49m\u001b[38;5;241;43m=\u001b[39;49m\u001b[43mm_val\u001b[49m\u001b[43m,\u001b[49m\u001b[43m \u001b[49m\n\u001b[1;32m     21\u001b[0m \u001b[43m    \u001b[49m\u001b[43mCNB_dens\u001b[49m\u001b[38;5;241;43m=\u001b[39;49m\u001b[43mCNB_dens_1mass\u001b[49m\u001b[43m,\u001b[49m\u001b[43m \u001b[49m\n\u001b[1;32m     22\u001b[0m \u001b[43m    \u001b[49m\u001b[43mDM_halo_pos\u001b[49m\u001b[38;5;241;43m=\u001b[39;49m\u001b[43mjnp\u001b[49m\u001b[38;5;241;43m.\u001b[39;49m\u001b[43mload\u001b[49m\u001b[43m(\u001b[49m\u001b[38;5;124;43mf\u001b[39;49m\u001b[38;5;124;43m\"\u001b[39;49m\u001b[38;5;124;43mData/halo_grids/DM_pos_origID\u001b[39;49m\u001b[38;5;132;43;01m{\u001b[39;49;00m\u001b[43mhaloID\u001b[49m\u001b[38;5;132;43;01m}\u001b[39;49;00m\u001b[38;5;124;43m_snap_0036.npy\u001b[39;49m\u001b[38;5;124;43m\"\u001b[39;49m\u001b[43m)\u001b[49m\u001b[43m,\u001b[49m\u001b[43m \u001b[49m\n\u001b[1;32m     23\u001b[0m \u001b[43m    \u001b[49m\u001b[43minit_xyz\u001b[49m\u001b[38;5;241;43m=\u001b[39;49m\u001b[43mjnp\u001b[49m\u001b[38;5;241;43m.\u001b[39;49m\u001b[43mload\u001b[49m\u001b[43m(\u001b[49m\u001b[38;5;124;43mf\u001b[39;49m\u001b[38;5;124;43m\"\u001b[39;49m\u001b[38;5;132;43;01m{\u001b[39;49;00m\u001b[43msim_folder\u001b[49m\u001b[38;5;132;43;01m}\u001b[39;49;00m\u001b[38;5;124;43m/init_xyz_halo\u001b[39;49m\u001b[38;5;132;43;01m{\u001b[39;49;00m\u001b[43mhalo_i\u001b[49m\u001b[38;5;132;43;01m}\u001b[39;49;00m\u001b[38;5;124;43m.npy\u001b[39;49m\u001b[38;5;124;43m\"\u001b[39;49m\u001b[43m)\u001b[49m\u001b[43m,\u001b[49m\u001b[43m \u001b[49m\n\u001b[1;32m     24\u001b[0m \u001b[43m    \u001b[49m\u001b[43mfig_path\u001b[49m\u001b[38;5;241;43m=\u001b[39;49m\u001b[38;5;124;43mf\u001b[39;49m\u001b[38;5;124;43m\"\u001b[39;49m\u001b[38;5;124;43mfigures/skymaps_CNBxDM_\u001b[39;49m\u001b[38;5;132;43;01m{\u001b[39;49;00m\u001b[43msim_name\u001b[49m\u001b[38;5;132;43;01m}\u001b[39;49;00m\u001b[38;5;124;43m.pdf\u001b[39;49m\u001b[38;5;124;43m\"\u001b[39;49m\u001b[43m,\u001b[49m\n\u001b[1;32m     25\u001b[0m \u001b[43m    \u001b[49m\u001b[43margs\u001b[49m\u001b[38;5;241;43m=\u001b[39;49m\u001b[43mParams\u001b[49m\u001b[43m(\u001b[49m\u001b[43m)\u001b[49m\u001b[43m)\u001b[49m\n",
      "File \u001b[0;32m/gpfs/home3/fzimmer/maria/maria_neutrino_clustering/neutrino_clustering/Shared/specific_CNB_sim.py:1551\u001b[0m, in \u001b[0;36mSimPlot.skymaps_CNBxDM\u001b[0;34m(nu_mass, CNB_dens, DM_halo_pos, init_xyz, fig_path, args)\u001b[0m\n\u001b[1;32m   1537\u001b[0m dict_DM \u001b[38;5;241m=\u001b[39m \u001b[38;5;28mdict\u001b[39m(\n\u001b[1;32m   1538\u001b[0m     title\u001b[38;5;241m=\u001b[39m\u001b[38;5;124mfr\u001b[39m\u001b[38;5;124m\"\u001b[39m\u001b[38;5;124mDark matter halo\u001b[39m\u001b[38;5;124m\"\u001b[39m, \n\u001b[1;32m   1539\u001b[0m     unit\u001b[38;5;241m=\u001b[39m\u001b[38;5;124mf\u001b[39m\u001b[38;5;124m\"\u001b[39m\u001b[38;5;124mparticle count\u001b[39m\u001b[38;5;124m\"\u001b[39m,\n\u001b[0;32m   (...)\u001b[0m\n\u001b[1;32m   1543\u001b[0m     override_plot_properties\u001b[38;5;241m=\u001b[39m{\u001b[38;5;124m\"\u001b[39m\u001b[38;5;124mcbar_pad\u001b[39m\u001b[38;5;124m\"\u001b[39m: \u001b[38;5;241m0.1\u001b[39m, \u001b[38;5;124m\"\u001b[39m\u001b[38;5;124mcbar_label_pad\u001b[39m\u001b[38;5;124m\"\u001b[39m: \u001b[38;5;241m1\u001b[39m},\n\u001b[1;32m   1544\u001b[0m     sub\u001b[38;5;241m=\u001b[39m\u001b[38;5;241m122\u001b[39m)\n\u001b[1;32m   1547\u001b[0m \u001b[38;5;66;03m### ------------ ###\u001b[39;00m\n\u001b[1;32m   1548\u001b[0m \u001b[38;5;66;03m### Plot skymaps ###\u001b[39;00m\n\u001b[1;32m   1549\u001b[0m \u001b[38;5;66;03m### ------------ ###\u001b[39;00m\n\u001b[0;32m-> 1551\u001b[0m \u001b[43mSimPlot\u001b[49m\u001b[38;5;241;43m.\u001b[39;49m\u001b[43mhealpix_side_by_side\u001b[49m\u001b[43m(\u001b[49m\n\u001b[1;32m   1552\u001b[0m \u001b[43m    \u001b[49m\u001b[43mmap_left\u001b[49m\u001b[38;5;241;43m=\u001b[39;49m\u001b[43mCNB_skymap\u001b[49m\u001b[43m,\u001b[49m\n\u001b[1;32m   1553\u001b[0m \u001b[43m    \u001b[49m\u001b[43mmap_right\u001b[49m\u001b[38;5;241;43m=\u001b[39;49m\u001b[43mDM_halo_skymap\u001b[49m\u001b[43m,\u001b[49m\n\u001b[1;32m   1554\u001b[0m \u001b[43m    \u001b[49m\u001b[43mdict_left\u001b[49m\u001b[38;5;241;43m=\u001b[39;49m\u001b[43mdict_CNB\u001b[49m\u001b[43m,\u001b[49m\n\u001b[1;32m   1555\u001b[0m \u001b[43m    \u001b[49m\u001b[43mdict_right\u001b[49m\u001b[38;5;241;43m=\u001b[39;49m\u001b[43mdict_DM\u001b[49m\u001b[43m,\u001b[49m\n\u001b[1;32m   1556\u001b[0m \u001b[43m    \u001b[49m\u001b[43mfig_path\u001b[49m\u001b[38;5;241;43m=\u001b[39;49m\u001b[43mfig_path\u001b[49m\u001b[43m,\u001b[49m\n\u001b[1;32m   1557\u001b[0m \u001b[43m    \u001b[49m\u001b[43margs\u001b[49m\u001b[38;5;241;43m=\u001b[39;49m\u001b[43margs\u001b[49m\u001b[43m)\u001b[49m  \n\u001b[1;32m   1560\u001b[0m \u001b[38;5;28;01mreturn\u001b[39;00m CNB_skymap, DM_halo_skymap\n",
      "\u001b[0;31mTypeError\u001b[0m: SimPlot.healpix_side_by_side() got an unexpected keyword argument 'fig_path'"
     ]
    }
   ],
   "source": [
    "# Choose which halo to plot\n",
    "halo_i = 1\n",
    "\n",
    "# Load associated origID of chosen halo\n",
    "halo_indices = jnp.load(\n",
    "    f\"{sim_folder}/halo_batch_0.6-2.0x1e+12.0_Msun_indices.npy\")\n",
    "haloID = halo_indices[halo_i-1]\n",
    "\n",
    "# Choose which neutrino mass to plot\n",
    "m_val = 0.3\n",
    "nu_mass_range = jnp.load(f\"{sim_folder}/neutrino_massrange_eV.npy\")\n",
    "m_idx = jnp.abs(nu_mass_range - m_val).argmin()\n",
    "\n",
    "# Load corresponding number densities\n",
    "CNB_dens_1mass = nu_dens[m_idx]\n",
    "ic(CNB_dens_1mass.shape)\n",
    "ic(CNB_dens_1mass.min(), CNB_dens_1mass.max())\n",
    "\n",
    "map = SimPlot.skymaps_CNBxDM(\n",
    "    nu_mass=m_val, \n",
    "    CNB_dens=CNB_dens_1mass, \n",
    "    DM_halo_pos=jnp.load(f\"Data/halo_grids/DM_pos_origID{haloID}_snap_0036.npy\"), \n",
    "    init_xyz=jnp.load(f\"{sim_folder}/init_xyz_halo{halo_i}.npy\"), \n",
    "    fig_path=f\"figures/skymaps_CNBxDM_{sim_name}.pdf\",\n",
    "    args=Params())"
   ]
  }
 ],
 "metadata": {
  "kernelspec": {
   "display_name": "neutrino_clustering",
   "language": "python",
   "name": "python3"
  },
  "language_info": {
   "codemirror_mode": {
    "name": "ipython",
    "version": 3
   },
   "file_extension": ".py",
   "mimetype": "text/x-python",
   "name": "python",
   "nbconvert_exporter": "python",
   "pygments_lexer": "ipython3",
   "version": "3.10.0"
  }
 },
 "nbformat": 4,
 "nbformat_minor": 2
}
