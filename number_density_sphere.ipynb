{
 "cells": [
  {
   "cell_type": "markdown",
   "metadata": {},
   "source": [
    "# Visual tests."
   ]
  },
  {
   "cell_type": "markdown",
   "metadata": {},
   "source": [
    "## Plot DM structure for different halos."
   ]
  },
  {
   "cell_type": "code",
   "execution_count": null,
   "metadata": {},
   "outputs": [],
   "source": [
    "from shared.preface import *\n",
    "import shared.functions as fct\n",
    "\n",
    "\n",
    "PRE = PRE(\n",
    "    sim='L012N376', \n",
    "    z0_snap=36, z4_snap=13, DM_lim=1000,\n",
    "    sim_dir=SIM_ROOT, sim_ver=SIM_TYPE,\n",
    "    phis=10, thetas=10, vels=100,\n",
    "    pre_CPUs=1, sim_CPUs=6\n",
    ")\n",
    "\n",
    "# Make temporary folder to store files, s.t. parallel runs don't clash.\n",
    "rand_code = ''.join(\n",
    "    random.choices(string.ascii_uppercase + string.digits, k=4)\n",
    ")\n",
    "TEMP_DIR = f'{PRE.OUT_DIR}/temp_data_{rand_code}'\n",
    "os.makedirs(TEMP_DIR)\n",
    "\n",
    "Testing=False\n",
    "if Testing:\n",
    "    mass_gauge = 12.3\n",
    "    mass_range = 0.3\n",
    "    size = 1\n",
    "else:\n",
    "    mass_gauge = 12.0\n",
    "    mass_range = 0.6\n",
    "    size = 10\n",
    "\n",
    "hname = f'1e+{mass_gauge}_pm{mass_range}Msun'\n",
    "fct.halo_batch_indices(\n",
    "    PRE.Z0_STR, mass_gauge, mass_range, 'halos', size, \n",
    "    hname, PRE.SIM_DIR, TEMP_DIR\n",
    ")\n",
    "halo_batch_IDs = np.load(f'{TEMP_DIR}/halo_batch_{hname}_indices.npy')\n",
    "halo_batch_params = np.load(f'{TEMP_DIR}/halo_batch_{hname}_params.npy')\n",
    "halo_num = len(halo_batch_params)\n",
    "\n",
    "print('********Number density band********')\n",
    "print('Halo batch params (Rvir,Mvir,cNFW):')\n",
    "print(halo_batch_params)\n",
    "print('***********************************')\n",
    "\n",
    "\n",
    "for halo_j, halo_ID in enumerate(halo_batch_IDs[:1]):\n",
    "\n",
    "    # Manually adjust DM inclusion radius and number of halos.\n",
    "    # (for manual job submissions on snellius)\n",
    "    Rvir_halo = halo_batch_params[halo_j,0]\n",
    "    Rvir_multiplier = 4  # 2,4,8,16 x Rvir\n",
    "    DM_range_kpc = Rvir_multiplier*Rvir_halo*kpc  \n",
    "    halos_inRange_lim = 2\n",
    "\n",
    "    # '''\n",
    "    # =============================================== #\n",
    "    # Run precalculations for selected halo in batch. #\n",
    "    # =============================================== #\n",
    "\n",
    "    # Generate progenitor index array for current halo.\n",
    "    splits = re.split('/', SIM_TYPE)\n",
    "    MTname = f'{PRE.SIM}_{splits[0]}_{splits[1]}'\n",
    "    proj_IDs = fct.read_MergerTree(PRE.OUT_DIR, MTname, halo_ID)\n",
    "\n",
    "\n",
    "    # for j, (snap, proj_ID) in enumerate(zip(\n",
    "    #     PRE.NUMS_SNAPS[::-1], proj_IDs\n",
    "    # )):\n",
    "\n",
    "    # For snapshot 0036 at z=0.\n",
    "    snap, proj_ID = PRE.NUMS_SNAPS[-1], proj_IDs[0]\n",
    "    proj_ID = int(proj_ID)\n",
    "\n",
    "    print(f'halo {halo_j+1}/{halo_num} ; snapshot {snap}')\n",
    "    \n",
    "\n",
    "    # --------------------------- #\n",
    "    # Read and load DM positions. #\n",
    "    # --------------------------- #\n",
    "\n",
    "    IDname = f'origID{halo_ID}_snap_{snap}'\n",
    "    fct.read_DM_halos_inRange(\n",
    "        snap, proj_ID, DM_range_kpc, int(halos_inRange_lim), \n",
    "        IDname, PRE.SIM_DIR, TEMP_DIR, PRE.PRE_CPUs\n",
    "    )\n",
    "    DM_raw = np.load(f'{TEMP_DIR}/DM_pos_{IDname}.npy')\n",
    "\n",
    "\n",
    "# Remove temporary folder with all individual neutrino files.\n",
    "shutil.rmtree(TEMP_DIR)"
   ]
  },
  {
   "cell_type": "code",
   "execution_count": null,
   "metadata": {},
   "outputs": [],
   "source": [
    "fig = plt.figure()\n",
    "fig.patch.set_facecolor('cornflowerblue')\n",
    "ax = fig.add_subplot(111, projection='3d')\n",
    "# ax.patch.set_facecolor('cornflowerblue')\n",
    "bubble_cmap = cc.cm.CET_D7  # blue-to-yellow, medium dark middle\n",
    "\n",
    "print(len(DM_raw))\n",
    "x_DM, y_DM, z_DM = DM_raw[:,0], DM_raw[:,1], DM_raw[:,2]\n",
    "cut = 10\n",
    "x, y, z = x_DM[1::cut], y_DM[1::cut], z_DM[1::cut]\n",
    "ax.scatter(x, y, z, alpha=0.6, c='blueviolet', s=0.2, label='DM particles')\n",
    "plt.show()"
   ]
  },
  {
   "cell_type": "markdown",
   "metadata": {},
   "source": [
    "## Test adaptive DM_lim implementation."
   ]
  },
  {
   "cell_type": "code",
   "execution_count": null,
   "metadata": {},
   "outputs": [],
   "source": [
    "# ---------------------- #\n",
    "# Cell division process. #\n",
    "# ---------------------- #\n",
    "\n",
    "# Make temporary folder to store files, s.t. parallel runs don't clash.\n",
    "rand_code = ''.join(\n",
    "    random.choices(string.ascii_uppercase + string.digits, k=4)\n",
    ")\n",
    "TEMP_DIR = f'{PRE.OUT_DIR}/temp_data_{rand_code}'\n",
    "os.makedirs(TEMP_DIR)\n",
    "\n",
    "\n",
    "# Initialize grid.\n",
    "snap_GRID_L = (int(np.abs(DM_raw).max()) + 1)*kpc\n",
    "raw_grid = fct.grid_3D(snap_GRID_L, snap_GRID_L)\n",
    "init_grid = np.expand_dims(raw_grid, axis=1)\n",
    "\n",
    "# Prepare arrays for cell division.\n",
    "DM_raw *= kpc\n",
    "DM_pos = np.expand_dims(DM_raw, axis=0)\n",
    "DM_pos_for_cell_division = np.repeat(DM_pos, len(init_grid), axis=0)\n",
    "\n",
    "# Cell division.\n",
    "cell_division_count = fct.cell_division(\n",
    "    init_grid, DM_pos_for_cell_division, snap_GRID_L, PRE.DM_LIM, None, TEMP_DIR, IDname\n",
    ")\n",
    "\n",
    "# Load files from cell division.\n",
    "fin_grid = np.load(f'{TEMP_DIR}/fin_grid_{IDname}.npy')\n",
    "DM_count = np.load(f'{TEMP_DIR}/DM_count_{IDname}.npy')\n",
    "cell_com = np.load(f'{TEMP_DIR}/cell_com_{IDname}.npy')\n",
    "cell_gen = np.load(f'{TEMP_DIR}/cell_gen_{IDname}.npy')\n",
    "\n",
    "\n",
    "# Remove temporary folder.\n",
    "shutil.rmtree(TEMP_DIR)\n",
    "\n",
    "print(fin_grid.shape)\n",
    "\n",
    "\n",
    "# Plot grid over DM.\n",
    "fig = plt.figure()\n",
    "fig.patch.set_facecolor('cornflowerblue')\n",
    "ax = fig.add_subplot(111, projection='3d')\n",
    "\n",
    "plot_grid = np.squeeze(fin_grid, axis=1) / kpc\n",
    "xg, yg, zg = plot_grid[:,0], plot_grid[:,1], plot_grid[:,2] \n",
    "ax.scatter(\n",
    "    xg, yg, zg, s=1, marker='x', color='black', \n",
    "    alpha=1, label='Cell centers'\n",
    ")\n",
    "plt.show()"
   ]
  },
  {
   "cell_type": "markdown",
   "metadata": {},
   "source": [
    "# Number density plots for spheres."
   ]
  },
  {
   "cell_type": "code",
   "execution_count": null,
   "metadata": {},
   "outputs": [],
   "source": [
    "from shared.preface import *\n",
    "import shared.functions as fct\n",
    "\n",
    "SIM_TYPE = 'DMONLY/SigmaConstant00'\n",
    "\n",
    "PRE_SIM = PRE(\n",
    "    sim='L025N752', \n",
    "    z0_snap=36, z4_snap=13, DM_lim=1000,\n",
    "    sim_dir=SIM_ROOT, sim_ver=SIM_TYPE,\n",
    "    phis=20, thetas=20, vels=200,\n",
    "    pre_CPUs=10, sim_CPUs=128\n",
    ")\n",
    "\n",
    "mass_gauge = 12.0\n",
    "mass_range = 0.6\n",
    "size = 10\n",
    "\n",
    "hname = f'1e+{mass_gauge}_pm{mass_range}Msun'\n",
    "fct.halo_batch_indices(\n",
    "    PRE_SIM.Z0_STR, mass_gauge, mass_range, 'halos', size, \n",
    "    hname, PRE_SIM.SIM_DIR, PRE_SIM.OUT_DIR\n",
    ")\n",
    "halo_batch_IDs = np.load(f'{PRE_SIM.OUT_DIR}/halo_batch_{hname}_indices.npy')\n",
    "halo_batch_params = np.load(f'{PRE_SIM.OUT_DIR}/halo_batch_{hname}_params.npy')\n",
    "halo_num = len(halo_batch_params)\n",
    "\n",
    "print('***********************************')\n",
    "print('Halo batch params (Rvir,Mvir,cNFW):')\n",
    "print(halo_batch_params)\n",
    "print('***********************************')"
   ]
  },
  {
   "cell_type": "markdown",
   "metadata": {},
   "source": [
    "## Tests."
   ]
  },
  {
   "cell_type": "markdown",
   "metadata": {},
   "source": [
    "### Show how median overdensity changes with incl. of more shells."
   ]
  },
  {
   "cell_type": "code",
   "execution_count": null,
   "metadata": {},
   "outputs": [],
   "source": []
  },
  {
   "cell_type": "markdown",
   "metadata": {},
   "source": [
    "### Check if amount of DM decreases backwards through time/snaps."
   ]
  },
  {
   "cell_type": "code",
   "execution_count": null,
   "metadata": {},
   "outputs": [],
   "source": [
    "rand_code = ''.join(\n",
    "    random.choices(string.ascii_uppercase + string.digits, k=4)\n",
    ")\n",
    "TEMP_DIR = f'{PRE_SIM.OUT_DIR}/temp_data_{rand_code}'\n",
    "os.makedirs(TEMP_DIR)\n",
    "\n",
    "shells = 1\n",
    "DM_shell_edges = DM_SHELL_EDGES[:shells+1]\n",
    "\n",
    "for halo_ID in halo_batch_IDs[:1]:\n",
    "\n",
    "    # Generate progenitor index array for current halo.\n",
    "    splits = re.split('/', SIM_TYPE)\n",
    "    MTname = f'{PRE_SIM.SIM}_{splits[0]}_{splits[1]}'\n",
    "    proj_IDs = fct.read_MergerTree(PRE_SIM.OUT_DIR, MTname, halo_ID)\n",
    "\n",
    "    DM_lengths = np.zeros(len(proj_IDs))\n",
    "    for j, (snap, proj_ID) in enumerate(zip(PRE_SIM.NUMS_SNAPS[::-1], proj_IDs)):\n",
    "        IDname = f'origID{halo_ID}_snap_{snap}'\n",
    "        fct.read_DM_all_inRange(\n",
    "            snap, proj_ID, DM_shell_edges, IDname, PRE_SIM.SIM_DIR, TEMP_DIR\n",
    "        )\n",
    "\n",
    "        print(f'snapshot {snap}')\n",
    "\n",
    "        # Load DM from all used shells.\n",
    "        DM_pre = []\n",
    "        for si in range(shells):\n",
    "            DM_pre.append(np.load(f'{TEMP_DIR}/DM_pos_{IDname}_shell{si}.npy'))\n",
    "        DM_raw = np.array(list(chain.from_iterable(DM_pre)))\n",
    "        del DM_pre\n",
    "\n",
    "        DM_lengths[j] = len(DM_raw)\n",
    "        del DM_raw\n",
    "\n",
    "    plt.plot(np.arange(len(DM_lengths)), DM_lengths)\n",
    "    plt.show()\n",
    "\n",
    "shutil.rmtree(TEMP_DIR)"
   ]
  },
  {
   "cell_type": "markdown",
   "metadata": {},
   "source": [
    "## Plots."
   ]
  },
  {
   "cell_type": "code",
   "execution_count": null,
   "metadata": {},
   "outputs": [],
   "source": [
    "# Load data for MW halo only of smooth simulation.\n",
    "PRE_SMOOTH = PRE(\n",
    "    sim='LinfNinf', phis=10, thetas=10, vels=100, MW_HALO=True\n",
    ")\n",
    "\n",
    "smooth_name = f'{PRE_SMOOTH.NUS}nus_smooth_{PRE_SMOOTH.HALOS}_{SOLVER}'\n",
    "smooth_dir = f'{os.getcwd()}/{PRE_SMOOTH.SIM}'\n",
    "u_all_MW = fct.load_sim_data(smooth_dir, smooth_name, 'velocities')\n",
    "\n",
    "smooth_output = f'{smooth_dir}/number_densities_{smooth_name}.npy'\n",
    "fct.number_densities_mass_range(\n",
    "    u_all_MW, NU_MRANGE, smooth_output, \n",
    "    average=False, m_start=0.01, z_start=0.5\n",
    ")\n",
    "etas_smooth = np.load(f'{smooth_output}')/N0"
   ]
  },
  {
   "cell_type": "code",
   "execution_count": null,
   "metadata": {},
   "outputs": [],
   "source": [
    "shells = 4\n",
    "for si in range(shells):\n",
    "    etas_spheres = []\n",
    "    for halo_j in range(10):\n",
    "\n",
    "        # Load overdensities of current halo for current spheres.\n",
    "        Sname = f'{PRE_SIM.NUS}nus_{hname}_halo{halo_j}_sphere_{si+1}shells'\n",
    "        out_file = f'{PRE_SIM.OUT_DIR}/number_densities_{Sname}.npy'\n",
    "        etas_spheres.append(np.load(f'{out_file}')/N0)\n",
    "\n",
    "    etas_sim = np.array(etas_spheres)\n",
    "    print(etas_sim.shape)\n",
    "\n",
    "    fig_dir = f'{os.getcwd()}/figures'\n",
    "    splits = re.split('/', SIM_TYPE)\n",
    "    fname = f'{splits[0]}_{splits[1]}_{hname}_{si+1}shells'\n",
    "    fct.plot_eta_band(\n",
    "        etas_sim, etas_smooth, NU_MRANGE, fig_dir, fname, \n",
    "        show=True, Mertsch=True\n",
    "    )"
   ]
  },
  {
   "cell_type": "code",
   "execution_count": 20,
   "metadata": {},
   "outputs": [
    {
     "data": {
      "image/png": "[encoded data removed]",
      "text/plain": [
       "<Figure size 600x600 with 1 Axes>"
      ]
     },
     "metadata": {},
     "output_type": "display_data"
    }
   ],
   "source": [
    "shells = 4\n",
    "shell_medians = []\n",
    "for si in range(shells):\n",
    "\n",
    "    etas_halos = []\n",
    "    for halo_j in range(halo_num):\n",
    "\n",
    "        # Load overdensities of selected halo for current spheres.\n",
    "        Sname = f'{PRE_SIM.NUS}nus_{hname}_halo{halo_j}_sphere_{si+1}shells'\n",
    "        out_file = f'{PRE_SIM.OUT_DIR}/number_densities_{Sname}.npy'\n",
    "        etas_halos.append(np.load(f'{out_file}')/N0)\n",
    "\n",
    "    shell_medians.append(np.median(np.array(etas_halos), axis=0))\n",
    "\n",
    "\n",
    "medians_low = np.array(shell_medians)[:,0]\n",
    "medians_med1 = np.array(shell_medians)[:,30]\n",
    "medians_med2 = np.array(shell_medians)[:,70]\n",
    "medians_high = np.array(shell_medians)[:,-1]\n",
    "\n",
    "x_spheres = np.arange(shells)\n",
    "fig, ax = plt.subplots(1,1, figsize=(6,6))\n",
    "ax.plot(x_spheres, medians_low-1)\n",
    "ax.plot(x_spheres, medians_med1-1)\n",
    "ax.plot(x_spheres, medians_med2-1)\n",
    "ax.plot(x_spheres, medians_high-1)\n",
    "\n",
    "ax.set_title('Overdensities w.r.t. incl. radius')\n",
    "ax.set_yscale('log')\n",
    "ax.yaxis.set_major_formatter(ticker.FuncFormatter(fct.y_fmt))\n",
    "plt.show()"
   ]
  }
 ],
 "metadata": {
  "kernelspec": {
   "display_name": "Python 3 (ipykernel)",
   "language": "python",
   "name": "python3"
  },
  "language_info": {
   "codemirror_mode": {
    "name": "ipython",
    "version": 3
   },
   "file_extension": ".py",
   "mimetype": "text/x-python",
   "name": "python",
   "nbconvert_exporter": "python",
   "pygments_lexer": "ipython3",
   "version": "3.9.5"
  },
  "orig_nbformat": 4,
  "vscode": {
   "interpreter": {
    "hash": "f9f85f796d01129d0dd105a088854619f454435301f6ffec2fea96ecbd9be4ac"
   }
  }
 },
 "nbformat": 4,
 "nbformat_minor": 2
}
