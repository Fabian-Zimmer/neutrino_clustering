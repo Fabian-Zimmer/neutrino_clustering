{
 "cells": [
  {
   "cell_type": "markdown",
   "metadata": {},
   "source": [
    "### Calculating & Investigating final number density plot"
   ]
  },
  {
   "cell_type": "code",
   "execution_count": 1,
   "metadata": {},
   "outputs": [
    {
     "data": {
      "image/png": "[encoded data removed]",
      "text/plain": [
       "<Figure size 576x576 with 1 Axes>"
      ]
     },
     "metadata": {
      "needs_background": "light"
     },
     "output_type": "display_data"
    },
    {
     "name": "stdout",
     "output_type": "stream",
     "text": [
      "Max value: 1.0015660921620877 0.0015660921620876955\n"
     ]
    }
   ],
   "source": [
    "from shared.preface import *\n",
    "import shared.functions as fct\n",
    "\n",
    "\n",
    "# Load data.\n",
    "nus = 10000\n",
    "MW_HALO = False\n",
    "AG_HALO = False\n",
    "VC_HALO = False\n",
    "halos = 'MW'*MW_HALO + '+VC'*VC_HALO + '+AG'*AG_HALO\n",
    "u_all = fct.load_u_sim(nus, halos)\n",
    "\n",
    "def number_density_1_mass(m_nu_eV, average=False):\n",
    "\n",
    "    n_nus = np.zeros(len(m_nu_eV))\n",
    "    for i, m_eV in enumerate(m_nu_eV):\n",
    "\n",
    "        # Get momenta.\n",
    "        p, _ = fct.u_to_p_eV(u_all, m_eV)\n",
    "\n",
    "        if average and m_eV >= 0.1:\n",
    "            # Calculate number density, values are averaged for z in [3.5, 4].\n",
    "            idx = np.array(np.where(ZEDS >= 3.5)).flatten()\n",
    "\n",
    "            temp = np.zeros(len(idx))\n",
    "            for j,k in enumerate(idx):\n",
    "                val = fct.number_density(p[:,0], p[:,k])\n",
    "                temp[j] = val\n",
    "\n",
    "            n_nus[i] = np.mean(temp)\n",
    "\n",
    "        else:\n",
    "            n_nus[i] = fct.number_density(p[:,0], p[:,-1])\n",
    "\n",
    "    np.save(\n",
    "        f'neutrino_data/clustering_factors_nus_{nus}_halos_{halos}.npy', \n",
    "        n_nus\n",
    "        )\n",
    "\n",
    "\n",
    "# 10 to 300 meV like in the paper.\n",
    "mass_range_eV = np.geomspace(0.01, 0.3, 100)*eV\n",
    "\n",
    "number_density_1_mass(mass_range_eV, average=False)\n",
    "n_nus = np.load(\n",
    "    f'neutrino_data/clustering_factors_nus_{nus}_halos_{halos}.npy'\n",
    "    )/N0\n",
    "\n",
    "# Plotting:\n",
    "fig, ax = plt.subplots(1,1, figsize=(8,8))\n",
    "\n",
    "ax.plot(mass_range_eV*1e3, (n_nus-1))\n",
    "x_ends = [1e1, 3*1e2]\n",
    "y_ends = [3*1e-3, 4]\n",
    "ax.scatter(x_ends, y_ends, s=12, marker='x', c='r')\n",
    "\n",
    "for m in NU_MASSES:\n",
    "    ax.axvline(m*1e3, c='r', ls='-.')\n",
    "\n",
    "ax.set_xscale('log')\n",
    "ax.set_yscale('log')\n",
    "ax.set_title(f'Halos: {halos}, Neutrinos: {nus}')\n",
    "ax.set_xlabel(r'$m_{\\nu}$ [meV]')\n",
    "ax.set_ylabel(r'$n_{\\nu} / n_{\\nu, 0}$')\n",
    "# ax.set_ylim(1e-3, 1e-1)\n",
    "plt.grid(True, which=\"both\", ls=\"-\")\n",
    "\n",
    "ax.yaxis.set_major_formatter(ticker.FuncFormatter(fct.y_fmt))\n",
    "\n",
    "plt.savefig(f'figures/clustering_factors_nus_{nus}_halos_{halos}.pdf')\n",
    "plt.show()\n",
    "\n",
    "print('Max value:', np.max(n_nus), np.max(n_nus-1))"
   ]
  },
  {
   "cell_type": "markdown",
   "metadata": {},
   "source": [
    "### Visualizing the neutrino trajectories."
   ]
  },
  {
   "cell_type": "code",
   "execution_count": null,
   "metadata": {},
   "outputs": [],
   "source": [
    "from shared.preface import *\n",
    "import shared.functions as fct\n",
    "\n",
    "# Positions of all neutrinos.\n",
    "nus = 1000\n",
    "MW_HALO = False\n",
    "VC_HALO = False\n",
    "AG_HALO = False\n",
    "halos = 'MW'*MW_HALO + '+VC'*VC_HALO + '+AG'*AG_HALO\n",
    "x_all = fct.load_x_sim(nus, halos)/1e3\n",
    "\n",
    "fig = plt.figure(figsize=(8,8))\n",
    "ax = fig.add_subplot(111, projection='3d')\n",
    "\n",
    "for i in range(nus):\n",
    "\n",
    "    # Positions of 1 neutrino.\n",
    "    x_nu1 = x_all[i,:]\n",
    "    x, y, z = x_nu1[:,0], x_nu1[:,1], x_nu1[:,2]\n",
    "\n",
    "    if i==0:\n",
    "        print(x[0])\n",
    "\n",
    "    ax.plot3D(x, y, z, alpha=0.01)\n",
    "\n",
    "\n",
    "\n",
    "# ax.scatter3D(\n",
    "#     X_VC[0]/1e3, X_VC[1]/1e3, X_VC[2]/1e3, s=300, c='r', label='Virgo Cluster'\n",
    "#     )\n",
    "\n",
    "# ax.scatter3D(\n",
    "#     X_AG[0]/1e3, X_AG[1]/1e3, X_AG[2]/1e3, s=200, c='b', label='M31'\n",
    "#     )\n",
    "\n",
    "ax.scatter3D(\n",
    "    0.,0.,0., s=10, c='k', label='Galactic Center'\n",
    "    )\n",
    "\n",
    "\n",
    "ax.set_xlim(-5,5)\n",
    "ax.set_ylim(-5,5)\n",
    "ax.set_zlim(0,20)\n",
    "\n",
    "ax.set_xlabel('x-axis (Mpc)')\n",
    "ax.set_ylabel('y-axis (Mpc)')\n",
    "ax.set_zlabel('z-axis (Mpc)')\n",
    "\n",
    "plt.legend()\n",
    "plt.show()"
   ]
  }
 ],
 "metadata": {
  "interpreter": {
   "hash": "2fc11506ce542309680a5d7a18d7170bcceeadf7cd3c0301f21ef62d84cf3c72"
  },
  "kernelspec": {
   "display_name": "Python 3.9.7 ('neutrino_clustering')",
   "language": "python",
   "name": "python3"
  },
  "language_info": {
   "codemirror_mode": {
    "name": "ipython",
    "version": 3
   },
   "file_extension": ".py",
   "mimetype": "text/x-python",
   "name": "python",
   "nbconvert_exporter": "python",
   "pygments_lexer": "ipython3",
   "version": "3.9.7"
  },
  "orig_nbformat": 4
 },
 "nbformat": 4,
 "nbformat_minor": 2
}
