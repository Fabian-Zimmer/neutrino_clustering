{
 "cells": [
  {
   "cell_type": "markdown",
   "metadata": {},
   "source": [
    "### Calculating & Investigating final number density plot"
   ]
  },
  {
   "cell_type": "code",
   "execution_count": 1,
   "metadata": {},
   "outputs": [
    {
     "name": "stdout",
     "output_type": "stream",
     "text": [
      "[1.00144254 1.00144283 1.00144299 1.00144308 1.00144312 1.00144315\n",
      " 1.00144316 1.00144316 1.00144317 1.00144317 1.00144317 1.00144317\n",
      " 1.00144317 1.00144317 1.00144317 1.00144317 1.00144317 1.00144317\n",
      " 1.00144317 1.00144317 1.00144316 1.00144316 1.00144316 1.00144316\n",
      " 1.00144316 1.00144316 1.00144316 1.00144316 1.00144316 1.00144316\n",
      " 1.00144315 1.00144315 1.00144315 1.00144315 1.00144315 1.00144314\n",
      " 1.00144314 1.00144314 1.00144313 1.00144313 1.00144313 1.00144312\n",
      " 1.00144311 1.00144311 1.0014431  1.00144309 1.00144309 1.00144308\n",
      " 1.00144307 1.00144306 1.00144304 1.00144303 1.00144301 1.001443\n",
      " 1.00144298 1.00144296 1.00144293 1.00144291 1.00144288 1.00144285\n",
      " 1.00144281 1.00144277 1.00144273 1.00144268 1.00144263 1.00144257\n",
      " 1.00144251 1.00144244 1.00144236 1.00144227 1.00144217 1.00144206\n",
      " 1.00144194 1.00144181 1.00144166 1.0014415  1.00144132 1.00144112\n",
      " 1.0014409  1.00144065 1.00144038 1.00144008 1.00143975 1.00143938\n",
      " 1.00143897 1.00143851 1.00143801 1.00143745 1.00143684 1.00143615\n",
      " 1.00143539 1.00143455 1.00143362 1.0014326  1.00143145 1.00143019\n",
      " 1.00142879 1.00142724 1.00142553 1.00142363]\n"
     ]
    },
    {
     "data": {
      "image/png": "[encoded data removed]",
      "text/plain": [
       "<Figure size 576x576 with 1 Axes>"
      ]
     },
     "metadata": {
      "needs_background": "light"
     },
     "output_type": "display_data"
    },
    {
     "name": "stdout",
     "output_type": "stream",
     "text": [
      "Max value: 1.0014431681125455 0.0014431681125455231\n"
     ]
    }
   ],
   "source": [
    "from shared.preface import *\n",
    "import shared.functions as fct\n",
    "\n",
    "\n",
    "# Load data.\n",
    "nus = 10000\n",
    "MW_HALO = False\n",
    "AG_HALO = False\n",
    "VC_HALO = False\n",
    "halos = 'MW'*MW_HALO + '+VC'*VC_HALO + '+AG'*AG_HALO\n",
    "u_all = fct.load_u_sim(nus, halos)\n",
    "\n",
    "def number_density_1_mass(m_nu_eV, average=False):\n",
    "\n",
    "    n_nus = np.zeros(len(m_nu_eV))\n",
    "    for i, m_eV in enumerate(m_nu_eV):\n",
    "\n",
    "        # Get momenta.\n",
    "        p, _ = fct.u_to_p_eV(u_all, m_eV)\n",
    "\n",
    "        if average and m_eV >= 0.1:\n",
    "            # Calculate number density, values are averaged for z in [3.5, 4].\n",
    "            idx = np.array(np.where(ZEDS >= 3.5)).flatten()\n",
    "\n",
    "            temp = np.zeros(len(idx))\n",
    "            for j,k in enumerate(idx):\n",
    "                val = fct.number_density(p[:,0], p[:,k])\n",
    "                temp[j] = val\n",
    "\n",
    "            n_nus[i] = np.mean(temp)\n",
    "\n",
    "        else:\n",
    "            n_nus[i] = fct.number_density(p[:,0], p[:,-1])\n",
    "\n",
    "    np.save(\n",
    "        f'neutrino_data/clustering_factors_nus_{nus}_halos_{halos}.npy', \n",
    "        n_nus\n",
    "        )\n",
    "\n",
    "\n",
    "# 10 to 300 meV like in the paper.\n",
    "mass_range_eV = np.geomspace(0.01, 0.3, 100)*eV\n",
    "\n",
    "number_density_1_mass(mass_range_eV, average=False)\n",
    "n_nus = np.load(\n",
    "    f'neutrino_data/clustering_factors_nus_{nus}_halos_{halos}.npy'\n",
    "    )/N0\n",
    "\n",
    "# Plotting:\n",
    "fig, ax = plt.subplots(1,1, figsize=(8,8))\n",
    "\n",
    "ax.plot(mass_range_eV*1e3, (n_nus-1))\n",
    "x_ends = [1e1, 3*1e2]\n",
    "y_ends = [3*1e-3, 4]\n",
    "ax.scatter(x_ends, y_ends, s=12, marker='x', c='r')\n",
    "\n",
    "for m in NU_MASSES:\n",
    "    ax.axvline(m*1e3, c='r', ls='-.')\n",
    "\n",
    "ax.set_xscale('log')\n",
    "ax.set_yscale('log')\n",
    "ax.set_title(f'Halos: {halos}, Neutrinos: {nus}')\n",
    "ax.set_xlabel(r'$m_{\\nu}$ [meV]')\n",
    "ax.set_ylabel(r'$n_{\\nu} / n_{\\nu, 0}$')\n",
    "ax.set_ylim(1e-5, 1e-1)\n",
    "plt.grid(True, which=\"both\", ls=\"-\")\n",
    "\n",
    "ax.yaxis.set_major_formatter(ticker.FuncFormatter(fct.y_fmt))\n",
    "\n",
    "plt.savefig(f'figures/clustering_factors_nus_{nus}_halos_{halos}.pdf')\n",
    "plt.show()\n",
    "\n",
    "print('Max value:', np.max(n_nus), np.max(n_nus-1))"
   ]
  }
 ],
 "metadata": {
  "interpreter": {
   "hash": "f954fd519baabf9adc4c45dc1841670b54a153fe717f7fe4f74275668c90e9d2"
  },
  "kernelspec": {
   "display_name": "Python 3.9.7 ('NC_numba')",
   "language": "python",
   "name": "python3"
  },
  "language_info": {
   "codemirror_mode": {
    "name": "ipython",
    "version": 3
   },
   "file_extension": ".py",
   "mimetype": "text/x-python",
   "name": "python",
   "nbconvert_exporter": "python",
   "pygments_lexer": "ipython3",
   "version": "3.9.12"
  },
  "orig_nbformat": 4
 },
 "nbformat": 4,
 "nbformat_minor": 2
}
