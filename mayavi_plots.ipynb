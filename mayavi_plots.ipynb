{
 "cells": [
  {
   "cell_type": "code",
   "execution_count": null,
   "metadata": {},
   "outputs": [],
   "source": [
    "import numpy as np\n",
    "from scipy.stats import gaussian_kde\n",
    "import matplotlib.pyplot as plt\n",
    "from mayavi import mlab\n",
    "import multiprocessing\n",
    "\n",
    "\n",
    "def plot_kde_3D_mayavi():\n",
    "\n",
    "    def calc_kde(data):\n",
    "        return kde(data.T)\n",
    "\n",
    "    mu, sigma = 0, 0.1 \n",
    "    x = 10*np.random.normal(mu, sigma, 5000)\n",
    "    y = 10*np.random.normal(mu, sigma, 5000)\n",
    "    z = 10*np.random.normal(mu, sigma, 5000)\n",
    "\n",
    "    xyz = np.vstack([x,y,z])\n",
    "    kde = gaussian_kde(xyz)\n",
    "\n",
    "    # Evaluate kde on a grid\n",
    "    xmin, ymin, zmin = x.min(), y.min(), z.min()\n",
    "    xmax, ymax, zmax = x.max(), y.max(), z.max()\n",
    "    xi, yi, zi = np.mgrid[xmin:xmax:30j, ymin:ymax:30j, zmin:zmax:30j]\n",
    "    coords = np.vstack([item.ravel() for item in [xi, yi, zi]]) \n",
    "\n",
    "    # Multiprocessing\n",
    "    cores = multiprocessing.cpu_count()\n",
    "    pool = multiprocessing.Pool(processes=cores)\n",
    "    results = pool.map(calc_kde, np.array_split(coords.T, 2))\n",
    "    density = np.concatenate(results).reshape(xi.shape)\n",
    "\n",
    "    # Plot scatter with mayavi\n",
    "    figure = mlab.figure('DensityPlot')\n",
    "\n",
    "    grid = mlab.pipeline.scalar_field(xi, yi, zi, density)\n",
    "    min_val = density.min()\n",
    "    max_val = density.max()\n",
    "    mlab.pipeline.volume(\n",
    "        grid, vmin=min_val, vmax=min_val + .5*(max_val-min_val)\n",
    "    )\n",
    "\n",
    "    mlab.axes()\n",
    "    mlab.show()\n",
    "\n",
    "plot_kde_3D_mayavi()"
   ]
  }
 ],
 "metadata": {
  "language_info": {
   "name": "python"
  },
  "orig_nbformat": 4
 },
 "nbformat": 4,
 "nbformat_minor": 2
}
