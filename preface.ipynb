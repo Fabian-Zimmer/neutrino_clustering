{
 "cells": [
  {
   "cell_type": "markdown",
   "metadata": {},
   "source": [
    "### Manual calculations and files for preface."
   ]
  },
  {
   "cell_type": "code",
   "execution_count": 2,
   "metadata": {},
   "outputs": [
    {
     "name": "stdout",
     "output_type": "stream",
     "text": [
      "[3.81 3.43 3.09 2.79 2.52 2.28 2.06 1.86 1.68 1.51 1.36 1.21 1.08 0.96\n",
      " 0.85 0.74 0.64 0.55 0.46 0.37 0.29 0.21 0.14 0.07 0.  ]\n"
     ]
    }
   ],
   "source": [
    "import numpy as np\n",
    "import h5py\n",
    "import pathlib\n",
    "from scipy.integrate import quad\n",
    "from shared.preface import H0, Omega_M, Omega_L, s, SIM_DATA, ZEDS\n",
    "\n",
    "def s_of_z(z):\n",
    "    \"\"\"Convert redshift to time variable s with eqn. 4.1 in Mertsch et al.\n",
    "    (2020), keeping only Omega_m0 and Omega_Lambda0 in the Hubble eqn. for H(z).\n",
    "\n",
    "    Args:\n",
    "        z (float): redshift\n",
    "\n",
    "    Returns:\n",
    "        float: time variable s (in [seconds] if 1/H0 factor is included)\n",
    "    \"\"\"    \n",
    "\n",
    "    def s_integrand(z):        \n",
    "\n",
    "        # We need value of H0 in units of 1/s.\n",
    "        H0_val = H0/(1/s)\n",
    "        a_dot = np.sqrt(Omega_M*(1.+z)**3 + Omega_L)/(1.+z)*H0_val\n",
    "        s_int = 1./a_dot\n",
    "\n",
    "        return s_int\n",
    "\n",
    "    s_of_z, _ = quad(s_integrand, 0., z)\n",
    "\n",
    "    return np.float64(s_of_z)\n",
    "\n",
    "\n",
    "sim = 'L006N188'\n",
    "\n",
    "zeds = np.zeros(25)\n",
    "nums = []\n",
    "for j, i in enumerate(range(12,37)):\n",
    "    snap_i = f'{i:04d}'\n",
    "    nums.append(snap_i)\n",
    "\n",
    "    with h5py.File(str(next(\n",
    "        pathlib.Path(\n",
    "            f'{SIM_DATA}/{sim}').glob(f'**/snapshot_{snap_i}.hdf5'\n",
    "        )\n",
    "    ))) as snap:\n",
    "        zeds[j] = snap['Cosmology'].attrs['Redshift'][0]\n",
    "\n",
    "np.save(f'shared/ZEDS_SNAPSHOTS.npy', np.asarray(zeds))\n",
    "np.save(f'shared/NUMS_SNAPSHOTS.npy', np.asarray(nums))\n",
    "print(np.round(np.asarray(zeds),2))\n",
    "\n",
    "# Integration steps.\n",
    "s_steps = np.array([s_of_z(z) for z in ZEDS])\n",
    "np.save(f'shared/S_STEPS.npy', np.asarray(s_steps))"
   ]
  }
 ],
 "metadata": {
  "kernelspec": {
   "display_name": "Python 3.9.5 ('neutrino_clustering')",
   "language": "python",
   "name": "python3"
  },
  "language_info": {
   "codemirror_mode": {
    "name": "ipython",
    "version": 3
   },
   "file_extension": ".py",
   "mimetype": "text/x-python",
   "name": "python",
   "nbconvert_exporter": "python",
   "pygments_lexer": "ipython3",
   "version": "3.9.5"
  },
  "orig_nbformat": 4,
  "vscode": {
   "interpreter": {
    "hash": "8a0d5d0f2e48edd2cdf812a3eedd1dc78c628b894b9ae93ffd6b09cf9a60bf81"
   }
  }
 },
 "nbformat": 4,
 "nbformat_minor": 2
}
