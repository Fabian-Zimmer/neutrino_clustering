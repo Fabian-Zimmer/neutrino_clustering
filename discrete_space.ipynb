{
 "cells": [
  {
   "cell_type": "code",
   "execution_count": 1,
   "metadata": {},
   "outputs": [],
   "source": [
    "from shared.preface import *\n",
    "import shared.functions as fct"
   ]
  },
  {
   "cell_type": "code",
   "execution_count": 82,
   "metadata": {},
   "outputs": [
    {
     "name": "stdout",
     "output_type": "stream",
     "text": [
      "[[-0.5 -0.5]\n",
      " [ 0.5  0.5]] (2, 3)\n",
      "[[-0.5  0.5]\n",
      " [-0.5  0.5]] (3, 2)\n",
      "[[[-0.5 -0.5]\n",
      "  [ 0.5  0.5]]\n",
      "\n",
      " [[-0.5  0.5]\n",
      "  [-0.5  0.5]]] (2, 2, 2)\n",
      "[[-0.5 -0.5]\n",
      " [-0.5  0.5]\n",
      " [ 0.5 -0.5]\n",
      " [ 0.5  0.5]] (4, 2)\n"
     ]
    }
   ],
   "source": [
    "# 2D spatial grid, discretized.\n",
    "x, y = np.mgrid[-1:1.1:1., -1:1.1:1.]\n",
    "# print(x, x.shape)\n",
    "# print(y, y.shape)\n",
    "\n",
    "x_centers = (x[1:,:] + x[:-1,:])/2.\n",
    "# print(x_centers, x_centers.shape)\n",
    "print(x_centers[:,:-1], x_centers.shape)\n",
    "\n",
    "y_centers = (y[:,1:] + y[:,:-1])/2.\n",
    "# print(y_centers, y_centers.shape)\n",
    "print(y_centers[:-1,:], y_centers.shape)\n",
    "\n",
    "# Create center coord.-pairs.\n",
    "# centers = np.vstack((x_centers[:,:-1], y_centers[:-1,:]))\n",
    "centers = np.array([x_centers[:,:-1], y_centers[:-1,:]])\n",
    "print(centers, centers.shape)\n",
    "cent_coordPairs = centers.reshape(2,-1).T #! now this we need for 3D...\n",
    "print(cent_coordPairs, cent_coordPairs.shape)\n",
    "\n",
    "# [x y] coordinate pairs of above grid.\n",
    "xy = np.mgrid[-1:1.1:1., -1:1.1:1.].reshape(2,-1).T\n",
    "# print(xy.shape)"
   ]
  },
  {
   "cell_type": "code",
   "execution_count": 62,
   "metadata": {},
   "outputs": [
    {
     "name": "stdout",
     "output_type": "stream",
     "text": [
      "(2, 3, 3)\n",
      "[[-0.5 -0.5 -0.5]\n",
      " [ 0.5  0.5  0.5]] (2, 3)\n",
      "[0.5 0.5] (2,)\n"
     ]
    }
   ],
   "source": [
    "xy = np.mgrid[-1:1.1:1., -1:1.1:1.]\n",
    "print(xy.shape)\n",
    "\n",
    "xy1 = (xy[0,1:,:] + xy[0,:-1,:])/2.\n",
    "print(xy1, xy1.shape)\n",
    "\n",
    "xy2 = (xy1[1,1:] + xy1[1,:-1])/2.\n",
    "print(xy2, xy2.shape)\n"
   ]
  },
  {
   "cell_type": "code",
   "execution_count": 55,
   "metadata": {},
   "outputs": [
    {
     "name": "stdout",
     "output_type": "stream",
     "text": [
      "[[-1. -1. -1.]\n",
      " [-1. -1. -1.]\n",
      " [-1. -1. -1.]] (3, 3, 3)\n",
      "[[[-0.5 -0.5 -0.5]\n",
      "  [-0.5 -0.5 -0.5]\n",
      "  [-0.5 -0.5 -0.5]]\n",
      "\n",
      " [[ 0.5  0.5  0.5]\n",
      "  [ 0.5  0.5  0.5]\n",
      "  [ 0.5  0.5  0.5]]] (2, 3, 3)\n",
      "[[[-0.5 -0.5 -0.5]\n",
      "  [ 0.5  0.5  0.5]]\n",
      "\n",
      " [[-0.5 -0.5 -0.5]\n",
      "  [ 0.5  0.5  0.5]]\n",
      "\n",
      " [[-0.5 -0.5 -0.5]\n",
      "  [ 0.5  0.5  0.5]]] (3, 2, 3)\n",
      "[[[-0.5  0.5]\n",
      "  [-0.5  0.5]\n",
      "  [-0.5  0.5]]\n",
      "\n",
      " [[-0.5  0.5]\n",
      "  [-0.5  0.5]\n",
      "  [-0.5  0.5]]\n",
      "\n",
      " [[-0.5  0.5]\n",
      "  [-0.5  0.5]\n",
      "  [-0.5  0.5]]] (3, 3, 2)\n"
     ]
    }
   ],
   "source": [
    "# 3D spatial grid, discretized.\n",
    "x, y, z = np.mgrid[-1:1.1:1., -1:1.1:1., -1:1.1:1.]\n",
    "print(x[0,...], x.shape)\n",
    "\n",
    "x_centers = (x[1:,...] + x[:-1,...])/2.\n",
    "print(x_centers, x_centers.shape)\n",
    "\n",
    "y_centers = (y[:,1:,:] + y[:,:-1,:])/2.\n",
    "print(y_centers, y_centers.shape)\n",
    "\n",
    "z_centers = (z[...,1:] + z[...,:-1])/2.\n",
    "print(z_centers, z_centers.shape)"
   ]
  },
  {
   "cell_type": "code",
   "execution_count": 47,
   "metadata": {},
   "outputs": [
    {
     "name": "stdout",
     "output_type": "stream",
     "text": [
      "3D original grid (3, 3, 3, 3)\n",
      "3D coord. pairs (27, 3)\n",
      "3D centers grid (3, 2, 3, 3)\n",
      "3D center coord. pairs (18, 3)\n"
     ]
    }
   ],
   "source": [
    "xyz = np.mgrid[-1:1.1:1., -1:1.1:1., -1:1.1:1.]\n",
    "print('3D original grid', xyz.shape)\n",
    "\n",
    "# [x y z] coordinate pairs of above grid.\n",
    "xys_coord_pairs = xyz.reshape(3,-1).T\n",
    "print('3D coord. pairs', xys_coord_pairs.shape)\n",
    "\n",
    "xyz_centers = (xyz[:,1:,...] + xyz[:,:-1,...])/2.\n",
    "print('3D centers grid', xyz_centers.shape)\n",
    "\n",
    "xyz_center_coordPairs = xyz_centers.reshape(3,-1).T\n",
    "print('3D center coord. pairs', xyz_center_coordPairs.shape)"
   ]
  },
  {
   "cell_type": "markdown",
   "metadata": {},
   "source": [
    "### Grid around MW center."
   ]
  },
  {
   "cell_type": "code",
   "execution_count": null,
   "metadata": {},
   "outputs": [],
   "source": []
  }
 ],
 "metadata": {
  "interpreter": {
   "hash": "f954fd519baabf9adc4c45dc1841670b54a153fe717f7fe4f74275668c90e9d2"
  },
  "kernelspec": {
   "display_name": "Python 3.9.7 ('NC_numba')",
   "language": "python",
   "name": "python3"
  },
  "language_info": {
   "codemirror_mode": {
    "name": "ipython",
    "version": 3
   },
   "file_extension": ".py",
   "mimetype": "text/x-python",
   "name": "python",
   "nbconvert_exporter": "python",
   "pygments_lexer": "ipython3",
   "version": "3.9.7"
  },
  "orig_nbformat": 4
 },
 "nbformat": 4,
 "nbformat_minor": 2
}
