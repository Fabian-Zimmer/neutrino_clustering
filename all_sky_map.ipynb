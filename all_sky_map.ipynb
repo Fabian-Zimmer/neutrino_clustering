{
 "cells": [
  {
   "cell_type": "code",
   "execution_count": null,
   "metadata": {},
   "outputs": [],
   "source": [
    "from shared.preface import *\n",
    "import shared.functions as fct\n",
    "\n",
    "\n",
    "# 1. Read in all momenta for neutrinos.\n",
    "\n",
    "# 2. Convert to velocities for one test mass.\n",
    "\n",
    "# 3. Use first and last momenta of each neutrino, to get Fermi_Dirac weights,\n",
    "#    which is p_0**2 * f_FD(p_back)\n",
    "\n",
    "# 4. The number density at coords. (phi, theta) in the sky is the integral over \n",
    "#    all momenta with that coord. pair.\n",
    "\n",
    "# 5. The flux map "
   ]
  }
 ],
 "metadata": {
  "kernelspec": {
   "display_name": "Python 3.9.5 ('neutrino_clustering')",
   "language": "python",
   "name": "python3"
  },
  "language_info": {
   "name": "python",
   "version": "3.9.5"
  },
  "orig_nbformat": 4,
  "vscode": {
   "interpreter": {
    "hash": "8a0d5d0f2e48edd2cdf812a3eedd1dc78c628b894b9ae93ffd6b09cf9a60bf81"
   }
  }
 },
 "nbformat": 4,
 "nbformat_minor": 2
}
