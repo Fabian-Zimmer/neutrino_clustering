{
 "cells": [
  {
   "cell_type": "code",
   "execution_count": 1,
   "metadata": {},
   "outputs": [
    {
     "name": "stdout",
     "output_type": "stream",
     "text": [
      "(100, 400)\n",
      "[2.49699567 2.07190943 2.27721245 2.60322497 3.86514634 2.85430729\n",
      " 2.19774128 2.21402954 1.80144396 1.75184969 2.3878548  2.03771836\n",
      " 2.30343053 1.94733512 5.92232693 1.88393868 2.10094573 2.00974733\n",
      " 1.75305955 1.56280765 2.18334485 2.44156511 1.77517226 1.83354619\n",
      " 1.97683483 2.33822079 2.20083065 1.62064029 2.07338077 2.4126155\n",
      " 2.52413639 2.18932103 2.23559957 1.93297731 1.53517588 2.06631563\n",
      " 2.11723015 1.63769001 2.08511959 1.9782056  2.4898516  2.77200159\n",
      " 2.51759467 1.90604183 2.66850185 2.54519399 1.90569559 2.6879993\n",
      " 2.22562789 1.36836932 2.49301288 2.24840563 1.78305752 1.96604554\n",
      " 1.68373775 1.67613839 1.78676872 2.21019658 2.33671562 2.13229812\n",
      " 2.54468574 2.27965415 1.68217896 1.89239121 2.1797105  2.11611396\n",
      " 2.12823486 2.06578167 6.73455311 1.46943912 2.60610154 2.29879977\n",
      " 2.0616435  2.39013107 2.28675363 2.29895737 2.60919757 3.0613124\n",
      " 3.71255117 1.62128839 2.52402718 2.44803857 2.29744788 2.4788027\n",
      " 2.54328721 2.70570238 2.92876402 3.03059456 2.60435446 1.65133249\n",
      " 2.49699627 2.0719095  2.27721245 2.60322497 3.86515185 2.85430729\n",
      " 2.19774128 2.21402946 1.80144396 1.75184969]\n"
     ]
    }
   ],
   "source": [
    "from shared.preface import *\n",
    "import shared.functions as fct\n",
    "\n",
    "\n",
    "#1. Read in all velocities for neutrinos.\n",
    "nus = 40000\n",
    "sim = 'L012N376'\n",
    "mass_gauge = 11.5  # in log10 Msun\n",
    "mass_range = 0.1\n",
    "halo_num = 1\n",
    "halo_j = 0\n",
    "batchname = f'1e+{mass_gauge}_pm{mass_range}Msun'\n",
    "hname = f'{batchname}_halo{halo_j}'\n",
    "fname = f'{nus}nus_{hname}'\n",
    "u_all = fct.load_sim_data(sim, fname, 'velocities')\n",
    "\n",
    "#2. Convert to momenta for one test mass and get \"Fermi-Dirac weights\".\n",
    "m_nu = 0.3*eV\n",
    "p, _ = fct.u_to_p_eV(u_all, m_nu)\n",
    "p0, p1 = p[:,0], p[:,-1]\n",
    "FD_weights = p0**2 * fct.Fermi_Dirac(p1)\n",
    "\n",
    "#3. Reshape into angular coord. batches, i.e. (phi, theta) batches. Each \n",
    "#   coord. pair has an amount of Vs neutrinos.\n",
    "p0_angular = np.reshape(p0, (PHIs, THETAs, Vs))\n",
    "p1_angular = np.reshape(p1, (PHIs, THETAs, Vs))\n",
    "\n",
    "#4. The number density at coords. (phi, theta) in the sky is the integral over \n",
    "#    all momenta with that coord. pair.\n",
    "p0_pairs = np.reshape(p0_angular, (PHIs*THETAs, Vs))\n",
    "p1_pairs = np.reshape(p1_angular, (PHIs*THETAs, Vs))\n",
    "print(p0_pairs.shape)\n",
    "\n",
    "ODs = np.zeros(len(p0_pairs))\n",
    "for i, (p0s_pair, p1s_pair) in enumerate(zip(p0_pairs, p1_pairs)):\n",
    "    ODs[i] = fct.number_density(p0s_pair, p1s_pair)/N0\n",
    "\n",
    "print(ODs)"
   ]
  },
  {
   "cell_type": "code",
   "execution_count": 24,
   "metadata": {},
   "outputs": [
    {
     "name": "stdout",
     "output_type": "stream",
     "text": [
      "48\n"
     ]
    }
   ],
   "source": [
    "eps = 0.01  # shift in theta, so poles are not included\n",
    "phis = np.linspace(0., 2.*Pi, PHIs)\n",
    "thetas = np.linspace(0.+eps, Pi-eps, THETAs)\n",
    "\n",
    "Nside = 2**1              # Specify nside parameter\n",
    "Npix = 12 * Nside**2      # Number of pixels\n",
    "print(Npix)\n",
    "pix_sr = (4*np.pi)/Npix   # Pixel size  [sr]\n",
    "\n",
    "# Pixel index for each coord.\n",
    "pix_IDs = np.array(\n",
    "    [hp.pixelfunc.ang2pix(Nside, phi=p, theta=t) for p in phis for t in thetas]\n",
    ")\n",
    "\n",
    "sort_IDs = pix_IDs.argsort()\n",
    "# print(pix_IDs[sort_IDs])\n",
    "\n",
    "ODs_sort = ODs[sort_IDs]\n",
    "\n",
    "\n",
    "\n",
    "# Create random poisson sky-map\n",
    "# poisson_map = np.random.poisson(100,Npix)\n",
    "\n",
    "# hp.mollview(poisson_map, title='', unit='')\n",
    "# hp.graticule()"
   ]
  }
 ],
 "metadata": {
  "kernelspec": {
   "display_name": "Python 3.9.5 ('neutrino_clustering')",
   "language": "python",
   "name": "python3"
  },
  "language_info": {
   "codemirror_mode": {
    "name": "ipython",
    "version": 3
   },
   "file_extension": ".py",
   "mimetype": "text/x-python",
   "name": "python",
   "nbconvert_exporter": "python",
   "pygments_lexer": "ipython3",
   "version": "3.9.5"
  },
  "orig_nbformat": 4,
  "vscode": {
   "interpreter": {
    "hash": "8a0d5d0f2e48edd2cdf812a3eedd1dc78c628b894b9ae93ffd6b09cf9a60bf81"
   }
  }
 },
 "nbformat": 4,
 "nbformat_minor": 2
}
